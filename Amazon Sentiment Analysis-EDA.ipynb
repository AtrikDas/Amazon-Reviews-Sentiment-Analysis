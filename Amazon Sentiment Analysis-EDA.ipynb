{
 "cells": [
  {
   "cell_type": "code",
   "execution_count": null,
   "metadata": {
    "gradient": {}
   },
   "outputs": [],
   "source": [
    "# Import required libraries\n",
    "import numpy as np\n",
    "import pandas as pd"
   ]
  },
  {
   "cell_type": "code",
   "execution_count": null,
   "metadata": {
    "gradient": {}
   },
   "outputs": [],
   "source": [
    "# Download fastai library\n",
    "!pip install -Uqq fastbook\n",
    "import fastbook"
   ]
  },
  {
   "cell_type": "code",
   "execution_count": null,
   "metadata": {
    "gradient": {}
   },
   "outputs": [],
   "source": [
    "# Import required libraries\n",
    "from fastbook import *\n",
    "from IPython.display import display,HTML"
   ]
  },
  {
   "cell_type": "code",
   "execution_count": null,
   "metadata": {
    "gradient": {}
   },
   "outputs": [],
   "source": [
    "# Import NLP module from fastai library\n",
    "from fastai.text.all import *\n",
    "path = untar_data(URLs.AMAZON_REVIEWS, dest = \"Data\")"
   ]
  },
  {
   "cell_type": "code",
   "execution_count": null,
   "metadata": {
    "gradient": {}
   },
   "outputs": [
    {
     "data": {
      "text/html": [
       "<div>\n",
       "<style scoped>\n",
       "    .dataframe tbody tr th:only-of-type {\n",
       "        vertical-align: middle;\n",
       "    }\n",
       "\n",
       "    .dataframe tbody tr th {\n",
       "        vertical-align: top;\n",
       "    }\n",
       "\n",
       "    .dataframe thead th {\n",
       "        text-align: right;\n",
       "    }\n",
       "</style>\n",
       "<table border=\"1\" class=\"dataframe\">\n",
       "  <thead>\n",
       "    <tr style=\"text-align: right;\">\n",
       "      <th></th>\n",
       "      <th>0</th>\n",
       "      <th>1</th>\n",
       "      <th>2</th>\n",
       "    </tr>\n",
       "  </thead>\n",
       "  <tbody>\n",
       "    <tr>\n",
       "      <th>0</th>\n",
       "      <td>3</td>\n",
       "      <td>more like funchuck</td>\n",
       "      <td>Gave this to my dad for a gag gift after directing \"Nunsense,\" he got a reall kick out of it!</td>\n",
       "    </tr>\n",
       "    <tr>\n",
       "      <th>1</th>\n",
       "      <td>5</td>\n",
       "      <td>Inspiring</td>\n",
       "      <td>I hope a lot of people hear this cd. We need more strong and positive vibes like this. Great vocals, fresh tunes, cross-cultural happiness. Her blues is from the gut. The pop sounds are catchy and mature.</td>\n",
       "    </tr>\n",
       "    <tr>\n",
       "      <th>2</th>\n",
       "      <td>5</td>\n",
       "      <td>The best soundtrack ever to anything.</td>\n",
       "      <td>I'm reading a lot of reviews saying that this is the best 'game soundtrack' and I figured that I'd write a review to disagree a bit. This in my opinino is Yasunori Mitsuda's ultimate masterpiece. The music is timeless and I'm been listening to it for years now and its beauty simply refuses to fade.The price tag on this is pretty staggering I must say, but if you are going to buy any cd for this much money, this is the only one that I feel would be worth every penny.</td>\n",
       "    </tr>\n",
       "    <tr>\n",
       "      <th>3</th>\n",
       "      <td>4</td>\n",
       "      <td>Chrono Cross OST</td>\n",
       "      <td>The music of Yasunori Misuda is without question my close second below the great Nobuo Uematsu.Chrono Cross OST is a wonderful creation filled with rich orchestra and synthesized sounds. While ambiance is one of the music's major factors, yet at times it's very uplifting and vigorous. Some of my favourite tracks include; \"Scars Left by Time, The Girl who Stole the Stars, and Another World\".</td>\n",
       "    </tr>\n",
       "    <tr>\n",
       "      <th>4</th>\n",
       "      <td>5</td>\n",
       "      <td>Too good to be true</td>\n",
       "      <td>Probably the greatest soundtrack in history! Usually it's better to have played the game first but this is so enjoyable anyway! I worked so hard getting this soundtrack and after spending [money] to get it it was really worth every penny!! Get this OST! it's amazing! The first few tracks will have you dancing around with delight (especially Scars Left by Time)!! BUY IT NOW!!</td>\n",
       "    </tr>\n",
       "  </tbody>\n",
       "</table>\n",
       "</div>"
      ],
      "text/plain": [
       "   0                                      1  \\\n",
       "0  3                     more like funchuck   \n",
       "1  5                              Inspiring   \n",
       "2  5  The best soundtrack ever to anything.   \n",
       "3  4                       Chrono Cross OST   \n",
       "4  5                    Too good to be true   \n",
       "\n",
       "                                                                                                                                                                                                                                                                                                                                                                                                                                                                                        2  \n",
       "0                                                                                                                                                                                                                                                                                                                                                                                           Gave this to my dad for a gag gift after directing \"Nunsense,\" he got a reall kick out of it!  \n",
       "1                                                                                                                                                                                                                                                                            I hope a lot of people hear this cd. We need more strong and positive vibes like this. Great vocals, fresh tunes, cross-cultural happiness. Her blues is from the gut. The pop sounds are catchy and mature.  \n",
       "2  I'm reading a lot of reviews saying that this is the best 'game soundtrack' and I figured that I'd write a review to disagree a bit. This in my opinino is Yasunori Mitsuda's ultimate masterpiece. The music is timeless and I'm been listening to it for years now and its beauty simply refuses to fade.The price tag on this is pretty staggering I must say, but if you are going to buy any cd for this much money, this is the only one that I feel would be worth every penny.  \n",
       "3                                                                               The music of Yasunori Misuda is without question my close second below the great Nobuo Uematsu.Chrono Cross OST is a wonderful creation filled with rich orchestra and synthesized sounds. While ambiance is one of the music's major factors, yet at times it's very uplifting and vigorous. Some of my favourite tracks include; \"Scars Left by Time, The Girl who Stole the Stars, and Another World\".  \n",
       "4                                                                                               Probably the greatest soundtrack in history! Usually it's better to have played the game first but this is so enjoyable anyway! I worked so hard getting this soundtrack and after spending [money] to get it it was really worth every penny!! Get this OST! it's amazing! The first few tracks will have you dancing around with delight (especially Scars Left by Time)!! BUY IT NOW!!  "
      ]
     },
     "execution_count": 5,
     "metadata": {},
     "output_type": "execute_result"
    }
   ],
   "source": [
    "# Read 1/6th of the train dataset to reduce total time taken for training\n",
    "train = pd.read_csv(path/'train.csv', header=None, nrows=500000)\n",
    "train.head()"
   ]
  },
  {
   "cell_type": "code",
   "execution_count": null,
   "metadata": {
    "gradient": {}
   },
   "outputs": [
    {
     "data": {
      "text/html": [
       "<div>\n",
       "<style scoped>\n",
       "    .dataframe tbody tr th:only-of-type {\n",
       "        vertical-align: middle;\n",
       "    }\n",
       "\n",
       "    .dataframe tbody tr th {\n",
       "        vertical-align: top;\n",
       "    }\n",
       "\n",
       "    .dataframe thead th {\n",
       "        text-align: right;\n",
       "    }\n",
       "</style>\n",
       "<table border=\"1\" class=\"dataframe\">\n",
       "  <thead>\n",
       "    <tr style=\"text-align: right;\">\n",
       "      <th></th>\n",
       "      <th>0</th>\n",
       "      <th>1</th>\n",
       "      <th>2</th>\n",
       "    </tr>\n",
       "  </thead>\n",
       "  <tbody>\n",
       "    <tr>\n",
       "      <th>0</th>\n",
       "      <td>1</td>\n",
       "      <td>mens ultrasheer</td>\n",
       "      <td>This model may be ok for sedentary types, but I'm active and get around alot in my job - consistently found these stockings rolled up down by my ankles! Not Good!! Solution: go with the standard compression stocking, 20-30, stock #114622. Excellent support, stays up and gives me what I need. Both pair of these also tore as I struggled to pull them up all the time. Good riddance/bad investment!</td>\n",
       "    </tr>\n",
       "    <tr>\n",
       "      <th>1</th>\n",
       "      <td>4</td>\n",
       "      <td>Surprisingly delightful</td>\n",
       "      <td>This is a fast read filled with unexpected humour and profound insights into the art of politics and policy. In brief, it is sly, wry, and wise.</td>\n",
       "    </tr>\n",
       "    <tr>\n",
       "      <th>2</th>\n",
       "      <td>2</td>\n",
       "      <td>Works, but not as advertised</td>\n",
       "      <td>I bought one of these chargers..the instructions say the lights stay on while the battery charges...true. The instructions doNT say the lights turn off when its done. Which is also true. 24 hours of charging and the lights stay on. I returned it thinking I had a bad unit.The new one did the same thing. I just kept it since it does charge...but the lights are useless since they seem to always stay on. It's a \"backup\" charger for when I manage to drain all my AAs but I wouldn't want this as my only charger.</td>\n",
       "    </tr>\n",
       "    <tr>\n",
       "      <th>3</th>\n",
       "      <td>2</td>\n",
       "      <td>Oh dear</td>\n",
       "      <td>I was excited to find a book ostensibly about Muslim feminism, but this volume did not live up to the expectations.One essay, among other things, describes the veil as potentially liberating. It doesn't begin to explain how or why.Another, on Muslim women in Cape Town, claims that Muslim women there are separate but \"more than equal.\" Gee whiz, what a disappointment.I had expected and hoped for at least one Muslim feminist condemnation of gender apartheid. But there is not a single one in the book.I'm surprised it didn't have an essay extolling the virtues of female genital mutilation.--Al...</td>\n",
       "    </tr>\n",
       "    <tr>\n",
       "      <th>4</th>\n",
       "      <td>2</td>\n",
       "      <td>Incorrect disc!</td>\n",
       "      <td>I am a big JVC fan, but I do not like this model, I was suspiscious when I saw several units in the return section of the store. I bought one anyway (new) and must say I am not happy. The unit sends out clicks to the receiver once in a while, the transition between scenes is not always smooth,(like a little pause) and while it is still fairly new I can't get any DVD,CD or even a DVD headcleaner to work. All I get is a \"incorrect disc\" message.</td>\n",
       "    </tr>\n",
       "  </tbody>\n",
       "</table>\n",
       "</div>"
      ],
      "text/plain": [
       "   0                             1  \\\n",
       "0  1               mens ultrasheer   \n",
       "1  4       Surprisingly delightful   \n",
       "2  2  Works, but not as advertised   \n",
       "3  2                       Oh dear   \n",
       "4  2               Incorrect disc!   \n",
       "\n",
       "                                                                                                                                                                                                                                                                                                                                                                                                                                                                                                                                                                                                                         2  \n",
       "0                                                                                                                                                                                                             This model may be ok for sedentary types, but I'm active and get around alot in my job - consistently found these stockings rolled up down by my ankles! Not Good!! Solution: go with the standard compression stocking, 20-30, stock #114622. Excellent support, stays up and gives me what I need. Both pair of these also tore as I struggled to pull them up all the time. Good riddance/bad investment!  \n",
       "1                                                                                                                                                                                                                                                                                                                                                                                                                                                                         This is a fast read filled with unexpected humour and profound insights into the art of politics and policy. In brief, it is sly, wry, and wise.  \n",
       "2                                                                                           I bought one of these chargers..the instructions say the lights stay on while the battery charges...true. The instructions doNT say the lights turn off when its done. Which is also true. 24 hours of charging and the lights stay on. I returned it thinking I had a bad unit.The new one did the same thing. I just kept it since it does charge...but the lights are useless since they seem to always stay on. It's a \"backup\" charger for when I manage to drain all my AAs but I wouldn't want this as my only charger.  \n",
       "3  I was excited to find a book ostensibly about Muslim feminism, but this volume did not live up to the expectations.One essay, among other things, describes the veil as potentially liberating. It doesn't begin to explain how or why.Another, on Muslim women in Cape Town, claims that Muslim women there are separate but \"more than equal.\" Gee whiz, what a disappointment.I had expected and hoped for at least one Muslim feminist condemnation of gender apartheid. But there is not a single one in the book.I'm surprised it didn't have an essay extolling the virtues of female genital mutilation.--Al...  \n",
       "4                                                                                                                                                          I am a big JVC fan, but I do not like this model, I was suspiscious when I saw several units in the return section of the store. I bought one anyway (new) and must say I am not happy. The unit sends out clicks to the receiver once in a while, the transition between scenes is not always smooth,(like a little pause) and while it is still fairly new I can't get any DVD,CD or even a DVD headcleaner to work. All I get is a \"incorrect disc\" message.  "
      ]
     },
     "execution_count": 6,
     "metadata": {},
     "output_type": "execute_result"
    }
   ],
   "source": [
    "# Read 1/6th of the test dataset to reduce total time taken for testing\n",
    "test = pd.read_csv(path/'test.csv', header=None, nrows=110000)\n",
    "test.head()"
   ]
  },
  {
   "cell_type": "code",
   "execution_count": null,
   "metadata": {
    "gradient": {}
   },
   "outputs": [
    {
     "data": {
      "text/html": [
       "<div>\n",
       "<style scoped>\n",
       "    .dataframe tbody tr th:only-of-type {\n",
       "        vertical-align: middle;\n",
       "    }\n",
       "\n",
       "    .dataframe tbody tr th {\n",
       "        vertical-align: top;\n",
       "    }\n",
       "\n",
       "    .dataframe thead th {\n",
       "        text-align: right;\n",
       "    }\n",
       "</style>\n",
       "<table border=\"1\" class=\"dataframe\">\n",
       "  <thead>\n",
       "    <tr style=\"text-align: right;\">\n",
       "      <th></th>\n",
       "      <th>ratings</th>\n",
       "      <th>title</th>\n",
       "      <th>review</th>\n",
       "    </tr>\n",
       "  </thead>\n",
       "  <tbody>\n",
       "    <tr>\n",
       "      <th>0</th>\n",
       "      <td>3</td>\n",
       "      <td>more like funchuck</td>\n",
       "      <td>Gave this to my dad for a gag gift after directing \"Nunsense,\" he got a reall kick out of it!</td>\n",
       "    </tr>\n",
       "    <tr>\n",
       "      <th>1</th>\n",
       "      <td>5</td>\n",
       "      <td>Inspiring</td>\n",
       "      <td>I hope a lot of people hear this cd. We need more strong and positive vibes like this. Great vocals, fresh tunes, cross-cultural happiness. Her blues is from the gut. The pop sounds are catchy and mature.</td>\n",
       "    </tr>\n",
       "    <tr>\n",
       "      <th>2</th>\n",
       "      <td>5</td>\n",
       "      <td>The best soundtrack ever to anything.</td>\n",
       "      <td>I'm reading a lot of reviews saying that this is the best 'game soundtrack' and I figured that I'd write a review to disagree a bit. This in my opinino is Yasunori Mitsuda's ultimate masterpiece. The music is timeless and I'm been listening to it for years now and its beauty simply refuses to fade.The price tag on this is pretty staggering I must say, but if you are going to buy any cd for this much money, this is the only one that I feel would be worth every penny.</td>\n",
       "    </tr>\n",
       "    <tr>\n",
       "      <th>3</th>\n",
       "      <td>4</td>\n",
       "      <td>Chrono Cross OST</td>\n",
       "      <td>The music of Yasunori Misuda is without question my close second below the great Nobuo Uematsu.Chrono Cross OST is a wonderful creation filled with rich orchestra and synthesized sounds. While ambiance is one of the music's major factors, yet at times it's very uplifting and vigorous. Some of my favourite tracks include; \"Scars Left by Time, The Girl who Stole the Stars, and Another World\".</td>\n",
       "    </tr>\n",
       "    <tr>\n",
       "      <th>4</th>\n",
       "      <td>5</td>\n",
       "      <td>Too good to be true</td>\n",
       "      <td>Probably the greatest soundtrack in history! Usually it's better to have played the game first but this is so enjoyable anyway! I worked so hard getting this soundtrack and after spending [money] to get it it was really worth every penny!! Get this OST! it's amazing! The first few tracks will have you dancing around with delight (especially Scars Left by Time)!! BUY IT NOW!!</td>\n",
       "    </tr>\n",
       "  </tbody>\n",
       "</table>\n",
       "</div>"
      ],
      "text/plain": [
       "   ratings                                  title  \\\n",
       "0        3                     more like funchuck   \n",
       "1        5                              Inspiring   \n",
       "2        5  The best soundtrack ever to anything.   \n",
       "3        4                       Chrono Cross OST   \n",
       "4        5                    Too good to be true   \n",
       "\n",
       "                                                                                                                                                                                                                                                                                                                                                                                                                                                                                   review  \n",
       "0                                                                                                                                                                                                                                                                                                                                                                                           Gave this to my dad for a gag gift after directing \"Nunsense,\" he got a reall kick out of it!  \n",
       "1                                                                                                                                                                                                                                                                            I hope a lot of people hear this cd. We need more strong and positive vibes like this. Great vocals, fresh tunes, cross-cultural happiness. Her blues is from the gut. The pop sounds are catchy and mature.  \n",
       "2  I'm reading a lot of reviews saying that this is the best 'game soundtrack' and I figured that I'd write a review to disagree a bit. This in my opinino is Yasunori Mitsuda's ultimate masterpiece. The music is timeless and I'm been listening to it for years now and its beauty simply refuses to fade.The price tag on this is pretty staggering I must say, but if you are going to buy any cd for this much money, this is the only one that I feel would be worth every penny.  \n",
       "3                                                                               The music of Yasunori Misuda is without question my close second below the great Nobuo Uematsu.Chrono Cross OST is a wonderful creation filled with rich orchestra and synthesized sounds. While ambiance is one of the music's major factors, yet at times it's very uplifting and vigorous. Some of my favourite tracks include; \"Scars Left by Time, The Girl who Stole the Stars, and Another World\".  \n",
       "4                                                                                               Probably the greatest soundtrack in history! Usually it's better to have played the game first but this is so enjoyable anyway! I worked so hard getting this soundtrack and after spending [money] to get it it was really worth every penny!! Get this OST! it's amazing! The first few tracks will have you dancing around with delight (especially Scars Left by Time)!! BUY IT NOW!!  "
      ]
     },
     "execution_count": 7,
     "metadata": {},
     "output_type": "execute_result"
    }
   ],
   "source": [
    "# Add the correct column names\n",
    "train.columns = ['ratings', 'title', 'review']\n",
    "train.head()"
   ]
  },
  {
   "cell_type": "code",
   "execution_count": null,
   "metadata": {
    "gradient": {}
   },
   "outputs": [
    {
     "data": {
      "text/html": [
       "<div>\n",
       "<style scoped>\n",
       "    .dataframe tbody tr th:only-of-type {\n",
       "        vertical-align: middle;\n",
       "    }\n",
       "\n",
       "    .dataframe tbody tr th {\n",
       "        vertical-align: top;\n",
       "    }\n",
       "\n",
       "    .dataframe thead th {\n",
       "        text-align: right;\n",
       "    }\n",
       "</style>\n",
       "<table border=\"1\" class=\"dataframe\">\n",
       "  <thead>\n",
       "    <tr style=\"text-align: right;\">\n",
       "      <th></th>\n",
       "      <th>ratings</th>\n",
       "    </tr>\n",
       "  </thead>\n",
       "  <tbody>\n",
       "    <tr>\n",
       "      <th>count</th>\n",
       "      <td>500000.000000</td>\n",
       "    </tr>\n",
       "    <tr>\n",
       "      <th>mean</th>\n",
       "      <td>3.016060</td>\n",
       "    </tr>\n",
       "    <tr>\n",
       "      <th>std</th>\n",
       "      <td>1.411655</td>\n",
       "    </tr>\n",
       "    <tr>\n",
       "      <th>min</th>\n",
       "      <td>1.000000</td>\n",
       "    </tr>\n",
       "    <tr>\n",
       "      <th>25%</th>\n",
       "      <td>2.000000</td>\n",
       "    </tr>\n",
       "    <tr>\n",
       "      <th>50%</th>\n",
       "      <td>3.000000</td>\n",
       "    </tr>\n",
       "    <tr>\n",
       "      <th>75%</th>\n",
       "      <td>4.000000</td>\n",
       "    </tr>\n",
       "    <tr>\n",
       "      <th>max</th>\n",
       "      <td>5.000000</td>\n",
       "    </tr>\n",
       "  </tbody>\n",
       "</table>\n",
       "</div>"
      ],
      "text/plain": [
       "             ratings\n",
       "count  500000.000000\n",
       "mean        3.016060\n",
       "std         1.411655\n",
       "min         1.000000\n",
       "25%         2.000000\n",
       "50%         3.000000\n",
       "75%         4.000000\n",
       "max         5.000000"
      ]
     },
     "execution_count": 8,
     "metadata": {},
     "output_type": "execute_result"
    }
   ],
   "source": [
    "# Check major statistics for the train dataset\r\n",
    "train.describe()"
   ]
  },
  {
   "cell_type": "code",
   "execution_count": null,
   "metadata": {
    "gradient": {}
   },
   "outputs": [
    {
     "data": {
      "text/html": [
       "<div>\n",
       "<style scoped>\n",
       "    .dataframe tbody tr th:only-of-type {\n",
       "        vertical-align: middle;\n",
       "    }\n",
       "\n",
       "    .dataframe tbody tr th {\n",
       "        vertical-align: top;\n",
       "    }\n",
       "\n",
       "    .dataframe thead th {\n",
       "        text-align: right;\n",
       "    }\n",
       "</style>\n",
       "<table border=\"1\" class=\"dataframe\">\n",
       "  <thead>\n",
       "    <tr style=\"text-align: right;\">\n",
       "      <th></th>\n",
       "      <th>ratings</th>\n",
       "      <th>title</th>\n",
       "      <th>review</th>\n",
       "    </tr>\n",
       "  </thead>\n",
       "  <tbody>\n",
       "    <tr>\n",
       "      <th>0</th>\n",
       "      <td>1</td>\n",
       "      <td>mens ultrasheer</td>\n",
       "      <td>This model may be ok for sedentary types, but I'm active and get around alot in my job - consistently found these stockings rolled up down by my ankles! Not Good!! Solution: go with the standard compression stocking, 20-30, stock #114622. Excellent support, stays up and gives me what I need. Both pair of these also tore as I struggled to pull them up all the time. Good riddance/bad investment!</td>\n",
       "    </tr>\n",
       "    <tr>\n",
       "      <th>1</th>\n",
       "      <td>4</td>\n",
       "      <td>Surprisingly delightful</td>\n",
       "      <td>This is a fast read filled with unexpected humour and profound insights into the art of politics and policy. In brief, it is sly, wry, and wise.</td>\n",
       "    </tr>\n",
       "    <tr>\n",
       "      <th>2</th>\n",
       "      <td>2</td>\n",
       "      <td>Works, but not as advertised</td>\n",
       "      <td>I bought one of these chargers..the instructions say the lights stay on while the battery charges...true. The instructions doNT say the lights turn off when its done. Which is also true. 24 hours of charging and the lights stay on. I returned it thinking I had a bad unit.The new one did the same thing. I just kept it since it does charge...but the lights are useless since they seem to always stay on. It's a \"backup\" charger for when I manage to drain all my AAs but I wouldn't want this as my only charger.</td>\n",
       "    </tr>\n",
       "    <tr>\n",
       "      <th>3</th>\n",
       "      <td>2</td>\n",
       "      <td>Oh dear</td>\n",
       "      <td>I was excited to find a book ostensibly about Muslim feminism, but this volume did not live up to the expectations.One essay, among other things, describes the veil as potentially liberating. It doesn't begin to explain how or why.Another, on Muslim women in Cape Town, claims that Muslim women there are separate but \"more than equal.\" Gee whiz, what a disappointment.I had expected and hoped for at least one Muslim feminist condemnation of gender apartheid. But there is not a single one in the book.I'm surprised it didn't have an essay extolling the virtues of female genital mutilation.--Al...</td>\n",
       "    </tr>\n",
       "    <tr>\n",
       "      <th>4</th>\n",
       "      <td>2</td>\n",
       "      <td>Incorrect disc!</td>\n",
       "      <td>I am a big JVC fan, but I do not like this model, I was suspiscious when I saw several units in the return section of the store. I bought one anyway (new) and must say I am not happy. The unit sends out clicks to the receiver once in a while, the transition between scenes is not always smooth,(like a little pause) and while it is still fairly new I can't get any DVD,CD or even a DVD headcleaner to work. All I get is a \"incorrect disc\" message.</td>\n",
       "    </tr>\n",
       "  </tbody>\n",
       "</table>\n",
       "</div>"
      ],
      "text/plain": [
       "   ratings                         title  \\\n",
       "0        1               mens ultrasheer   \n",
       "1        4       Surprisingly delightful   \n",
       "2        2  Works, but not as advertised   \n",
       "3        2                       Oh dear   \n",
       "4        2               Incorrect disc!   \n",
       "\n",
       "                                                                                                                                                                                                                                                                                                                                                                                                                                                                                                                                                                                                                    review  \n",
       "0                                                                                                                                                                                                             This model may be ok for sedentary types, but I'm active and get around alot in my job - consistently found these stockings rolled up down by my ankles! Not Good!! Solution: go with the standard compression stocking, 20-30, stock #114622. Excellent support, stays up and gives me what I need. Both pair of these also tore as I struggled to pull them up all the time. Good riddance/bad investment!  \n",
       "1                                                                                                                                                                                                                                                                                                                                                                                                                                                                         This is a fast read filled with unexpected humour and profound insights into the art of politics and policy. In brief, it is sly, wry, and wise.  \n",
       "2                                                                                           I bought one of these chargers..the instructions say the lights stay on while the battery charges...true. The instructions doNT say the lights turn off when its done. Which is also true. 24 hours of charging and the lights stay on. I returned it thinking I had a bad unit.The new one did the same thing. I just kept it since it does charge...but the lights are useless since they seem to always stay on. It's a \"backup\" charger for when I manage to drain all my AAs but I wouldn't want this as my only charger.  \n",
       "3  I was excited to find a book ostensibly about Muslim feminism, but this volume did not live up to the expectations.One essay, among other things, describes the veil as potentially liberating. It doesn't begin to explain how or why.Another, on Muslim women in Cape Town, claims that Muslim women there are separate but \"more than equal.\" Gee whiz, what a disappointment.I had expected and hoped for at least one Muslim feminist condemnation of gender apartheid. But there is not a single one in the book.I'm surprised it didn't have an essay extolling the virtues of female genital mutilation.--Al...  \n",
       "4                                                                                                                                                          I am a big JVC fan, but I do not like this model, I was suspiscious when I saw several units in the return section of the store. I bought one anyway (new) and must say I am not happy. The unit sends out clicks to the receiver once in a while, the transition between scenes is not always smooth,(like a little pause) and while it is still fairly new I can't get any DVD,CD or even a DVD headcleaner to work. All I get is a \"incorrect disc\" message.  "
      ]
     },
     "execution_count": 9,
     "metadata": {},
     "output_type": "execute_result"
    }
   ],
   "source": [
    "# Add the correct column names\n",
    "test.columns = ['ratings', 'title', 'review']\n",
    "test.head()"
   ]
  },
  {
   "cell_type": "code",
   "execution_count": null,
   "metadata": {
    "gradient": {}
   },
   "outputs": [
    {
     "data": {
      "text/html": [
       "<div>\n",
       "<style scoped>\n",
       "    .dataframe tbody tr th:only-of-type {\n",
       "        vertical-align: middle;\n",
       "    }\n",
       "\n",
       "    .dataframe tbody tr th {\n",
       "        vertical-align: top;\n",
       "    }\n",
       "\n",
       "    .dataframe thead th {\n",
       "        text-align: right;\n",
       "    }\n",
       "</style>\n",
       "<table border=\"1\" class=\"dataframe\">\n",
       "  <thead>\n",
       "    <tr style=\"text-align: right;\">\n",
       "      <th></th>\n",
       "      <th>ratings</th>\n",
       "    </tr>\n",
       "  </thead>\n",
       "  <tbody>\n",
       "    <tr>\n",
       "      <th>count</th>\n",
       "      <td>110000.000000</td>\n",
       "    </tr>\n",
       "    <tr>\n",
       "      <th>mean</th>\n",
       "      <td>3.022209</td>\n",
       "    </tr>\n",
       "    <tr>\n",
       "      <th>std</th>\n",
       "      <td>1.413290</td>\n",
       "    </tr>\n",
       "    <tr>\n",
       "      <th>min</th>\n",
       "      <td>1.000000</td>\n",
       "    </tr>\n",
       "    <tr>\n",
       "      <th>25%</th>\n",
       "      <td>2.000000</td>\n",
       "    </tr>\n",
       "    <tr>\n",
       "      <th>50%</th>\n",
       "      <td>3.000000</td>\n",
       "    </tr>\n",
       "    <tr>\n",
       "      <th>75%</th>\n",
       "      <td>4.000000</td>\n",
       "    </tr>\n",
       "    <tr>\n",
       "      <th>max</th>\n",
       "      <td>5.000000</td>\n",
       "    </tr>\n",
       "  </tbody>\n",
       "</table>\n",
       "</div>"
      ],
      "text/plain": [
       "             ratings\n",
       "count  110000.000000\n",
       "mean        3.022209\n",
       "std         1.413290\n",
       "min         1.000000\n",
       "25%         2.000000\n",
       "50%         3.000000\n",
       "75%         4.000000\n",
       "max         5.000000"
      ]
     },
     "execution_count": 10,
     "metadata": {},
     "output_type": "execute_result"
    }
   ],
   "source": [
    "# Check major statistics for the test dataset\r\n",
    "test.describe()"
   ]
  },
  {
   "cell_type": "code",
   "execution_count": null,
   "metadata": {
    "gradient": {}
   },
   "outputs": [
    {
     "data": {
      "text/plain": [
       "<AxesSubplot:>"
      ]
     },
     "execution_count": 11,
     "metadata": {},
     "output_type": "execute_result"
    },
    {
     "data": {
      "image/png": "[encoded data removed]",
      "text/plain": [
       "<Figure size 432x288 with 1 Axes>"
      ]
     },
     "metadata": {
      "needs_background": "light"
     },
     "output_type": "display_data",
     "transient": {}
    }
   ],
   "source": [
    "# Check the distribution of the number of data points for each of the 5 classes\r\n",
    "train['ratings'].value_counts().plot(kind='bar')"
   ]
  },
  {
   "cell_type": "code",
   "execution_count": null,
   "metadata": {
    "gradient": {}
   },
   "outputs": [
    {
     "data": {
      "text/plain": [
       "5    101573\n",
       "3    100983\n",
       "4     99960\n",
       "2     99892\n",
       "1     97592\n",
       "Name: ratings, dtype: int64"
      ]
     },
     "execution_count": 12,
     "metadata": {},
     "output_type": "execute_result"
    }
   ],
   "source": [
    "# The distribution seems fairly equal which is perfect for training the model\r\n",
    "train['ratings'].value_counts()"
   ]
  },
  {
   "cell_type": "code",
   "execution_count": null,
   "metadata": {
    "gradient": {}
   },
   "outputs": [],
   "source": [
    "# Array of all the reviews in the train data frame\r\n",
    "txts = L([i for i in train['review']])"
   ]
  },
  {
   "cell_type": "code",
   "execution_count": null,
   "metadata": {
    "gradient": {}
   },
   "outputs": [
    {
     "data": {
      "text/plain": [
       "(#26) ['xxbos','xxmaj','gave','this','to','my','dad','for','a','gag'...]"
      ]
     },
     "execution_count": 14,
     "metadata": {},
     "output_type": "execute_result"
    }
   ],
   "source": [
    "# Tokenize all the rows\n",
    "tok = Tokenizer.from_df(train)\n",
    "tok.setup(train)\n",
    "\n",
    "toks = txts.map(tok)\n",
    "toks[0]"
   ]
  },
  {
   "cell_type": "code",
   "execution_count": null,
   "metadata": {
    "gradient": {}
   },
   "outputs": [
    {
     "data": {
      "text/plain": [
       "TensorText([   2,    8,  378,   19,   15,   37, 1748,   22,   14, 6655])"
      ]
     },
     "execution_count": 15,
     "metadata": {},
     "output_type": "execute_result"
    }
   ],
   "source": [
    "# Numericalize all the tokens from the previous step\n",
    "num = Numericalize()\n",
    "num.setup(toks)\n",
    "nums = toks.map(num)\n",
    "nums[0][:10]"
   ]
  },
  {
   "cell_type": "code",
   "execution_count": null,
   "metadata": {
    "gradient": {}
   },
   "outputs": [
    {
     "data": {
      "text/plain": [
       "TensorText([    2,     8,   378,    19,    15,    37,  1748,    22,    14,  6655,   550,   105,  3581,    24,     0,    11,    24,    67,   148,    14, 21449,  2221,    59,    17,    16,    40])"
      ]
     },
     "execution_count": 16,
     "metadata": {},
     "output_type": "execute_result"
    }
   ],
   "source": [
    "# Seeing the indexes of how the words are stored for the first row only\r\n",
    "num.encodes(toks[0])"
   ]
  },
  {
   "cell_type": "code",
   "execution_count": null,
   "metadata": {
    "gradient": {}
   },
   "outputs": [
    {
     "data": {
      "text/plain": [
       "(#26) ['xxbos','xxmaj','gave','this','to','my','dad','for','a','gag'...]"
      ]
     },
     "execution_count": 17,
     "metadata": {},
     "output_type": "execute_result"
    }
   ],
   "source": [
    "# Decoding the indexes to see the tokens\r\n",
    "num.decode(nums[0])"
   ]
  },
  {
   "cell_type": "code",
   "execution_count": null,
   "metadata": {
    "gradient": {}
   },
   "outputs": [
    {
     "data": {
      "text/html": [
       "<div>\n",
       "<style scoped>\n",
       "    .dataframe tbody tr th:only-of-type {\n",
       "        vertical-align: middle;\n",
       "    }\n",
       "\n",
       "    .dataframe tbody tr th {\n",
       "        vertical-align: top;\n",
       "    }\n",
       "\n",
       "    .dataframe thead th {\n",
       "        text-align: right;\n",
       "    }\n",
       "</style>\n",
       "<table border=\"1\" class=\"dataframe\">\n",
       "  <thead>\n",
       "    <tr style=\"text-align: right;\">\n",
       "      <th></th>\n",
       "      <th>review</th>\n",
       "    </tr>\n",
       "  </thead>\n",
       "  <tbody>\n",
       "    <tr>\n",
       "      <th>0</th>\n",
       "      <td>Gave this to my dad for a gag gift after directing \"Nunsense,\" he got a reall kick out of it!</td>\n",
       "    </tr>\n",
       "    <tr>\n",
       "      <th>1</th>\n",
       "      <td>I hope a lot of people hear this cd. We need more strong and positive vibes like this. Great vocals, fresh tunes, cross-cultural happiness. Her blues is from the gut. The pop sounds are catchy and mature.</td>\n",
       "    </tr>\n",
       "    <tr>\n",
       "      <th>2</th>\n",
       "      <td>I'm reading a lot of reviews saying that this is the best 'game soundtrack' and I figured that I'd write a review to disagree a bit. This in my opinino is Yasunori Mitsuda's ultimate masterpiece. The music is timeless and I'm been listening to it for years now and its beauty simply refuses to fade.The price tag on this is pretty staggering I must say, but if you are going to buy any cd for this much money, this is the only one that I feel would be worth every penny.</td>\n",
       "    </tr>\n",
       "    <tr>\n",
       "      <th>3</th>\n",
       "      <td>The music of Yasunori Misuda is without question my close second below the great Nobuo Uematsu.Chrono Cross OST is a wonderful creation filled with rich orchestra and synthesized sounds. While ambiance is one of the music's major factors, yet at times it's very uplifting and vigorous. Some of my favourite tracks include; \"Scars Left by Time, The Girl who Stole the Stars, and Another World\".</td>\n",
       "    </tr>\n",
       "    <tr>\n",
       "      <th>4</th>\n",
       "      <td>Probably the greatest soundtrack in history! Usually it's better to have played the game first but this is so enjoyable anyway! I worked so hard getting this soundtrack and after spending [money] to get it it was really worth every penny!! Get this OST! it's amazing! The first few tracks will have you dancing around with delight (especially Scars Left by Time)!! BUY IT NOW!!</td>\n",
       "    </tr>\n",
       "  </tbody>\n",
       "</table>\n",
       "</div>"
      ],
      "text/plain": [
       "                                                                                                                                                                                                                                                                                                                                                                                                                                                                                   review\n",
       "0                                                                                                                                                                                                                                                                                                                                                                                           Gave this to my dad for a gag gift after directing \"Nunsense,\" he got a reall kick out of it!\n",
       "1                                                                                                                                                                                                                                                                            I hope a lot of people hear this cd. We need more strong and positive vibes like this. Great vocals, fresh tunes, cross-cultural happiness. Her blues is from the gut. The pop sounds are catchy and mature.\n",
       "2  I'm reading a lot of reviews saying that this is the best 'game soundtrack' and I figured that I'd write a review to disagree a bit. This in my opinino is Yasunori Mitsuda's ultimate masterpiece. The music is timeless and I'm been listening to it for years now and its beauty simply refuses to fade.The price tag on this is pretty staggering I must say, but if you are going to buy any cd for this much money, this is the only one that I feel would be worth every penny.\n",
       "3                                                                               The music of Yasunori Misuda is without question my close second below the great Nobuo Uematsu.Chrono Cross OST is a wonderful creation filled with rich orchestra and synthesized sounds. While ambiance is one of the music's major factors, yet at times it's very uplifting and vigorous. Some of my favourite tracks include; \"Scars Left by Time, The Girl who Stole the Stars, and Another World\".\n",
       "4                                                                                               Probably the greatest soundtrack in history! Usually it's better to have played the game first but this is so enjoyable anyway! I worked so hard getting this soundtrack and after spending [money] to get it it was really worth every penny!! Get this OST! it's amazing! The first few tracks will have you dancing around with delight (especially Scars Left by Time)!! BUY IT NOW!!"
      ]
     },
     "execution_count": 13,
     "metadata": {},
     "output_type": "execute_result"
    }
   ],
   "source": [
    "# Concatening just the reviews column of both train and test datasets to help in creating the language model\n",
    "language_model = pd.concat([train, test], axis=0)[['review']]\n",
    "language_model.head()"
   ]
  },
  {
   "cell_type": "code",
   "execution_count": null,
   "metadata": {
    "gradient": {}
   },
   "outputs": [
    {
     "data": {
      "text/html": [
       "<div>\n",
       "<style scoped>\n",
       "    .dataframe tbody tr th:only-of-type {\n",
       "        vertical-align: middle;\n",
       "    }\n",
       "\n",
       "    .dataframe tbody tr th {\n",
       "        vertical-align: top;\n",
       "    }\n",
       "\n",
       "    .dataframe thead th {\n",
       "        text-align: right;\n",
       "    }\n",
       "</style>\n",
       "<table border=\"1\" class=\"dataframe\">\n",
       "  <thead>\n",
       "    <tr style=\"text-align: right;\">\n",
       "      <th></th>\n",
       "      <th>review</th>\n",
       "    </tr>\n",
       "  </thead>\n",
       "  <tbody>\n",
       "    <tr>\n",
       "      <th>count</th>\n",
       "      <td>610000</td>\n",
       "    </tr>\n",
       "    <tr>\n",
       "      <th>unique</th>\n",
       "      <td>609640</td>\n",
       "    </tr>\n",
       "    <tr>\n",
       "      <th>top</th>\n",
       "      <td>.it was a freebie. it was a paperless book. why not take advantage of it right? not like WHOA! book!</td>\n",
       "    </tr>\n",
       "    <tr>\n",
       "      <th>freq</th>\n",
       "      <td>7</td>\n",
       "    </tr>\n",
       "  </tbody>\n",
       "</table>\n",
       "</div>"
      ],
      "text/plain": [
       "                                                                                                      review\n",
       "count                                                                                                 610000\n",
       "unique                                                                                                609640\n",
       "top     .it was a freebie. it was a paperless book. why not take advantage of it right? not like WHOA! book!\n",
       "freq                                                                                                       7"
      ]
     },
     "execution_count": 14,
     "metadata": {},
     "output_type": "execute_result"
    }
   ],
   "source": [
    "# Checking major statistics of the new dataset\r\n",
    "language_model.describe()"
   ]
  },
  {
   "cell_type": "code",
   "execution_count": null,
   "metadata": {
    "gradient": {}
   },
   "outputs": [],
   "source": [
    "# Splitting the new dataset randomly into 90% train and 10% validation \n",
    "data_lm = DataBlock(\n",
    "    blocks=TextBlock.from_df('review', is_lm=True),\n",
    "    get_x=ColReader('text'), \n",
    "    splitter=RandomSplitter(0.1) \n",
    ")"
   ]
  },
  {
   "cell_type": "code",
   "execution_count": null,
   "metadata": {
    "gradient": {}
   },
   "outputs": [
    {
     "data": {
      "text/html": [],
      "text/plain": [
       "<IPython.core.display.HTML object>"
      ]
     },
     "metadata": {
      "display_id": "31ff292b605fce1cf131663252f9e05c"
     },
     "output_type": "display_data"
    }
   ],
   "source": [
    "# Internally tokenizing and numericalizing the data. The sequence length used is the default used for training the Wikipedia 103 language model\r\n",
    "data_lm = data_lm.dataloaders(language_model, bs=64, seq_len=72)"
   ]
  },
  {
   "cell_type": "code",
   "execution_count": null,
   "metadata": {
    "gradient": {}
   },
   "outputs": [
    {
     "data": {
      "text/html": [
       "<table border=\"1\" class=\"dataframe\">\n",
       "  <thead>\n",
       "    <tr style=\"text-align: right;\">\n",
       "      <th></th>\n",
       "      <th>text</th>\n",
       "      <th>text_</th>\n",
       "    </tr>\n",
       "  </thead>\n",
       "  <tbody>\n",
       "    <tr>\n",
       "      <th>0</th>\n",
       "      <td>xxbos xxmaj all the reviews aside , this a good movie , and i enjoy it every time i watch it . xxmaj i 'd call it a sleeper . xxmaj walter xxmaj xxunk is great as always . xxbos i like xxmaj sapphire even better than her newest book xxup diamond . xxmaj the characters are rich and memorable . xxmaj the female character is strong of will and the male</td>\n",
       "      <td>xxmaj all the reviews aside , this a good movie , and i enjoy it every time i watch it . xxmaj i 'd call it a sleeper . xxmaj walter xxmaj xxunk is great as always . xxbos i like xxmaj sapphire even better than her newest book xxup diamond . xxmaj the characters are rich and memorable . xxmaj the female character is strong of will and the male is</td>\n",
       "    </tr>\n",
       "    <tr>\n",
       "      <th>1</th>\n",
       "      <td>under the skin , but the needle tips end up snapping the hair when you try to tweeze it xxunk i use a combination , this to xxunk the hair , and another product to actually pull the hair out . xxbos a xxmaj world xxmaj lit xxmaj only by xxmaj fire , is a succinct , fast paced history of xxmaj europe from the fall of the xxmaj roman xxmaj empire</td>\n",
       "      <td>the skin , but the needle tips end up snapping the hair when you try to tweeze it xxunk i use a combination , this to xxunk the hair , and another product to actually pull the hair out . xxbos a xxmaj world xxmaj lit xxmaj only by xxmaj fire , is a succinct , fast paced history of xxmaj europe from the fall of the xxmaj roman xxmaj empire and</td>\n",
       "    </tr>\n",
       "    <tr>\n",
       "      <th>2</th>\n",
       "      <td>and the heroine is not very likeable . xxmaj keeping the reader in the dark about what 's going on made it hard to read , i almost gave up on it . i certainly did nt hurry to finish the book . xxmaj at least i got more done around the house because it was n't hard to put down . xxbos xxmaj xxunk is not your conventional \" club \"</td>\n",
       "      <td>the heroine is not very likeable . xxmaj keeping the reader in the dark about what 's going on made it hard to read , i almost gave up on it . i certainly did nt hurry to finish the book . xxmaj at least i got more done around the house because it was n't hard to put down . xxbos xxmaj xxunk is not your conventional \" club \" album</td>\n",
       "    </tr>\n",
       "    <tr>\n",
       "      <th>3</th>\n",
       "      <td>the most xxunk decline in any rock band since … well , since forever , as far as i can tell . xxmaj please , please , bring back the brilliant musicians who wrote xxmaj ride the xxmaj tiger , xxmaj painful , xxmaj may i xxmaj sing xxmaj with xxmaj me , and other stand - outs of intelligent rock music . xxbos xxmaj tough … xxup m&amp;d is not an</td>\n",
       "      <td>most xxunk decline in any rock band since … well , since forever , as far as i can tell . xxmaj please , please , bring back the brilliant musicians who wrote xxmaj ride the xxmaj tiger , xxmaj painful , xxmaj may i xxmaj sing xxmaj with xxmaj me , and other stand - outs of intelligent rock music . xxbos xxmaj tough … xxup m&amp;d is not an easy</td>\n",
       "    </tr>\n",
       "    <tr>\n",
       "      <th>4</th>\n",
       "      <td>concern was under the xxunk i would have to sign for my purchase when it arived as i found it in my mail box . xxbos i liked xxmaj robert xxmaj harris ' xxmaj pompeii . i read it in a few days , enjoyed it , and found the story to be well written . xxmaj but - there is a but - it could be boring at times . xxmaj</td>\n",
       "      <td>was under the xxunk i would have to sign for my purchase when it arived as i found it in my mail box . xxbos i liked xxmaj robert xxmaj harris ' xxmaj pompeii . i read it in a few days , enjoyed it , and found the story to be well written . xxmaj but - there is a but - it could be boring at times . xxmaj it</td>\n",
       "    </tr>\n",
       "  </tbody>\n",
       "</table>"
      ],
      "text/plain": [
       "<IPython.core.display.HTML object>"
      ]
     },
     "metadata": {},
     "output_type": "display_data"
    }
   ],
   "source": [
    "# Randomly show 5 of the rows from the language model\r\n",
    "data_lm.show_batch(max_n=5)"
   ]
  },
  {
   "cell_type": "code",
   "execution_count": null,
   "metadata": {
    "gradient": {}
   },
   "outputs": [],
   "source": [
    "# Save the langauge model\r\n",
    "torch.save(data_lm, path/'amazon_sentiments_data_lm.pkl')"
   ]
  },
  {
   "cell_type": "code",
   "execution_count": null,
   "metadata": {
    "gradient": {}
   },
   "outputs": [],
   "source": [
    "# Load in the language model\r\n",
    "data_lm = torch.load(path/'amazon_sentiments_data_lm.pkl')"
   ]
  },
  {
   "cell_type": "code",
   "execution_count": null,
   "metadata": {
    "gradient": {}
   },
   "outputs": [],
   "source": [
    "# Defining the LSTM architecture of the train model and the metrics used to acertain its accuracy\n",
    "learn_model = language_model_learner(\n",
    "    data_lm, AWD_LSTM,\n",
    "    metrics=[accuracy, Perplexity()]).to_fp16()"
   ]
  },
  {
   "cell_type": "code",
   "execution_count": null,
   "metadata": {
    "gradient": {}
   },
   "outputs": [
    {
     "data": {
      "text/plain": [
       "SequentialRNN(\n",
       "  (0): AWD_LSTM(\n",
       "    (encoder): Embedding(60008, 400, padding_idx=1)\n",
       "    (encoder_dp): EmbeddingDropout(\n",
       "      (emb): Embedding(60008, 400, padding_idx=1)\n",
       "    )\n",
       "    (rnns): ModuleList(\n",
       "      (0): WeightDropout(\n",
       "        (module): LSTM(400, 1152, batch_first=True)\n",
       "      )\n",
       "      (1): WeightDropout(\n",
       "        (module): LSTM(1152, 1152, batch_first=True)\n",
       "      )\n",
       "      (2): WeightDropout(\n",
       "        (module): LSTM(1152, 400, batch_first=True)\n",
       "      )\n",
       "    )\n",
       "    (input_dp): RNNDropout()\n",
       "    (hidden_dps): ModuleList(\n",
       "      (0): RNNDropout()\n",
       "      (1): RNNDropout()\n",
       "      (2): RNNDropout()\n",
       "    )\n",
       "  )\n",
       "  (1): LinearDecoder(\n",
       "    (decoder): Linear(in_features=400, out_features=60008, bias=True)\n",
       "    (output_dp): RNNDropout()\n",
       "  )\n",
       ")"
      ]
     },
     "execution_count": 18,
     "metadata": {},
     "output_type": "execute_result"
    }
   ],
   "source": [
    "# Check the various layers of the model\r\n",
    "learn_model.model"
   ]
  },
  {
   "cell_type": "code",
   "execution_count": null,
   "metadata": {
    "gradient": {}
   },
   "outputs": [
    {
     "data": {
      "text/html": [],
      "text/plain": [
       "<IPython.core.display.HTML object>"
      ]
     },
     "metadata": {
      "display_id": "8263b415509ed7e7e3e2b0b374d4c1e1"
     },
     "output_type": "display_data"
    },
    {
     "data": {
      "text/plain": [
       "SuggestedLRs(lr_min=0.014454397559165954, lr_steep=7.585775847473997e-07)"
      ]
     },
     "execution_count": 24,
     "metadata": {},
     "output_type": "execute_result"
    },
    {
     "data": {
      "image/png": "[encoded data removed]",
      "text/plain": [
       "<Figure size 432x288 with 1 Axes>"
      ]
     },
     "metadata": {
      "needs_background": "light"
     },
     "output_type": "display_data"
    }
   ],
   "source": [
    "# Find the best learning rate for training the language model\r\n",
    "learn_model.lr_find()"
   ]
  },
  {
   "cell_type": "code",
   "execution_count": null,
   "metadata": {
    "gradient": {}
   },
   "outputs": [
    {
     "data": {
      "text/html": [
       "<table border=\"1\" class=\"dataframe\">\n",
       "  <thead>\n",
       "    <tr style=\"text-align: left;\">\n",
       "      <th>epoch</th>\n",
       "      <th>train_loss</th>\n",
       "      <th>valid_loss</th>\n",
       "      <th>accuracy</th>\n",
       "      <th>perplexity</th>\n",
       "      <th>time</th>\n",
       "    </tr>\n",
       "  </thead>\n",
       "  <tbody>\n",
       "    <tr>\n",
       "      <td>0</td>\n",
       "      <td>4.464083</td>\n",
       "      <td>4.020653</td>\n",
       "      <td>0.278305</td>\n",
       "      <td>55.737476</td>\n",
       "      <td>1:43:27</td>\n",
       "    </tr>\n",
       "  </tbody>\n",
       "</table>"
      ],
      "text/plain": [
       "<IPython.core.display.HTML object>"
      ]
     },
     "metadata": {},
     "output_type": "display_data"
    },
    {
     "data": {
      "text/html": [
       "<table border=\"1\" class=\"dataframe\">\n",
       "  <thead>\n",
       "    <tr style=\"text-align: left;\">\n",
       "      <th>epoch</th>\n",
       "      <th>train_loss</th>\n",
       "      <th>valid_loss</th>\n",
       "      <th>accuracy</th>\n",
       "      <th>perplexity</th>\n",
       "      <th>time</th>\n",
       "    </tr>\n",
       "  </thead>\n",
       "  <tbody>\n",
       "    <tr>\n",
       "      <td>0</td>\n",
       "      <td>4.020104</td>\n",
       "      <td>3.741584</td>\n",
       "      <td>0.309275</td>\n",
       "      <td>42.164738</td>\n",
       "      <td>1:55:21</td>\n",
       "    </tr>\n",
       "    <tr>\n",
       "      <td>1</td>\n",
       "      <td>3.907612</td>\n",
       "      <td>3.660431</td>\n",
       "      <td>0.318986</td>\n",
       "      <td>38.878109</td>\n",
       "      <td>1:55:08</td>\n",
       "    </tr>\n",
       "    <tr>\n",
       "      <td>2</td>\n",
       "      <td>3.847359</td>\n",
       "      <td>3.599310</td>\n",
       "      <td>0.325338</td>\n",
       "      <td>36.572998</td>\n",
       "      <td>1:55:10</td>\n",
       "    </tr>\n",
       "    <tr>\n",
       "      <td>3</td>\n",
       "      <td>3.794616</td>\n",
       "      <td>3.555801</td>\n",
       "      <td>0.329626</td>\n",
       "      <td>35.015869</td>\n",
       "      <td>1:58:58</td>\n",
       "    </tr>\n",
       "    <tr>\n",
       "      <td>4</td>\n",
       "      <td>3.762177</td>\n",
       "      <td>3.542487</td>\n",
       "      <td>0.331098</td>\n",
       "      <td>34.552742</td>\n",
       "      <td>1:59:09</td>\n",
       "    </tr>\n",
       "  </tbody>\n",
       "</table>"
      ],
      "text/plain": [
       "<IPython.core.display.HTML object>"
      ]
     },
     "metadata": {},
     "output_type": "display_data"
    }
   ],
   "source": [
    "# Fine tuning the language model based on the datablock which would enable in predicting the next word in a sentence for the Amazon Reviews dataset specifically\r\n",
    "learn_model.fine_tune(5, 1e-2)"
   ]
  },
  {
   "cell_type": "code",
   "execution_count": null,
   "metadata": {
    "gradient": {}
   },
   "outputs": [],
   "source": [
    "# Save the encoder that understands the intricate language semantics of our dataset\r\n",
    "learn_model.save_encoder('finetuned_encoder')"
   ]
  },
  {
   "cell_type": "code",
   "execution_count": null,
   "metadata": {
    "gradient": {}
   },
   "outputs": [
    {
     "data": {
      "text/plain": [
       "<fastai.text.learner.LMLearner at 0x7f953ed073d0>"
      ]
     },
     "execution_count": 19,
     "metadata": {},
     "output_type": "execute_result"
    }
   ],
   "source": [
    "# Load the encoder that understands the intricate language semantics of our dataset\r\n",
    "learn_model.load_encoder('finetuned_encoder')"
   ]
  },
  {
   "cell_type": "code",
   "execution_count": null,
   "metadata": {
    "gradient": {
     "source_hidden": false
    }
   },
   "outputs": [
    {
     "data": {
      "text/html": [],
      "text/plain": [
       "<IPython.core.display.HTML object>"
      ]
     },
     "metadata": {
      "display_id": "7924ec3d60bd024054ba76c497075b0f"
     },
     "output_type": "display_data",
     "transient": {
      "display_id": "7924ec3d60bd024054ba76c497075b0f"
     }
    },
    {
     "data": {
      "text/plain": [
       "'This laptop was horrible because partition ports require seperate recovery inputs county temperature control groups caesar connections between computers businesses frequently loosens up significantly resulting in reboots causing headaches during installing connectors -- day.it pruitt'"
      ]
     },
     "execution_count": 23,
     "metadata": {},
     "output_type": "execute_result"
    }
   ],
   "source": [
    "# Predict the full sentence of a negative prompt using our trained language model\r\n",
    "learn_model.predict(\"This laptop was horrible because\", 30, temperature=0.80)"
   ]
  },
  {
   "cell_type": "code",
   "execution_count": null,
   "metadata": {
    "gradient": {
     "source_hidden": false
    }
   },
   "outputs": [
    {
     "data": {
      "text/html": [],
      "text/plain": [
       "<IPython.core.display.HTML object>"
      ]
     },
     "metadata": {
      "display_id": "dc8f3c1e899e96391b0f4201042888df"
     },
     "output_type": "display_data",
     "transient": {
      "display_id": "dc8f3c1e899e96391b0f4201042888df"
     }
    },
    {
     "data": {
      "text/plain": [
       "'i absolutely loved this dress because of the bridesmaids sizing chart permanently warrantied by consumers competed over 28 lbs in 1953 . Nonetheless fitting 365'"
      ]
     },
     "execution_count": 21,
     "metadata": {},
     "output_type": "execute_result"
    }
   ],
   "source": [
    "# Predict the full sentence of a positive prompt using our trained language model\r\n",
    "learn_model.predict(\"I absolutely loved this dress because\", 20, temperature=0.80)"
   ]
  },
  {
   "cell_type": "code",
   "execution_count": null,
   "metadata": {
    "collapsed": false,
    "gradient": {
     "source_hidden": false
    }
   },
   "outputs": [
    {
     "name": "stdout",
     "output_type": "stream",
     "text": [
      "Requirement already up-to-date: nltk in /opt/conda/envs/fastai/lib/python3.8/site-packages (3.5)\r\n",
      "Requirement already satisfied, skipping upgrade: joblib in /opt/conda/envs/fastai/lib/python3.8/site-packages (from nltk) (0.17.0)\r\n",
      "Requirement already satisfied, skipping upgrade: tqdm in /opt/conda/envs/fastai/lib/python3.8/site-packages (from nltk) (4.52.0)\r\n",
      "Requirement already satisfied, skipping upgrade: regex in /opt/conda/envs/fastai/lib/python3.8/site-packages (from nltk) (2020.11.13)\r\n",
      "Requirement already satisfied, skipping upgrade: click in /opt/conda/envs/fastai/lib/python3.8/site-packages (from nltk) (7.1.2)\r\n"
     ]
    }
   ],
   "source": [
    "# Download necessary libraries for Easy Data Augmentation (EDA)\r\n",
    "!pip install -U nltk"
   ]
  },
  {
   "cell_type": "code",
   "execution_count": null,
   "metadata": {
    "collapsed": false,
    "gradient": {
     "source_hidden": false
    }
   },
   "outputs": [
    {
     "name": "stderr",
     "output_type": "stream",
     "text": [
      "[nltk_data] Downloading package wordnet to /root/nltk_data...\n",
      "[nltk_data]   Package wordnet is already up-to-date!\n"
     ]
    },
    {
     "data": {
      "text/plain": [
       "True"
      ]
     },
     "execution_count": 25,
     "metadata": {},
     "output_type": "execute_result"
    }
   ],
   "source": [
    "# Download necessary libraries for Easy Data Augmentation (EDA)\r\n",
    "import nltk\r\n",
    "nltk.download('wordnet')"
   ]
  },
  {
   "cell_type": "code",
   "execution_count": null,
   "metadata": {
    "collapsed": false,
    "gradient": {
     "source_hidden": false
    }
   },
   "outputs": [
    {
     "data": {
      "text/html": [
       "<div>\n",
       "<style scoped>\n",
       "    .dataframe tbody tr th:only-of-type {\n",
       "        vertical-align: middle;\n",
       "    }\n",
       "\n",
       "    .dataframe tbody tr th {\n",
       "        vertical-align: top;\n",
       "    }\n",
       "\n",
       "    .dataframe thead th {\n",
       "        text-align: right;\n",
       "    }\n",
       "</style>\n",
       "<table border=\"1\" class=\"dataframe\">\n",
       "  <thead>\n",
       "    <tr style=\"text-align: right;\">\n",
       "      <th></th>\n",
       "      <th>3</th>\n",
       "      <th>Gave this to my dad for a gag gift after directing \"Nunsense,\" he got a reall kick out of it!</th>\n",
       "    </tr>\n",
       "  </thead>\n",
       "  <tbody>\n",
       "    <tr>\n",
       "      <th>0</th>\n",
       "      <td>5</td>\n",
       "      <td>I hope a lot of people hear this cd. We need more strong and positive vibes like this. Great vocals, fresh tunes, cross-cultural happiness. Her blues is from the gut. The pop sounds are catchy and mature.</td>\n",
       "    </tr>\n",
       "    <tr>\n",
       "      <th>1</th>\n",
       "      <td>5</td>\n",
       "      <td>I'm reading a lot of reviews saying that this is the best 'game soundtrack' and I figured that I'd write a review to disagree a bit. This in my opinino is Yasunori Mitsuda's ultimate masterpiece. The music is timeless and I'm been listening to it for years now and its beauty simply refuses to fade.The price tag on this is pretty staggering I must say, but if you are going to buy any cd for this much money, this is the only one that I feel would be worth every penny.</td>\n",
       "    </tr>\n",
       "    <tr>\n",
       "      <th>2</th>\n",
       "      <td>4</td>\n",
       "      <td>The music of Yasunori Misuda is without question my close second below the great Nobuo Uematsu.Chrono Cross OST is a wonderful creation filled with rich orchestra and synthesized sounds. While ambiance is one of the music's major factors, yet at times it's very uplifting and vigorous. Some of my favourite tracks include; \"Scars Left by Time, The Girl who Stole the Stars, and Another World\".</td>\n",
       "    </tr>\n",
       "    <tr>\n",
       "      <th>3</th>\n",
       "      <td>5</td>\n",
       "      <td>Probably the greatest soundtrack in history! Usually it's better to have played the game first but this is so enjoyable anyway! I worked so hard getting this soundtrack and after spending [money] to get it it was really worth every penny!! Get this OST! it's amazing! The first few tracks will have you dancing around with delight (especially Scars Left by Time)!! BUY IT NOW!!</td>\n",
       "    </tr>\n",
       "    <tr>\n",
       "      <th>4</th>\n",
       "      <td>5</td>\n",
       "      <td>There's a reason this CD is so expensive, even the version that's not an import.Some of the best music ever. I could listen to every track every minute of every day. That's about all i can say.</td>\n",
       "    </tr>\n",
       "  </tbody>\n",
       "</table>\n",
       "</div>"
      ],
      "text/plain": [
       "   3  \\\n",
       "0  5   \n",
       "1  5   \n",
       "2  4   \n",
       "3  5   \n",
       "4  5   \n",
       "\n",
       "                                                                                                                                                                                                                                                                                                                                                                                            Gave this to my dad for a gag gift after directing \"Nunsense,\" he got a reall kick out of it!  \n",
       "0                                                                                                                                                                                                                                                                            I hope a lot of people hear this cd. We need more strong and positive vibes like this. Great vocals, fresh tunes, cross-cultural happiness. Her blues is from the gut. The pop sounds are catchy and mature.  \n",
       "1  I'm reading a lot of reviews saying that this is the best 'game soundtrack' and I figured that I'd write a review to disagree a bit. This in my opinino is Yasunori Mitsuda's ultimate masterpiece. The music is timeless and I'm been listening to it for years now and its beauty simply refuses to fade.The price tag on this is pretty staggering I must say, but if you are going to buy any cd for this much money, this is the only one that I feel would be worth every penny.  \n",
       "2                                                                               The music of Yasunori Misuda is without question my close second below the great Nobuo Uematsu.Chrono Cross OST is a wonderful creation filled with rich orchestra and synthesized sounds. While ambiance is one of the music's major factors, yet at times it's very uplifting and vigorous. Some of my favourite tracks include; \"Scars Left by Time, The Girl who Stole the Stars, and Another World\".  \n",
       "3                                                                                               Probably the greatest soundtrack in history! Usually it's better to have played the game first but this is so enjoyable anyway! I worked so hard getting this soundtrack and after spending [money] to get it it was really worth every penny!! Get this OST! it's amazing! The first few tracks will have you dancing around with delight (especially Scars Left by Time)!! BUY IT NOW!!  \n",
       "4                                                                                                                                                                                                                                                                                       There's a reason this CD is so expensive, even the version that's not an import.Some of the best music ever. I could listen to every track every minute of every day. That's about all i can say.  "
      ]
     },
     "execution_count": 26,
     "metadata": {},
     "output_type": "execute_result"
    }
   ],
   "source": [
    "# Make new dataframe containing 10x less data than the train dataset because EDA would generate new data from lesser existing data\r\n",
    "eda = pd.read_csv(path/'train.csv', nrows=50000, usecols=[0,2])\r\n",
    "eda.head()"
   ]
  },
  {
   "cell_type": "code",
   "execution_count": null,
   "metadata": {
    "collapsed": false,
    "gradient": {
     "source_hidden": false
    }
   },
   "outputs": [],
   "source": [
    "# Convert csv to txt file required for EDA to run\r\n",
    "eda.to_csv('train2.txt', header=True, index=False, sep='\\t', mode='a')"
   ]
  },
  {
   "cell_type": "code",
   "execution_count": null,
   "metadata": {
    "collapsed": false,
    "gradient": {
     "source_hidden": false
    }
   },
   "outputs": [
    {
     "name": "stderr",
     "output_type": "stream",
     "text": [
      "/notebooks/eda_nlp/code/eda.py:177: SyntaxWarning: \"is not\" with a literal. Did you mean \"!=\"?\n",
      "  words = [word for word in words if word is not '']\n"
     ]
    },
    {
     "name": "stdout",
     "output_type": "stream",
     "text": [
      "generated augmented sentences with eda for eda_nlp/data/train2.txt to eda_nlp/data/eda_train2.txt with num_aug=2\n"
     ]
    }
   ],
   "source": [
    "# Run the python command for EDA with 2 new augmentations per existing review and perform all 4 augmentations with its default alpha values as stated in the research paper\r\n",
    "%run eda_nlp/code/augment.py --input=eda_nlp/data/train2.txt --num_aug=2 --alpha_sr=0.1 --alpha_rd=0.1 --alpha_ri=0.1 --alpha_rs=0.1"
   ]
  },
  {
   "cell_type": "code",
   "execution_count": null,
   "metadata": {
    "collapsed": false,
    "gradient": {
     "source_hidden": false
    }
   },
   "outputs": [],
   "source": [
    "# Convert txt to csv and replace train dataset with new EDA data\r\n",
    "train = pd.read_csv('eda_train2.txt', delimiter=\"\\t\", header=None, names=[\"ratings\", \"review\"])"
   ]
  },
  {
   "cell_type": "code",
   "execution_count": null,
   "metadata": {
    "collapsed": false,
    "gradient": {
     "source_hidden": false
    }
   },
   "outputs": [
    {
     "data": {
      "text/html": [
       "<div>\n",
       "<style scoped>\n",
       "    .dataframe tbody tr th:only-of-type {\n",
       "        vertical-align: middle;\n",
       "    }\n",
       "\n",
       "    .dataframe tbody tr th {\n",
       "        vertical-align: top;\n",
       "    }\n",
       "\n",
       "    .dataframe thead th {\n",
       "        text-align: right;\n",
       "    }\n",
       "</style>\n",
       "<table border=\"1\" class=\"dataframe\">\n",
       "  <thead>\n",
       "    <tr style=\"text-align: right;\">\n",
       "      <th></th>\n",
       "      <th>ratings</th>\n",
       "      <th>review</th>\n",
       "    </tr>\n",
       "  </thead>\n",
       "  <tbody>\n",
       "    <tr>\n",
       "      <th>0</th>\n",
       "      <td>3</td>\n",
       "      <td>gave this to my papa for a gag gift after organise nunsense he got a reall kick out of it</td>\n",
       "    </tr>\n",
       "    <tr>\n",
       "      <th>1</th>\n",
       "      <td>3</td>\n",
       "      <td>gave this to my dad for a gag after directing nunsense he got reall kick out of it</td>\n",
       "    </tr>\n",
       "    <tr>\n",
       "      <th>2</th>\n",
       "      <td>3</td>\n",
       "      <td>gave this to my dad for a gag gift after directing nunsense he got a reall kick out of it</td>\n",
       "    </tr>\n",
       "    <tr>\n",
       "      <th>3</th>\n",
       "      <td>5</td>\n",
       "      <td>i hope a lot of learn people hear this cd we need more strong and positive vibes like majuscule this great vocals fresh tunes cross cultural happiness her blues is from the gut the pop sounds majuscule are catchy and mature</td>\n",
       "    </tr>\n",
       "    <tr>\n",
       "      <th>4</th>\n",
       "      <td>5</td>\n",
       "      <td>i promise a lot of people hear this cd we need more strong and positive vibe like this great vocals fresh tune up cross cultural happiness her blues is from the gut the pop sounds are catchy and mature</td>\n",
       "    </tr>\n",
       "  </tbody>\n",
       "</table>\n",
       "</div>"
      ],
      "text/plain": [
       "   ratings  \\\n",
       "0        3   \n",
       "1        3   \n",
       "2        3   \n",
       "3        5   \n",
       "4        5   \n",
       "\n",
       "                                                                                                                                                                                                                            review  \n",
       "0                                                                                                                                        gave this to my papa for a gag gift after organise nunsense he got a reall kick out of it  \n",
       "1                                                                                                                                               gave this to my dad for a gag after directing nunsense he got reall kick out of it  \n",
       "2                                                                                                                                       gave this to my dad for a gag gift after directing nunsense he got a reall kick out of it   \n",
       "3  i hope a lot of learn people hear this cd we need more strong and positive vibes like majuscule this great vocals fresh tunes cross cultural happiness her blues is from the gut the pop sounds majuscule are catchy and mature  \n",
       "4                        i promise a lot of people hear this cd we need more strong and positive vibe like this great vocals fresh tune up cross cultural happiness her blues is from the gut the pop sounds are catchy and mature  "
      ]
     },
     "execution_count": 30,
     "metadata": {},
     "output_type": "execute_result"
    }
   ],
   "source": [
    "# Check data to see if each data point is repeated 3 times, first is original and the next 2 are augmentations\r\n",
    "train.head()"
   ]
  },
  {
   "cell_type": "code",
   "execution_count": null,
   "metadata": {
    "gradient": {
     "source_hidden": false
    }
   },
   "outputs": [],
   "source": [
    "# Create the datablock for the classifier now splitting the dataset into 80% train and 20% validation\n",
    "blocks = (TextBlock.from_df('review', seq_len=data_lm.seq_len, vocab=data_lm.vocab), CategoryBlock())\n",
    "data_classifier = DataBlock(blocks=blocks,\n",
    "                get_x=ColReader('text'),\n",
    "                get_y=ColReader('ratings'),\n",
    "                splitter=RandomSplitter(0.2))"
   ]
  },
  {
   "cell_type": "code",
   "execution_count": null,
   "metadata": {
    "gradient": {
     "source_hidden": false
    }
   },
   "outputs": [
    {
     "data": {
      "text/html": [],
      "text/plain": [
       "<IPython.core.display.HTML object>"
      ]
     },
     "metadata": {
      "display_id": "b98604d43b5784db2d48146830a84672"
     },
     "output_type": "display_data",
     "transient": {
      "display_id": "b98604d43b5784db2d48146830a84672"
     }
    }
   ],
   "source": [
    "# Perform tokenization and numericalization of the loaded data automatically\r\n",
    "data_classifier = data_classifier.dataloaders(train, bs=64)"
   ]
  },
  {
   "cell_type": "code",
   "execution_count": null,
   "metadata": {
    "gradient": {
     "source_hidden": false
    }
   },
   "outputs": [
    {
     "data": {
      "text/html": [
       "<table border=\"1\" class=\"dataframe\">\n",
       "  <thead>\n",
       "    <tr style=\"text-align: right;\">\n",
       "      <th></th>\n",
       "      <th>text</th>\n",
       "      <th>category</th>\n",
       "    </tr>\n",
       "  </thead>\n",
       "  <tbody>\n",
       "    <tr>\n",
       "      <th>0</th>\n",
       "      <td>xxbos i rate it stars because caliber i m sure there are far superior cameras out there doh but i do nt think you can well disposed get them for the price xxunk i ve only caliber used the xxunk camera for about a day now but it took great pictures of my horse even in his stall the flash is really good xxunk and the pictures speech sound turn out so nicely this is my first digital camera that i ve owned so i was very surprised at the quality its pretty easy to xxunk with and pretty user friendly information technology to me its so tiny i m afraid to put it in my pocket or in my purse for fear that it might scratch but that s not a bad thing it makes it very easy to carry around like carrying around another cell phone it took</td>\n",
       "      <td>4</td>\n",
       "    </tr>\n",
       "    <tr>\n",
       "      <th>1</th>\n",
       "      <td>xxbos i would return the pants if i could unfortunately i ve never not fit into a size before so i had taken off all equal the tags stickers etc off the pants before xxunk trying zip up them on stupid me that being said my only complaint is that this feels more like not a is usually a perfect altogether fit for me or sometimes a little loose but just a little this is the first time i ve put on a pair of w pants where i could nt actually button the xxunk button or zip up the zipper all the way i even equal sir thomas more had to do the jump and tug you know where you have to non jump and then tug the pants up to get them on which was a bad sign by itself equal now other than that the pants are</td>\n",
       "      <td>3</td>\n",
       "    </tr>\n",
       "    <tr>\n",
       "      <th>2</th>\n",
       "      <td>xxbos not a bad device mo in total but it has so many issues i want a device that will adapt to my way of working not the other way around after spending days of developing work arounds i decided to look elswhere for the price the dsm is a great machine i am willing to pony up a few more bucks xxunk to miserable get something a sour bit group a xxunk more powerfull that can handle a more varied set of sour video formats and stream higher bit rate files subject sour xxunk if you want to xxunk group a stream mp and lower bit rate mpeg and mpeg videos the dsm is great if you are looking to support divx dvd quality mpeg captures and hdtv content this is not the player atomic number for you all in all this is an group a entire new product</td>\n",
       "      <td>3</td>\n",
       "    </tr>\n",
       "    <tr>\n",
       "      <th>3</th>\n",
       "      <td>xxbos chime in on this one this nous may be douglas moore my favorite gary moore album of all including thin lizzy colosseum ii skid row early solo stuff and whatever else is lurking out there its a bit agency of group a a toss up between run for cover berth and we want moore only because i saw the tour opening for rush on their grace under pressure tour the live album is absolutely mind blowing as was equal along gm in concert for studio lps run for cover has to take the biscuit from out and out rockers to melodic ballads helper to in xxunk whatever happened to that series control by the way lug it has something for everyone on and bonus tracks too the production is excellent unlike a lot of s metal albums if you are uncertain xxunk as to where to start with gary</td>\n",
       "      <td>5</td>\n",
       "    </tr>\n",
       "    <tr>\n",
       "      <th>4</th>\n",
       "      <td>xxbos i really liked this movie i own xxunk the first two on dvd and despite xxunk what a lot of people think of michael bays movies i lamentable took this for what it was a fun movie bringing an iconic childhood toy to life i grew up watching the cartoons and was really excited when i heard set up xxunk xxunk there were going to be live action movies now i did enjoy this movie more than the second one not that i xxunk hated revenge of the fallen i loved the action sequences and the special effects i admit i watch them more for the in that location variant actual transformers than the human actors i did nt care for patrick xxunk character role i do nt watch greys anatomy so i have no previous attachment own to him as an actor and bond i really did nt</td>\n",
       "      <td>5</td>\n",
       "    </tr>\n",
       "  </tbody>\n",
       "</table>"
      ],
      "text/plain": [
       "<IPython.core.display.HTML object>"
      ]
     },
     "metadata": {},
     "output_type": "display_data",
     "transient": {}
    }
   ],
   "source": [
    "# Randomly show 5 of the rows from the classifier\r\n",
    "data_classifier.show_batch(max_n=5)"
   ]
  },
  {
   "cell_type": "code",
   "execution_count": null,
   "metadata": {
    "gradient": {
     "source_hidden": false
    }
   },
   "outputs": [],
   "source": [
    "# Defining the LSTM architecture of the train model and the metrics used to acertain its accuracy\r\n",
    "learn_model = text_classifier_learner(data_classifier, AWD_LSTM, metrics=[accuracy], drop_mult=0.5)\r\n"
   ]
  },
  {
   "cell_type": "code",
   "execution_count": null,
   "metadata": {
    "gradient": {
     "source_hidden": false
    }
   },
   "outputs": [
    {
     "data": {
      "text/plain": [
       "<fastai.text.learner.TextLearner at 0x7f9482c36d60>"
      ]
     },
     "execution_count": 37,
     "metadata": {},
     "output_type": "execute_result"
    }
   ],
   "source": [
    "# Load up the previously trained language model encoder\r\n",
    "learn_model.load_encoder('finetuned_encoder')"
   ]
  },
  {
   "cell_type": "code",
   "execution_count": null,
   "metadata": {
    "gradient": {
     "source_hidden": false
    }
   },
   "outputs": [
    {
     "data": {
      "text/html": [],
      "text/plain": [
       "<IPython.core.display.HTML object>"
      ]
     },
     "metadata": {
      "display_id": "d1cdc5c5bbc1ae7f45606699449e3a4b"
     },
     "output_type": "display_data",
     "transient": {
      "display_id": "d1cdc5c5bbc1ae7f45606699449e3a4b"
     }
    },
    {
     "data": {
      "text/plain": [
       "SuggestedLRs(lr_min=0.06309573650360108, lr_steep=0.013182567432522774)"
      ]
     },
     "execution_count": 38,
     "metadata": {},
     "output_type": "execute_result"
    },
    {
     "data": {
      "image/png": "[encoded data removed]",
      "text/plain": [
       "<Figure size 432x288 with 1 Axes>"
      ]
     },
     "metadata": {
      "needs_background": "light"
     },
     "output_type": "display_data",
     "transient": {}
    }
   ],
   "source": [
    "# Find the best learning rate for training the classifer\r\n",
    "learn_model.lr_find()"
   ]
  },
  {
   "cell_type": "code",
   "execution_count": null,
   "metadata": {
    "gradient": {}
   },
   "outputs": [
    {
     "data": {
      "text/html": [
       "<table border=\"1\" class=\"dataframe\">\n",
       "  <thead>\n",
       "    <tr style=\"text-align: left;\">\n",
       "      <th>epoch</th>\n",
       "      <th>train_loss</th>\n",
       "      <th>valid_loss</th>\n",
       "      <th>accuracy</th>\n",
       "      <th>time</th>\n",
       "    </tr>\n",
       "  </thead>\n",
       "  <tbody>\n",
       "    <tr>\n",
       "      <td>0</td>\n",
       "      <td>1.263276</td>\n",
       "      <td>1.123682</td>\n",
       "      <td>0.510705</td>\n",
       "      <td>10:15</td>\n",
       "    </tr>\n",
       "  </tbody>\n",
       "</table>"
      ],
      "text/plain": [
       "<IPython.core.display.HTML object>"
      ]
     },
     "metadata": {
      "display_id": "7680c21170fa04d812fe10d4127bda5e"
     },
     "output_type": "display_data",
     "transient": {
      "display_id": "7680c21170fa04d812fe10d4127bda5e"
     }
    }
   ],
   "source": [
    "# Train the model one epoch with the min learning rate from previous step\r\n",
    "learn_model.fit_one_cycle(1, 6.3e-2)"
   ]
  },
  {
   "cell_type": "code",
   "execution_count": null,
   "metadata": {
    "gradient": {}
   },
   "outputs": [
    {
     "data": {
      "text/html": [
       "<table border=\"1\" class=\"dataframe\">\n",
       "  <thead>\n",
       "    <tr style=\"text-align: left;\">\n",
       "      <th>epoch</th>\n",
       "      <th>train_loss</th>\n",
       "      <th>valid_loss</th>\n",
       "      <th>accuracy</th>\n",
       "      <th>time</th>\n",
       "    </tr>\n",
       "  </thead>\n",
       "  <tbody>\n",
       "    <tr>\n",
       "      <td>0</td>\n",
       "      <td>1.080581</td>\n",
       "      <td>1.521779</td>\n",
       "      <td>0.583016</td>\n",
       "      <td>12:04</td>\n",
       "    </tr>\n",
       "  </tbody>\n",
       "</table>"
      ],
      "text/plain": [
       "<IPython.core.display.HTML object>"
      ]
     },
     "metadata": {
      "display_id": "99d80f9c20f88b7a9d0e491580dad568"
     },
     "output_type": "display_data",
     "transient": {
      "display_id": "99d80f9c20f88b7a9d0e491580dad568"
     }
    }
   ],
   "source": [
    "# Freeze all the layers in the model except for the last two and train again with a smaller learning rate, the sliced values follows the instructions as per Jeremy Howard's FastAI course\n",
    "learn_model.freeze_to(-2)\n",
    "learn_model.fit_one_cycle(1, slice(6.3e-3/(2.6**4),6.3e-2))"
   ]
  },
  {
   "cell_type": "code",
   "execution_count": null,
   "metadata": {
    "gradient": {}
   },
   "outputs": [
    {
     "data": {
      "text/html": [
       "<table border=\"1\" class=\"dataframe\">\n",
       "  <thead>\n",
       "    <tr style=\"text-align: left;\">\n",
       "      <th>epoch</th>\n",
       "      <th>train_loss</th>\n",
       "      <th>valid_loss</th>\n",
       "      <th>accuracy</th>\n",
       "      <th>time</th>\n",
       "    </tr>\n",
       "  </thead>\n",
       "  <tbody>\n",
       "    <tr>\n",
       "      <td>0</td>\n",
       "      <td>0.932273</td>\n",
       "      <td>1.375420</td>\n",
       "      <td>0.648593</td>\n",
       "      <td>18:45</td>\n",
       "    </tr>\n",
       "  </tbody>\n",
       "</table>"
      ],
      "text/plain": [
       "<IPython.core.display.HTML object>"
      ]
     },
     "metadata": {
      "display_id": "61619026a835200379becc77c56986dd"
     },
     "output_type": "display_data",
     "transient": {
      "display_id": "61619026a835200379becc77c56986dd"
     }
    }
   ],
   "source": [
    "# Freeze all the layers in the model except for the last three and train again with a smaller learning rate, the sliced values follows the instructions as per Jeremy Howard's FastAI course\n",
    "learn_model.freeze_to(-3)\n",
    "learn_model.fit_one_cycle(1, slice(5e-3/(2.6**4),1e-2))"
   ]
  },
  {
   "cell_type": "code",
   "execution_count": null,
   "metadata": {
    "gradient": {}
   },
   "outputs": [
    {
     "data": {
      "text/html": [
       "<table border=\"1\" class=\"dataframe\">\n",
       "  <thead>\n",
       "    <tr style=\"text-align: left;\">\n",
       "      <th>epoch</th>\n",
       "      <th>train_loss</th>\n",
       "      <th>valid_loss</th>\n",
       "      <th>accuracy</th>\n",
       "      <th>time</th>\n",
       "    </tr>\n",
       "  </thead>\n",
       "  <tbody>\n",
       "    <tr>\n",
       "      <td>0</td>\n",
       "      <td>0.800249</td>\n",
       "      <td>1.019997</td>\n",
       "      <td>0.701892</td>\n",
       "      <td>24:44</td>\n",
       "    </tr>\n",
       "    <tr>\n",
       "      <td>1</td>\n",
       "      <td>0.699172</td>\n",
       "      <td>0.732268</td>\n",
       "      <td>0.766314</td>\n",
       "      <td>24:28</td>\n",
       "    </tr>\n",
       "    <tr>\n",
       "      <td>2</td>\n",
       "      <td>0.621948</td>\n",
       "      <td>0.575920</td>\n",
       "      <td>0.787680</td>\n",
       "      <td>24:22</td>\n",
       "    </tr>\n",
       "  </tbody>\n",
       "</table>"
      ],
      "text/plain": [
       "<IPython.core.display.HTML object>"
      ]
     },
     "metadata": {
      "display_id": "887e3a5381c141b7f614b0aff54db484"
     },
     "output_type": "display_data",
     "transient": {
      "display_id": "887e3a5381c141b7f614b0aff54db484"
     }
    }
   ],
   "source": [
    "# Unfreeze all the layers in the model and train again with a smaller learning rate, the sliced values follows the instructions as per Jeremy Howard's FastAI course\n",
    "learn_model.unfreeze()\n",
    "learn_model.fit_one_cycle(3, slice(1e-3/(2.6**4),3e-3))"
   ]
  },
  {
   "cell_type": "code",
   "execution_count": null,
   "metadata": {
    "collapsed": false,
    "gradient": {
     "source_hidden": false
    }
   },
   "outputs": [
    {
     "data": {
      "text/plain": [
       "Path('models/trained_model_eda2.pth')"
      ]
     },
     "execution_count": 44,
     "metadata": {},
     "output_type": "execute_result"
    }
   ],
   "source": [
    "# Save the final trained model\r\n",
    "learn_model.save('trained_model_eda2')"
   ]
  },
  {
   "cell_type": "code",
   "execution_count": null,
   "metadata": {
    "collapsed": false,
    "gradient": {
     "source_hidden": false
    }
   },
   "outputs": [],
   "source": [
    "# Export the final trained model\r\n",
    "learn_model.export()"
   ]
  },
  {
   "cell_type": "code",
   "execution_count": null,
   "metadata": {
    "collapsed": false,
    "gradient": {
     "source_hidden": false
    }
   },
   "outputs": [
    {
     "data": {
      "text/plain": [
       "<fastai.text.learner.TextLearner at 0x7f9482c36d60>"
      ]
     },
     "execution_count": 45,
     "metadata": {},
     "output_type": "execute_result"
    }
   ],
   "source": [
    "# Load the final trained model\r\n",
    "learn_model.load('trained_model_eda2')"
   ]
  },
  {
   "cell_type": "code",
   "execution_count": null,
   "metadata": {
    "collapsed": false,
    "gradient": {
     "source_hidden": false
    }
   },
   "outputs": [
    {
     "data": {
      "text/plain": [
       "<AxesSubplot:>"
      ]
     },
     "execution_count": 46,
     "metadata": {},
     "output_type": "execute_result"
    },
    {
     "data": {
      "image/png": "[encoded data removed]",
      "text/plain": [
       "<Figure size 432x288 with 1 Axes>"
      ]
     },
     "metadata": {
      "needs_background": "light"
     },
     "output_type": "display_data",
     "transient": {}
    }
   ],
   "source": [
    "test['ratings'].value_counts().plot(kind='bar')"
   ]
  },
  {
   "cell_type": "code",
   "execution_count": null,
   "metadata": {
    "collapsed": true,
    "gradient": {
     "source_hidden": false
    }
   },
   "outputs": [
    {
     "data": {
      "text/html": [],
      "text/plain": [
       "<IPython.core.display.HTML object>"
      ]
     },
     "metadata": {
      "display_id": "0be58f7044469c46f8a43e230c7ec464"
     },
     "output_type": "display_data",
     "transient": {
      "display_id": "0be58f7044469c46f8a43e230c7ec464"
     }
    },
    {
     "data": {
      "text/html": [],
      "text/plain": [
       "<IPython.core.display.HTML object>"
      ]
     },
     "metadata": {
      "display_id": "4c30e80355ec7a58f89414ad8da0e8cf"
     },
     "output_type": "display_data",
     "transient": {
      "display_id": "4c30e80355ec7a58f89414ad8da0e8cf"
     }
    },
    {
     "data": {
      "text/html": [],
      "text/plain": [
       "<IPython.core.display.HTML object>"
      ]
     },
     "metadata": {
      "display_id": "b79195fbb8b316316a05456d0d4097a2"
     },
     "output_type": "display_data",
     "transient": {
      "display_id": "b79195fbb8b316316a05456d0d4097a2"
     }
    },
    {
     "data": {
      "text/html": [],
      "text/plain": [
       "<IPython.core.display.HTML object>"
      ]
     },
     "metadata": {
      "display_id": "7eb4120eae8353b2ac9419eb522437f6"
     },
     "output_type": "display_data",
     "transient": {
      "display_id": "7eb4120eae8353b2ac9419eb522437f6"
     }
    },
    {
     "data": {
      "text/html": [],
      "text/plain": [
       "<IPython.core.display.HTML object>"
      ]
     },
     "metadata": {
      "display_id": "f62c1e775220cca3f1bf641a214b006b"
     },
     "output_type": "display_data",
     "transient": {
      "display_id": "f62c1e775220cca3f1bf641a214b006b"
     }
    },
    {
     "data": {
      "text/html": [],
      "text/plain": [
       "<IPython.core.display.HTML object>"
      ]
     },
     "metadata": {
      "display_id": "cbf2bc8503bc135c8c1948161c686f1a"
     },
     "output_type": "display_data",
     "transient": {
      "display_id": "cbf2bc8503bc135c8c1948161c686f1a"
     }
    },
    {
     "data": {
      "text/html": [],
      "text/plain": [
       "<IPython.core.display.HTML object>"
      ]
     },
     "metadata": {
      "display_id": "74b5de422c1950a7da934a30dc8b9725"
     },
     "output_type": "display_data",
     "transient": {
      "display_id": "74b5de422c1950a7da934a30dc8b9725"
     }
    },
    {
     "data": {
      "text/html": [],
      "text/plain": [
       "<IPython.core.display.HTML object>"
      ]
     },
     "metadata": {
      "display_id": "6bb091e2f5a1b9f9dfa9dd267fc0b516"
     },
     "output_type": "display_data",
     "transient": {
      "display_id": "6bb091e2f5a1b9f9dfa9dd267fc0b516"
     }
    },
    {
     "data": {
      "text/html": [],
      "text/plain": [
       "<IPython.core.display.HTML object>"
      ]
     },
     "metadata": {
      "display_id": "948d422dcef1aafc2c6b492c4f2ed398"
     },
     "output_type": "display_data",
     "transient": {
      "display_id": "948d422dcef1aafc2c6b492c4f2ed398"
     }
    },
    {
     "data": {
      "text/html": [],
      "text/plain": [
       "<IPython.core.display.HTML object>"
      ]
     },
     "metadata": {
      "display_id": "136109585caaf933f01fa1c556225296"
     },
     "output_type": "display_data",
     "transient": {
      "display_id": "136109585caaf933f01fa1c556225296"
     }
    },
    {
     "data": {
      "text/html": [],
      "text/plain": [
       "<IPython.core.display.HTML object>"
      ]
     },
     "metadata": {
      "display_id": "717fd7680828252ccf65cc880d5abfc1"
     },
     "output_type": "display_data",
     "transient": {
      "display_id": "717fd7680828252ccf65cc880d5abfc1"
     }
    },
    {
     "data": {
      "text/html": [],
      "text/plain": [
       "<IPython.core.display.HTML object>"
      ]
     },
     "metadata": {
      "display_id": "d64047407b06257d42fce5475b2673f4"
     },
     "output_type": "display_data",
     "transient": {
      "display_id": "d64047407b06257d42fce5475b2673f4"
     }
    },
    {
     "data": {
      "text/html": [],
      "text/plain": [
       "<IPython.core.display.HTML object>"
      ]
     },
     "metadata": {
      "display_id": "fbd059f3366642f927706d573690bb9e"
     },
     "output_type": "display_data",
     "transient": {
      "display_id": "fbd059f3366642f927706d573690bb9e"
     }
    },
    {
     "data": {
      "text/html": [],
      "text/plain": [
       "<IPython.core.display.HTML object>"
      ]
     },
     "metadata": {
      "display_id": "e5fb70be9e9b8dac54a0786859e2e0ca"
     },
     "output_type": "display_data",
     "transient": {
      "display_id": "e5fb70be9e9b8dac54a0786859e2e0ca"
     }
    },
    {
     "data": {
      "text/html": [],
      "text/plain": [
       "<IPython.core.display.HTML object>"
      ]
     },
     "metadata": {
      "display_id": "052dbc6679f3fd7b79e14fceac711d95"
     },
     "output_type": "display_data",
     "transient": {
      "display_id": "052dbc6679f3fd7b79e14fceac711d95"
     }
    },
    {
     "data": {
      "text/html": [],
      "text/plain": [
       "<IPython.core.display.HTML object>"
      ]
     },
     "metadata": {
      "display_id": "5ed607e8c3fd1ca8ff70749363890f80"
     },
     "output_type": "display_data",
     "transient": {
      "display_id": "5ed607e8c3fd1ca8ff70749363890f80"
     }
    },
    {
     "data": {
      "text/html": [],
      "text/plain": [
       "<IPython.core.display.HTML object>"
      ]
     },
     "metadata": {
      "display_id": "c2856a5d06da01417ee19767957bdf94"
     },
     "output_type": "display_data",
     "transient": {
      "display_id": "c2856a5d06da01417ee19767957bdf94"
     }
    },
    {
     "data": {
      "text/html": [],
      "text/plain": [
       "<IPython.core.display.HTML object>"
      ]
     },
     "metadata": {
      "display_id": "34d0b31d1ae64c9880b0c9d405d8398d"
     },
     "output_type": "display_data",
     "transient": {
      "display_id": "34d0b31d1ae64c9880b0c9d405d8398d"
     }
    },
    {
     "data": {
      "text/html": [],
      "text/plain": [
       "<IPython.core.display.HTML object>"
      ]
     },
     "metadata": {
      "display_id": "ce5d5f279bbfe534f01654a128734a7a"
     },
     "output_type": "display_data",
     "transient": {
      "display_id": "ce5d5f279bbfe534f01654a128734a7a"
     }
    },
    {
     "data": {
      "text/html": [],
      "text/plain": [
       "<IPython.core.display.HTML object>"
      ]
     },
     "metadata": {
      "display_id": "db63b63500a61e02b9622278d45aab5b"
     },
     "output_type": "display_data",
     "transient": {
      "display_id": "db63b63500a61e02b9622278d45aab5b"
     }
    },
    {
     "data": {
      "text/html": [],
      "text/plain": [
       "<IPython.core.display.HTML object>"
      ]
     },
     "metadata": {
      "display_id": "3af92cb43297bbabc7b2bda575e5a541"
     },
     "output_type": "display_data",
     "transient": {
      "display_id": "3af92cb43297bbabc7b2bda575e5a541"
     }
    },
    {
     "data": {
      "text/html": [],
      "text/plain": [
       "<IPython.core.display.HTML object>"
      ]
     },
     "metadata": {
      "display_id": "18eb81c789f7715c5d4e2afff9cd0ff2"
     },
     "output_type": "display_data",
     "transient": {
      "display_id": "18eb81c789f7715c5d4e2afff9cd0ff2"
     }
    },
    {
     "data": {
      "text/html": [],
      "text/plain": [
       "<IPython.core.display.HTML object>"
      ]
     },
     "metadata": {
      "display_id": "c6294ea10135514ae4a082d7ce2b8e1a"
     },
     "output_type": "display_data",
     "transient": {
      "display_id": "c6294ea10135514ae4a082d7ce2b8e1a"
     }
    },
    {
     "data": {
      "text/html": [],
      "text/plain": [
       "<IPython.core.display.HTML object>"
      ]
     },
     "metadata": {
      "display_id": "7b6b9e7e7bb5fd412906e046b0e69429"
     },
     "output_type": "display_data",
     "transient": {
      "display_id": "7b6b9e7e7bb5fd412906e046b0e69429"
     }
    },
    {
     "data": {
      "text/html": [],
      "text/plain": [
       "<IPython.core.display.HTML object>"
      ]
     },
     "metadata": {
      "display_id": "1363f19640693999efcd6ce8d9fc2ca6"
     },
     "output_type": "display_data",
     "transient": {
      "display_id": "1363f19640693999efcd6ce8d9fc2ca6"
     }
    },
    {
     "data": {
      "text/html": [],
      "text/plain": [
       "<IPython.core.display.HTML object>"
      ]
     },
     "metadata": {
      "display_id": "bbb725fcc155ae19e16fcac49f6a76ed"
     },
     "output_type": "display_data",
     "transient": {
      "display_id": "bbb725fcc155ae19e16fcac49f6a76ed"
     }
    },
    {
     "data": {
      "text/html": [],
      "text/plain": [
       "<IPython.core.display.HTML object>"
      ]
     },
     "metadata": {
      "display_id": "042c46895dcb5c2f2d81c8aac3563a52"
     },
     "output_type": "display_data",
     "transient": {
      "display_id": "042c46895dcb5c2f2d81c8aac3563a52"
     }
    },
    {
     "data": {
      "text/html": [],
      "text/plain": [
       "<IPython.core.display.HTML object>"
      ]
     },
     "metadata": {
      "display_id": "6f5714342ae81f0cdf591c8d76d1d5b0"
     },
     "output_type": "display_data",
     "transient": {
      "display_id": "6f5714342ae81f0cdf591c8d76d1d5b0"
     }
    },
    {
     "data": {
      "text/html": [],
      "text/plain": [
       "<IPython.core.display.HTML object>"
      ]
     },
     "metadata": {
      "display_id": "f51080aa3c48894b0ee91430b6101c26"
     },
     "output_type": "display_data",
     "transient": {
      "display_id": "f51080aa3c48894b0ee91430b6101c26"
     }
    },
    {
     "data": {
      "text/html": [],
      "text/plain": [
       "<IPython.core.display.HTML object>"
      ]
     },
     "metadata": {
      "display_id": "1f3064945e4d195e3fcc007c07f9ecca"
     },
     "output_type": "display_data",
     "transient": {
      "display_id": "1f3064945e4d195e3fcc007c07f9ecca"
     }
    },
    {
     "data": {
      "text/html": [],
      "text/plain": [
       "<IPython.core.display.HTML object>"
      ]
     },
     "metadata": {
      "display_id": "6f10e9ab4afc8ad823fcb030a43f5191"
     },
     "output_type": "display_data",
     "transient": {
      "display_id": "6f10e9ab4afc8ad823fcb030a43f5191"
     }
    },
    {
     "data": {
      "text/html": [],
      "text/plain": [
       "<IPython.core.display.HTML object>"
      ]
     },
     "metadata": {
      "display_id": "40107516f2eb943ba48a6ecc9c2d8fad"
     },
     "output_type": "display_data",
     "transient": {
      "display_id": "40107516f2eb943ba48a6ecc9c2d8fad"
     }
    },
    {
     "data": {
      "text/html": [],
      "text/plain": [
       "<IPython.core.display.HTML object>"
      ]
     },
     "metadata": {
      "display_id": "3fe43c4f11e598f3d9492054515046c0"
     },
     "output_type": "display_data",
     "transient": {
      "display_id": "3fe43c4f11e598f3d9492054515046c0"
     }
    },
    {
     "data": {
      "text/html": [],
      "text/plain": [
       "<IPython.core.display.HTML object>"
      ]
     },
     "metadata": {
      "display_id": "eb5ef895c5f86a76d4660a5264d9ccb7"
     },
     "output_type": "display_data",
     "transient": {
      "display_id": "eb5ef895c5f86a76d4660a5264d9ccb7"
     }
    },
    {
     "data": {
      "text/html": [],
      "text/plain": [
       "<IPython.core.display.HTML object>"
      ]
     },
     "metadata": {
      "display_id": "f952941320d9cd950f8fea1d7727b653"
     },
     "output_type": "display_data",
     "transient": {
      "display_id": "f952941320d9cd950f8fea1d7727b653"
     }
    },
    {
     "data": {
      "text/html": [],
      "text/plain": [
       "<IPython.core.display.HTML object>"
      ]
     },
     "metadata": {
      "display_id": "286e241dc4ba984a141e4ec440bc1ca7"
     },
     "output_type": "display_data",
     "transient": {
      "display_id": "286e241dc4ba984a141e4ec440bc1ca7"
     }
    },
    {
     "data": {
      "text/html": [],
      "text/plain": [
       "<IPython.core.display.HTML object>"
      ]
     },
     "metadata": {
      "display_id": "8bef40f60f49588460101033c4854e32"
     },
     "output_type": "display_data",
     "transient": {
      "display_id": "8bef40f60f49588460101033c4854e32"
     }
    },
    {
     "data": {
      "text/html": [],
      "text/plain": [
       "<IPython.core.display.HTML object>"
      ]
     },
     "metadata": {
      "display_id": "6d3b5f39dfa4e99618dc7d64d8c5a1ef"
     },
     "output_type": "display_data",
     "transient": {
      "display_id": "6d3b5f39dfa4e99618dc7d64d8c5a1ef"
     }
    },
    {
     "data": {
      "text/html": [],
      "text/plain": [
       "<IPython.core.display.HTML object>"
      ]
     },
     "metadata": {
      "display_id": "49b16a99b30e935e20f5eafde7b81c46"
     },
     "output_type": "display_data",
     "transient": {
      "display_id": "49b16a99b30e935e20f5eafde7b81c46"
     }
    },
    {
     "data": {
      "text/html": [],
      "text/plain": [
       "<IPython.core.display.HTML object>"
      ]
     },
     "metadata": {
      "display_id": "d7c63b76468a0c47fb4c6dafe02a71fc"
     },
     "output_type": "display_data",
     "transient": {
      "display_id": "d7c63b76468a0c47fb4c6dafe02a71fc"
     }
    },
    {
     "data": {
      "text/html": [],
      "text/plain": [
       "<IPython.core.display.HTML object>"
      ]
     },
     "metadata": {
      "display_id": "cd0a1ca86b57063abb1338d65fc313ee"
     },
     "output_type": "display_data",
     "transient": {
      "display_id": "cd0a1ca86b57063abb1338d65fc313ee"
     }
    },
    {
     "data": {
      "text/html": [],
      "text/plain": [
       "<IPython.core.display.HTML object>"
      ]
     },
     "metadata": {
      "display_id": "aae76e83a09f8798d66717d7abdbadd9"
     },
     "output_type": "display_data",
     "transient": {
      "display_id": "aae76e83a09f8798d66717d7abdbadd9"
     }
    },
    {
     "data": {
      "text/html": [],
      "text/plain": [
       "<IPython.core.display.HTML object>"
      ]
     },
     "metadata": {
      "display_id": "b52772eb10b5195144be12c05f491c08"
     },
     "output_type": "display_data",
     "transient": {
      "display_id": "b52772eb10b5195144be12c05f491c08"
     }
    },
    {
     "data": {
      "text/html": [],
      "text/plain": [
       "<IPython.core.display.HTML object>"
      ]
     },
     "metadata": {
      "display_id": "80f16893fc184f9fb7daa28b1acaad95"
     },
     "output_type": "display_data",
     "transient": {
      "display_id": "80f16893fc184f9fb7daa28b1acaad95"
     }
    },
    {
     "data": {
      "text/html": [],
      "text/plain": [
       "<IPython.core.display.HTML object>"
      ]
     },
     "metadata": {
      "display_id": "1d46c4b0debfec6323eb025266455c0a"
     },
     "output_type": "display_data",
     "transient": {
      "display_id": "1d46c4b0debfec6323eb025266455c0a"
     }
    },
    {
     "data": {
      "text/html": [],
      "text/plain": [
       "<IPython.core.display.HTML object>"
      ]
     },
     "metadata": {
      "display_id": "fb90a44257e901335dbbc6f8d7ad0b88"
     },
     "output_type": "display_data",
     "transient": {
      "display_id": "fb90a44257e901335dbbc6f8d7ad0b88"
     }
    },
    {
     "data": {
      "text/html": [],
      "text/plain": [
       "<IPython.core.display.HTML object>"
      ]
     },
     "metadata": {
      "display_id": "815e88f689340b6be0c2d32057e563ba"
     },
     "output_type": "display_data",
     "transient": {
      "display_id": "815e88f689340b6be0c2d32057e563ba"
     }
    },
    {
     "data": {
      "text/html": [],
      "text/plain": [
       "<IPython.core.display.HTML object>"
      ]
     },
     "metadata": {
      "display_id": "b84cb02ddf76017accf6a8a1f0545fee"
     },
     "output_type": "display_data",
     "transient": {
      "display_id": "b84cb02ddf76017accf6a8a1f0545fee"
     }
    },
    {
     "data": {
      "text/html": [],
      "text/plain": [
       "<IPython.core.display.HTML object>"
      ]
     },
     "metadata": {
      "display_id": "b53e4942517f74f700f661310e312e1e"
     },
     "output_type": "display_data",
     "transient": {
      "display_id": "b53e4942517f74f700f661310e312e1e"
     }
    },
    {
     "data": {
      "text/html": [],
      "text/plain": [
       "<IPython.core.display.HTML object>"
      ]
     },
     "metadata": {
      "display_id": "00bd39b7082aa90c801b2f52899119fd"
     },
     "output_type": "display_data",
     "transient": {
      "display_id": "00bd39b7082aa90c801b2f52899119fd"
     }
    },
    {
     "data": {
      "text/html": [],
      "text/plain": [
       "<IPython.core.display.HTML object>"
      ]
     },
     "metadata": {
      "display_id": "d660d3cb7c53c968bf60842ee6cc1bd3"
     },
     "output_type": "display_data",
     "transient": {
      "display_id": "d660d3cb7c53c968bf60842ee6cc1bd3"
     }
    },
    {
     "data": {
      "text/html": [],
      "text/plain": [
       "<IPython.core.display.HTML object>"
      ]
     },
     "metadata": {
      "display_id": "1421f68f3222df9aecaf27e9ff92c5f4"
     },
     "output_type": "display_data",
     "transient": {
      "display_id": "1421f68f3222df9aecaf27e9ff92c5f4"
     }
    },
    {
     "data": {
      "text/html": [],
      "text/plain": [
       "<IPython.core.display.HTML object>"
      ]
     },
     "metadata": {
      "display_id": "e1b7c3ff6f678884aeb5f05a5188d7fc"
     },
     "output_type": "display_data",
     "transient": {
      "display_id": "e1b7c3ff6f678884aeb5f05a5188d7fc"
     }
    },
    {
     "data": {
      "text/html": [],
      "text/plain": [
       "<IPython.core.display.HTML object>"
      ]
     },
     "metadata": {
      "display_id": "ee505c966b66b3013716607399789237"
     },
     "output_type": "display_data",
     "transient": {
      "display_id": "ee505c966b66b3013716607399789237"
     }
    },
    {
     "data": {
      "text/html": [],
      "text/plain": [
       "<IPython.core.display.HTML object>"
      ]
     },
     "metadata": {
      "display_id": "9743fe17fda7c8b25c36b33bea393dde"
     },
     "output_type": "display_data",
     "transient": {
      "display_id": "9743fe17fda7c8b25c36b33bea393dde"
     }
    },
    {
     "data": {
      "text/html": [],
      "text/plain": [
       "<IPython.core.display.HTML object>"
      ]
     },
     "metadata": {
      "display_id": "885e0ca7df60da1f396d1b258bf1d1f3"
     },
     "output_type": "display_data",
     "transient": {
      "display_id": "885e0ca7df60da1f396d1b258bf1d1f3"
     }
    },
    {
     "data": {
      "text/html": [],
      "text/plain": [
       "<IPython.core.display.HTML object>"
      ]
     },
     "metadata": {
      "display_id": "2aaedf1a3c39e7cdc57e11172a22364d"
     },
     "output_type": "display_data",
     "transient": {
      "display_id": "2aaedf1a3c39e7cdc57e11172a22364d"
     }
    },
    {
     "data": {
      "text/html": [],
      "text/plain": [
       "<IPython.core.display.HTML object>"
      ]
     },
     "metadata": {
      "display_id": "959970d44d5fc258705cd00cf7a08d6c"
     },
     "output_type": "display_data",
     "transient": {
      "display_id": "959970d44d5fc258705cd00cf7a08d6c"
     }
    },
    {
     "data": {
      "text/html": [],
      "text/plain": [
       "<IPython.core.display.HTML object>"
      ]
     },
     "metadata": {
      "display_id": "9e9960adb9929ee1c0d75e627612dcd2"
     },
     "output_type": "display_data",
     "transient": {
      "display_id": "9e9960adb9929ee1c0d75e627612dcd2"
     }
    },
    {
     "data": {
      "text/html": [],
      "text/plain": [
       "<IPython.core.display.HTML object>"
      ]
     },
     "metadata": {
      "display_id": "97bd283b05ebe43254e50f20a479d838"
     },
     "output_type": "display_data",
     "transient": {
      "display_id": "97bd283b05ebe43254e50f20a479d838"
     }
    },
    {
     "data": {
      "text/html": [],
      "text/plain": [
       "<IPython.core.display.HTML object>"
      ]
     },
     "metadata": {
      "display_id": "15d097136fec6471c05553e9e2b506e3"
     },
     "output_type": "display_data",
     "transient": {
      "display_id": "15d097136fec6471c05553e9e2b506e3"
     }
    },
    {
     "data": {
      "text/html": [],
      "text/plain": [
       "<IPython.core.display.HTML object>"
      ]
     },
     "metadata": {
      "display_id": "e8ba7cdab8f275ad30bb7219052dd7e6"
     },
     "output_type": "display_data",
     "transient": {
      "display_id": "e8ba7cdab8f275ad30bb7219052dd7e6"
     }
    },
    {
     "data": {
      "text/html": [],
      "text/plain": [
       "<IPython.core.display.HTML object>"
      ]
     },
     "metadata": {
      "display_id": "1bcc70baca9ceb844d1fda7b4155985f"
     },
     "output_type": "display_data",
     "transient": {
      "display_id": "1bcc70baca9ceb844d1fda7b4155985f"
     }
    },
    {
     "data": {
      "text/html": [],
      "text/plain": [
       "<IPython.core.display.HTML object>"
      ]
     },
     "metadata": {
      "display_id": "232d5084ba99f9a47877301013fe9df3"
     },
     "output_type": "display_data",
     "transient": {
      "display_id": "232d5084ba99f9a47877301013fe9df3"
     }
    },
    {
     "data": {
      "text/html": [],
      "text/plain": [
       "<IPython.core.display.HTML object>"
      ]
     },
     "metadata": {
      "display_id": "22f98b73cbb0c57f7042516659c58210"
     },
     "output_type": "display_data",
     "transient": {
      "display_id": "22f98b73cbb0c57f7042516659c58210"
     }
    },
    {
     "data": {
      "text/html": [],
      "text/plain": [
       "<IPython.core.display.HTML object>"
      ]
     },
     "metadata": {
      "display_id": "4286d5178289f5f530ef9f1dcc98081b"
     },
     "output_type": "display_data",
     "transient": {
      "display_id": "4286d5178289f5f530ef9f1dcc98081b"
     }
    },
    {
     "data": {
      "text/html": [],
      "text/plain": [
       "<IPython.core.display.HTML object>"
      ]
     },
     "metadata": {
      "display_id": "81bc413938056375ffd49bb51110c8c5"
     },
     "output_type": "display_data",
     "transient": {
      "display_id": "81bc413938056375ffd49bb51110c8c5"
     }
    },
    {
     "data": {
      "text/html": [],
      "text/plain": [
       "<IPython.core.display.HTML object>"
      ]
     },
     "metadata": {
      "display_id": "e6d6ec9301c1ec7694d25c1dcf2fd91d"
     },
     "output_type": "display_data",
     "transient": {
      "display_id": "e6d6ec9301c1ec7694d25c1dcf2fd91d"
     }
    },
    {
     "data": {
      "text/html": [],
      "text/plain": [
       "<IPython.core.display.HTML object>"
      ]
     },
     "metadata": {
      "display_id": "75f43800974082ca9b5de4b1f4441464"
     },
     "output_type": "display_data",
     "transient": {
      "display_id": "75f43800974082ca9b5de4b1f4441464"
     }
    },
    {
     "data": {
      "text/html": [],
      "text/plain": [
       "<IPython.core.display.HTML object>"
      ]
     },
     "metadata": {
      "display_id": "6eadb8ca9d16c7748e72faaee2489d78"
     },
     "output_type": "display_data",
     "transient": {
      "display_id": "6eadb8ca9d16c7748e72faaee2489d78"
     }
    },
    {
     "data": {
      "text/html": [],
      "text/plain": [
       "<IPython.core.display.HTML object>"
      ]
     },
     "metadata": {
      "display_id": "a8bb34211aa937b8a765f9427928a9e1"
     },
     "output_type": "display_data",
     "transient": {
      "display_id": "a8bb34211aa937b8a765f9427928a9e1"
     }
    },
    {
     "data": {
      "text/html": [],
      "text/plain": [
       "<IPython.core.display.HTML object>"
      ]
     },
     "metadata": {
      "display_id": "5af196c0047745f141fb722bd6ec0801"
     },
     "output_type": "display_data",
     "transient": {
      "display_id": "5af196c0047745f141fb722bd6ec0801"
     }
    },
    {
     "data": {
      "text/html": [],
      "text/plain": [
       "<IPython.core.display.HTML object>"
      ]
     },
     "metadata": {
      "display_id": "63483c42724ec9892254a05c95cfbb61"
     },
     "output_type": "display_data",
     "transient": {
      "display_id": "63483c42724ec9892254a05c95cfbb61"
     }
    },
    {
     "data": {
      "text/html": [],
      "text/plain": [
       "<IPython.core.display.HTML object>"
      ]
     },
     "metadata": {
      "display_id": "f14770fe42efbc4e30449eb2a6d3fddf"
     },
     "output_type": "display_data",
     "transient": {
      "display_id": "f14770fe42efbc4e30449eb2a6d3fddf"
     }
    },
    {
     "data": {
      "text/html": [],
      "text/plain": [
       "<IPython.core.display.HTML object>"
      ]
     },
     "metadata": {
      "display_id": "7d0760dd7faf203f1c35d98b39b80e59"
     },
     "output_type": "display_data",
     "transient": {
      "display_id": "7d0760dd7faf203f1c35d98b39b80e59"
     }
    },
    {
     "data": {
      "text/html": [],
      "text/plain": [
       "<IPython.core.display.HTML object>"
      ]
     },
     "metadata": {
      "display_id": "f52e259fbc188320fed171cdfc7988ca"
     },
     "output_type": "display_data",
     "transient": {
      "display_id": "f52e259fbc188320fed171cdfc7988ca"
     }
    },
    {
     "data": {
      "text/html": [],
      "text/plain": [
       "<IPython.core.display.HTML object>"
      ]
     },
     "metadata": {
      "display_id": "a3e076f78627487b0970c8ce876ef893"
     },
     "output_type": "display_data",
     "transient": {
      "display_id": "a3e076f78627487b0970c8ce876ef893"
     }
    },
    {
     "data": {
      "text/html": [],
      "text/plain": [
       "<IPython.core.display.HTML object>"
      ]
     },
     "metadata": {
      "display_id": "6208dbabb304ee43d032e60aea398eb3"
     },
     "output_type": "display_data",
     "transient": {
      "display_id": "6208dbabb304ee43d032e60aea398eb3"
     }
    },
    {
     "data": {
      "text/html": [],
      "text/plain": [
       "<IPython.core.display.HTML object>"
      ]
     },
     "metadata": {
      "display_id": "87e20ba07632195add77c45c6422f7fc"
     },
     "output_type": "display_data",
     "transient": {
      "display_id": "87e20ba07632195add77c45c6422f7fc"
     }
    },
    {
     "data": {
      "text/html": [],
      "text/plain": [
       "<IPython.core.display.HTML object>"
      ]
     },
     "metadata": {
      "display_id": "b25b943583a118df562713922cb197d4"
     },
     "output_type": "display_data",
     "transient": {
      "display_id": "b25b943583a118df562713922cb197d4"
     }
    },
    {
     "data": {
      "text/html": [],
      "text/plain": [
       "<IPython.core.display.HTML object>"
      ]
     },
     "metadata": {
      "display_id": "581258e085f27d09f6e58de24619dce2"
     },
     "output_type": "display_data",
     "transient": {
      "display_id": "581258e085f27d09f6e58de24619dce2"
     }
    },
    {
     "data": {
      "text/html": [],
      "text/plain": [
       "<IPython.core.display.HTML object>"
      ]
     },
     "metadata": {
      "display_id": "5b6fc7459eff363803f57e7931e58081"
     },
     "output_type": "display_data",
     "transient": {
      "display_id": "5b6fc7459eff363803f57e7931e58081"
     }
    },
    {
     "data": {
      "text/html": [],
      "text/plain": [
       "<IPython.core.display.HTML object>"
      ]
     },
     "metadata": {
      "display_id": "b3d5e55fe37a0cc97fa78db156bcdedc"
     },
     "output_type": "display_data",
     "transient": {
      "display_id": "b3d5e55fe37a0cc97fa78db156bcdedc"
     }
    },
    {
     "data": {
      "text/html": [],
      "text/plain": [
       "<IPython.core.display.HTML object>"
      ]
     },
     "metadata": {
      "display_id": "30a9c7cbfba9472cac0376845604c82b"
     },
     "output_type": "display_data",
     "transient": {
      "display_id": "30a9c7cbfba9472cac0376845604c82b"
     }
    },
    {
     "data": {
      "text/html": [],
      "text/plain": [
       "<IPython.core.display.HTML object>"
      ]
     },
     "metadata": {
      "display_id": "71455caa2b546ba1126d0d88bf3b4a43"
     },
     "output_type": "display_data",
     "transient": {
      "display_id": "71455caa2b546ba1126d0d88bf3b4a43"
     }
    },
    {
     "data": {
      "text/html": [],
      "text/plain": [
       "<IPython.core.display.HTML object>"
      ]
     },
     "metadata": {
      "display_id": "4c60f10ca32792234b5aacb07d6910a5"
     },
     "output_type": "display_data",
     "transient": {
      "display_id": "4c60f10ca32792234b5aacb07d6910a5"
     }
    },
    {
     "data": {
      "text/html": [],
      "text/plain": [
       "<IPython.core.display.HTML object>"
      ]
     },
     "metadata": {
      "display_id": "4a42445901bab62eb6853df9809c8bb5"
     },
     "output_type": "display_data",
     "transient": {
      "display_id": "4a42445901bab62eb6853df9809c8bb5"
     }
    },
    {
     "data": {
      "text/html": [],
      "text/plain": [
       "<IPython.core.display.HTML object>"
      ]
     },
     "metadata": {
      "display_id": "cb10f6cfef373aeb5b7e6207e98d1d1e"
     },
     "output_type": "display_data",
     "transient": {
      "display_id": "cb10f6cfef373aeb5b7e6207e98d1d1e"
     }
    },
    {
     "data": {
      "text/html": [],
      "text/plain": [
       "<IPython.core.display.HTML object>"
      ]
     },
     "metadata": {
      "display_id": "38d5493be4ae27c657cad99d83b571bd"
     },
     "output_type": "display_data",
     "transient": {
      "display_id": "38d5493be4ae27c657cad99d83b571bd"
     }
    },
    {
     "data": {
      "text/html": [],
      "text/plain": [
       "<IPython.core.display.HTML object>"
      ]
     },
     "metadata": {
      "display_id": "891fc9d3407437d97bb33a4dd0977d63"
     },
     "output_type": "display_data",
     "transient": {
      "display_id": "891fc9d3407437d97bb33a4dd0977d63"
     }
    },
    {
     "data": {
      "text/html": [],
      "text/plain": [
       "<IPython.core.display.HTML object>"
      ]
     },
     "metadata": {
      "display_id": "0322dd21733fd99144e3f7aff0a03431"
     },
     "output_type": "display_data",
     "transient": {
      "display_id": "0322dd21733fd99144e3f7aff0a03431"
     }
    },
    {
     "data": {
      "text/html": [],
      "text/plain": [
       "<IPython.core.display.HTML object>"
      ]
     },
     "metadata": {
      "display_id": "79bde6d96a10d38410f0f657c1816f47"
     },
     "output_type": "display_data",
     "transient": {
      "display_id": "79bde6d96a10d38410f0f657c1816f47"
     }
    },
    {
     "data": {
      "text/html": [],
      "text/plain": [
       "<IPython.core.display.HTML object>"
      ]
     },
     "metadata": {
      "display_id": "eedfc3c915740aa8d21c601e1019f38d"
     },
     "output_type": "display_data",
     "transient": {
      "display_id": "eedfc3c915740aa8d21c601e1019f38d"
     }
    },
    {
     "data": {
      "text/html": [],
      "text/plain": [
       "<IPython.core.display.HTML object>"
      ]
     },
     "metadata": {
      "display_id": "5a95ba98bd006370f081fe4a9e9044f5"
     },
     "output_type": "display_data",
     "transient": {
      "display_id": "5a95ba98bd006370f081fe4a9e9044f5"
     }
    },
    {
     "data": {
      "text/html": [],
      "text/plain": [
       "<IPython.core.display.HTML object>"
      ]
     },
     "metadata": {
      "display_id": "69ed0c464495e9da7f4c4b994f13ee89"
     },
     "output_type": "display_data",
     "transient": {
      "display_id": "69ed0c464495e9da7f4c4b994f13ee89"
     }
    },
    {
     "data": {
      "text/html": [],
      "text/plain": [
       "<IPython.core.display.HTML object>"
      ]
     },
     "metadata": {
      "display_id": "d2fa6c7266e9bc225c7f0a84022dd0d5"
     },
     "output_type": "display_data",
     "transient": {
      "display_id": "d2fa6c7266e9bc225c7f0a84022dd0d5"
     }
    },
    {
     "data": {
      "text/html": [],
      "text/plain": [
       "<IPython.core.display.HTML object>"
      ]
     },
     "metadata": {
      "display_id": "a5d765c17ef426b77a6f68d4ef39b3cd"
     },
     "output_type": "display_data",
     "transient": {
      "display_id": "a5d765c17ef426b77a6f68d4ef39b3cd"
     }
    },
    {
     "data": {
      "text/html": [],
      "text/plain": [
       "<IPython.core.display.HTML object>"
      ]
     },
     "metadata": {
      "display_id": "58acb010f7ad4f31eaa02973ba0de042"
     },
     "output_type": "display_data",
     "transient": {
      "display_id": "58acb010f7ad4f31eaa02973ba0de042"
     }
    },
    {
     "data": {
      "text/html": [],
      "text/plain": [
       "<IPython.core.display.HTML object>"
      ]
     },
     "metadata": {
      "display_id": "8cd06ec8399aa314768c1806e0b96daf"
     },
     "output_type": "display_data",
     "transient": {
      "display_id": "8cd06ec8399aa314768c1806e0b96daf"
     }
    },
    {
     "data": {
      "text/html": [],
      "text/plain": [
       "<IPython.core.display.HTML object>"
      ]
     },
     "metadata": {
      "display_id": "d9087881b3f25711e9e1626525fdc40c"
     },
     "output_type": "display_data",
     "transient": {
      "display_id": "d9087881b3f25711e9e1626525fdc40c"
     }
    },
    {
     "data": {
      "text/html": [],
      "text/plain": [
       "<IPython.core.display.HTML object>"
      ]
     },
     "metadata": {
      "display_id": "fc3a1e2e1a3d21555e3e2de921ab5b79"
     },
     "output_type": "display_data",
     "transient": {
      "display_id": "fc3a1e2e1a3d21555e3e2de921ab5b79"
     }
    },
    {
     "data": {
      "text/html": [],
      "text/plain": [
       "<IPython.core.display.HTML object>"
      ]
     },
     "metadata": {
      "display_id": "0606ff27c44950b242a8d7d5d405515f"
     },
     "output_type": "display_data",
     "transient": {
      "display_id": "0606ff27c44950b242a8d7d5d405515f"
     }
    },
    {
     "data": {
      "text/html": [],
      "text/plain": [
       "<IPython.core.display.HTML object>"
      ]
     },
     "metadata": {
      "display_id": "676ba8116e4a5e2c197e5c61165474e8"
     },
     "output_type": "display_data",
     "transient": {
      "display_id": "676ba8116e4a5e2c197e5c61165474e8"
     }
    },
    {
     "data": {
      "text/html": [],
      "text/plain": [
       "<IPython.core.display.HTML object>"
      ]
     },
     "metadata": {
      "display_id": "b0e4955a9e4ee41eca0d6202266f1d4a"
     },
     "output_type": "display_data",
     "transient": {
      "display_id": "b0e4955a9e4ee41eca0d6202266f1d4a"
     }
    },
    {
     "data": {
      "text/html": [],
      "text/plain": [
       "<IPython.core.display.HTML object>"
      ]
     },
     "metadata": {
      "display_id": "f6c40bb364746206679fe2162f659730"
     },
     "output_type": "display_data",
     "transient": {
      "display_id": "f6c40bb364746206679fe2162f659730"
     }
    },
    {
     "data": {
      "text/html": [],
      "text/plain": [
       "<IPython.core.display.HTML object>"
      ]
     },
     "metadata": {
      "display_id": "80cda520db865073096d7c15b86968aa"
     },
     "output_type": "display_data",
     "transient": {
      "display_id": "80cda520db865073096d7c15b86968aa"
     }
    },
    {
     "data": {
      "text/html": [],
      "text/plain": [
       "<IPython.core.display.HTML object>"
      ]
     },
     "metadata": {
      "display_id": "aad3ab54dfbe50f5f324650b65134cd8"
     },
     "output_type": "display_data",
     "transient": {
      "display_id": "aad3ab54dfbe50f5f324650b65134cd8"
     }
    },
    {
     "data": {
      "text/html": [],
      "text/plain": [
       "<IPython.core.display.HTML object>"
      ]
     },
     "metadata": {
      "display_id": "79abb77a230818f8a1caea8199371352"
     },
     "output_type": "display_data",
     "transient": {
      "display_id": "79abb77a230818f8a1caea8199371352"
     }
    },
    {
     "data": {
      "text/html": [],
      "text/plain": [
       "<IPython.core.display.HTML object>"
      ]
     },
     "metadata": {
      "display_id": "103e56f849a5c6fccc2901d158529c8a"
     },
     "output_type": "display_data",
     "transient": {
      "display_id": "103e56f849a5c6fccc2901d158529c8a"
     }
    },
    {
     "data": {
      "text/html": [],
      "text/plain": [
       "<IPython.core.display.HTML object>"
      ]
     },
     "metadata": {
      "display_id": "038097716125a9436dfe29d3fa741200"
     },
     "output_type": "display_data",
     "transient": {
      "display_id": "038097716125a9436dfe29d3fa741200"
     }
    },
    {
     "data": {
      "text/html": [],
      "text/plain": [
       "<IPython.core.display.HTML object>"
      ]
     },
     "metadata": {
      "display_id": "0620c6eaec5426c7a0247b5a76a566e5"
     },
     "output_type": "display_data",
     "transient": {
      "display_id": "0620c6eaec5426c7a0247b5a76a566e5"
     }
    },
    {
     "data": {
      "text/html": [],
      "text/plain": [
       "<IPython.core.display.HTML object>"
      ]
     },
     "metadata": {
      "display_id": "b49c46f01964a30801c2474bbbf06fe6"
     },
     "output_type": "display_data",
     "transient": {
      "display_id": "b49c46f01964a30801c2474bbbf06fe6"
     }
    },
    {
     "data": {
      "text/html": [],
      "text/plain": [
       "<IPython.core.display.HTML object>"
      ]
     },
     "metadata": {
      "display_id": "ebbdf1ab2b5858b2766d8a783a470e2d"
     },
     "output_type": "display_data",
     "transient": {
      "display_id": "ebbdf1ab2b5858b2766d8a783a470e2d"
     }
    },
    {
     "data": {
      "text/html": [],
      "text/plain": [
       "<IPython.core.display.HTML object>"
      ]
     },
     "metadata": {
      "display_id": "868d39e22ab5b269b119b2cb81b4014f"
     },
     "output_type": "display_data",
     "transient": {
      "display_id": "868d39e22ab5b269b119b2cb81b4014f"
     }
    },
    {
     "data": {
      "text/html": [],
      "text/plain": [
       "<IPython.core.display.HTML object>"
      ]
     },
     "metadata": {
      "display_id": "3e64a03b527a88009f6599037934e6cf"
     },
     "output_type": "display_data",
     "transient": {
      "display_id": "3e64a03b527a88009f6599037934e6cf"
     }
    },
    {
     "data": {
      "text/html": [],
      "text/plain": [
       "<IPython.core.display.HTML object>"
      ]
     },
     "metadata": {
      "display_id": "fc4918adc1ce638ec0b3eea2e4d27338"
     },
     "output_type": "display_data",
     "transient": {
      "display_id": "fc4918adc1ce638ec0b3eea2e4d27338"
     }
    },
    {
     "data": {
      "text/html": [],
      "text/plain": [
       "<IPython.core.display.HTML object>"
      ]
     },
     "metadata": {
      "display_id": "d84b55a0e5f218a0bf1b6b3828d6f9a7"
     },
     "output_type": "display_data",
     "transient": {
      "display_id": "d84b55a0e5f218a0bf1b6b3828d6f9a7"
     }
    },
    {
     "data": {
      "text/html": [],
      "text/plain": [
       "<IPython.core.display.HTML object>"
      ]
     },
     "metadata": {
      "display_id": "de9de0a9907c4d2b63375e4cc766ddcd"
     },
     "output_type": "display_data",
     "transient": {
      "display_id": "de9de0a9907c4d2b63375e4cc766ddcd"
     }
    },
    {
     "data": {
      "text/html": [],
      "text/plain": [
       "<IPython.core.display.HTML object>"
      ]
     },
     "metadata": {
      "display_id": "88a2bcd042c20aafe8800eec81cb8314"
     },
     "output_type": "display_data",
     "transient": {
      "display_id": "88a2bcd042c20aafe8800eec81cb8314"
     }
    },
    {
     "data": {
      "text/html": [],
      "text/plain": [
       "<IPython.core.display.HTML object>"
      ]
     },
     "metadata": {
      "display_id": "8dd5c4c95400b13a138e12ce1da02ed2"
     },
     "output_type": "display_data",
     "transient": {
      "display_id": "8dd5c4c95400b13a138e12ce1da02ed2"
     }
    },
    {
     "data": {
      "text/html": [],
      "text/plain": [
       "<IPython.core.display.HTML object>"
      ]
     },
     "metadata": {
      "display_id": "f8905a4ced41636297cf6338cc0d8f47"
     },
     "output_type": "display_data",
     "transient": {
      "display_id": "f8905a4ced41636297cf6338cc0d8f47"
     }
    },
    {
     "data": {
      "text/html": [],
      "text/plain": [
       "<IPython.core.display.HTML object>"
      ]
     },
     "metadata": {
      "display_id": "d910cc14edf2ef47945dae5e7907a16d"
     },
     "output_type": "display_data",
     "transient": {
      "display_id": "d910cc14edf2ef47945dae5e7907a16d"
     }
    },
    {
     "data": {
      "text/html": [],
      "text/plain": [
       "<IPython.core.display.HTML object>"
      ]
     },
     "metadata": {
      "display_id": "8969fa06d9abefb52742ff645a0b2890"
     },
     "output_type": "display_data",
     "transient": {
      "display_id": "8969fa06d9abefb52742ff645a0b2890"
     }
    },
    {
     "data": {
      "text/html": [],
      "text/plain": [
       "<IPython.core.display.HTML object>"
      ]
     },
     "metadata": {
      "display_id": "c595a88d27c12da8e702b52f6195788f"
     },
     "output_type": "display_data",
     "transient": {
      "display_id": "c595a88d27c12da8e702b52f6195788f"
     }
    },
    {
     "data": {
      "text/html": [],
      "text/plain": [
       "<IPython.core.display.HTML object>"
      ]
     },
     "metadata": {
      "display_id": "6949234626e2460924184a44dbd036b5"
     },
     "output_type": "display_data",
     "transient": {
      "display_id": "6949234626e2460924184a44dbd036b5"
     }
    },
    {
     "data": {
      "text/html": [],
      "text/plain": [
       "<IPython.core.display.HTML object>"
      ]
     },
     "metadata": {
      "display_id": "c2a07719e8433e0610639e81eb238167"
     },
     "output_type": "display_data",
     "transient": {
      "display_id": "c2a07719e8433e0610639e81eb238167"
     }
    },
    {
     "data": {
      "text/html": [],
      "text/plain": [
       "<IPython.core.display.HTML object>"
      ]
     },
     "metadata": {
      "display_id": "ad8f79066d3a101b4bcb835584ed6d2e"
     },
     "output_type": "display_data",
     "transient": {
      "display_id": "ad8f79066d3a101b4bcb835584ed6d2e"
     }
    },
    {
     "data": {
      "text/html": [],
      "text/plain": [
       "<IPython.core.display.HTML object>"
      ]
     },
     "metadata": {
      "display_id": "0e2be56307ca9404e98e3b835b1c4533"
     },
     "output_type": "display_data",
     "transient": {
      "display_id": "0e2be56307ca9404e98e3b835b1c4533"
     }
    },
    {
     "data": {
      "text/html": [],
      "text/plain": [
       "<IPython.core.display.HTML object>"
      ]
     },
     "metadata": {
      "display_id": "27e932386a9c03b3cf2db22c56f967f5"
     },
     "output_type": "display_data",
     "transient": {
      "display_id": "27e932386a9c03b3cf2db22c56f967f5"
     }
    },
    {
     "data": {
      "text/html": [],
      "text/plain": [
       "<IPython.core.display.HTML object>"
      ]
     },
     "metadata": {
      "display_id": "5cbcae0e5683cdc849d5252192ca123d"
     },
     "output_type": "display_data",
     "transient": {
      "display_id": "5cbcae0e5683cdc849d5252192ca123d"
     }
    },
    {
     "data": {
      "text/html": [],
      "text/plain": [
       "<IPython.core.display.HTML object>"
      ]
     },
     "metadata": {
      "display_id": "c56a2ce7d9271ee35f163e668c53bac1"
     },
     "output_type": "display_data",
     "transient": {
      "display_id": "c56a2ce7d9271ee35f163e668c53bac1"
     }
    },
    {
     "data": {
      "text/html": [],
      "text/plain": [
       "<IPython.core.display.HTML object>"
      ]
     },
     "metadata": {
      "display_id": "9595d63b78f92bf2b9771773f50754d9"
     },
     "output_type": "display_data",
     "transient": {
      "display_id": "9595d63b78f92bf2b9771773f50754d9"
     }
    },
    {
     "data": {
      "text/html": [],
      "text/plain": [
       "<IPython.core.display.HTML object>"
      ]
     },
     "metadata": {
      "display_id": "2acea7e1f9ffb71968a2d86301632f84"
     },
     "output_type": "display_data",
     "transient": {
      "display_id": "2acea7e1f9ffb71968a2d86301632f84"
     }
    },
    {
     "data": {
      "text/html": [],
      "text/plain": [
       "<IPython.core.display.HTML object>"
      ]
     },
     "metadata": {
      "display_id": "10e445b363866a4e9e203c1ac2fa43fe"
     },
     "output_type": "display_data",
     "transient": {
      "display_id": "10e445b363866a4e9e203c1ac2fa43fe"
     }
    },
    {
     "data": {
      "text/html": [],
      "text/plain": [
       "<IPython.core.display.HTML object>"
      ]
     },
     "metadata": {
      "display_id": "026738dcf601945638892e4b7eddcdd3"
     },
     "output_type": "display_data",
     "transient": {
      "display_id": "026738dcf601945638892e4b7eddcdd3"
     }
    },
    {
     "data": {
      "text/html": [],
      "text/plain": [
       "<IPython.core.display.HTML object>"
      ]
     },
     "metadata": {
      "display_id": "7925096e4be2acb6aa4f68521a5764b3"
     },
     "output_type": "display_data",
     "transient": {
      "display_id": "7925096e4be2acb6aa4f68521a5764b3"
     }
    },
    {
     "data": {
      "text/html": [],
      "text/plain": [
       "<IPython.core.display.HTML object>"
      ]
     },
     "metadata": {
      "display_id": "d7c415712175e7a27fd2c7f3f051d710"
     },
     "output_type": "display_data",
     "transient": {
      "display_id": "d7c415712175e7a27fd2c7f3f051d710"
     }
    },
    {
     "data": {
      "text/html": [],
      "text/plain": [
       "<IPython.core.display.HTML object>"
      ]
     },
     "metadata": {
      "display_id": "21384e8a6915cea9f1754da84922965f"
     },
     "output_type": "display_data",
     "transient": {
      "display_id": "21384e8a6915cea9f1754da84922965f"
     }
    },
    {
     "data": {
      "text/html": [],
      "text/plain": [
       "<IPython.core.display.HTML object>"
      ]
     },
     "metadata": {
      "display_id": "000d01a05613a62e36fdbd85b93998eb"
     },
     "output_type": "display_data",
     "transient": {
      "display_id": "000d01a05613a62e36fdbd85b93998eb"
     }
    },
    {
     "data": {
      "text/html": [],
      "text/plain": [
       "<IPython.core.display.HTML object>"
      ]
     },
     "metadata": {
      "display_id": "d850e78f39c4757acd20f8072839a578"
     },
     "output_type": "display_data",
     "transient": {
      "display_id": "d850e78f39c4757acd20f8072839a578"
     }
    },
    {
     "data": {
      "text/html": [],
      "text/plain": [
       "<IPython.core.display.HTML object>"
      ]
     },
     "metadata": {
      "display_id": "45978c7ed6b1fe51f0d08a6ac4778218"
     },
     "output_type": "display_data",
     "transient": {
      "display_id": "45978c7ed6b1fe51f0d08a6ac4778218"
     }
    },
    {
     "data": {
      "text/html": [],
      "text/plain": [
       "<IPython.core.display.HTML object>"
      ]
     },
     "metadata": {
      "display_id": "1fd4524a32342c3954e9c0d1ca9fedd5"
     },
     "output_type": "display_data",
     "transient": {
      "display_id": "1fd4524a32342c3954e9c0d1ca9fedd5"
     }
    },
    {
     "data": {
      "text/html": [],
      "text/plain": [
       "<IPython.core.display.HTML object>"
      ]
     },
     "metadata": {
      "display_id": "5a44b65c99b672e13d31421b05ca5560"
     },
     "output_type": "display_data",
     "transient": {
      "display_id": "5a44b65c99b672e13d31421b05ca5560"
     }
    },
    {
     "data": {
      "text/html": [],
      "text/plain": [
       "<IPython.core.display.HTML object>"
      ]
     },
     "metadata": {
      "display_id": "d49f70c2ee1b75091d6921ab6fd365ac"
     },
     "output_type": "display_data",
     "transient": {
      "display_id": "d49f70c2ee1b75091d6921ab6fd365ac"
     }
    },
    {
     "data": {
      "text/html": [],
      "text/plain": [
       "<IPython.core.display.HTML object>"
      ]
     },
     "metadata": {
      "display_id": "87a13836a57a78f75cffb1e22c436f8c"
     },
     "output_type": "display_data",
     "transient": {
      "display_id": "87a13836a57a78f75cffb1e22c436f8c"
     }
    },
    {
     "data": {
      "text/html": [],
      "text/plain": [
       "<IPython.core.display.HTML object>"
      ]
     },
     "metadata": {
      "display_id": "338d8bc3e43e181d59359c22e2c034e7"
     },
     "output_type": "display_data",
     "transient": {
      "display_id": "338d8bc3e43e181d59359c22e2c034e7"
     }
    },
    {
     "data": {
      "text/html": [],
      "text/plain": [
       "<IPython.core.display.HTML object>"
      ]
     },
     "metadata": {
      "display_id": "f82f9fcf87419c9aa214b013d58365e9"
     },
     "output_type": "display_data",
     "transient": {
      "display_id": "f82f9fcf87419c9aa214b013d58365e9"
     }
    },
    {
     "data": {
      "text/html": [],
      "text/plain": [
       "<IPython.core.display.HTML object>"
      ]
     },
     "metadata": {
      "display_id": "1ff2ffda9d258f3c559680b000801c13"
     },
     "output_type": "display_data",
     "transient": {
      "display_id": "1ff2ffda9d258f3c559680b000801c13"
     }
    },
    {
     "data": {
      "text/html": [],
      "text/plain": [
       "<IPython.core.display.HTML object>"
      ]
     },
     "metadata": {
      "display_id": "7fe09dd1721800114fde45619f497829"
     },
     "output_type": "display_data",
     "transient": {
      "display_id": "7fe09dd1721800114fde45619f497829"
     }
    },
    {
     "data": {
      "text/html": [],
      "text/plain": [
       "<IPython.core.display.HTML object>"
      ]
     },
     "metadata": {
      "display_id": "d1fe51bfd04dfb7482b9b24ec6597ec5"
     },
     "output_type": "display_data",
     "transient": {
      "display_id": "d1fe51bfd04dfb7482b9b24ec6597ec5"
     }
    },
    {
     "data": {
      "text/html": [],
      "text/plain": [
       "<IPython.core.display.HTML object>"
      ]
     },
     "metadata": {
      "display_id": "a916cc0c4c6200ca859ab81678e9c4bb"
     },
     "output_type": "display_data",
     "transient": {
      "display_id": "a916cc0c4c6200ca859ab81678e9c4bb"
     }
    },
    {
     "data": {
      "text/html": [],
      "text/plain": [
       "<IPython.core.display.HTML object>"
      ]
     },
     "metadata": {
      "display_id": "4852f638e507523b9571aed47e994474"
     },
     "output_type": "display_data",
     "transient": {
      "display_id": "4852f638e507523b9571aed47e994474"
     }
    },
    {
     "data": {
      "text/html": [],
      "text/plain": [
       "<IPython.core.display.HTML object>"
      ]
     },
     "metadata": {
      "display_id": "9ec6921d0e55ef2fd57e073c6c43dd0a"
     },
     "output_type": "display_data",
     "transient": {
      "display_id": "9ec6921d0e55ef2fd57e073c6c43dd0a"
     }
    },
    {
     "data": {
      "text/html": [],
      "text/plain": [
       "<IPython.core.display.HTML object>"
      ]
     },
     "metadata": {
      "display_id": "2b250d87700bfafb795a27af7a45a259"
     },
     "output_type": "display_data",
     "transient": {
      "display_id": "2b250d87700bfafb795a27af7a45a259"
     }
    },
    {
     "data": {
      "text/html": [],
      "text/plain": [
       "<IPython.core.display.HTML object>"
      ]
     },
     "metadata": {
      "display_id": "bbd2a609b2d49aa2707bd2e23d00b153"
     },
     "output_type": "display_data",
     "transient": {
      "display_id": "bbd2a609b2d49aa2707bd2e23d00b153"
     }
    },
    {
     "data": {
      "text/html": [],
      "text/plain": [
       "<IPython.core.display.HTML object>"
      ]
     },
     "metadata": {
      "display_id": "11236815ad84ce0686ae07072da1c121"
     },
     "output_type": "display_data",
     "transient": {
      "display_id": "11236815ad84ce0686ae07072da1c121"
     }
    },
    {
     "data": {
      "text/html": [],
      "text/plain": [
       "<IPython.core.display.HTML object>"
      ]
     },
     "metadata": {
      "display_id": "a5fe1c0a8153539922bde637837e67bc"
     },
     "output_type": "display_data",
     "transient": {
      "display_id": "a5fe1c0a8153539922bde637837e67bc"
     }
    },
    {
     "data": {
      "text/html": [],
      "text/plain": [
       "<IPython.core.display.HTML object>"
      ]
     },
     "metadata": {
      "display_id": "363a69dd0555ec994ac44cb6f002927a"
     },
     "output_type": "display_data",
     "transient": {
      "display_id": "363a69dd0555ec994ac44cb6f002927a"
     }
    },
    {
     "data": {
      "text/html": [],
      "text/plain": [
       "<IPython.core.display.HTML object>"
      ]
     },
     "metadata": {
      "display_id": "e9ffe9fdbfd422ab3ce6ab5010c184e6"
     },
     "output_type": "display_data",
     "transient": {
      "display_id": "e9ffe9fdbfd422ab3ce6ab5010c184e6"
     }
    },
    {
     "data": {
      "text/html": [],
      "text/plain": [
       "<IPython.core.display.HTML object>"
      ]
     },
     "metadata": {
      "display_id": "c8bb08fb8eac6874934b7fdc97135813"
     },
     "output_type": "display_data",
     "transient": {
      "display_id": "c8bb08fb8eac6874934b7fdc97135813"
     }
    },
    {
     "data": {
      "text/html": [],
      "text/plain": [
       "<IPython.core.display.HTML object>"
      ]
     },
     "metadata": {
      "display_id": "c9b8cef0fa1dc1beac15faf38d8c76b5"
     },
     "output_type": "display_data",
     "transient": {
      "display_id": "c9b8cef0fa1dc1beac15faf38d8c76b5"
     }
    },
    {
     "data": {
      "text/html": [],
      "text/plain": [
       "<IPython.core.display.HTML object>"
      ]
     },
     "metadata": {
      "display_id": "bf334147b03dab6995af082805541335"
     },
     "output_type": "display_data",
     "transient": {
      "display_id": "bf334147b03dab6995af082805541335"
     }
    },
    {
     "data": {
      "text/html": [],
      "text/plain": [
       "<IPython.core.display.HTML object>"
      ]
     },
     "metadata": {
      "display_id": "5f612d9060055e1b3455236fe42e0682"
     },
     "output_type": "display_data",
     "transient": {
      "display_id": "5f612d9060055e1b3455236fe42e0682"
     }
    },
    {
     "data": {
      "text/html": [],
      "text/plain": [
       "<IPython.core.display.HTML object>"
      ]
     },
     "metadata": {
      "display_id": "43a3bf62d919b8fb184fdc82b210b2b8"
     },
     "output_type": "display_data",
     "transient": {
      "display_id": "43a3bf62d919b8fb184fdc82b210b2b8"
     }
    },
    {
     "data": {
      "text/html": [],
      "text/plain": [
       "<IPython.core.display.HTML object>"
      ]
     },
     "metadata": {
      "display_id": "185c39ebe859ca3e81f4dee44412c00e"
     },
     "output_type": "display_data",
     "transient": {
      "display_id": "185c39ebe859ca3e81f4dee44412c00e"
     }
    },
    {
     "data": {
      "text/html": [],
      "text/plain": [
       "<IPython.core.display.HTML object>"
      ]
     },
     "metadata": {
      "display_id": "e528657c945df4cd2999427388b406ba"
     },
     "output_type": "display_data",
     "transient": {
      "display_id": "e528657c945df4cd2999427388b406ba"
     }
    },
    {
     "data": {
      "text/html": [],
      "text/plain": [
       "<IPython.core.display.HTML object>"
      ]
     },
     "metadata": {
      "display_id": "c340a9a5625e865596e2d3eed51d5336"
     },
     "output_type": "display_data",
     "transient": {
      "display_id": "c340a9a5625e865596e2d3eed51d5336"
     }
    },
    {
     "data": {
      "text/html": [],
      "text/plain": [
       "<IPython.core.display.HTML object>"
      ]
     },
     "metadata": {
      "display_id": "8a8f3a02991b1ff5def19bc7e9c8c950"
     },
     "output_type": "display_data",
     "transient": {
      "display_id": "8a8f3a02991b1ff5def19bc7e9c8c950"
     }
    },
    {
     "data": {
      "text/html": [],
      "text/plain": [
       "<IPython.core.display.HTML object>"
      ]
     },
     "metadata": {
      "display_id": "4ba00d925321ab8c8677d94fb4f74ffa"
     },
     "output_type": "display_data",
     "transient": {
      "display_id": "4ba00d925321ab8c8677d94fb4f74ffa"
     }
    },
    {
     "data": {
      "text/html": [],
      "text/plain": [
       "<IPython.core.display.HTML object>"
      ]
     },
     "metadata": {
      "display_id": "06c3a25ac857c6d4d129eb347d94bc35"
     },
     "output_type": "display_data",
     "transient": {
      "display_id": "06c3a25ac857c6d4d129eb347d94bc35"
     }
    },
    {
     "data": {
      "text/html": [],
      "text/plain": [
       "<IPython.core.display.HTML object>"
      ]
     },
     "metadata": {
      "display_id": "4d61bd5ebce760aa3265730a1432f18f"
     },
     "output_type": "display_data",
     "transient": {
      "display_id": "4d61bd5ebce760aa3265730a1432f18f"
     }
    },
    {
     "data": {
      "text/html": [],
      "text/plain": [
       "<IPython.core.display.HTML object>"
      ]
     },
     "metadata": {
      "display_id": "4667d48fc88fa540c4309c956d692952"
     },
     "output_type": "display_data",
     "transient": {
      "display_id": "4667d48fc88fa540c4309c956d692952"
     }
    },
    {
     "data": {
      "text/html": [],
      "text/plain": [
       "<IPython.core.display.HTML object>"
      ]
     },
     "metadata": {
      "display_id": "6db6169ac409594329fa19258b17f514"
     },
     "output_type": "display_data",
     "transient": {
      "display_id": "6db6169ac409594329fa19258b17f514"
     }
    },
    {
     "data": {
      "text/html": [],
      "text/plain": [
       "<IPython.core.display.HTML object>"
      ]
     },
     "metadata": {
      "display_id": "acf58b1c93ba2ae719b53d155afded60"
     },
     "output_type": "display_data",
     "transient": {
      "display_id": "acf58b1c93ba2ae719b53d155afded60"
     }
    },
    {
     "data": {
      "text/html": [],
      "text/plain": [
       "<IPython.core.display.HTML object>"
      ]
     },
     "metadata": {
      "display_id": "30d9e8ee1e31292537f98cb18631bf6b"
     },
     "output_type": "display_data",
     "transient": {
      "display_id": "30d9e8ee1e31292537f98cb18631bf6b"
     }
    },
    {
     "data": {
      "text/html": [],
      "text/plain": [
       "<IPython.core.display.HTML object>"
      ]
     },
     "metadata": {
      "display_id": "37382fb7ff3dd9f6cdd7dde0123d3e8e"
     },
     "output_type": "display_data",
     "transient": {
      "display_id": "37382fb7ff3dd9f6cdd7dde0123d3e8e"
     }
    },
    {
     "data": {
      "text/html": [],
      "text/plain": [
       "<IPython.core.display.HTML object>"
      ]
     },
     "metadata": {
      "display_id": "121439957c7659202d10aba169f3d967"
     },
     "output_type": "display_data",
     "transient": {
      "display_id": "121439957c7659202d10aba169f3d967"
     }
    },
    {
     "data": {
      "text/html": [],
      "text/plain": [
       "<IPython.core.display.HTML object>"
      ]
     },
     "metadata": {
      "display_id": "f2680a383a9e6d053822df0b6ef5732a"
     },
     "output_type": "display_data",
     "transient": {
      "display_id": "f2680a383a9e6d053822df0b6ef5732a"
     }
    },
    {
     "data": {
      "text/html": [],
      "text/plain": [
       "<IPython.core.display.HTML object>"
      ]
     },
     "metadata": {
      "display_id": "bc48a575a8fc3b6748469ae14af58cd2"
     },
     "output_type": "display_data",
     "transient": {
      "display_id": "bc48a575a8fc3b6748469ae14af58cd2"
     }
    },
    {
     "data": {
      "text/html": [],
      "text/plain": [
       "<IPython.core.display.HTML object>"
      ]
     },
     "metadata": {
      "display_id": "63b652ed62dc75f47491074e0cb6cec6"
     },
     "output_type": "display_data",
     "transient": {
      "display_id": "63b652ed62dc75f47491074e0cb6cec6"
     }
    },
    {
     "data": {
      "text/html": [],
      "text/plain": [
       "<IPython.core.display.HTML object>"
      ]
     },
     "metadata": {
      "display_id": "50799dac2debc3cb79ab758348802e33"
     },
     "output_type": "display_data",
     "transient": {
      "display_id": "50799dac2debc3cb79ab758348802e33"
     }
    },
    {
     "data": {
      "text/html": [],
      "text/plain": [
       "<IPython.core.display.HTML object>"
      ]
     },
     "metadata": {
      "display_id": "9f27661fd9a86d51ada6b20ce9c90e4a"
     },
     "output_type": "display_data",
     "transient": {
      "display_id": "9f27661fd9a86d51ada6b20ce9c90e4a"
     }
    },
    {
     "data": {
      "text/html": [],
      "text/plain": [
       "<IPython.core.display.HTML object>"
      ]
     },
     "metadata": {
      "display_id": "01c2e8523f8a1b63193a4cbca0b89415"
     },
     "output_type": "display_data",
     "transient": {
      "display_id": "01c2e8523f8a1b63193a4cbca0b89415"
     }
    },
    {
     "data": {
      "text/html": [],
      "text/plain": [
       "<IPython.core.display.HTML object>"
      ]
     },
     "metadata": {
      "display_id": "80a897cabdf4cabe93ada936e21234ca"
     },
     "output_type": "display_data",
     "transient": {
      "display_id": "80a897cabdf4cabe93ada936e21234ca"
     }
    },
    {
     "data": {
      "text/html": [],
      "text/plain": [
       "<IPython.core.display.HTML object>"
      ]
     },
     "metadata": {
      "display_id": "b5f2801d927c5414d6ac3143b4910b7f"
     },
     "output_type": "display_data",
     "transient": {
      "display_id": "b5f2801d927c5414d6ac3143b4910b7f"
     }
    },
    {
     "data": {
      "text/html": [],
      "text/plain": [
       "<IPython.core.display.HTML object>"
      ]
     },
     "metadata": {
      "display_id": "aae9d89b25b524099fb9867c7ba8348a"
     },
     "output_type": "display_data",
     "transient": {
      "display_id": "aae9d89b25b524099fb9867c7ba8348a"
     }
    },
    {
     "data": {
      "text/html": [],
      "text/plain": [
       "<IPython.core.display.HTML object>"
      ]
     },
     "metadata": {
      "display_id": "2318db9c4e823d82bfa7847168233334"
     },
     "output_type": "display_data",
     "transient": {
      "display_id": "2318db9c4e823d82bfa7847168233334"
     }
    },
    {
     "data": {
      "text/html": [],
      "text/plain": [
       "<IPython.core.display.HTML object>"
      ]
     },
     "metadata": {
      "display_id": "a987b85d68fdb22c4bf5e402812e2c9f"
     },
     "output_type": "display_data",
     "transient": {
      "display_id": "a987b85d68fdb22c4bf5e402812e2c9f"
     }
    },
    {
     "data": {
      "text/html": [],
      "text/plain": [
       "<IPython.core.display.HTML object>"
      ]
     },
     "metadata": {
      "display_id": "9a8fb54f9f2a3580ee6c2a3a685ea59a"
     },
     "output_type": "display_data",
     "transient": {
      "display_id": "9a8fb54f9f2a3580ee6c2a3a685ea59a"
     }
    },
    {
     "data": {
      "text/html": [],
      "text/plain": [
       "<IPython.core.display.HTML object>"
      ]
     },
     "metadata": {
      "display_id": "03a74f5a5dc4d01df88f10563d37e74a"
     },
     "output_type": "display_data",
     "transient": {
      "display_id": "03a74f5a5dc4d01df88f10563d37e74a"
     }
    },
    {
     "data": {
      "text/html": [],
      "text/plain": [
       "<IPython.core.display.HTML object>"
      ]
     },
     "metadata": {
      "display_id": "d764905839d2edca22a412463e375bb2"
     },
     "output_type": "display_data",
     "transient": {
      "display_id": "d764905839d2edca22a412463e375bb2"
     }
    },
    {
     "data": {
      "text/html": [],
      "text/plain": [
       "<IPython.core.display.HTML object>"
      ]
     },
     "metadata": {
      "display_id": "d7c71bc21c9e277940835b67f24442aa"
     },
     "output_type": "display_data",
     "transient": {
      "display_id": "d7c71bc21c9e277940835b67f24442aa"
     }
    },
    {
     "data": {
      "text/html": [],
      "text/plain": [
       "<IPython.core.display.HTML object>"
      ]
     },
     "metadata": {
      "display_id": "7bd843e10cea5d05d972c6ad3c7252bf"
     },
     "output_type": "display_data",
     "transient": {
      "display_id": "7bd843e10cea5d05d972c6ad3c7252bf"
     }
    },
    {
     "data": {
      "text/html": [],
      "text/plain": [
       "<IPython.core.display.HTML object>"
      ]
     },
     "metadata": {
      "display_id": "137b416dff27710c113795d1726c04ba"
     },
     "output_type": "display_data",
     "transient": {
      "display_id": "137b416dff27710c113795d1726c04ba"
     }
    },
    {
     "data": {
      "text/html": [],
      "text/plain": [
       "<IPython.core.display.HTML object>"
      ]
     },
     "metadata": {
      "display_id": "8b2c271809cba03fa4da93590a5866d9"
     },
     "output_type": "display_data",
     "transient": {
      "display_id": "8b2c271809cba03fa4da93590a5866d9"
     }
    },
    {
     "data": {
      "text/html": [],
      "text/plain": [
       "<IPython.core.display.HTML object>"
      ]
     },
     "metadata": {
      "display_id": "6f99ec0510db6dd1503c681dbfa47cbe"
     },
     "output_type": "display_data",
     "transient": {
      "display_id": "6f99ec0510db6dd1503c681dbfa47cbe"
     }
    },
    {
     "data": {
      "text/html": [],
      "text/plain": [
       "<IPython.core.display.HTML object>"
      ]
     },
     "metadata": {
      "display_id": "a4249d1d386e9a195ca2810ba475c1d7"
     },
     "output_type": "display_data",
     "transient": {
      "display_id": "a4249d1d386e9a195ca2810ba475c1d7"
     }
    },
    {
     "data": {
      "text/html": [],
      "text/plain": [
       "<IPython.core.display.HTML object>"
      ]
     },
     "metadata": {
      "display_id": "0e7805ce5fc96f9f1c64b89cc19ab136"
     },
     "output_type": "display_data",
     "transient": {
      "display_id": "0e7805ce5fc96f9f1c64b89cc19ab136"
     }
    },
    {
     "data": {
      "text/html": [],
      "text/plain": [
       "<IPython.core.display.HTML object>"
      ]
     },
     "metadata": {
      "display_id": "81444f0ad3041b5788284c2f0310f16a"
     },
     "output_type": "display_data",
     "transient": {
      "display_id": "81444f0ad3041b5788284c2f0310f16a"
     }
    },
    {
     "data": {
      "text/html": [],
      "text/plain": [
       "<IPython.core.display.HTML object>"
      ]
     },
     "metadata": {
      "display_id": "0ba36a01e7b9fc2e9ec857f5220953b0"
     },
     "output_type": "display_data",
     "transient": {
      "display_id": "0ba36a01e7b9fc2e9ec857f5220953b0"
     }
    },
    {
     "data": {
      "text/html": [],
      "text/plain": [
       "<IPython.core.display.HTML object>"
      ]
     },
     "metadata": {
      "display_id": "4ae4ff8c06670da0c5b992802584a89d"
     },
     "output_type": "display_data",
     "transient": {
      "display_id": "4ae4ff8c06670da0c5b992802584a89d"
     }
    },
    {
     "data": {
      "text/html": [],
      "text/plain": [
       "<IPython.core.display.HTML object>"
      ]
     },
     "metadata": {
      "display_id": "510002a3b615b31707f4f82349e43598"
     },
     "output_type": "display_data",
     "transient": {
      "display_id": "510002a3b615b31707f4f82349e43598"
     }
    },
    {
     "data": {
      "text/html": [],
      "text/plain": [
       "<IPython.core.display.HTML object>"
      ]
     },
     "metadata": {
      "display_id": "35851fe06807a09a53920fb3f4efe15b"
     },
     "output_type": "display_data",
     "transient": {
      "display_id": "35851fe06807a09a53920fb3f4efe15b"
     }
    },
    {
     "data": {
      "text/html": [],
      "text/plain": [
       "<IPython.core.display.HTML object>"
      ]
     },
     "metadata": {
      "display_id": "dc6ab76a9ae2a120d96d3078741acbaa"
     },
     "output_type": "display_data",
     "transient": {
      "display_id": "dc6ab76a9ae2a120d96d3078741acbaa"
     }
    },
    {
     "data": {
      "text/html": [],
      "text/plain": [
       "<IPython.core.display.HTML object>"
      ]
     },
     "metadata": {
      "display_id": "5b5508c2e27b6c330ac10461cef07705"
     },
     "output_type": "display_data",
     "transient": {
      "display_id": "5b5508c2e27b6c330ac10461cef07705"
     }
    },
    {
     "data": {
      "text/html": [],
      "text/plain": [
       "<IPython.core.display.HTML object>"
      ]
     },
     "metadata": {
      "display_id": "63e3d998e477362fc439186394b14cb4"
     },
     "output_type": "display_data",
     "transient": {
      "display_id": "63e3d998e477362fc439186394b14cb4"
     }
    },
    {
     "data": {
      "text/html": [],
      "text/plain": [
       "<IPython.core.display.HTML object>"
      ]
     },
     "metadata": {
      "display_id": "7a43cae951df3aaa01beeecb4133b985"
     },
     "output_type": "display_data",
     "transient": {
      "display_id": "7a43cae951df3aaa01beeecb4133b985"
     }
    },
    {
     "data": {
      "text/html": [],
      "text/plain": [
       "<IPython.core.display.HTML object>"
      ]
     },
     "metadata": {
      "display_id": "9e3a68c5ba61f594d7a2bc8b0327c616"
     },
     "output_type": "display_data",
     "transient": {
      "display_id": "9e3a68c5ba61f594d7a2bc8b0327c616"
     }
    },
    {
     "data": {
      "text/html": [],
      "text/plain": [
       "<IPython.core.display.HTML object>"
      ]
     },
     "metadata": {
      "display_id": "712a99d010f2aa6f4633b13214048d8f"
     },
     "output_type": "display_data",
     "transient": {
      "display_id": "712a99d010f2aa6f4633b13214048d8f"
     }
    },
    {
     "data": {
      "text/html": [],
      "text/plain": [
       "<IPython.core.display.HTML object>"
      ]
     },
     "metadata": {
      "display_id": "39903c3714d8efc9bec0af248b64a770"
     },
     "output_type": "display_data",
     "transient": {
      "display_id": "39903c3714d8efc9bec0af248b64a770"
     }
    },
    {
     "data": {
      "text/html": [],
      "text/plain": [
       "<IPython.core.display.HTML object>"
      ]
     },
     "metadata": {
      "display_id": "2e495b0de83b664b1af7cea330d0f397"
     },
     "output_type": "display_data",
     "transient": {
      "display_id": "2e495b0de83b664b1af7cea330d0f397"
     }
    },
    {
     "data": {
      "text/html": [],
      "text/plain": [
       "<IPython.core.display.HTML object>"
      ]
     },
     "metadata": {
      "display_id": "dc4be340adab3a45bab8b38dba65b838"
     },
     "output_type": "display_data",
     "transient": {
      "display_id": "dc4be340adab3a45bab8b38dba65b838"
     }
    },
    {
     "data": {
      "text/html": [],
      "text/plain": [
       "<IPython.core.display.HTML object>"
      ]
     },
     "metadata": {
      "display_id": "cbf267555b82b7eac0ca1277982190d8"
     },
     "output_type": "display_data",
     "transient": {
      "display_id": "cbf267555b82b7eac0ca1277982190d8"
     }
    },
    {
     "data": {
      "text/html": [],
      "text/plain": [
       "<IPython.core.display.HTML object>"
      ]
     },
     "metadata": {
      "display_id": "94a35e32a641a1c2e82f077eb64c116a"
     },
     "output_type": "display_data",
     "transient": {
      "display_id": "94a35e32a641a1c2e82f077eb64c116a"
     }
    },
    {
     "data": {
      "text/html": [],
      "text/plain": [
       "<IPython.core.display.HTML object>"
      ]
     },
     "metadata": {
      "display_id": "5e9697d039efaee3c2b60292caa5f705"
     },
     "output_type": "display_data",
     "transient": {
      "display_id": "5e9697d039efaee3c2b60292caa5f705"
     }
    },
    {
     "data": {
      "text/html": [],
      "text/plain": [
       "<IPython.core.display.HTML object>"
      ]
     },
     "metadata": {
      "display_id": "ea517af507e4cc9c4d2321ff7eaa7894"
     },
     "output_type": "display_data",
     "transient": {
      "display_id": "ea517af507e4cc9c4d2321ff7eaa7894"
     }
    },
    {
     "data": {
      "text/html": [],
      "text/plain": [
       "<IPython.core.display.HTML object>"
      ]
     },
     "metadata": {
      "display_id": "22cf8f462d3f8de8a1dcb7a0b2a1a10b"
     },
     "output_type": "display_data",
     "transient": {
      "display_id": "22cf8f462d3f8de8a1dcb7a0b2a1a10b"
     }
    },
    {
     "data": {
      "text/html": [],
      "text/plain": [
       "<IPython.core.display.HTML object>"
      ]
     },
     "metadata": {
      "display_id": "46a54d9e290411ac89d61be09878a90e"
     },
     "output_type": "display_data",
     "transient": {
      "display_id": "46a54d9e290411ac89d61be09878a90e"
     }
    },
    {
     "data": {
      "text/html": [],
      "text/plain": [
       "<IPython.core.display.HTML object>"
      ]
     },
     "metadata": {
      "display_id": "b2eaa02ba887946cbaadc589af98458c"
     },
     "output_type": "display_data",
     "transient": {
      "display_id": "b2eaa02ba887946cbaadc589af98458c"
     }
    },
    {
     "data": {
      "text/html": [],
      "text/plain": [
       "<IPython.core.display.HTML object>"
      ]
     },
     "metadata": {
      "display_id": "ecd67fceb3e510e7ae6b6c4f507a4fe9"
     },
     "output_type": "display_data",
     "transient": {
      "display_id": "ecd67fceb3e510e7ae6b6c4f507a4fe9"
     }
    },
    {
     "data": {
      "text/html": [],
      "text/plain": [
       "<IPython.core.display.HTML object>"
      ]
     },
     "metadata": {
      "display_id": "1e2766243ef5fb9debb27bbb8416229e"
     },
     "output_type": "display_data",
     "transient": {
      "display_id": "1e2766243ef5fb9debb27bbb8416229e"
     }
    },
    {
     "data": {
      "text/html": [],
      "text/plain": [
       "<IPython.core.display.HTML object>"
      ]
     },
     "metadata": {
      "display_id": "b7b5d9acffcf70c1bea0b2b10a8cce52"
     },
     "output_type": "display_data",
     "transient": {
      "display_id": "b7b5d9acffcf70c1bea0b2b10a8cce52"
     }
    },
    {
     "data": {
      "text/html": [],
      "text/plain": [
       "<IPython.core.display.HTML object>"
      ]
     },
     "metadata": {
      "display_id": "5592531878e26ce9f38069f35e3cf5f1"
     },
     "output_type": "display_data",
     "transient": {
      "display_id": "5592531878e26ce9f38069f35e3cf5f1"
     }
    },
    {
     "data": {
      "text/html": [],
      "text/plain": [
       "<IPython.core.display.HTML object>"
      ]
     },
     "metadata": {
      "display_id": "928bbd6e47f13f72dbd01276b055ec83"
     },
     "output_type": "display_data",
     "transient": {
      "display_id": "928bbd6e47f13f72dbd01276b055ec83"
     }
    },
    {
     "data": {
      "text/html": [],
      "text/plain": [
       "<IPython.core.display.HTML object>"
      ]
     },
     "metadata": {
      "display_id": "1e85ab757511e416032a63ddd910077f"
     },
     "output_type": "display_data",
     "transient": {
      "display_id": "1e85ab757511e416032a63ddd910077f"
     }
    },
    {
     "data": {
      "text/html": [],
      "text/plain": [
       "<IPython.core.display.HTML object>"
      ]
     },
     "metadata": {
      "display_id": "d75e1451024e5774b8bda4f0ad60c635"
     },
     "output_type": "display_data",
     "transient": {
      "display_id": "d75e1451024e5774b8bda4f0ad60c635"
     }
    },
    {
     "data": {
      "text/html": [],
      "text/plain": [
       "<IPython.core.display.HTML object>"
      ]
     },
     "metadata": {
      "display_id": "98439216f926df57222a55bd3ed0782d"
     },
     "output_type": "display_data",
     "transient": {
      "display_id": "98439216f926df57222a55bd3ed0782d"
     }
    },
    {
     "data": {
      "text/html": [],
      "text/plain": [
       "<IPython.core.display.HTML object>"
      ]
     },
     "metadata": {
      "display_id": "b32dfbb9bdec122ee9c882572de99127"
     },
     "output_type": "display_data",
     "transient": {
      "display_id": "b32dfbb9bdec122ee9c882572de99127"
     }
    },
    {
     "data": {
      "text/html": [],
      "text/plain": [
       "<IPython.core.display.HTML object>"
      ]
     },
     "metadata": {
      "display_id": "f97f3abb53e6341ad4bbc71cd0281c53"
     },
     "output_type": "display_data",
     "transient": {
      "display_id": "f97f3abb53e6341ad4bbc71cd0281c53"
     }
    },
    {
     "data": {
      "text/html": [],
      "text/plain": [
       "<IPython.core.display.HTML object>"
      ]
     },
     "metadata": {
      "display_id": "bd4d4e903325e9342b5673b6dcf9b55e"
     },
     "output_type": "display_data",
     "transient": {
      "display_id": "bd4d4e903325e9342b5673b6dcf9b55e"
     }
    },
    {
     "data": {
      "text/html": [],
      "text/plain": [
       "<IPython.core.display.HTML object>"
      ]
     },
     "metadata": {
      "display_id": "a795f4a126ec946e18384e8cb7bbe420"
     },
     "output_type": "display_data",
     "transient": {
      "display_id": "a795f4a126ec946e18384e8cb7bbe420"
     }
    },
    {
     "data": {
      "text/html": [],
      "text/plain": [
       "<IPython.core.display.HTML object>"
      ]
     },
     "metadata": {
      "display_id": "e6e6c2d5df75ddc6f1a1cc0c66e8bbed"
     },
     "output_type": "display_data",
     "transient": {
      "display_id": "e6e6c2d5df75ddc6f1a1cc0c66e8bbed"
     }
    },
    {
     "data": {
      "text/html": [],
      "text/plain": [
       "<IPython.core.display.HTML object>"
      ]
     },
     "metadata": {
      "display_id": "a8d70e952ad30217cb752b0b8d73127e"
     },
     "output_type": "display_data",
     "transient": {
      "display_id": "a8d70e952ad30217cb752b0b8d73127e"
     }
    },
    {
     "data": {
      "text/html": [],
      "text/plain": [
       "<IPython.core.display.HTML object>"
      ]
     },
     "metadata": {
      "display_id": "ce141336fa4209da44049b329fbd064f"
     },
     "output_type": "display_data",
     "transient": {
      "display_id": "ce141336fa4209da44049b329fbd064f"
     }
    },
    {
     "data": {
      "text/html": [],
      "text/plain": [
       "<IPython.core.display.HTML object>"
      ]
     },
     "metadata": {
      "display_id": "70df65de9db51cb1dafc0da22b26bdad"
     },
     "output_type": "display_data",
     "transient": {
      "display_id": "70df65de9db51cb1dafc0da22b26bdad"
     }
    },
    {
     "data": {
      "text/html": [],
      "text/plain": [
       "<IPython.core.display.HTML object>"
      ]
     },
     "metadata": {
      "display_id": "7037d0a798b8544f89c0172bec677b98"
     },
     "output_type": "display_data",
     "transient": {
      "display_id": "7037d0a798b8544f89c0172bec677b98"
     }
    },
    {
     "data": {
      "text/html": [],
      "text/plain": [
       "<IPython.core.display.HTML object>"
      ]
     },
     "metadata": {
      "display_id": "13496c55336dcf30301a97621070c9d4"
     },
     "output_type": "display_data",
     "transient": {
      "display_id": "13496c55336dcf30301a97621070c9d4"
     }
    },
    {
     "data": {
      "text/html": [],
      "text/plain": [
       "<IPython.core.display.HTML object>"
      ]
     },
     "metadata": {
      "display_id": "36475ac56efa1c0c7ed7e718276a3522"
     },
     "output_type": "display_data",
     "transient": {
      "display_id": "36475ac56efa1c0c7ed7e718276a3522"
     }
    },
    {
     "data": {
      "text/html": [],
      "text/plain": [
       "<IPython.core.display.HTML object>"
      ]
     },
     "metadata": {
      "display_id": "f8a12c2fe7cbc6a5c190e6f4532d1f5b"
     },
     "output_type": "display_data",
     "transient": {
      "display_id": "f8a12c2fe7cbc6a5c190e6f4532d1f5b"
     }
    },
    {
     "data": {
      "text/html": [],
      "text/plain": [
       "<IPython.core.display.HTML object>"
      ]
     },
     "metadata": {
      "display_id": "807f9a3abaaba0882e006db4af236853"
     },
     "output_type": "display_data",
     "transient": {
      "display_id": "807f9a3abaaba0882e006db4af236853"
     }
    },
    {
     "data": {
      "text/html": [],
      "text/plain": [
       "<IPython.core.display.HTML object>"
      ]
     },
     "metadata": {
      "display_id": "0114ff4cc31bb6a50c74804d36d1b2da"
     },
     "output_type": "display_data",
     "transient": {
      "display_id": "0114ff4cc31bb6a50c74804d36d1b2da"
     }
    },
    {
     "data": {
      "text/html": [],
      "text/plain": [
       "<IPython.core.display.HTML object>"
      ]
     },
     "metadata": {
      "display_id": "d7357ae4aa455f84b078b3fba7d67999"
     },
     "output_type": "display_data",
     "transient": {
      "display_id": "d7357ae4aa455f84b078b3fba7d67999"
     }
    },
    {
     "data": {
      "text/html": [],
      "text/plain": [
       "<IPython.core.display.HTML object>"
      ]
     },
     "metadata": {
      "display_id": "9772769da2208cccd6ebcf53dfe52918"
     },
     "output_type": "display_data",
     "transient": {
      "display_id": "9772769da2208cccd6ebcf53dfe52918"
     }
    },
    {
     "data": {
      "text/html": [],
      "text/plain": [
       "<IPython.core.display.HTML object>"
      ]
     },
     "metadata": {
      "display_id": "a535f821aaa6a246004f62c4b3e939fe"
     },
     "output_type": "display_data",
     "transient": {
      "display_id": "a535f821aaa6a246004f62c4b3e939fe"
     }
    },
    {
     "data": {
      "text/html": [],
      "text/plain": [
       "<IPython.core.display.HTML object>"
      ]
     },
     "metadata": {
      "display_id": "f3ede46b9da7a132f95dd0bc0f418819"
     },
     "output_type": "display_data",
     "transient": {
      "display_id": "f3ede46b9da7a132f95dd0bc0f418819"
     }
    },
    {
     "data": {
      "text/html": [],
      "text/plain": [
       "<IPython.core.display.HTML object>"
      ]
     },
     "metadata": {
      "display_id": "45a72ef226977cb6c655c04c36587409"
     },
     "output_type": "display_data",
     "transient": {
      "display_id": "45a72ef226977cb6c655c04c36587409"
     }
    },
    {
     "data": {
      "text/html": [],
      "text/plain": [
       "<IPython.core.display.HTML object>"
      ]
     },
     "metadata": {
      "display_id": "c49f1d40cdf3c9d0978101790cb38ce6"
     },
     "output_type": "display_data",
     "transient": {
      "display_id": "c49f1d40cdf3c9d0978101790cb38ce6"
     }
    },
    {
     "data": {
      "text/html": [],
      "text/plain": [
       "<IPython.core.display.HTML object>"
      ]
     },
     "metadata": {
      "display_id": "99ffca991bfb5a143fa39b4190cc4cfd"
     },
     "output_type": "display_data",
     "transient": {
      "display_id": "99ffca991bfb5a143fa39b4190cc4cfd"
     }
    },
    {
     "data": {
      "text/html": [],
      "text/plain": [
       "<IPython.core.display.HTML object>"
      ]
     },
     "metadata": {
      "display_id": "0c91bcfa57495c06583c8a098f8b30e4"
     },
     "output_type": "display_data",
     "transient": {
      "display_id": "0c91bcfa57495c06583c8a098f8b30e4"
     }
    },
    {
     "data": {
      "text/html": [],
      "text/plain": [
       "<IPython.core.display.HTML object>"
      ]
     },
     "metadata": {
      "display_id": "fdc7c70e08dd91a1e50bdc91270b6815"
     },
     "output_type": "display_data",
     "transient": {
      "display_id": "fdc7c70e08dd91a1e50bdc91270b6815"
     }
    },
    {
     "data": {
      "text/html": [],
      "text/plain": [
       "<IPython.core.display.HTML object>"
      ]
     },
     "metadata": {
      "display_id": "d4a01f76bc90952a3c40255e5df6f95d"
     },
     "output_type": "display_data",
     "transient": {
      "display_id": "d4a01f76bc90952a3c40255e5df6f95d"
     }
    },
    {
     "data": {
      "text/html": [],
      "text/plain": [
       "<IPython.core.display.HTML object>"
      ]
     },
     "metadata": {
      "display_id": "c1e6fdcf807f5222bee7117c31b31ba2"
     },
     "output_type": "display_data",
     "transient": {
      "display_id": "c1e6fdcf807f5222bee7117c31b31ba2"
     }
    },
    {
     "data": {
      "text/html": [],
      "text/plain": [
       "<IPython.core.display.HTML object>"
      ]
     },
     "metadata": {
      "display_id": "2986a9570962aef486817faf786d7d1e"
     },
     "output_type": "display_data",
     "transient": {
      "display_id": "2986a9570962aef486817faf786d7d1e"
     }
    },
    {
     "data": {
      "text/html": [],
      "text/plain": [
       "<IPython.core.display.HTML object>"
      ]
     },
     "metadata": {
      "display_id": "a361e38d35dd24b54195d4725acfb11c"
     },
     "output_type": "display_data",
     "transient": {
      "display_id": "a361e38d35dd24b54195d4725acfb11c"
     }
    },
    {
     "data": {
      "text/html": [],
      "text/plain": [
       "<IPython.core.display.HTML object>"
      ]
     },
     "metadata": {
      "display_id": "c938dc841edaf3befa3a977d572f0b9a"
     },
     "output_type": "display_data",
     "transient": {
      "display_id": "c938dc841edaf3befa3a977d572f0b9a"
     }
    },
    {
     "data": {
      "text/html": [],
      "text/plain": [
       "<IPython.core.display.HTML object>"
      ]
     },
     "metadata": {
      "display_id": "bb9e10f5f81dfb820ea0991199633930"
     },
     "output_type": "display_data",
     "transient": {
      "display_id": "bb9e10f5f81dfb820ea0991199633930"
     }
    },
    {
     "data": {
      "text/html": [],
      "text/plain": [
       "<IPython.core.display.HTML object>"
      ]
     },
     "metadata": {
      "display_id": "757c7c32da65ddd67839fea612f17931"
     },
     "output_type": "display_data",
     "transient": {
      "display_id": "757c7c32da65ddd67839fea612f17931"
     }
    },
    {
     "data": {
      "text/html": [],
      "text/plain": [
       "<IPython.core.display.HTML object>"
      ]
     },
     "metadata": {
      "display_id": "0d755dbabd9325399ff58a9f368ab9a7"
     },
     "output_type": "display_data",
     "transient": {
      "display_id": "0d755dbabd9325399ff58a9f368ab9a7"
     }
    },
    {
     "data": {
      "text/html": [],
      "text/plain": [
       "<IPython.core.display.HTML object>"
      ]
     },
     "metadata": {
      "display_id": "0df4b70e42920ac575e1b193160215cd"
     },
     "output_type": "display_data",
     "transient": {
      "display_id": "0df4b70e42920ac575e1b193160215cd"
     }
    },
    {
     "data": {
      "text/html": [],
      "text/plain": [
       "<IPython.core.display.HTML object>"
      ]
     },
     "metadata": {
      "display_id": "8bb5bfa55aa79b1ab7f49cd554966e49"
     },
     "output_type": "display_data",
     "transient": {
      "display_id": "8bb5bfa55aa79b1ab7f49cd554966e49"
     }
    },
    {
     "data": {
      "text/html": [],
      "text/plain": [
       "<IPython.core.display.HTML object>"
      ]
     },
     "metadata": {
      "display_id": "04eabaf018b24bcaa9ca764d356882c6"
     },
     "output_type": "display_data",
     "transient": {
      "display_id": "04eabaf018b24bcaa9ca764d356882c6"
     }
    },
    {
     "data": {
      "text/html": [],
      "text/plain": [
       "<IPython.core.display.HTML object>"
      ]
     },
     "metadata": {
      "display_id": "7586f3e65f9327ac2d2f4afc2f3a4373"
     },
     "output_type": "display_data",
     "transient": {
      "display_id": "7586f3e65f9327ac2d2f4afc2f3a4373"
     }
    },
    {
     "data": {
      "text/html": [],
      "text/plain": [
       "<IPython.core.display.HTML object>"
      ]
     },
     "metadata": {
      "display_id": "53a976f86f8d6c2de85e04db381ce83c"
     },
     "output_type": "display_data",
     "transient": {
      "display_id": "53a976f86f8d6c2de85e04db381ce83c"
     }
    },
    {
     "data": {
      "text/html": [],
      "text/plain": [
       "<IPython.core.display.HTML object>"
      ]
     },
     "metadata": {
      "display_id": "81ae653686bd34e1f347b70a9ddd37b7"
     },
     "output_type": "display_data",
     "transient": {
      "display_id": "81ae653686bd34e1f347b70a9ddd37b7"
     }
    },
    {
     "data": {
      "text/html": [],
      "text/plain": [
       "<IPython.core.display.HTML object>"
      ]
     },
     "metadata": {
      "display_id": "e91e89a628fe10a2c84f35e74ddc024c"
     },
     "output_type": "display_data",
     "transient": {
      "display_id": "e91e89a628fe10a2c84f35e74ddc024c"
     }
    },
    {
     "data": {
      "text/html": [],
      "text/plain": [
       "<IPython.core.display.HTML object>"
      ]
     },
     "metadata": {
      "display_id": "72010ffabe7022f800b56b6eeb53ea72"
     },
     "output_type": "display_data",
     "transient": {
      "display_id": "72010ffabe7022f800b56b6eeb53ea72"
     }
    },
    {
     "data": {
      "text/html": [],
      "text/plain": [
       "<IPython.core.display.HTML object>"
      ]
     },
     "metadata": {
      "display_id": "45a776310032bfe104681f80c69056e9"
     },
     "output_type": "display_data",
     "transient": {
      "display_id": "45a776310032bfe104681f80c69056e9"
     }
    },
    {
     "data": {
      "text/html": [],
      "text/plain": [
       "<IPython.core.display.HTML object>"
      ]
     },
     "metadata": {
      "display_id": "8da8f29ddd9c555cfcf569a43dcfdeeb"
     },
     "output_type": "display_data",
     "transient": {
      "display_id": "8da8f29ddd9c555cfcf569a43dcfdeeb"
     }
    },
    {
     "data": {
      "text/html": [],
      "text/plain": [
       "<IPython.core.display.HTML object>"
      ]
     },
     "metadata": {
      "display_id": "d514fcdb440546037c43135c76ba44a9"
     },
     "output_type": "display_data",
     "transient": {
      "display_id": "d514fcdb440546037c43135c76ba44a9"
     }
    },
    {
     "data": {
      "text/html": [],
      "text/plain": [
       "<IPython.core.display.HTML object>"
      ]
     },
     "metadata": {
      "display_id": "8fe8069edefde429248412e53371f55b"
     },
     "output_type": "display_data",
     "transient": {
      "display_id": "8fe8069edefde429248412e53371f55b"
     }
    },
    {
     "data": {
      "text/html": [],
      "text/plain": [
       "<IPython.core.display.HTML object>"
      ]
     },
     "metadata": {
      "display_id": "6ee8c869d2efe23d48be48e299225f12"
     },
     "output_type": "display_data",
     "transient": {
      "display_id": "6ee8c869d2efe23d48be48e299225f12"
     }
    },
    {
     "data": {
      "text/html": [],
      "text/plain": [
       "<IPython.core.display.HTML object>"
      ]
     },
     "metadata": {
      "display_id": "e3cb66c2affae41100590e9344323462"
     },
     "output_type": "display_data",
     "transient": {
      "display_id": "e3cb66c2affae41100590e9344323462"
     }
    },
    {
     "data": {
      "text/html": [],
      "text/plain": [
       "<IPython.core.display.HTML object>"
      ]
     },
     "metadata": {
      "display_id": "b1e11ac74b762385ab0285f7e4159352"
     },
     "output_type": "display_data",
     "transient": {
      "display_id": "b1e11ac74b762385ab0285f7e4159352"
     }
    },
    {
     "data": {
      "text/html": [],
      "text/plain": [
       "<IPython.core.display.HTML object>"
      ]
     },
     "metadata": {
      "display_id": "833e2ab9bd3501eba34c91638cc06a3d"
     },
     "output_type": "display_data",
     "transient": {
      "display_id": "833e2ab9bd3501eba34c91638cc06a3d"
     }
    },
    {
     "data": {
      "text/html": [],
      "text/plain": [
       "<IPython.core.display.HTML object>"
      ]
     },
     "metadata": {
      "display_id": "eb3aa4d718ecfe01f8de9191ad60f753"
     },
     "output_type": "display_data",
     "transient": {
      "display_id": "eb3aa4d718ecfe01f8de9191ad60f753"
     }
    },
    {
     "data": {
      "text/html": [],
      "text/plain": [
       "<IPython.core.display.HTML object>"
      ]
     },
     "metadata": {
      "display_id": "83397d58222e56ee706051403ad39db1"
     },
     "output_type": "display_data",
     "transient": {
      "display_id": "83397d58222e56ee706051403ad39db1"
     }
    },
    {
     "data": {
      "text/html": [],
      "text/plain": [
       "<IPython.core.display.HTML object>"
      ]
     },
     "metadata": {
      "display_id": "56873716a135678333b9f27838773f5c"
     },
     "output_type": "display_data",
     "transient": {
      "display_id": "56873716a135678333b9f27838773f5c"
     }
    },
    {
     "data": {
      "text/html": [],
      "text/plain": [
       "<IPython.core.display.HTML object>"
      ]
     },
     "metadata": {
      "display_id": "ebf0923754494886a85d472f54d2f5a7"
     },
     "output_type": "display_data",
     "transient": {
      "display_id": "ebf0923754494886a85d472f54d2f5a7"
     }
    },
    {
     "data": {
      "text/html": [],
      "text/plain": [
       "<IPython.core.display.HTML object>"
      ]
     },
     "metadata": {
      "display_id": "3f1e5242a2ff6b4820d71207370becb6"
     },
     "output_type": "display_data",
     "transient": {
      "display_id": "3f1e5242a2ff6b4820d71207370becb6"
     }
    },
    {
     "data": {
      "text/html": [],
      "text/plain": [
       "<IPython.core.display.HTML object>"
      ]
     },
     "metadata": {
      "display_id": "1b75583c88500abbffc4a046d3c01e1a"
     },
     "output_type": "display_data",
     "transient": {
      "display_id": "1b75583c88500abbffc4a046d3c01e1a"
     }
    },
    {
     "data": {
      "text/html": [],
      "text/plain": [
       "<IPython.core.display.HTML object>"
      ]
     },
     "metadata": {
      "display_id": "8cbf90ac71e866f5dabe9e22ffe37789"
     },
     "output_type": "display_data",
     "transient": {
      "display_id": "8cbf90ac71e866f5dabe9e22ffe37789"
     }
    },
    {
     "data": {
      "text/html": [],
      "text/plain": [
       "<IPython.core.display.HTML object>"
      ]
     },
     "metadata": {
      "display_id": "fd187aa5e00204f407b200699e16f4be"
     },
     "output_type": "display_data",
     "transient": {
      "display_id": "fd187aa5e00204f407b200699e16f4be"
     }
    },
    {
     "data": {
      "text/html": [],
      "text/plain": [
       "<IPython.core.display.HTML object>"
      ]
     },
     "metadata": {
      "display_id": "c378f0cf44fe7eb6a346530cb5b2cd53"
     },
     "output_type": "display_data",
     "transient": {
      "display_id": "c378f0cf44fe7eb6a346530cb5b2cd53"
     }
    },
    {
     "data": {
      "text/html": [],
      "text/plain": [
       "<IPython.core.display.HTML object>"
      ]
     },
     "metadata": {
      "display_id": "1309bf50c29ca9523be1f557a4633db1"
     },
     "output_type": "display_data",
     "transient": {
      "display_id": "1309bf50c29ca9523be1f557a4633db1"
     }
    },
    {
     "data": {
      "text/html": [],
      "text/plain": [
       "<IPython.core.display.HTML object>"
      ]
     },
     "metadata": {
      "display_id": "73ccc1774311b3d356254401c4a946c6"
     },
     "output_type": "display_data",
     "transient": {
      "display_id": "73ccc1774311b3d356254401c4a946c6"
     }
    },
    {
     "data": {
      "text/html": [],
      "text/plain": [
       "<IPython.core.display.HTML object>"
      ]
     },
     "metadata": {
      "display_id": "fab11409f84f31b3f5c5889669e91eab"
     },
     "output_type": "display_data",
     "transient": {
      "display_id": "fab11409f84f31b3f5c5889669e91eab"
     }
    },
    {
     "data": {
      "text/html": [],
      "text/plain": [
       "<IPython.core.display.HTML object>"
      ]
     },
     "metadata": {
      "display_id": "05cd3fefc96d3a5ed41717d708139505"
     },
     "output_type": "display_data",
     "transient": {
      "display_id": "05cd3fefc96d3a5ed41717d708139505"
     }
    },
    {
     "data": {
      "text/html": [],
      "text/plain": [
       "<IPython.core.display.HTML object>"
      ]
     },
     "metadata": {
      "display_id": "932044af7613895c585840c798f42374"
     },
     "output_type": "display_data",
     "transient": {
      "display_id": "932044af7613895c585840c798f42374"
     }
    },
    {
     "data": {
      "text/html": [],
      "text/plain": [
       "<IPython.core.display.HTML object>"
      ]
     },
     "metadata": {
      "display_id": "772f0733e997ab147030abb041f6409e"
     },
     "output_type": "display_data",
     "transient": {
      "display_id": "772f0733e997ab147030abb041f6409e"
     }
    },
    {
     "data": {
      "text/html": [],
      "text/plain": [
       "<IPython.core.display.HTML object>"
      ]
     },
     "metadata": {
      "display_id": "28618e567002f3bc62bb7db9fde36003"
     },
     "output_type": "display_data",
     "transient": {
      "display_id": "28618e567002f3bc62bb7db9fde36003"
     }
    },
    {
     "data": {
      "text/html": [],
      "text/plain": [
       "<IPython.core.display.HTML object>"
      ]
     },
     "metadata": {
      "display_id": "a94c33dbdfda9456bf8e4bf5436ff5d5"
     },
     "output_type": "display_data",
     "transient": {
      "display_id": "a94c33dbdfda9456bf8e4bf5436ff5d5"
     }
    },
    {
     "data": {
      "text/html": [],
      "text/plain": [
       "<IPython.core.display.HTML object>"
      ]
     },
     "metadata": {
      "display_id": "85fb63c1258c454a8611167fa97deaa8"
     },
     "output_type": "display_data",
     "transient": {
      "display_id": "85fb63c1258c454a8611167fa97deaa8"
     }
    },
    {
     "data": {
      "text/html": [],
      "text/plain": [
       "<IPython.core.display.HTML object>"
      ]
     },
     "metadata": {
      "display_id": "0c9b0d697b28011055386c3a402df564"
     },
     "output_type": "display_data",
     "transient": {
      "display_id": "0c9b0d697b28011055386c3a402df564"
     }
    },
    {
     "data": {
      "text/html": [],
      "text/plain": [
       "<IPython.core.display.HTML object>"
      ]
     },
     "metadata": {
      "display_id": "fdb82ecab3e6494cc8769c54d7ca3b47"
     },
     "output_type": "display_data",
     "transient": {
      "display_id": "fdb82ecab3e6494cc8769c54d7ca3b47"
     }
    },
    {
     "data": {
      "text/html": [],
      "text/plain": [
       "<IPython.core.display.HTML object>"
      ]
     },
     "metadata": {
      "display_id": "b6d566310d40ae11973fa70e2d1e4693"
     },
     "output_type": "display_data",
     "transient": {
      "display_id": "b6d566310d40ae11973fa70e2d1e4693"
     }
    },
    {
     "data": {
      "text/html": [],
      "text/plain": [
       "<IPython.core.display.HTML object>"
      ]
     },
     "metadata": {
      "display_id": "3638f6e284561b2561db2bfa9f39dc32"
     },
     "output_type": "display_data",
     "transient": {
      "display_id": "3638f6e284561b2561db2bfa9f39dc32"
     }
    },
    {
     "data": {
      "text/html": [],
      "text/plain": [
       "<IPython.core.display.HTML object>"
      ]
     },
     "metadata": {
      "display_id": "fdc3d52acfc7064536d830d33662b81a"
     },
     "output_type": "display_data",
     "transient": {
      "display_id": "fdc3d52acfc7064536d830d33662b81a"
     }
    },
    {
     "data": {
      "text/html": [],
      "text/plain": [
       "<IPython.core.display.HTML object>"
      ]
     },
     "metadata": {
      "display_id": "68bfe5388c7124c295221478960056c6"
     },
     "output_type": "display_data",
     "transient": {
      "display_id": "68bfe5388c7124c295221478960056c6"
     }
    },
    {
     "data": {
      "text/html": [],
      "text/plain": [
       "<IPython.core.display.HTML object>"
      ]
     },
     "metadata": {
      "display_id": "d0be86bc47c37d3e7166560291356bda"
     },
     "output_type": "display_data",
     "transient": {
      "display_id": "d0be86bc47c37d3e7166560291356bda"
     }
    },
    {
     "data": {
      "text/html": [],
      "text/plain": [
       "<IPython.core.display.HTML object>"
      ]
     },
     "metadata": {
      "display_id": "bdc26b777f6cd592b43122dca1a7cf8e"
     },
     "output_type": "display_data",
     "transient": {
      "display_id": "bdc26b777f6cd592b43122dca1a7cf8e"
     }
    },
    {
     "data": {
      "text/html": [],
      "text/plain": [
       "<IPython.core.display.HTML object>"
      ]
     },
     "metadata": {
      "display_id": "679494a0f97d552b329cb7609c5747a1"
     },
     "output_type": "display_data",
     "transient": {
      "display_id": "679494a0f97d552b329cb7609c5747a1"
     }
    },
    {
     "data": {
      "text/html": [],
      "text/plain": [
       "<IPython.core.display.HTML object>"
      ]
     },
     "metadata": {
      "display_id": "39f6168a56ec1949b7c569d4611d5dfe"
     },
     "output_type": "display_data",
     "transient": {
      "display_id": "39f6168a56ec1949b7c569d4611d5dfe"
     }
    },
    {
     "data": {
      "text/html": [],
      "text/plain": [
       "<IPython.core.display.HTML object>"
      ]
     },
     "metadata": {
      "display_id": "97dc04bec49e1d9d741500d89316ddd2"
     },
     "output_type": "display_data",
     "transient": {
      "display_id": "97dc04bec49e1d9d741500d89316ddd2"
     }
    },
    {
     "data": {
      "text/html": [],
      "text/plain": [
       "<IPython.core.display.HTML object>"
      ]
     },
     "metadata": {
      "display_id": "67e7896e5cb43c4b71f20b6ba9d89952"
     },
     "output_type": "display_data",
     "transient": {
      "display_id": "67e7896e5cb43c4b71f20b6ba9d89952"
     }
    },
    {
     "data": {
      "text/html": [],
      "text/plain": [
       "<IPython.core.display.HTML object>"
      ]
     },
     "metadata": {
      "display_id": "88935134b9981c3ba2744615831d6e4b"
     },
     "output_type": "display_data",
     "transient": {
      "display_id": "88935134b9981c3ba2744615831d6e4b"
     }
    },
    {
     "data": {
      "text/html": [],
      "text/plain": [
       "<IPython.core.display.HTML object>"
      ]
     },
     "metadata": {
      "display_id": "2e5c75847abcc35ed423ddb43c5676d9"
     },
     "output_type": "display_data",
     "transient": {
      "display_id": "2e5c75847abcc35ed423ddb43c5676d9"
     }
    },
    {
     "data": {
      "text/html": [],
      "text/plain": [
       "<IPython.core.display.HTML object>"
      ]
     },
     "metadata": {
      "display_id": "3950615fc32528595f5b5587a6a4ee66"
     },
     "output_type": "display_data",
     "transient": {
      "display_id": "3950615fc32528595f5b5587a6a4ee66"
     }
    },
    {
     "data": {
      "text/html": [],
      "text/plain": [
       "<IPython.core.display.HTML object>"
      ]
     },
     "metadata": {
      "display_id": "ec8690511e143489f71e344a387119bb"
     },
     "output_type": "display_data",
     "transient": {
      "display_id": "ec8690511e143489f71e344a387119bb"
     }
    },
    {
     "data": {
      "text/html": [],
      "text/plain": [
       "<IPython.core.display.HTML object>"
      ]
     },
     "metadata": {
      "display_id": "d052b57fbb88694e2fba18165e8f4511"
     },
     "output_type": "display_data",
     "transient": {
      "display_id": "d052b57fbb88694e2fba18165e8f4511"
     }
    },
    {
     "data": {
      "text/html": [],
      "text/plain": [
       "<IPython.core.display.HTML object>"
      ]
     },
     "metadata": {
      "display_id": "b37da78c7e885c2340f21b9b3a3ed15a"
     },
     "output_type": "display_data",
     "transient": {
      "display_id": "b37da78c7e885c2340f21b9b3a3ed15a"
     }
    },
    {
     "data": {
      "text/html": [],
      "text/plain": [
       "<IPython.core.display.HTML object>"
      ]
     },
     "metadata": {
      "display_id": "3f6a312cc3d80d5c6df4f5348c12a943"
     },
     "output_type": "display_data",
     "transient": {
      "display_id": "3f6a312cc3d80d5c6df4f5348c12a943"
     }
    },
    {
     "data": {
      "text/html": [],
      "text/plain": [
       "<IPython.core.display.HTML object>"
      ]
     },
     "metadata": {
      "display_id": "10920ace8ee9321497ae1cf259210daa"
     },
     "output_type": "display_data",
     "transient": {
      "display_id": "10920ace8ee9321497ae1cf259210daa"
     }
    },
    {
     "data": {
      "text/html": [],
      "text/plain": [
       "<IPython.core.display.HTML object>"
      ]
     },
     "metadata": {
      "display_id": "1dffdf120768a32f1165d430c9eade0b"
     },
     "output_type": "display_data",
     "transient": {
      "display_id": "1dffdf120768a32f1165d430c9eade0b"
     }
    },
    {
     "data": {
      "text/html": [],
      "text/plain": [
       "<IPython.core.display.HTML object>"
      ]
     },
     "metadata": {
      "display_id": "32fdfb803cc15891290954af95df3617"
     },
     "output_type": "display_data",
     "transient": {
      "display_id": "32fdfb803cc15891290954af95df3617"
     }
    },
    {
     "data": {
      "text/html": [],
      "text/plain": [
       "<IPython.core.display.HTML object>"
      ]
     },
     "metadata": {
      "display_id": "f6b4b3c3a24e417dfdcf01fff6665d6c"
     },
     "output_type": "display_data",
     "transient": {
      "display_id": "f6b4b3c3a24e417dfdcf01fff6665d6c"
     }
    },
    {
     "data": {
      "text/html": [],
      "text/plain": [
       "<IPython.core.display.HTML object>"
      ]
     },
     "metadata": {
      "display_id": "b0237317c29d1917c86f8d88b47fa8ee"
     },
     "output_type": "display_data",
     "transient": {
      "display_id": "b0237317c29d1917c86f8d88b47fa8ee"
     }
    },
    {
     "data": {
      "text/html": [],
      "text/plain": [
       "<IPython.core.display.HTML object>"
      ]
     },
     "metadata": {
      "display_id": "68a9c2d24374e51bb9f60b0e827cae45"
     },
     "output_type": "display_data",
     "transient": {
      "display_id": "68a9c2d24374e51bb9f60b0e827cae45"
     }
    },
    {
     "data": {
      "text/html": [],
      "text/plain": [
       "<IPython.core.display.HTML object>"
      ]
     },
     "metadata": {
      "display_id": "8821619c8990b8b9c9a47147b1242270"
     },
     "output_type": "display_data",
     "transient": {
      "display_id": "8821619c8990b8b9c9a47147b1242270"
     }
    },
    {
     "data": {
      "text/html": [],
      "text/plain": [
       "<IPython.core.display.HTML object>"
      ]
     },
     "metadata": {
      "display_id": "92b3c4cd58bcca65f900216a2be8adc2"
     },
     "output_type": "display_data",
     "transient": {
      "display_id": "92b3c4cd58bcca65f900216a2be8adc2"
     }
    },
    {
     "data": {
      "text/html": [],
      "text/plain": [
       "<IPython.core.display.HTML object>"
      ]
     },
     "metadata": {
      "display_id": "6074ec069a49b253d3a84fa2eaaff27e"
     },
     "output_type": "display_data",
     "transient": {
      "display_id": "6074ec069a49b253d3a84fa2eaaff27e"
     }
    },
    {
     "data": {
      "text/html": [],
      "text/plain": [
       "<IPython.core.display.HTML object>"
      ]
     },
     "metadata": {
      "display_id": "bf17e79775a586b44b7d99b8798edc3f"
     },
     "output_type": "display_data",
     "transient": {
      "display_id": "bf17e79775a586b44b7d99b8798edc3f"
     }
    },
    {
     "data": {
      "text/html": [],
      "text/plain": [
       "<IPython.core.display.HTML object>"
      ]
     },
     "metadata": {
      "display_id": "17bee712d0ebf810042cfd60ff61c018"
     },
     "output_type": "display_data",
     "transient": {
      "display_id": "17bee712d0ebf810042cfd60ff61c018"
     }
    },
    {
     "data": {
      "text/html": [],
      "text/plain": [
       "<IPython.core.display.HTML object>"
      ]
     },
     "metadata": {
      "display_id": "496476851206bce3e21b0eadfadafe2f"
     },
     "output_type": "display_data",
     "transient": {
      "display_id": "496476851206bce3e21b0eadfadafe2f"
     }
    },
    {
     "data": {
      "text/html": [],
      "text/plain": [
       "<IPython.core.display.HTML object>"
      ]
     },
     "metadata": {
      "display_id": "fa09a8bed3bb0dcf06eae0a63ce3cf24"
     },
     "output_type": "display_data",
     "transient": {
      "display_id": "fa09a8bed3bb0dcf06eae0a63ce3cf24"
     }
    },
    {
     "data": {
      "text/html": [],
      "text/plain": [
       "<IPython.core.display.HTML object>"
      ]
     },
     "metadata": {
      "display_id": "ee4ca61f2de96e4e368a6d01ee96cae4"
     },
     "output_type": "display_data",
     "transient": {
      "display_id": "ee4ca61f2de96e4e368a6d01ee96cae4"
     }
    },
    {
     "data": {
      "text/html": [],
      "text/plain": [
       "<IPython.core.display.HTML object>"
      ]
     },
     "metadata": {
      "display_id": "205351a4f9e6556d8225d2d02c11a0ae"
     },
     "output_type": "display_data",
     "transient": {
      "display_id": "205351a4f9e6556d8225d2d02c11a0ae"
     }
    },
    {
     "data": {
      "text/html": [],
      "text/plain": [
       "<IPython.core.display.HTML object>"
      ]
     },
     "metadata": {
      "display_id": "46b1a5ab5587c667a35c8286781bdb59"
     },
     "output_type": "display_data",
     "transient": {
      "display_id": "46b1a5ab5587c667a35c8286781bdb59"
     }
    },
    {
     "data": {
      "text/html": [],
      "text/plain": [
       "<IPython.core.display.HTML object>"
      ]
     },
     "metadata": {
      "display_id": "b0e47ae156cc4ebbdf9e6e8f6386dce9"
     },
     "output_type": "display_data",
     "transient": {
      "display_id": "b0e47ae156cc4ebbdf9e6e8f6386dce9"
     }
    },
    {
     "data": {
      "text/html": [],
      "text/plain": [
       "<IPython.core.display.HTML object>"
      ]
     },
     "metadata": {
      "display_id": "15cb53c4adc9cbf77ddfbc3b2f0e94d5"
     },
     "output_type": "display_data",
     "transient": {
      "display_id": "15cb53c4adc9cbf77ddfbc3b2f0e94d5"
     }
    },
    {
     "data": {
      "text/html": [],
      "text/plain": [
       "<IPython.core.display.HTML object>"
      ]
     },
     "metadata": {
      "display_id": "09d04333aaad71f927c924bb89733021"
     },
     "output_type": "display_data",
     "transient": {
      "display_id": "09d04333aaad71f927c924bb89733021"
     }
    },
    {
     "data": {
      "text/html": [],
      "text/plain": [
       "<IPython.core.display.HTML object>"
      ]
     },
     "metadata": {
      "display_id": "8f5b979f5494c346180d0aa39ab2d98c"
     },
     "output_type": "display_data",
     "transient": {
      "display_id": "8f5b979f5494c346180d0aa39ab2d98c"
     }
    },
    {
     "data": {
      "text/html": [],
      "text/plain": [
       "<IPython.core.display.HTML object>"
      ]
     },
     "metadata": {
      "display_id": "778e56ebd224bf6734ec064775f82ce6"
     },
     "output_type": "display_data",
     "transient": {
      "display_id": "778e56ebd224bf6734ec064775f82ce6"
     }
    },
    {
     "data": {
      "text/html": [],
      "text/plain": [
       "<IPython.core.display.HTML object>"
      ]
     },
     "metadata": {
      "display_id": "4e20804147f51de9c1f4eb58abc0cb8c"
     },
     "output_type": "display_data",
     "transient": {
      "display_id": "4e20804147f51de9c1f4eb58abc0cb8c"
     }
    },
    {
     "data": {
      "text/html": [],
      "text/plain": [
       "<IPython.core.display.HTML object>"
      ]
     },
     "metadata": {
      "display_id": "45c6e4f9e21f67cb54604177129699c7"
     },
     "output_type": "display_data",
     "transient": {
      "display_id": "45c6e4f9e21f67cb54604177129699c7"
     }
    },
    {
     "data": {
      "text/html": [],
      "text/plain": [
       "<IPython.core.display.HTML object>"
      ]
     },
     "metadata": {
      "display_id": "2955e65f2c107e5d1aea433762bca009"
     },
     "output_type": "display_data",
     "transient": {
      "display_id": "2955e65f2c107e5d1aea433762bca009"
     }
    },
    {
     "data": {
      "text/html": [],
      "text/plain": [
       "<IPython.core.display.HTML object>"
      ]
     },
     "metadata": {
      "display_id": "78d900246d5fa6eda6b8728f888ec0a7"
     },
     "output_type": "display_data",
     "transient": {
      "display_id": "78d900246d5fa6eda6b8728f888ec0a7"
     }
    },
    {
     "data": {
      "text/html": [],
      "text/plain": [
       "<IPython.core.display.HTML object>"
      ]
     },
     "metadata": {
      "display_id": "63eba69697a0ebe4ccd22672fcc54f5b"
     },
     "output_type": "display_data",
     "transient": {
      "display_id": "63eba69697a0ebe4ccd22672fcc54f5b"
     }
    },
    {
     "data": {
      "text/html": [],
      "text/plain": [
       "<IPython.core.display.HTML object>"
      ]
     },
     "metadata": {
      "display_id": "4d039508f3af0da5de46f76781e6d6e0"
     },
     "output_type": "display_data",
     "transient": {
      "display_id": "4d039508f3af0da5de46f76781e6d6e0"
     }
    },
    {
     "data": {
      "text/html": [],
      "text/plain": [
       "<IPython.core.display.HTML object>"
      ]
     },
     "metadata": {
      "display_id": "0535ffd552a99e8941b490177e7a79d4"
     },
     "output_type": "display_data",
     "transient": {
      "display_id": "0535ffd552a99e8941b490177e7a79d4"
     }
    },
    {
     "data": {
      "text/html": [],
      "text/plain": [
       "<IPython.core.display.HTML object>"
      ]
     },
     "metadata": {
      "display_id": "d8473c832393d3cef8a47c06db026f99"
     },
     "output_type": "display_data",
     "transient": {
      "display_id": "d8473c832393d3cef8a47c06db026f99"
     }
    },
    {
     "data": {
      "text/html": [],
      "text/plain": [
       "<IPython.core.display.HTML object>"
      ]
     },
     "metadata": {
      "display_id": "7b74a851fbdf1128e00982d53028b3cd"
     },
     "output_type": "display_data",
     "transient": {
      "display_id": "7b74a851fbdf1128e00982d53028b3cd"
     }
    },
    {
     "data": {
      "text/html": [],
      "text/plain": [
       "<IPython.core.display.HTML object>"
      ]
     },
     "metadata": {
      "display_id": "b06e0bcb4637e2b01de4b568b0606669"
     },
     "output_type": "display_data",
     "transient": {
      "display_id": "b06e0bcb4637e2b01de4b568b0606669"
     }
    },
    {
     "data": {
      "text/html": [],
      "text/plain": [
       "<IPython.core.display.HTML object>"
      ]
     },
     "metadata": {
      "display_id": "296e41a899fae2e4956ae3e9644960bc"
     },
     "output_type": "display_data",
     "transient": {
      "display_id": "296e41a899fae2e4956ae3e9644960bc"
     }
    },
    {
     "data": {
      "text/html": [],
      "text/plain": [
       "<IPython.core.display.HTML object>"
      ]
     },
     "metadata": {
      "display_id": "b3e56c09521660bc274f7c7016294319"
     },
     "output_type": "display_data",
     "transient": {
      "display_id": "b3e56c09521660bc274f7c7016294319"
     }
    },
    {
     "data": {
      "text/html": [],
      "text/plain": [
       "<IPython.core.display.HTML object>"
      ]
     },
     "metadata": {
      "display_id": "113eee8a96e191780e51725b7f400276"
     },
     "output_type": "display_data",
     "transient": {
      "display_id": "113eee8a96e191780e51725b7f400276"
     }
    },
    {
     "data": {
      "text/html": [],
      "text/plain": [
       "<IPython.core.display.HTML object>"
      ]
     },
     "metadata": {
      "display_id": "f53be0a027016fff006a85440dd0d799"
     },
     "output_type": "display_data",
     "transient": {
      "display_id": "f53be0a027016fff006a85440dd0d799"
     }
    },
    {
     "data": {
      "text/html": [],
      "text/plain": [
       "<IPython.core.display.HTML object>"
      ]
     },
     "metadata": {
      "display_id": "5435d48b1b14ccb696eafdea9d09c1e6"
     },
     "output_type": "display_data",
     "transient": {
      "display_id": "5435d48b1b14ccb696eafdea9d09c1e6"
     }
    },
    {
     "data": {
      "text/html": [],
      "text/plain": [
       "<IPython.core.display.HTML object>"
      ]
     },
     "metadata": {
      "display_id": "1dbac7a084db91d87b1f5c27c1ae0e54"
     },
     "output_type": "display_data",
     "transient": {
      "display_id": "1dbac7a084db91d87b1f5c27c1ae0e54"
     }
    },
    {
     "data": {
      "text/html": [],
      "text/plain": [
       "<IPython.core.display.HTML object>"
      ]
     },
     "metadata": {
      "display_id": "199e970d041a1db17ba4eb98f49f6460"
     },
     "output_type": "display_data",
     "transient": {
      "display_id": "199e970d041a1db17ba4eb98f49f6460"
     }
    },
    {
     "data": {
      "text/html": [],
      "text/plain": [
       "<IPython.core.display.HTML object>"
      ]
     },
     "metadata": {
      "display_id": "a53d8e2782fab920157fbba038d44f15"
     },
     "output_type": "display_data",
     "transient": {
      "display_id": "a53d8e2782fab920157fbba038d44f15"
     }
    },
    {
     "data": {
      "text/html": [],
      "text/plain": [
       "<IPython.core.display.HTML object>"
      ]
     },
     "metadata": {
      "display_id": "79d854eef800a87e5e0fe0d0b1d6d592"
     },
     "output_type": "display_data",
     "transient": {
      "display_id": "79d854eef800a87e5e0fe0d0b1d6d592"
     }
    },
    {
     "data": {
      "text/html": [],
      "text/plain": [
       "<IPython.core.display.HTML object>"
      ]
     },
     "metadata": {
      "display_id": "21d74df4f1ae5134772a35b66d943586"
     },
     "output_type": "display_data",
     "transient": {
      "display_id": "21d74df4f1ae5134772a35b66d943586"
     }
    },
    {
     "data": {
      "text/html": [],
      "text/plain": [
       "<IPython.core.display.HTML object>"
      ]
     },
     "metadata": {
      "display_id": "1f9a993397ad165e5f1a2440a42bfea9"
     },
     "output_type": "display_data",
     "transient": {
      "display_id": "1f9a993397ad165e5f1a2440a42bfea9"
     }
    },
    {
     "data": {
      "text/html": [],
      "text/plain": [
       "<IPython.core.display.HTML object>"
      ]
     },
     "metadata": {
      "display_id": "8d98fd1d9d4b378e1e031d1b48e2d599"
     },
     "output_type": "display_data",
     "transient": {
      "display_id": "8d98fd1d9d4b378e1e031d1b48e2d599"
     }
    },
    {
     "data": {
      "text/html": [],
      "text/plain": [
       "<IPython.core.display.HTML object>"
      ]
     },
     "metadata": {
      "display_id": "4b8dcc4da41752e44943f3ccfd6071a3"
     },
     "output_type": "display_data",
     "transient": {
      "display_id": "4b8dcc4da41752e44943f3ccfd6071a3"
     }
    },
    {
     "data": {
      "text/html": [],
      "text/plain": [
       "<IPython.core.display.HTML object>"
      ]
     },
     "metadata": {
      "display_id": "adf078351ac11c0975a5beafdceb3ec6"
     },
     "output_type": "display_data",
     "transient": {
      "display_id": "adf078351ac11c0975a5beafdceb3ec6"
     }
    },
    {
     "data": {
      "text/html": [],
      "text/plain": [
       "<IPython.core.display.HTML object>"
      ]
     },
     "metadata": {
      "display_id": "8ea32dac7fb4053c319e30bd5d8cffb9"
     },
     "output_type": "display_data",
     "transient": {
      "display_id": "8ea32dac7fb4053c319e30bd5d8cffb9"
     }
    },
    {
     "data": {
      "text/html": [],
      "text/plain": [
       "<IPython.core.display.HTML object>"
      ]
     },
     "metadata": {
      "display_id": "0d39f29dad13659f87099e32339e2b2a"
     },
     "output_type": "display_data",
     "transient": {
      "display_id": "0d39f29dad13659f87099e32339e2b2a"
     }
    },
    {
     "data": {
      "text/html": [],
      "text/plain": [
       "<IPython.core.display.HTML object>"
      ]
     },
     "metadata": {
      "display_id": "2caed44d94124724aebc6e36a41c648e"
     },
     "output_type": "display_data",
     "transient": {
      "display_id": "2caed44d94124724aebc6e36a41c648e"
     }
    },
    {
     "data": {
      "text/html": [],
      "text/plain": [
       "<IPython.core.display.HTML object>"
      ]
     },
     "metadata": {
      "display_id": "c789eca5b47d6a0137d3e32a76bae325"
     },
     "output_type": "display_data",
     "transient": {
      "display_id": "c789eca5b47d6a0137d3e32a76bae325"
     }
    },
    {
     "data": {
      "text/html": [],
      "text/plain": [
       "<IPython.core.display.HTML object>"
      ]
     },
     "metadata": {
      "display_id": "f1adeeff559bfeb00023ab9992aa775b"
     },
     "output_type": "display_data",
     "transient": {
      "display_id": "f1adeeff559bfeb00023ab9992aa775b"
     }
    },
    {
     "data": {
      "text/html": [],
      "text/plain": [
       "<IPython.core.display.HTML object>"
      ]
     },
     "metadata": {
      "display_id": "e30ce7ee3e62fe24d4c91eceb39c1a3c"
     },
     "output_type": "display_data",
     "transient": {
      "display_id": "e30ce7ee3e62fe24d4c91eceb39c1a3c"
     }
    },
    {
     "data": {
      "text/html": [],
      "text/plain": [
       "<IPython.core.display.HTML object>"
      ]
     },
     "metadata": {
      "display_id": "bd4063e46b7dbb9c35dbda0cabfddb2b"
     },
     "output_type": "display_data",
     "transient": {
      "display_id": "bd4063e46b7dbb9c35dbda0cabfddb2b"
     }
    },
    {
     "data": {
      "text/html": [],
      "text/plain": [
       "<IPython.core.display.HTML object>"
      ]
     },
     "metadata": {
      "display_id": "70707d5b28a298786f1d066b65c315ed"
     },
     "output_type": "display_data",
     "transient": {
      "display_id": "70707d5b28a298786f1d066b65c315ed"
     }
    },
    {
     "data": {
      "text/html": [],
      "text/plain": [
       "<IPython.core.display.HTML object>"
      ]
     },
     "metadata": {
      "display_id": "5c3c0a384a4e58a653c5694463b0ef69"
     },
     "output_type": "display_data",
     "transient": {
      "display_id": "5c3c0a384a4e58a653c5694463b0ef69"
     }
    },
    {
     "data": {
      "text/html": [],
      "text/plain": [
       "<IPython.core.display.HTML object>"
      ]
     },
     "metadata": {
      "display_id": "a9cc9bbf95adc1dc809dc3c9339413d0"
     },
     "output_type": "display_data",
     "transient": {
      "display_id": "a9cc9bbf95adc1dc809dc3c9339413d0"
     }
    },
    {
     "data": {
      "text/html": [],
      "text/plain": [
       "<IPython.core.display.HTML object>"
      ]
     },
     "metadata": {
      "display_id": "a5d7aa00df32b8cac64e262a0dfe8407"
     },
     "output_type": "display_data",
     "transient": {
      "display_id": "a5d7aa00df32b8cac64e262a0dfe8407"
     }
    },
    {
     "data": {
      "text/html": [],
      "text/plain": [
       "<IPython.core.display.HTML object>"
      ]
     },
     "metadata": {
      "display_id": "25ac8f7fd0a285973a6958854f0a3453"
     },
     "output_type": "display_data",
     "transient": {
      "display_id": "25ac8f7fd0a285973a6958854f0a3453"
     }
    },
    {
     "data": {
      "text/html": [],
      "text/plain": [
       "<IPython.core.display.HTML object>"
      ]
     },
     "metadata": {
      "display_id": "cadc1f60a966e6342f21f56276275432"
     },
     "output_type": "display_data",
     "transient": {
      "display_id": "cadc1f60a966e6342f21f56276275432"
     }
    },
    {
     "data": {
      "text/html": [],
      "text/plain": [
       "<IPython.core.display.HTML object>"
      ]
     },
     "metadata": {
      "display_id": "c1dfa08fee2a33b3a7b7bc771636e6cf"
     },
     "output_type": "display_data",
     "transient": {
      "display_id": "c1dfa08fee2a33b3a7b7bc771636e6cf"
     }
    },
    {
     "data": {
      "text/html": [],
      "text/plain": [
       "<IPython.core.display.HTML object>"
      ]
     },
     "metadata": {
      "display_id": "5da8c5ca252465c75c27eb9640080a10"
     },
     "output_type": "display_data",
     "transient": {
      "display_id": "5da8c5ca252465c75c27eb9640080a10"
     }
    },
    {
     "data": {
      "text/html": [],
      "text/plain": [
       "<IPython.core.display.HTML object>"
      ]
     },
     "metadata": {
      "display_id": "0c0a40e91992143c8fa5249553b7d284"
     },
     "output_type": "display_data",
     "transient": {
      "display_id": "0c0a40e91992143c8fa5249553b7d284"
     }
    },
    {
     "data": {
      "text/html": [],
      "text/plain": [
       "<IPython.core.display.HTML object>"
      ]
     },
     "metadata": {
      "display_id": "74c4755d0b94ea44fd345603335d0fd2"
     },
     "output_type": "display_data",
     "transient": {
      "display_id": "74c4755d0b94ea44fd345603335d0fd2"
     }
    },
    {
     "data": {
      "text/html": [],
      "text/plain": [
       "<IPython.core.display.HTML object>"
      ]
     },
     "metadata": {
      "display_id": "8ae0bc490d2a44326cc035569138c3fb"
     },
     "output_type": "display_data",
     "transient": {
      "display_id": "8ae0bc490d2a44326cc035569138c3fb"
     }
    },
    {
     "data": {
      "text/html": [],
      "text/plain": [
       "<IPython.core.display.HTML object>"
      ]
     },
     "metadata": {
      "display_id": "84425c66699d708fc11902f5efe8bee3"
     },
     "output_type": "display_data",
     "transient": {
      "display_id": "84425c66699d708fc11902f5efe8bee3"
     }
    },
    {
     "data": {
      "text/html": [],
      "text/plain": [
       "<IPython.core.display.HTML object>"
      ]
     },
     "metadata": {
      "display_id": "59f6fa385d92a919fcab4ad1a3f44dd6"
     },
     "output_type": "display_data",
     "transient": {
      "display_id": "59f6fa385d92a919fcab4ad1a3f44dd6"
     }
    },
    {
     "data": {
      "text/html": [],
      "text/plain": [
       "<IPython.core.display.HTML object>"
      ]
     },
     "metadata": {
      "display_id": "dfb895d76881ac5a4e64440af559fbca"
     },
     "output_type": "display_data",
     "transient": {
      "display_id": "dfb895d76881ac5a4e64440af559fbca"
     }
    },
    {
     "data": {
      "text/html": [],
      "text/plain": [
       "<IPython.core.display.HTML object>"
      ]
     },
     "metadata": {
      "display_id": "e977553b1288c08787f4a108536044f9"
     },
     "output_type": "display_data",
     "transient": {
      "display_id": "e977553b1288c08787f4a108536044f9"
     }
    },
    {
     "data": {
      "text/html": [],
      "text/plain": [
       "<IPython.core.display.HTML object>"
      ]
     },
     "metadata": {
      "display_id": "724588a8e5ba0ef23772653ad231ee84"
     },
     "output_type": "display_data",
     "transient": {
      "display_id": "724588a8e5ba0ef23772653ad231ee84"
     }
    },
    {
     "data": {
      "text/html": [],
      "text/plain": [
       "<IPython.core.display.HTML object>"
      ]
     },
     "metadata": {
      "display_id": "f0e5f514257b460c697546be02f3242c"
     },
     "output_type": "display_data",
     "transient": {
      "display_id": "f0e5f514257b460c697546be02f3242c"
     }
    },
    {
     "data": {
      "text/html": [],
      "text/plain": [
       "<IPython.core.display.HTML object>"
      ]
     },
     "metadata": {
      "display_id": "b10ddeb0fec2f89a2382aee2220a2aa6"
     },
     "output_type": "display_data",
     "transient": {
      "display_id": "b10ddeb0fec2f89a2382aee2220a2aa6"
     }
    },
    {
     "data": {
      "text/html": [],
      "text/plain": [
       "<IPython.core.display.HTML object>"
      ]
     },
     "metadata": {
      "display_id": "f78df78b6023059f72af007f915ef909"
     },
     "output_type": "display_data",
     "transient": {
      "display_id": "f78df78b6023059f72af007f915ef909"
     }
    },
    {
     "data": {
      "text/html": [],
      "text/plain": [
       "<IPython.core.display.HTML object>"
      ]
     },
     "metadata": {
      "display_id": "34be374bbb58248cc54e76fc50606ef6"
     },
     "output_type": "display_data",
     "transient": {
      "display_id": "34be374bbb58248cc54e76fc50606ef6"
     }
    },
    {
     "data": {
      "text/html": [],
      "text/plain": [
       "<IPython.core.display.HTML object>"
      ]
     },
     "metadata": {
      "display_id": "abac7620e20f67c5c108fed76f8c888e"
     },
     "output_type": "display_data",
     "transient": {
      "display_id": "abac7620e20f67c5c108fed76f8c888e"
     }
    },
    {
     "data": {
      "text/html": [],
      "text/plain": [
       "<IPython.core.display.HTML object>"
      ]
     },
     "metadata": {
      "display_id": "1bbf0732e637d101d1c4b9611a6e6178"
     },
     "output_type": "display_data",
     "transient": {
      "display_id": "1bbf0732e637d101d1c4b9611a6e6178"
     }
    },
    {
     "data": {
      "text/html": [],
      "text/plain": [
       "<IPython.core.display.HTML object>"
      ]
     },
     "metadata": {
      "display_id": "f50dfdc5bfad8cfec2d6bc86102b7536"
     },
     "output_type": "display_data",
     "transient": {
      "display_id": "f50dfdc5bfad8cfec2d6bc86102b7536"
     }
    },
    {
     "data": {
      "text/html": [],
      "text/plain": [
       "<IPython.core.display.HTML object>"
      ]
     },
     "metadata": {
      "display_id": "ffaa88df77b81e95d79072bf78e9ee55"
     },
     "output_type": "display_data",
     "transient": {
      "display_id": "ffaa88df77b81e95d79072bf78e9ee55"
     }
    },
    {
     "data": {
      "text/html": [],
      "text/plain": [
       "<IPython.core.display.HTML object>"
      ]
     },
     "metadata": {
      "display_id": "5fac2200c6e0f94a166a3f33830d3ed9"
     },
     "output_type": "display_data",
     "transient": {
      "display_id": "5fac2200c6e0f94a166a3f33830d3ed9"
     }
    },
    {
     "data": {
      "text/html": [],
      "text/plain": [
       "<IPython.core.display.HTML object>"
      ]
     },
     "metadata": {
      "display_id": "28fbce4b5915d2aa1aa24d403e1dbfeb"
     },
     "output_type": "display_data",
     "transient": {
      "display_id": "28fbce4b5915d2aa1aa24d403e1dbfeb"
     }
    },
    {
     "data": {
      "text/html": [],
      "text/plain": [
       "<IPython.core.display.HTML object>"
      ]
     },
     "metadata": {
      "display_id": "80bc8aabd849ad853e7daa979e4c8ce1"
     },
     "output_type": "display_data",
     "transient": {
      "display_id": "80bc8aabd849ad853e7daa979e4c8ce1"
     }
    },
    {
     "data": {
      "text/html": [],
      "text/plain": [
       "<IPython.core.display.HTML object>"
      ]
     },
     "metadata": {
      "display_id": "d1721499ad24331dcd1a25edafabb9d8"
     },
     "output_type": "display_data",
     "transient": {
      "display_id": "d1721499ad24331dcd1a25edafabb9d8"
     }
    },
    {
     "data": {
      "text/html": [],
      "text/plain": [
       "<IPython.core.display.HTML object>"
      ]
     },
     "metadata": {
      "display_id": "88a2f916ecf9f4b7a4ffa40b4b62fcdb"
     },
     "output_type": "display_data",
     "transient": {
      "display_id": "88a2f916ecf9f4b7a4ffa40b4b62fcdb"
     }
    },
    {
     "data": {
      "text/html": [],
      "text/plain": [
       "<IPython.core.display.HTML object>"
      ]
     },
     "metadata": {
      "display_id": "18b08c8dfbcfa776edd67337f24960b9"
     },
     "output_type": "display_data",
     "transient": {
      "display_id": "18b08c8dfbcfa776edd67337f24960b9"
     }
    },
    {
     "data": {
      "text/html": [],
      "text/plain": [
       "<IPython.core.display.HTML object>"
      ]
     },
     "metadata": {
      "display_id": "85400af348caff22a1c55335b7f87c8a"
     },
     "output_type": "display_data",
     "transient": {
      "display_id": "85400af348caff22a1c55335b7f87c8a"
     }
    },
    {
     "data": {
      "text/html": [],
      "text/plain": [
       "<IPython.core.display.HTML object>"
      ]
     },
     "metadata": {
      "display_id": "5cc57fe8cc1ead324942126d216d2370"
     },
     "output_type": "display_data",
     "transient": {
      "display_id": "5cc57fe8cc1ead324942126d216d2370"
     }
    },
    {
     "data": {
      "text/html": [],
      "text/plain": [
       "<IPython.core.display.HTML object>"
      ]
     },
     "metadata": {
      "display_id": "b9ab44692aff7bcf47fe0950debf342b"
     },
     "output_type": "display_data",
     "transient": {
      "display_id": "b9ab44692aff7bcf47fe0950debf342b"
     }
    },
    {
     "data": {
      "text/html": [],
      "text/plain": [
       "<IPython.core.display.HTML object>"
      ]
     },
     "metadata": {
      "display_id": "29a7ab0773a0021225da4cbbde901ee6"
     },
     "output_type": "display_data",
     "transient": {
      "display_id": "29a7ab0773a0021225da4cbbde901ee6"
     }
    },
    {
     "data": {
      "text/html": [],
      "text/plain": [
       "<IPython.core.display.HTML object>"
      ]
     },
     "metadata": {
      "display_id": "b9711d265413077a1333c8e03858a9ec"
     },
     "output_type": "display_data",
     "transient": {
      "display_id": "b9711d265413077a1333c8e03858a9ec"
     }
    },
    {
     "data": {
      "text/html": [],
      "text/plain": [
       "<IPython.core.display.HTML object>"
      ]
     },
     "metadata": {
      "display_id": "e30652cf1dbdc728981cb9d8e523ab48"
     },
     "output_type": "display_data",
     "transient": {
      "display_id": "e30652cf1dbdc728981cb9d8e523ab48"
     }
    },
    {
     "data": {
      "text/html": [],
      "text/plain": [
       "<IPython.core.display.HTML object>"
      ]
     },
     "metadata": {
      "display_id": "fbf686a35f3c28a59c1d66dd750f9450"
     },
     "output_type": "display_data",
     "transient": {
      "display_id": "fbf686a35f3c28a59c1d66dd750f9450"
     }
    },
    {
     "data": {
      "text/html": [],
      "text/plain": [
       "<IPython.core.display.HTML object>"
      ]
     },
     "metadata": {
      "display_id": "792476ec3e15cfd4ab138a6012bdabf5"
     },
     "output_type": "display_data",
     "transient": {
      "display_id": "792476ec3e15cfd4ab138a6012bdabf5"
     }
    },
    {
     "data": {
      "text/html": [],
      "text/plain": [
       "<IPython.core.display.HTML object>"
      ]
     },
     "metadata": {
      "display_id": "799cbd38a230d606b268e35574e7c350"
     },
     "output_type": "display_data",
     "transient": {
      "display_id": "799cbd38a230d606b268e35574e7c350"
     }
    },
    {
     "data": {
      "text/html": [],
      "text/plain": [
       "<IPython.core.display.HTML object>"
      ]
     },
     "metadata": {
      "display_id": "0585d03d1580ca6778cd5815b0278a6d"
     },
     "output_type": "display_data",
     "transient": {
      "display_id": "0585d03d1580ca6778cd5815b0278a6d"
     }
    },
    {
     "data": {
      "text/html": [],
      "text/plain": [
       "<IPython.core.display.HTML object>"
      ]
     },
     "metadata": {
      "display_id": "5e95dc60ed17bcaacbcd40ed6cd5bf7b"
     },
     "output_type": "display_data",
     "transient": {
      "display_id": "5e95dc60ed17bcaacbcd40ed6cd5bf7b"
     }
    },
    {
     "data": {
      "text/html": [],
      "text/plain": [
       "<IPython.core.display.HTML object>"
      ]
     },
     "metadata": {
      "display_id": "95e586065369c40e4834dba06260642c"
     },
     "output_type": "display_data",
     "transient": {
      "display_id": "95e586065369c40e4834dba06260642c"
     }
    },
    {
     "data": {
      "text/html": [],
      "text/plain": [
       "<IPython.core.display.HTML object>"
      ]
     },
     "metadata": {
      "display_id": "221ae1ff0f568f303956b16edb3795ca"
     },
     "output_type": "display_data",
     "transient": {
      "display_id": "221ae1ff0f568f303956b16edb3795ca"
     }
    },
    {
     "data": {
      "text/html": [],
      "text/plain": [
       "<IPython.core.display.HTML object>"
      ]
     },
     "metadata": {
      "display_id": "ece4b4eec699181b016450c568aee1e9"
     },
     "output_type": "display_data",
     "transient": {
      "display_id": "ece4b4eec699181b016450c568aee1e9"
     }
    },
    {
     "data": {
      "text/html": [],
      "text/plain": [
       "<IPython.core.display.HTML object>"
      ]
     },
     "metadata": {
      "display_id": "97d19deeef8d3a01996f872b19ef154a"
     },
     "output_type": "display_data",
     "transient": {
      "display_id": "97d19deeef8d3a01996f872b19ef154a"
     }
    },
    {
     "data": {
      "text/html": [],
      "text/plain": [
       "<IPython.core.display.HTML object>"
      ]
     },
     "metadata": {
      "display_id": "a2580d8b6b10ab86af7c3bb406992fb3"
     },
     "output_type": "display_data",
     "transient": {
      "display_id": "a2580d8b6b10ab86af7c3bb406992fb3"
     }
    },
    {
     "data": {
      "text/html": [],
      "text/plain": [
       "<IPython.core.display.HTML object>"
      ]
     },
     "metadata": {
      "display_id": "329f8bfce2e129dcbeb975986a5de7d8"
     },
     "output_type": "display_data",
     "transient": {
      "display_id": "329f8bfce2e129dcbeb975986a5de7d8"
     }
    },
    {
     "data": {
      "text/html": [],
      "text/plain": [
       "<IPython.core.display.HTML object>"
      ]
     },
     "metadata": {
      "display_id": "0a60e065865f98c03606ac08a1fa16c6"
     },
     "output_type": "display_data",
     "transient": {
      "display_id": "0a60e065865f98c03606ac08a1fa16c6"
     }
    },
    {
     "data": {
      "text/html": [],
      "text/plain": [
       "<IPython.core.display.HTML object>"
      ]
     },
     "metadata": {
      "display_id": "88fa33c053084fe8e97345fdb63a69dd"
     },
     "output_type": "display_data",
     "transient": {
      "display_id": "88fa33c053084fe8e97345fdb63a69dd"
     }
    },
    {
     "data": {
      "text/html": [],
      "text/plain": [
       "<IPython.core.display.HTML object>"
      ]
     },
     "metadata": {
      "display_id": "ba7649cffe50e8fc0bf5036d6adb60d9"
     },
     "output_type": "display_data",
     "transient": {
      "display_id": "ba7649cffe50e8fc0bf5036d6adb60d9"
     }
    },
    {
     "data": {
      "text/html": [],
      "text/plain": [
       "<IPython.core.display.HTML object>"
      ]
     },
     "metadata": {
      "display_id": "49d9c33842f8b5e4a0433927f88a586e"
     },
     "output_type": "display_data",
     "transient": {
      "display_id": "49d9c33842f8b5e4a0433927f88a586e"
     }
    },
    {
     "data": {
      "text/html": [],
      "text/plain": [
       "<IPython.core.display.HTML object>"
      ]
     },
     "metadata": {
      "display_id": "98da260dac86163aadffc8891a029516"
     },
     "output_type": "display_data",
     "transient": {
      "display_id": "98da260dac86163aadffc8891a029516"
     }
    },
    {
     "data": {
      "text/html": [],
      "text/plain": [
       "<IPython.core.display.HTML object>"
      ]
     },
     "metadata": {
      "display_id": "050149e9c65e7452cf912ffd8f8b3194"
     },
     "output_type": "display_data",
     "transient": {
      "display_id": "050149e9c65e7452cf912ffd8f8b3194"
     }
    },
    {
     "data": {
      "text/html": [],
      "text/plain": [
       "<IPython.core.display.HTML object>"
      ]
     },
     "metadata": {
      "display_id": "c0dda6d9ef7adc56032f4d622e737c32"
     },
     "output_type": "display_data",
     "transient": {
      "display_id": "c0dda6d9ef7adc56032f4d622e737c32"
     }
    },
    {
     "data": {
      "text/html": [],
      "text/plain": [
       "<IPython.core.display.HTML object>"
      ]
     },
     "metadata": {
      "display_id": "fbe6b6718094c0886fdda4e23fa43122"
     },
     "output_type": "display_data",
     "transient": {
      "display_id": "fbe6b6718094c0886fdda4e23fa43122"
     }
    },
    {
     "data": {
      "text/html": [],
      "text/plain": [
       "<IPython.core.display.HTML object>"
      ]
     },
     "metadata": {
      "display_id": "483f223c1c70aad67a7eecde836b04c6"
     },
     "output_type": "display_data",
     "transient": {
      "display_id": "483f223c1c70aad67a7eecde836b04c6"
     }
    },
    {
     "data": {
      "text/html": [],
      "text/plain": [
       "<IPython.core.display.HTML object>"
      ]
     },
     "metadata": {
      "display_id": "c3e9f0e3ec347b69258bb4bca1b795dc"
     },
     "output_type": "display_data",
     "transient": {
      "display_id": "c3e9f0e3ec347b69258bb4bca1b795dc"
     }
    },
    {
     "data": {
      "text/html": [],
      "text/plain": [
       "<IPython.core.display.HTML object>"
      ]
     },
     "metadata": {
      "display_id": "d893a905234c0917d2d9607de85d35d3"
     },
     "output_type": "display_data",
     "transient": {
      "display_id": "d893a905234c0917d2d9607de85d35d3"
     }
    },
    {
     "data": {
      "text/html": [],
      "text/plain": [
       "<IPython.core.display.HTML object>"
      ]
     },
     "metadata": {
      "display_id": "56b808203b5d717f40571598f615d5d6"
     },
     "output_type": "display_data",
     "transient": {
      "display_id": "56b808203b5d717f40571598f615d5d6"
     }
    },
    {
     "data": {
      "text/html": [],
      "text/plain": [
       "<IPython.core.display.HTML object>"
      ]
     },
     "metadata": {
      "display_id": "852cfadc1e71d8fec4680aa032973694"
     },
     "output_type": "display_data",
     "transient": {
      "display_id": "852cfadc1e71d8fec4680aa032973694"
     }
    },
    {
     "data": {
      "text/html": [],
      "text/plain": [
       "<IPython.core.display.HTML object>"
      ]
     },
     "metadata": {
      "display_id": "8e7ff42cdd558006a3c9d937acbd7864"
     },
     "output_type": "display_data",
     "transient": {
      "display_id": "8e7ff42cdd558006a3c9d937acbd7864"
     }
    },
    {
     "data": {
      "text/html": [],
      "text/plain": [
       "<IPython.core.display.HTML object>"
      ]
     },
     "metadata": {
      "display_id": "4373d00ef236ae6756285740212c72d8"
     },
     "output_type": "display_data",
     "transient": {
      "display_id": "4373d00ef236ae6756285740212c72d8"
     }
    },
    {
     "data": {
      "text/html": [],
      "text/plain": [
       "<IPython.core.display.HTML object>"
      ]
     },
     "metadata": {
      "display_id": "b812f4a7ae45f3eb5afc91ef706f0ccf"
     },
     "output_type": "display_data",
     "transient": {
      "display_id": "b812f4a7ae45f3eb5afc91ef706f0ccf"
     }
    },
    {
     "data": {
      "text/html": [],
      "text/plain": [
       "<IPython.core.display.HTML object>"
      ]
     },
     "metadata": {
      "display_id": "4ddaa1142863f6e6576c073d8cd62cd4"
     },
     "output_type": "display_data",
     "transient": {
      "display_id": "4ddaa1142863f6e6576c073d8cd62cd4"
     }
    },
    {
     "data": {
      "text/html": [],
      "text/plain": [
       "<IPython.core.display.HTML object>"
      ]
     },
     "metadata": {
      "display_id": "32d0ab123a878d7fca9366a85b07a926"
     },
     "output_type": "display_data",
     "transient": {
      "display_id": "32d0ab123a878d7fca9366a85b07a926"
     }
    },
    {
     "data": {
      "text/html": [],
      "text/plain": [
       "<IPython.core.display.HTML object>"
      ]
     },
     "metadata": {
      "display_id": "5f0264da261356b2008fac411ea9003e"
     },
     "output_type": "display_data",
     "transient": {
      "display_id": "5f0264da261356b2008fac411ea9003e"
     }
    },
    {
     "data": {
      "text/html": [],
      "text/plain": [
       "<IPython.core.display.HTML object>"
      ]
     },
     "metadata": {
      "display_id": "2c26de9d03b81fc186ae4490a020ca67"
     },
     "output_type": "display_data",
     "transient": {
      "display_id": "2c26de9d03b81fc186ae4490a020ca67"
     }
    },
    {
     "data": {
      "text/html": [],
      "text/plain": [
       "<IPython.core.display.HTML object>"
      ]
     },
     "metadata": {
      "display_id": "9947a9735d0500882c6b9ccc37dd4900"
     },
     "output_type": "display_data",
     "transient": {
      "display_id": "9947a9735d0500882c6b9ccc37dd4900"
     }
    },
    {
     "data": {
      "text/html": [],
      "text/plain": [
       "<IPython.core.display.HTML object>"
      ]
     },
     "metadata": {
      "display_id": "186533be55676ebbac65bb6322c72a19"
     },
     "output_type": "display_data",
     "transient": {
      "display_id": "186533be55676ebbac65bb6322c72a19"
     }
    },
    {
     "data": {
      "text/html": [],
      "text/plain": [
       "<IPython.core.display.HTML object>"
      ]
     },
     "metadata": {
      "display_id": "d588cf8101a5a3c344fd93bf6d381ff4"
     },
     "output_type": "display_data",
     "transient": {
      "display_id": "d588cf8101a5a3c344fd93bf6d381ff4"
     }
    },
    {
     "data": {
      "text/html": [],
      "text/plain": [
       "<IPython.core.display.HTML object>"
      ]
     },
     "metadata": {
      "display_id": "c2624c9b2cdfbc2f58d782cbe0e3fec8"
     },
     "output_type": "display_data",
     "transient": {
      "display_id": "c2624c9b2cdfbc2f58d782cbe0e3fec8"
     }
    },
    {
     "data": {
      "text/html": [],
      "text/plain": [
       "<IPython.core.display.HTML object>"
      ]
     },
     "metadata": {
      "display_id": "0881700bed304c4bc6db42a246fc869d"
     },
     "output_type": "display_data",
     "transient": {
      "display_id": "0881700bed304c4bc6db42a246fc869d"
     }
    },
    {
     "data": {
      "text/html": [],
      "text/plain": [
       "<IPython.core.display.HTML object>"
      ]
     },
     "metadata": {
      "display_id": "4dc9e842046f7fc75c6cdd63ad9bb91c"
     },
     "output_type": "display_data",
     "transient": {
      "display_id": "4dc9e842046f7fc75c6cdd63ad9bb91c"
     }
    },
    {
     "data": {
      "text/html": [],
      "text/plain": [
       "<IPython.core.display.HTML object>"
      ]
     },
     "metadata": {
      "display_id": "7638946ddf5d7e2a4aea4da5035e4d3b"
     },
     "output_type": "display_data",
     "transient": {
      "display_id": "7638946ddf5d7e2a4aea4da5035e4d3b"
     }
    },
    {
     "data": {
      "text/html": [],
      "text/plain": [
       "<IPython.core.display.HTML object>"
      ]
     },
     "metadata": {
      "display_id": "700c4c3203c9b09b8d1fd4c2990d3b4d"
     },
     "output_type": "display_data",
     "transient": {
      "display_id": "700c4c3203c9b09b8d1fd4c2990d3b4d"
     }
    },
    {
     "data": {
      "text/html": [],
      "text/plain": [
       "<IPython.core.display.HTML object>"
      ]
     },
     "metadata": {
      "display_id": "e0e1ad128967575bdb12257b1d113265"
     },
     "output_type": "display_data",
     "transient": {
      "display_id": "e0e1ad128967575bdb12257b1d113265"
     }
    },
    {
     "data": {
      "text/html": [],
      "text/plain": [
       "<IPython.core.display.HTML object>"
      ]
     },
     "metadata": {
      "display_id": "0997273d8328cd4dcbad61c49834fed2"
     },
     "output_type": "display_data",
     "transient": {
      "display_id": "0997273d8328cd4dcbad61c49834fed2"
     }
    },
    {
     "data": {
      "text/html": [],
      "text/plain": [
       "<IPython.core.display.HTML object>"
      ]
     },
     "metadata": {
      "display_id": "00e7db484eedfa27041ec63604c10dd1"
     },
     "output_type": "display_data",
     "transient": {
      "display_id": "00e7db484eedfa27041ec63604c10dd1"
     }
    },
    {
     "data": {
      "text/html": [],
      "text/plain": [
       "<IPython.core.display.HTML object>"
      ]
     },
     "metadata": {
      "display_id": "4656ca366a7aa49a3a630b5e6e368a41"
     },
     "output_type": "display_data",
     "transient": {
      "display_id": "4656ca366a7aa49a3a630b5e6e368a41"
     }
    },
    {
     "data": {
      "text/html": [],
      "text/plain": [
       "<IPython.core.display.HTML object>"
      ]
     },
     "metadata": {
      "display_id": "91e5454169f290f7827c643c323a7230"
     },
     "output_type": "display_data",
     "transient": {
      "display_id": "91e5454169f290f7827c643c323a7230"
     }
    },
    {
     "data": {
      "text/html": [],
      "text/plain": [
       "<IPython.core.display.HTML object>"
      ]
     },
     "metadata": {
      "display_id": "466cf1bb21b4a77675df8bb4eda0e7ff"
     },
     "output_type": "display_data",
     "transient": {
      "display_id": "466cf1bb21b4a77675df8bb4eda0e7ff"
     }
    },
    {
     "data": {
      "text/html": [],
      "text/plain": [
       "<IPython.core.display.HTML object>"
      ]
     },
     "metadata": {
      "display_id": "172a80a9bc9a72d1e52358dbca59c1d9"
     },
     "output_type": "display_data",
     "transient": {
      "display_id": "172a80a9bc9a72d1e52358dbca59c1d9"
     }
    },
    {
     "data": {
      "text/html": [],
      "text/plain": [
       "<IPython.core.display.HTML object>"
      ]
     },
     "metadata": {
      "display_id": "085a7c89a392438dcc9b4fa78fe0410d"
     },
     "output_type": "display_data",
     "transient": {
      "display_id": "085a7c89a392438dcc9b4fa78fe0410d"
     }
    },
    {
     "data": {
      "text/html": [],
      "text/plain": [
       "<IPython.core.display.HTML object>"
      ]
     },
     "metadata": {
      "display_id": "0c185e8405db18ac3c75657199df2afc"
     },
     "output_type": "display_data",
     "transient": {
      "display_id": "0c185e8405db18ac3c75657199df2afc"
     }
    },
    {
     "data": {
      "text/html": [],
      "text/plain": [
       "<IPython.core.display.HTML object>"
      ]
     },
     "metadata": {
      "display_id": "cd086b0d360066d0805dae69e91ff5d7"
     },
     "output_type": "display_data",
     "transient": {
      "display_id": "cd086b0d360066d0805dae69e91ff5d7"
     }
    },
    {
     "data": {
      "text/html": [],
      "text/plain": [
       "<IPython.core.display.HTML object>"
      ]
     },
     "metadata": {
      "display_id": "fb82d2eaa42465a623338bd57d82b3e6"
     },
     "output_type": "display_data",
     "transient": {
      "display_id": "fb82d2eaa42465a623338bd57d82b3e6"
     }
    },
    {
     "data": {
      "text/html": [],
      "text/plain": [
       "<IPython.core.display.HTML object>"
      ]
     },
     "metadata": {
      "display_id": "48189ce63b3e18856c37c4257134ea06"
     },
     "output_type": "display_data",
     "transient": {
      "display_id": "48189ce63b3e18856c37c4257134ea06"
     }
    },
    {
     "data": {
      "text/html": [],
      "text/plain": [
       "<IPython.core.display.HTML object>"
      ]
     },
     "metadata": {
      "display_id": "f94c6d750d60f9bf303541b946162c52"
     },
     "output_type": "display_data",
     "transient": {
      "display_id": "f94c6d750d60f9bf303541b946162c52"
     }
    },
    {
     "data": {
      "text/html": [],
      "text/plain": [
       "<IPython.core.display.HTML object>"
      ]
     },
     "metadata": {
      "display_id": "a8cae8f54917753db791b30d9f8643e7"
     },
     "output_type": "display_data",
     "transient": {
      "display_id": "a8cae8f54917753db791b30d9f8643e7"
     }
    },
    {
     "data": {
      "text/html": [],
      "text/plain": [
       "<IPython.core.display.HTML object>"
      ]
     },
     "metadata": {
      "display_id": "328333c0a96896a63aa9bb23a5e61319"
     },
     "output_type": "display_data",
     "transient": {
      "display_id": "328333c0a96896a63aa9bb23a5e61319"
     }
    },
    {
     "data": {
      "text/html": [],
      "text/plain": [
       "<IPython.core.display.HTML object>"
      ]
     },
     "metadata": {
      "display_id": "c26ffbfb0509d7805b45e4061cd85ee3"
     },
     "output_type": "display_data",
     "transient": {
      "display_id": "c26ffbfb0509d7805b45e4061cd85ee3"
     }
    },
    {
     "data": {
      "text/html": [],
      "text/plain": [
       "<IPython.core.display.HTML object>"
      ]
     },
     "metadata": {
      "display_id": "ffa314bfae0a47db502bf677d8d19f38"
     },
     "output_type": "display_data",
     "transient": {
      "display_id": "ffa314bfae0a47db502bf677d8d19f38"
     }
    },
    {
     "data": {
      "text/html": [],
      "text/plain": [
       "<IPython.core.display.HTML object>"
      ]
     },
     "metadata": {
      "display_id": "b4913b0b097172985a0df11c26f526e5"
     },
     "output_type": "display_data",
     "transient": {
      "display_id": "b4913b0b097172985a0df11c26f526e5"
     }
    },
    {
     "data": {
      "text/html": [],
      "text/plain": [
       "<IPython.core.display.HTML object>"
      ]
     },
     "metadata": {
      "display_id": "d446ccde49a21d80b1f44b675ae095dd"
     },
     "output_type": "display_data",
     "transient": {
      "display_id": "d446ccde49a21d80b1f44b675ae095dd"
     }
    },
    {
     "data": {
      "text/html": [],
      "text/plain": [
       "<IPython.core.display.HTML object>"
      ]
     },
     "metadata": {
      "display_id": "58d10fda295a173e003d36b7c80aef95"
     },
     "output_type": "display_data",
     "transient": {
      "display_id": "58d10fda295a173e003d36b7c80aef95"
     }
    },
    {
     "data": {
      "text/html": [],
      "text/plain": [
       "<IPython.core.display.HTML object>"
      ]
     },
     "metadata": {
      "display_id": "f1c2c046801dc1bb22712692d3783540"
     },
     "output_type": "display_data",
     "transient": {
      "display_id": "f1c2c046801dc1bb22712692d3783540"
     }
    },
    {
     "data": {
      "text/html": [],
      "text/plain": [
       "<IPython.core.display.HTML object>"
      ]
     },
     "metadata": {
      "display_id": "3a9fb8416ec65b360c10164a85f001e6"
     },
     "output_type": "display_data",
     "transient": {
      "display_id": "3a9fb8416ec65b360c10164a85f001e6"
     }
    },
    {
     "data": {
      "text/html": [],
      "text/plain": [
       "<IPython.core.display.HTML object>"
      ]
     },
     "metadata": {
      "display_id": "2c5a79a2805002e5a09271e85b713e6e"
     },
     "output_type": "display_data",
     "transient": {
      "display_id": "2c5a79a2805002e5a09271e85b713e6e"
     }
    },
    {
     "data": {
      "text/html": [],
      "text/plain": [
       "<IPython.core.display.HTML object>"
      ]
     },
     "metadata": {
      "display_id": "1dbd90d99d37817d979b5fcdbfa11921"
     },
     "output_type": "display_data",
     "transient": {
      "display_id": "1dbd90d99d37817d979b5fcdbfa11921"
     }
    },
    {
     "data": {
      "text/html": [],
      "text/plain": [
       "<IPython.core.display.HTML object>"
      ]
     },
     "metadata": {
      "display_id": "f35339778e9fbd455c8eb3874d768313"
     },
     "output_type": "display_data",
     "transient": {
      "display_id": "f35339778e9fbd455c8eb3874d768313"
     }
    },
    {
     "data": {
      "text/html": [],
      "text/plain": [
       "<IPython.core.display.HTML object>"
      ]
     },
     "metadata": {
      "display_id": "85fb5a0b81cfd117694509637ae13729"
     },
     "output_type": "display_data",
     "transient": {
      "display_id": "85fb5a0b81cfd117694509637ae13729"
     }
    },
    {
     "data": {
      "text/html": [],
      "text/plain": [
       "<IPython.core.display.HTML object>"
      ]
     },
     "metadata": {
      "display_id": "46798c0041b290bf17e89c9bfc05b8d0"
     },
     "output_type": "display_data",
     "transient": {
      "display_id": "46798c0041b290bf17e89c9bfc05b8d0"
     }
    },
    {
     "data": {
      "text/html": [],
      "text/plain": [
       "<IPython.core.display.HTML object>"
      ]
     },
     "metadata": {
      "display_id": "5e81f8b485e1116476b57aead13dadf4"
     },
     "output_type": "display_data",
     "transient": {
      "display_id": "5e81f8b485e1116476b57aead13dadf4"
     }
    },
    {
     "data": {
      "text/html": [],
      "text/plain": [
       "<IPython.core.display.HTML object>"
      ]
     },
     "metadata": {
      "display_id": "7ed91c9487d8fb80c491e181562a6d51"
     },
     "output_type": "display_data",
     "transient": {
      "display_id": "7ed91c9487d8fb80c491e181562a6d51"
     }
    },
    {
     "data": {
      "text/html": [],
      "text/plain": [
       "<IPython.core.display.HTML object>"
      ]
     },
     "metadata": {
      "display_id": "42430d2ea63c5852d0d1acfa81055d11"
     },
     "output_type": "display_data",
     "transient": {
      "display_id": "42430d2ea63c5852d0d1acfa81055d11"
     }
    },
    {
     "data": {
      "text/html": [],
      "text/plain": [
       "<IPython.core.display.HTML object>"
      ]
     },
     "metadata": {
      "display_id": "635e344d34e26153bed04d09f457daa7"
     },
     "output_type": "display_data",
     "transient": {
      "display_id": "635e344d34e26153bed04d09f457daa7"
     }
    },
    {
     "data": {
      "text/html": [],
      "text/plain": [
       "<IPython.core.display.HTML object>"
      ]
     },
     "metadata": {
      "display_id": "3ac4046c5c6747a4c21f6fae2f6aae79"
     },
     "output_type": "display_data",
     "transient": {
      "display_id": "3ac4046c5c6747a4c21f6fae2f6aae79"
     }
    },
    {
     "data": {
      "text/html": [],
      "text/plain": [
       "<IPython.core.display.HTML object>"
      ]
     },
     "metadata": {
      "display_id": "aada444f717139ef7a617c67b6446ed8"
     },
     "output_type": "display_data",
     "transient": {
      "display_id": "aada444f717139ef7a617c67b6446ed8"
     }
    },
    {
     "data": {
      "text/html": [],
      "text/plain": [
       "<IPython.core.display.HTML object>"
      ]
     },
     "metadata": {
      "display_id": "8f6c3ec455834c2db2dd8c0c50d21f06"
     },
     "output_type": "display_data",
     "transient": {
      "display_id": "8f6c3ec455834c2db2dd8c0c50d21f06"
     }
    },
    {
     "data": {
      "text/html": [],
      "text/plain": [
       "<IPython.core.display.HTML object>"
      ]
     },
     "metadata": {
      "display_id": "bbfe15142d17eb5d74dd377a7f0bddbc"
     },
     "output_type": "display_data",
     "transient": {
      "display_id": "bbfe15142d17eb5d74dd377a7f0bddbc"
     }
    },
    {
     "data": {
      "text/html": [],
      "text/plain": [
       "<IPython.core.display.HTML object>"
      ]
     },
     "metadata": {
      "display_id": "fe15d78e6437af060d87d012a3d7cb10"
     },
     "output_type": "display_data",
     "transient": {
      "display_id": "fe15d78e6437af060d87d012a3d7cb10"
     }
    },
    {
     "data": {
      "text/html": [],
      "text/plain": [
       "<IPython.core.display.HTML object>"
      ]
     },
     "metadata": {
      "display_id": "17184ae83008d35696c7e149fa485917"
     },
     "output_type": "display_data",
     "transient": {
      "display_id": "17184ae83008d35696c7e149fa485917"
     }
    },
    {
     "data": {
      "text/html": [],
      "text/plain": [
       "<IPython.core.display.HTML object>"
      ]
     },
     "metadata": {
      "display_id": "27ad025d373113abf97bfb2a0db414ef"
     },
     "output_type": "display_data",
     "transient": {
      "display_id": "27ad025d373113abf97bfb2a0db414ef"
     }
    },
    {
     "data": {
      "text/html": [],
      "text/plain": [
       "<IPython.core.display.HTML object>"
      ]
     },
     "metadata": {
      "display_id": "f0ca5b979e0efa6e874b590e880ffd57"
     },
     "output_type": "display_data",
     "transient": {
      "display_id": "f0ca5b979e0efa6e874b590e880ffd57"
     }
    },
    {
     "data": {
      "text/html": [],
      "text/plain": [
       "<IPython.core.display.HTML object>"
      ]
     },
     "metadata": {
      "display_id": "395af793218579403853853d3436bec1"
     },
     "output_type": "display_data",
     "transient": {
      "display_id": "395af793218579403853853d3436bec1"
     }
    },
    {
     "data": {
      "text/html": [],
      "text/plain": [
       "<IPython.core.display.HTML object>"
      ]
     },
     "metadata": {
      "display_id": "8d9352ddf1af883d6d5237f6dcee5675"
     },
     "output_type": "display_data",
     "transient": {
      "display_id": "8d9352ddf1af883d6d5237f6dcee5675"
     }
    },
    {
     "data": {
      "text/html": [],
      "text/plain": [
       "<IPython.core.display.HTML object>"
      ]
     },
     "metadata": {
      "display_id": "de12c02ec2f893f71b4f46b18b74732e"
     },
     "output_type": "display_data",
     "transient": {
      "display_id": "de12c02ec2f893f71b4f46b18b74732e"
     }
    },
    {
     "data": {
      "text/html": [],
      "text/plain": [
       "<IPython.core.display.HTML object>"
      ]
     },
     "metadata": {
      "display_id": "062ecc4920429c1a0b1456d893f590ad"
     },
     "output_type": "display_data",
     "transient": {
      "display_id": "062ecc4920429c1a0b1456d893f590ad"
     }
    },
    {
     "data": {
      "text/html": [],
      "text/plain": [
       "<IPython.core.display.HTML object>"
      ]
     },
     "metadata": {
      "display_id": "006c30743d9763ec8d35a75ba57780b3"
     },
     "output_type": "display_data",
     "transient": {
      "display_id": "006c30743d9763ec8d35a75ba57780b3"
     }
    },
    {
     "data": {
      "text/html": [],
      "text/plain": [
       "<IPython.core.display.HTML object>"
      ]
     },
     "metadata": {
      "display_id": "934e0e51f567754af3fd8292af748807"
     },
     "output_type": "display_data",
     "transient": {
      "display_id": "934e0e51f567754af3fd8292af748807"
     }
    },
    {
     "data": {
      "text/html": [],
      "text/plain": [
       "<IPython.core.display.HTML object>"
      ]
     },
     "metadata": {
      "display_id": "9c6579fcb13062754c6f07b080cd5fa8"
     },
     "output_type": "display_data",
     "transient": {
      "display_id": "9c6579fcb13062754c6f07b080cd5fa8"
     }
    },
    {
     "data": {
      "text/html": [],
      "text/plain": [
       "<IPython.core.display.HTML object>"
      ]
     },
     "metadata": {
      "display_id": "331ed774616e5a76be4c264b81f79183"
     },
     "output_type": "display_data",
     "transient": {
      "display_id": "331ed774616e5a76be4c264b81f79183"
     }
    },
    {
     "data": {
      "text/html": [],
      "text/plain": [
       "<IPython.core.display.HTML object>"
      ]
     },
     "metadata": {
      "display_id": "c9b0890a5a4fcd648df4ad23b54c4bf0"
     },
     "output_type": "display_data",
     "transient": {
      "display_id": "c9b0890a5a4fcd648df4ad23b54c4bf0"
     }
    },
    {
     "data": {
      "text/html": [],
      "text/plain": [
       "<IPython.core.display.HTML object>"
      ]
     },
     "metadata": {
      "display_id": "1fd0c16d1cf34efb1f66b5831097546b"
     },
     "output_type": "display_data",
     "transient": {
      "display_id": "1fd0c16d1cf34efb1f66b5831097546b"
     }
    },
    {
     "data": {
      "text/html": [],
      "text/plain": [
       "<IPython.core.display.HTML object>"
      ]
     },
     "metadata": {
      "display_id": "8c17d42ebadca6af041080919f87c2f6"
     },
     "output_type": "display_data",
     "transient": {
      "display_id": "8c17d42ebadca6af041080919f87c2f6"
     }
    },
    {
     "data": {
      "text/html": [],
      "text/plain": [
       "<IPython.core.display.HTML object>"
      ]
     },
     "metadata": {
      "display_id": "0fae58c354f8c88f88b9f2f3ffb8ee69"
     },
     "output_type": "display_data",
     "transient": {
      "display_id": "0fae58c354f8c88f88b9f2f3ffb8ee69"
     }
    },
    {
     "data": {
      "text/html": [],
      "text/plain": [
       "<IPython.core.display.HTML object>"
      ]
     },
     "metadata": {
      "display_id": "f95e0604953123bca5c16ba4da143492"
     },
     "output_type": "display_data",
     "transient": {
      "display_id": "f95e0604953123bca5c16ba4da143492"
     }
    },
    {
     "data": {
      "text/html": [],
      "text/plain": [
       "<IPython.core.display.HTML object>"
      ]
     },
     "metadata": {
      "display_id": "9f37561e054ee182ccda5d04e084ef18"
     },
     "output_type": "display_data",
     "transient": {
      "display_id": "9f37561e054ee182ccda5d04e084ef18"
     }
    },
    {
     "data": {
      "text/html": [],
      "text/plain": [
       "<IPython.core.display.HTML object>"
      ]
     },
     "metadata": {
      "display_id": "19bf24242aa29a016f443193a5c7f9f8"
     },
     "output_type": "display_data",
     "transient": {
      "display_id": "19bf24242aa29a016f443193a5c7f9f8"
     }
    },
    {
     "data": {
      "text/html": [],
      "text/plain": [
       "<IPython.core.display.HTML object>"
      ]
     },
     "metadata": {
      "display_id": "3ede5fed6334c7adacf215be1ff0b530"
     },
     "output_type": "display_data",
     "transient": {
      "display_id": "3ede5fed6334c7adacf215be1ff0b530"
     }
    },
    {
     "data": {
      "text/html": [],
      "text/plain": [
       "<IPython.core.display.HTML object>"
      ]
     },
     "metadata": {
      "display_id": "9e2ca852791d2158e04ab13fdb01430e"
     },
     "output_type": "display_data",
     "transient": {
      "display_id": "9e2ca852791d2158e04ab13fdb01430e"
     }
    },
    {
     "data": {
      "text/html": [],
      "text/plain": [
       "<IPython.core.display.HTML object>"
      ]
     },
     "metadata": {
      "display_id": "f9ccbff900590570718d96c391afb3f7"
     },
     "output_type": "display_data",
     "transient": {
      "display_id": "f9ccbff900590570718d96c391afb3f7"
     }
    },
    {
     "data": {
      "text/html": [],
      "text/plain": [
       "<IPython.core.display.HTML object>"
      ]
     },
     "metadata": {
      "display_id": "099e7418c71e582d1e7a14c240538a4f"
     },
     "output_type": "display_data",
     "transient": {
      "display_id": "099e7418c71e582d1e7a14c240538a4f"
     }
    },
    {
     "data": {
      "text/html": [],
      "text/plain": [
       "<IPython.core.display.HTML object>"
      ]
     },
     "metadata": {
      "display_id": "7f6245c656900c03b7ae952a3f1c8902"
     },
     "output_type": "display_data",
     "transient": {
      "display_id": "7f6245c656900c03b7ae952a3f1c8902"
     }
    },
    {
     "data": {
      "text/html": [],
      "text/plain": [
       "<IPython.core.display.HTML object>"
      ]
     },
     "metadata": {
      "display_id": "7099eb27e1bae244e043973d1760227b"
     },
     "output_type": "display_data",
     "transient": {
      "display_id": "7099eb27e1bae244e043973d1760227b"
     }
    },
    {
     "data": {
      "text/html": [],
      "text/plain": [
       "<IPython.core.display.HTML object>"
      ]
     },
     "metadata": {
      "display_id": "256df8597a448853941f43e15cdf60a3"
     },
     "output_type": "display_data",
     "transient": {
      "display_id": "256df8597a448853941f43e15cdf60a3"
     }
    },
    {
     "data": {
      "text/html": [],
      "text/plain": [
       "<IPython.core.display.HTML object>"
      ]
     },
     "metadata": {
      "display_id": "db1907186de7ed3d51a547cf6eb4665b"
     },
     "output_type": "display_data",
     "transient": {
      "display_id": "db1907186de7ed3d51a547cf6eb4665b"
     }
    },
    {
     "data": {
      "text/html": [],
      "text/plain": [
       "<IPython.core.display.HTML object>"
      ]
     },
     "metadata": {
      "display_id": "f341a90742279c9621f0272ba34d9241"
     },
     "output_type": "display_data",
     "transient": {
      "display_id": "f341a90742279c9621f0272ba34d9241"
     }
    },
    {
     "data": {
      "text/html": [],
      "text/plain": [
       "<IPython.core.display.HTML object>"
      ]
     },
     "metadata": {
      "display_id": "46d8548a83d1c059ee745be442a7e7ff"
     },
     "output_type": "display_data",
     "transient": {
      "display_id": "46d8548a83d1c059ee745be442a7e7ff"
     }
    },
    {
     "data": {
      "text/html": [],
      "text/plain": [
       "<IPython.core.display.HTML object>"
      ]
     },
     "metadata": {
      "display_id": "ec26629e9b655c6464227e2f7f92a635"
     },
     "output_type": "display_data",
     "transient": {
      "display_id": "ec26629e9b655c6464227e2f7f92a635"
     }
    },
    {
     "data": {
      "text/html": [],
      "text/plain": [
       "<IPython.core.display.HTML object>"
      ]
     },
     "metadata": {
      "display_id": "9ae5bc3151b5632c86144e5716dace99"
     },
     "output_type": "display_data",
     "transient": {
      "display_id": "9ae5bc3151b5632c86144e5716dace99"
     }
    },
    {
     "data": {
      "text/html": [],
      "text/plain": [
       "<IPython.core.display.HTML object>"
      ]
     },
     "metadata": {
      "display_id": "8172649c55db79c056a4f7cd108ce649"
     },
     "output_type": "display_data",
     "transient": {
      "display_id": "8172649c55db79c056a4f7cd108ce649"
     }
    },
    {
     "data": {
      "text/html": [],
      "text/plain": [
       "<IPython.core.display.HTML object>"
      ]
     },
     "metadata": {
      "display_id": "f5ad3bc688228f06c5bb95b4f9b50fa8"
     },
     "output_type": "display_data",
     "transient": {
      "display_id": "f5ad3bc688228f06c5bb95b4f9b50fa8"
     }
    },
    {
     "data": {
      "text/html": [],
      "text/plain": [
       "<IPython.core.display.HTML object>"
      ]
     },
     "metadata": {
      "display_id": "9cacbdf84e0a641dd7ba6dca3e096431"
     },
     "output_type": "display_data",
     "transient": {
      "display_id": "9cacbdf84e0a641dd7ba6dca3e096431"
     }
    },
    {
     "data": {
      "text/html": [],
      "text/plain": [
       "<IPython.core.display.HTML object>"
      ]
     },
     "metadata": {
      "display_id": "1d41d9f4b6c3e1bda4850506fc4db2ff"
     },
     "output_type": "display_data",
     "transient": {
      "display_id": "1d41d9f4b6c3e1bda4850506fc4db2ff"
     }
    },
    {
     "data": {
      "text/html": [],
      "text/plain": [
       "<IPython.core.display.HTML object>"
      ]
     },
     "metadata": {
      "display_id": "d4bd871deeb193bf3d4c5e9a3a7db06f"
     },
     "output_type": "display_data",
     "transient": {
      "display_id": "d4bd871deeb193bf3d4c5e9a3a7db06f"
     }
    },
    {
     "data": {
      "text/html": [],
      "text/plain": [
       "<IPython.core.display.HTML object>"
      ]
     },
     "metadata": {
      "display_id": "71d4223422d1539b7974cd267b6c51a3"
     },
     "output_type": "display_data",
     "transient": {
      "display_id": "71d4223422d1539b7974cd267b6c51a3"
     }
    },
    {
     "data": {
      "text/html": [],
      "text/plain": [
       "<IPython.core.display.HTML object>"
      ]
     },
     "metadata": {
      "display_id": "c972585819a86d61360808fa4d8416a5"
     },
     "output_type": "display_data",
     "transient": {
      "display_id": "c972585819a86d61360808fa4d8416a5"
     }
    },
    {
     "data": {
      "text/html": [],
      "text/plain": [
       "<IPython.core.display.HTML object>"
      ]
     },
     "metadata": {
      "display_id": "b260cb9a6b166e3fa4f680f7f839362b"
     },
     "output_type": "display_data",
     "transient": {
      "display_id": "b260cb9a6b166e3fa4f680f7f839362b"
     }
    },
    {
     "data": {
      "text/html": [],
      "text/plain": [
       "<IPython.core.display.HTML object>"
      ]
     },
     "metadata": {
      "display_id": "8d1254d3816eb141e1f9db5d4d0d628b"
     },
     "output_type": "display_data",
     "transient": {
      "display_id": "8d1254d3816eb141e1f9db5d4d0d628b"
     }
    },
    {
     "data": {
      "text/html": [],
      "text/plain": [
       "<IPython.core.display.HTML object>"
      ]
     },
     "metadata": {
      "display_id": "9c62e651a8218f2985ac45819f79645e"
     },
     "output_type": "display_data",
     "transient": {
      "display_id": "9c62e651a8218f2985ac45819f79645e"
     }
    },
    {
     "data": {
      "text/html": [],
      "text/plain": [
       "<IPython.core.display.HTML object>"
      ]
     },
     "metadata": {
      "display_id": "135a91f21c2e4655b7ebc3bdd57af378"
     },
     "output_type": "display_data",
     "transient": {
      "display_id": "135a91f21c2e4655b7ebc3bdd57af378"
     }
    },
    {
     "data": {
      "text/html": [],
      "text/plain": [
       "<IPython.core.display.HTML object>"
      ]
     },
     "metadata": {
      "display_id": "1502d832710a8a1762fc09e14cedfa2b"
     },
     "output_type": "display_data",
     "transient": {
      "display_id": "1502d832710a8a1762fc09e14cedfa2b"
     }
    },
    {
     "data": {
      "text/html": [],
      "text/plain": [
       "<IPython.core.display.HTML object>"
      ]
     },
     "metadata": {
      "display_id": "17750825c02745157bf27c111e776e16"
     },
     "output_type": "display_data",
     "transient": {
      "display_id": "17750825c02745157bf27c111e776e16"
     }
    },
    {
     "data": {
      "text/html": [],
      "text/plain": [
       "<IPython.core.display.HTML object>"
      ]
     },
     "metadata": {
      "display_id": "00ef3de3c1e26b2c6160dea57267e47d"
     },
     "output_type": "display_data",
     "transient": {
      "display_id": "00ef3de3c1e26b2c6160dea57267e47d"
     }
    },
    {
     "data": {
      "text/html": [],
      "text/plain": [
       "<IPython.core.display.HTML object>"
      ]
     },
     "metadata": {
      "display_id": "53f776aa8d378b10e2a5a5ef5756ad54"
     },
     "output_type": "display_data",
     "transient": {
      "display_id": "53f776aa8d378b10e2a5a5ef5756ad54"
     }
    },
    {
     "data": {
      "text/html": [],
      "text/plain": [
       "<IPython.core.display.HTML object>"
      ]
     },
     "metadata": {
      "display_id": "ef32f8e81fe9095eb34459666421a843"
     },
     "output_type": "display_data",
     "transient": {
      "display_id": "ef32f8e81fe9095eb34459666421a843"
     }
    },
    {
     "data": {
      "text/html": [],
      "text/plain": [
       "<IPython.core.display.HTML object>"
      ]
     },
     "metadata": {
      "display_id": "406a008441836ec12d1cc094732ca201"
     },
     "output_type": "display_data",
     "transient": {
      "display_id": "406a008441836ec12d1cc094732ca201"
     }
    },
    {
     "data": {
      "text/html": [],
      "text/plain": [
       "<IPython.core.display.HTML object>"
      ]
     },
     "metadata": {
      "display_id": "c6fd1edd1aa67fc405c2f03f5f7a3d48"
     },
     "output_type": "display_data",
     "transient": {
      "display_id": "c6fd1edd1aa67fc405c2f03f5f7a3d48"
     }
    },
    {
     "data": {
      "text/html": [],
      "text/plain": [
       "<IPython.core.display.HTML object>"
      ]
     },
     "metadata": {
      "display_id": "390689a0a098fb33257b5ad1967e9114"
     },
     "output_type": "display_data",
     "transient": {
      "display_id": "390689a0a098fb33257b5ad1967e9114"
     }
    },
    {
     "data": {
      "text/html": [],
      "text/plain": [
       "<IPython.core.display.HTML object>"
      ]
     },
     "metadata": {
      "display_id": "f1d9b2addabe0aeaf66b2e7b5ad77089"
     },
     "output_type": "display_data",
     "transient": {
      "display_id": "f1d9b2addabe0aeaf66b2e7b5ad77089"
     }
    },
    {
     "data": {
      "text/html": [],
      "text/plain": [
       "<IPython.core.display.HTML object>"
      ]
     },
     "metadata": {
      "display_id": "6b68a56309ee8a3da6ca490b7aea932f"
     },
     "output_type": "display_data",
     "transient": {
      "display_id": "6b68a56309ee8a3da6ca490b7aea932f"
     }
    },
    {
     "data": {
      "text/html": [],
      "text/plain": [
       "<IPython.core.display.HTML object>"
      ]
     },
     "metadata": {
      "display_id": "3db0da4df464f26fb8cb9489ede5a9e8"
     },
     "output_type": "display_data",
     "transient": {
      "display_id": "3db0da4df464f26fb8cb9489ede5a9e8"
     }
    },
    {
     "data": {
      "text/html": [],
      "text/plain": [
       "<IPython.core.display.HTML object>"
      ]
     },
     "metadata": {
      "display_id": "d6beaa3aab0efeb2a18d30f6e0d08769"
     },
     "output_type": "display_data",
     "transient": {
      "display_id": "d6beaa3aab0efeb2a18d30f6e0d08769"
     }
    },
    {
     "data": {
      "text/html": [],
      "text/plain": [
       "<IPython.core.display.HTML object>"
      ]
     },
     "metadata": {
      "display_id": "5ca414620f8741da857019db0865c515"
     },
     "output_type": "display_data",
     "transient": {
      "display_id": "5ca414620f8741da857019db0865c515"
     }
    },
    {
     "data": {
      "text/html": [],
      "text/plain": [
       "<IPython.core.display.HTML object>"
      ]
     },
     "metadata": {
      "display_id": "8502a41115dc60c64d1195bb77f5390d"
     },
     "output_type": "display_data",
     "transient": {
      "display_id": "8502a41115dc60c64d1195bb77f5390d"
     }
    },
    {
     "data": {
      "text/html": [],
      "text/plain": [
       "<IPython.core.display.HTML object>"
      ]
     },
     "metadata": {
      "display_id": "d6a7c2a9941c744addb3d4bd168642a3"
     },
     "output_type": "display_data",
     "transient": {
      "display_id": "d6a7c2a9941c744addb3d4bd168642a3"
     }
    },
    {
     "data": {
      "text/html": [],
      "text/plain": [
       "<IPython.core.display.HTML object>"
      ]
     },
     "metadata": {
      "display_id": "99176777db53eb26ffd018f655a3e7e4"
     },
     "output_type": "display_data",
     "transient": {
      "display_id": "99176777db53eb26ffd018f655a3e7e4"
     }
    },
    {
     "data": {
      "text/html": [],
      "text/plain": [
       "<IPython.core.display.HTML object>"
      ]
     },
     "metadata": {
      "display_id": "5ce7107ec5bf14dd50fea3fc2ab2b9df"
     },
     "output_type": "display_data",
     "transient": {
      "display_id": "5ce7107ec5bf14dd50fea3fc2ab2b9df"
     }
    },
    {
     "data": {
      "text/html": [],
      "text/plain": [
       "<IPython.core.display.HTML object>"
      ]
     },
     "metadata": {
      "display_id": "6dfa58c4b2a08395dcbe37330f2099d9"
     },
     "output_type": "display_data",
     "transient": {
      "display_id": "6dfa58c4b2a08395dcbe37330f2099d9"
     }
    },
    {
     "data": {
      "text/html": [],
      "text/plain": [
       "<IPython.core.display.HTML object>"
      ]
     },
     "metadata": {
      "display_id": "54d5b692df547dd96997e641376486f8"
     },
     "output_type": "display_data",
     "transient": {
      "display_id": "54d5b692df547dd96997e641376486f8"
     }
    },
    {
     "data": {
      "text/html": [],
      "text/plain": [
       "<IPython.core.display.HTML object>"
      ]
     },
     "metadata": {
      "display_id": "535358a400b4354d220e18d7a6a46541"
     },
     "output_type": "display_data",
     "transient": {
      "display_id": "535358a400b4354d220e18d7a6a46541"
     }
    },
    {
     "data": {
      "text/html": [],
      "text/plain": [
       "<IPython.core.display.HTML object>"
      ]
     },
     "metadata": {
      "display_id": "a8ee63539cc81c23a66878109764bd48"
     },
     "output_type": "display_data",
     "transient": {
      "display_id": "a8ee63539cc81c23a66878109764bd48"
     }
    },
    {
     "data": {
      "text/html": [],
      "text/plain": [
       "<IPython.core.display.HTML object>"
      ]
     },
     "metadata": {
      "display_id": "7c817697194ae8be6ea858dfc05f7963"
     },
     "output_type": "display_data",
     "transient": {
      "display_id": "7c817697194ae8be6ea858dfc05f7963"
     }
    },
    {
     "data": {
      "text/html": [],
      "text/plain": [
       "<IPython.core.display.HTML object>"
      ]
     },
     "metadata": {
      "display_id": "35bcfe311259b2f25f25a7b9fef9dbc1"
     },
     "output_type": "display_data",
     "transient": {
      "display_id": "35bcfe311259b2f25f25a7b9fef9dbc1"
     }
    },
    {
     "data": {
      "text/html": [],
      "text/plain": [
       "<IPython.core.display.HTML object>"
      ]
     },
     "metadata": {
      "display_id": "560aaeb859c8c01ade75f60e7c518fbf"
     },
     "output_type": "display_data",
     "transient": {
      "display_id": "560aaeb859c8c01ade75f60e7c518fbf"
     }
    },
    {
     "data": {
      "text/html": [],
      "text/plain": [
       "<IPython.core.display.HTML object>"
      ]
     },
     "metadata": {
      "display_id": "12e9bd8f3c5e6526ec06368db605b19b"
     },
     "output_type": "display_data",
     "transient": {
      "display_id": "12e9bd8f3c5e6526ec06368db605b19b"
     }
    },
    {
     "data": {
      "text/html": [],
      "text/plain": [
       "<IPython.core.display.HTML object>"
      ]
     },
     "metadata": {
      "display_id": "ec4c325f67b69067aceb18bfbf81da3c"
     },
     "output_type": "display_data",
     "transient": {
      "display_id": "ec4c325f67b69067aceb18bfbf81da3c"
     }
    },
    {
     "data": {
      "text/html": [],
      "text/plain": [
       "<IPython.core.display.HTML object>"
      ]
     },
     "metadata": {
      "display_id": "0a454504a5eb7eaf62c0dbb44439db60"
     },
     "output_type": "display_data",
     "transient": {
      "display_id": "0a454504a5eb7eaf62c0dbb44439db60"
     }
    },
    {
     "data": {
      "text/html": [],
      "text/plain": [
       "<IPython.core.display.HTML object>"
      ]
     },
     "metadata": {
      "display_id": "9fee7b3d79d5e2ddd04799222e2008ae"
     },
     "output_type": "display_data",
     "transient": {
      "display_id": "9fee7b3d79d5e2ddd04799222e2008ae"
     }
    },
    {
     "data": {
      "text/html": [],
      "text/plain": [
       "<IPython.core.display.HTML object>"
      ]
     },
     "metadata": {
      "display_id": "0ca497375670cdb9ed146fbb241e0911"
     },
     "output_type": "display_data",
     "transient": {
      "display_id": "0ca497375670cdb9ed146fbb241e0911"
     }
    },
    {
     "data": {
      "text/html": [],
      "text/plain": [
       "<IPython.core.display.HTML object>"
      ]
     },
     "metadata": {
      "display_id": "86aa931394e60c7b28e65378ae033076"
     },
     "output_type": "display_data",
     "transient": {
      "display_id": "86aa931394e60c7b28e65378ae033076"
     }
    },
    {
     "data": {
      "text/html": [],
      "text/plain": [
       "<IPython.core.display.HTML object>"
      ]
     },
     "metadata": {
      "display_id": "8bb4471009f102e1df69ab6b8a68d83d"
     },
     "output_type": "display_data",
     "transient": {
      "display_id": "8bb4471009f102e1df69ab6b8a68d83d"
     }
    },
    {
     "data": {
      "text/html": [],
      "text/plain": [
       "<IPython.core.display.HTML object>"
      ]
     },
     "metadata": {
      "display_id": "52a786fafb08a0430d61ec0487094080"
     },
     "output_type": "display_data",
     "transient": {
      "display_id": "52a786fafb08a0430d61ec0487094080"
     }
    },
    {
     "data": {
      "text/html": [],
      "text/plain": [
       "<IPython.core.display.HTML object>"
      ]
     },
     "metadata": {
      "display_id": "31c523b8d6151d4562c490592b0a0693"
     },
     "output_type": "display_data",
     "transient": {
      "display_id": "31c523b8d6151d4562c490592b0a0693"
     }
    },
    {
     "data": {
      "text/html": [],
      "text/plain": [
       "<IPython.core.display.HTML object>"
      ]
     },
     "metadata": {
      "display_id": "ecfe34284aa33796dfb746c487c635ab"
     },
     "output_type": "display_data",
     "transient": {
      "display_id": "ecfe34284aa33796dfb746c487c635ab"
     }
    },
    {
     "data": {
      "text/html": [],
      "text/plain": [
       "<IPython.core.display.HTML object>"
      ]
     },
     "metadata": {
      "display_id": "98a248d57559eb4caed1ba5731f4107a"
     },
     "output_type": "display_data",
     "transient": {
      "display_id": "98a248d57559eb4caed1ba5731f4107a"
     }
    },
    {
     "data": {
      "text/html": [],
      "text/plain": [
       "<IPython.core.display.HTML object>"
      ]
     },
     "metadata": {
      "display_id": "dd45aa33995bfb4848b7a8533331cf27"
     },
     "output_type": "display_data",
     "transient": {
      "display_id": "dd45aa33995bfb4848b7a8533331cf27"
     }
    },
    {
     "data": {
      "text/html": [],
      "text/plain": [
       "<IPython.core.display.HTML object>"
      ]
     },
     "metadata": {
      "display_id": "18059a28c7e05672fd3f20a59030fdf1"
     },
     "output_type": "display_data",
     "transient": {
      "display_id": "18059a28c7e05672fd3f20a59030fdf1"
     }
    },
    {
     "data": {
      "text/html": [],
      "text/plain": [
       "<IPython.core.display.HTML object>"
      ]
     },
     "metadata": {
      "display_id": "661e6e5b8b75de09597d0d245bb297a2"
     },
     "output_type": "display_data",
     "transient": {
      "display_id": "661e6e5b8b75de09597d0d245bb297a2"
     }
    },
    {
     "data": {
      "text/html": [],
      "text/plain": [
       "<IPython.core.display.HTML object>"
      ]
     },
     "metadata": {
      "display_id": "25ea4fb2900cd5206d586c5eeac96c02"
     },
     "output_type": "display_data",
     "transient": {
      "display_id": "25ea4fb2900cd5206d586c5eeac96c02"
     }
    },
    {
     "data": {
      "text/html": [],
      "text/plain": [
       "<IPython.core.display.HTML object>"
      ]
     },
     "metadata": {
      "display_id": "7ddd35890d6dd7308b03b3410fd9d86a"
     },
     "output_type": "display_data",
     "transient": {
      "display_id": "7ddd35890d6dd7308b03b3410fd9d86a"
     }
    },
    {
     "data": {
      "text/html": [],
      "text/plain": [
       "<IPython.core.display.HTML object>"
      ]
     },
     "metadata": {
      "display_id": "8a5e08fc294eb220575b8f31c6c31439"
     },
     "output_type": "display_data",
     "transient": {
      "display_id": "8a5e08fc294eb220575b8f31c6c31439"
     }
    },
    {
     "data": {
      "text/html": [],
      "text/plain": [
       "<IPython.core.display.HTML object>"
      ]
     },
     "metadata": {
      "display_id": "b4d3badb5220a76a99f2fdb7873dba4e"
     },
     "output_type": "display_data",
     "transient": {
      "display_id": "b4d3badb5220a76a99f2fdb7873dba4e"
     }
    },
    {
     "data": {
      "text/html": [],
      "text/plain": [
       "<IPython.core.display.HTML object>"
      ]
     },
     "metadata": {
      "display_id": "5ee77f23fa475d6c2d85b96f4d18f261"
     },
     "output_type": "display_data",
     "transient": {
      "display_id": "5ee77f23fa475d6c2d85b96f4d18f261"
     }
    },
    {
     "data": {
      "text/html": [],
      "text/plain": [
       "<IPython.core.display.HTML object>"
      ]
     },
     "metadata": {
      "display_id": "69d276d877d3b9dda00b8d4ec47013e0"
     },
     "output_type": "display_data",
     "transient": {
      "display_id": "69d276d877d3b9dda00b8d4ec47013e0"
     }
    },
    {
     "data": {
      "text/html": [],
      "text/plain": [
       "<IPython.core.display.HTML object>"
      ]
     },
     "metadata": {
      "display_id": "5820ac4b5b100658017e4486837874b4"
     },
     "output_type": "display_data",
     "transient": {
      "display_id": "5820ac4b5b100658017e4486837874b4"
     }
    },
    {
     "data": {
      "text/html": [],
      "text/plain": [
       "<IPython.core.display.HTML object>"
      ]
     },
     "metadata": {
      "display_id": "2bfd0f03d374e0247d4f51e6d91c45ad"
     },
     "output_type": "display_data",
     "transient": {
      "display_id": "2bfd0f03d374e0247d4f51e6d91c45ad"
     }
    },
    {
     "data": {
      "text/html": [],
      "text/plain": [
       "<IPython.core.display.HTML object>"
      ]
     },
     "metadata": {
      "display_id": "687bf5656072b3dec7498ca774afd641"
     },
     "output_type": "display_data",
     "transient": {
      "display_id": "687bf5656072b3dec7498ca774afd641"
     }
    },
    {
     "data": {
      "text/html": [],
      "text/plain": [
       "<IPython.core.display.HTML object>"
      ]
     },
     "metadata": {
      "display_id": "72617869bd0f16c5232d9dffdb5cbfcd"
     },
     "output_type": "display_data",
     "transient": {
      "display_id": "72617869bd0f16c5232d9dffdb5cbfcd"
     }
    },
    {
     "data": {
      "text/html": [],
      "text/plain": [
       "<IPython.core.display.HTML object>"
      ]
     },
     "metadata": {
      "display_id": "73fc5c973549f61a07a3f8d660376bd0"
     },
     "output_type": "display_data",
     "transient": {
      "display_id": "73fc5c973549f61a07a3f8d660376bd0"
     }
    },
    {
     "data": {
      "text/html": [],
      "text/plain": [
       "<IPython.core.display.HTML object>"
      ]
     },
     "metadata": {
      "display_id": "0322519ad23856deb11013084cfbf37f"
     },
     "output_type": "display_data",
     "transient": {
      "display_id": "0322519ad23856deb11013084cfbf37f"
     }
    },
    {
     "data": {
      "text/html": [],
      "text/plain": [
       "<IPython.core.display.HTML object>"
      ]
     },
     "metadata": {
      "display_id": "f9b2db01423551508d4e420111c46634"
     },
     "output_type": "display_data",
     "transient": {
      "display_id": "f9b2db01423551508d4e420111c46634"
     }
    },
    {
     "data": {
      "text/html": [],
      "text/plain": [
       "<IPython.core.display.HTML object>"
      ]
     },
     "metadata": {
      "display_id": "766bba1d98e2239452740e7af5a1945c"
     },
     "output_type": "display_data",
     "transient": {
      "display_id": "766bba1d98e2239452740e7af5a1945c"
     }
    },
    {
     "data": {
      "text/html": [],
      "text/plain": [
       "<IPython.core.display.HTML object>"
      ]
     },
     "metadata": {
      "display_id": "c6fb5f984aec5652d44302ee0d8d5b23"
     },
     "output_type": "display_data",
     "transient": {
      "display_id": "c6fb5f984aec5652d44302ee0d8d5b23"
     }
    },
    {
     "data": {
      "text/html": [],
      "text/plain": [
       "<IPython.core.display.HTML object>"
      ]
     },
     "metadata": {
      "display_id": "63fe26bd8d31b382a90457cec470c007"
     },
     "output_type": "display_data",
     "transient": {
      "display_id": "63fe26bd8d31b382a90457cec470c007"
     }
    },
    {
     "data": {
      "text/html": [],
      "text/plain": [
       "<IPython.core.display.HTML object>"
      ]
     },
     "metadata": {
      "display_id": "07b2acd266444a2cb84466f4d508fc58"
     },
     "output_type": "display_data",
     "transient": {
      "display_id": "07b2acd266444a2cb84466f4d508fc58"
     }
    },
    {
     "data": {
      "text/html": [],
      "text/plain": [
       "<IPython.core.display.HTML object>"
      ]
     },
     "metadata": {
      "display_id": "cc9bcdbce6b0fb17eb9ac0012e7768df"
     },
     "output_type": "display_data",
     "transient": {
      "display_id": "cc9bcdbce6b0fb17eb9ac0012e7768df"
     }
    },
    {
     "data": {
      "text/html": [],
      "text/plain": [
       "<IPython.core.display.HTML object>"
      ]
     },
     "metadata": {
      "display_id": "248e2f329564a3a79ad4bd413e9088f4"
     },
     "output_type": "display_data",
     "transient": {
      "display_id": "248e2f329564a3a79ad4bd413e9088f4"
     }
    },
    {
     "data": {
      "text/html": [],
      "text/plain": [
       "<IPython.core.display.HTML object>"
      ]
     },
     "metadata": {
      "display_id": "80a45d708ab6052f8076edc6f6bd0e47"
     },
     "output_type": "display_data",
     "transient": {
      "display_id": "80a45d708ab6052f8076edc6f6bd0e47"
     }
    },
    {
     "data": {
      "text/html": [],
      "text/plain": [
       "<IPython.core.display.HTML object>"
      ]
     },
     "metadata": {
      "display_id": "97575760bbcda8b34866fa1af0aef5dd"
     },
     "output_type": "display_data",
     "transient": {
      "display_id": "97575760bbcda8b34866fa1af0aef5dd"
     }
    },
    {
     "data": {
      "text/html": [],
      "text/plain": [
       "<IPython.core.display.HTML object>"
      ]
     },
     "metadata": {
      "display_id": "a776c8a8660f811ea601f41049fb5c02"
     },
     "output_type": "display_data",
     "transient": {
      "display_id": "a776c8a8660f811ea601f41049fb5c02"
     }
    },
    {
     "data": {
      "text/html": [],
      "text/plain": [
       "<IPython.core.display.HTML object>"
      ]
     },
     "metadata": {
      "display_id": "4d86730b741b9518a2f8fbb10f3a826a"
     },
     "output_type": "display_data",
     "transient": {
      "display_id": "4d86730b741b9518a2f8fbb10f3a826a"
     }
    },
    {
     "data": {
      "text/html": [],
      "text/plain": [
       "<IPython.core.display.HTML object>"
      ]
     },
     "metadata": {
      "display_id": "1a8135e6a871d41cf8533dd969807510"
     },
     "output_type": "display_data",
     "transient": {
      "display_id": "1a8135e6a871d41cf8533dd969807510"
     }
    },
    {
     "data": {
      "text/html": [],
      "text/plain": [
       "<IPython.core.display.HTML object>"
      ]
     },
     "metadata": {
      "display_id": "12d19faed269ecd44c6c688cf050478d"
     },
     "output_type": "display_data",
     "transient": {
      "display_id": "12d19faed269ecd44c6c688cf050478d"
     }
    },
    {
     "data": {
      "text/html": [],
      "text/plain": [
       "<IPython.core.display.HTML object>"
      ]
     },
     "metadata": {
      "display_id": "04fb057b8efd8d5db9b8e9a53b4613a2"
     },
     "output_type": "display_data",
     "transient": {
      "display_id": "04fb057b8efd8d5db9b8e9a53b4613a2"
     }
    },
    {
     "data": {
      "text/html": [],
      "text/plain": [
       "<IPython.core.display.HTML object>"
      ]
     },
     "metadata": {
      "display_id": "425c53eec7ca02c6807a428dfa0208b5"
     },
     "output_type": "display_data",
     "transient": {
      "display_id": "425c53eec7ca02c6807a428dfa0208b5"
     }
    },
    {
     "data": {
      "text/html": [],
      "text/plain": [
       "<IPython.core.display.HTML object>"
      ]
     },
     "metadata": {
      "display_id": "6c24a3ef9b3a657a824f658714cf7904"
     },
     "output_type": "display_data",
     "transient": {
      "display_id": "6c24a3ef9b3a657a824f658714cf7904"
     }
    },
    {
     "data": {
      "text/html": [],
      "text/plain": [
       "<IPython.core.display.HTML object>"
      ]
     },
     "metadata": {
      "display_id": "230c9fa96a62fcab5dbc32d4c835dc41"
     },
     "output_type": "display_data",
     "transient": {
      "display_id": "230c9fa96a62fcab5dbc32d4c835dc41"
     }
    },
    {
     "data": {
      "text/html": [],
      "text/plain": [
       "<IPython.core.display.HTML object>"
      ]
     },
     "metadata": {
      "display_id": "edb2fdedc8b98954663d2742ce82c4b8"
     },
     "output_type": "display_data",
     "transient": {
      "display_id": "edb2fdedc8b98954663d2742ce82c4b8"
     }
    },
    {
     "data": {
      "text/html": [],
      "text/plain": [
       "<IPython.core.display.HTML object>"
      ]
     },
     "metadata": {
      "display_id": "1d04633eb636f422c2990aaf1a1e9025"
     },
     "output_type": "display_data",
     "transient": {
      "display_id": "1d04633eb636f422c2990aaf1a1e9025"
     }
    },
    {
     "data": {
      "text/html": [],
      "text/plain": [
       "<IPython.core.display.HTML object>"
      ]
     },
     "metadata": {
      "display_id": "f6c823785eaa0b4bfdbfc143fdbf2a27"
     },
     "output_type": "display_data",
     "transient": {
      "display_id": "f6c823785eaa0b4bfdbfc143fdbf2a27"
     }
    },
    {
     "data": {
      "text/html": [],
      "text/plain": [
       "<IPython.core.display.HTML object>"
      ]
     },
     "metadata": {
      "display_id": "a793a5cfae409b01737dc7c7daea0228"
     },
     "output_type": "display_data",
     "transient": {
      "display_id": "a793a5cfae409b01737dc7c7daea0228"
     }
    },
    {
     "data": {
      "text/html": [],
      "text/plain": [
       "<IPython.core.display.HTML object>"
      ]
     },
     "metadata": {
      "display_id": "01eb77f0fca7b9735edb64856e851eff"
     },
     "output_type": "display_data",
     "transient": {
      "display_id": "01eb77f0fca7b9735edb64856e851eff"
     }
    },
    {
     "data": {
      "text/html": [],
      "text/plain": [
       "<IPython.core.display.HTML object>"
      ]
     },
     "metadata": {
      "display_id": "e43575fd82d5109856270a5411d3698e"
     },
     "output_type": "display_data",
     "transient": {
      "display_id": "e43575fd82d5109856270a5411d3698e"
     }
    },
    {
     "data": {
      "text/html": [],
      "text/plain": [
       "<IPython.core.display.HTML object>"
      ]
     },
     "metadata": {
      "display_id": "382e1e3900e6fc58ad3854ea5baeb5bd"
     },
     "output_type": "display_data",
     "transient": {
      "display_id": "382e1e3900e6fc58ad3854ea5baeb5bd"
     }
    },
    {
     "data": {
      "text/html": [],
      "text/plain": [
       "<IPython.core.display.HTML object>"
      ]
     },
     "metadata": {
      "display_id": "113130331da068f5f79509628abd0f12"
     },
     "output_type": "display_data",
     "transient": {
      "display_id": "113130331da068f5f79509628abd0f12"
     }
    },
    {
     "data": {
      "text/html": [],
      "text/plain": [
       "<IPython.core.display.HTML object>"
      ]
     },
     "metadata": {
      "display_id": "88480aa23f597d862e5c33f89989af02"
     },
     "output_type": "display_data",
     "transient": {
      "display_id": "88480aa23f597d862e5c33f89989af02"
     }
    },
    {
     "data": {
      "text/html": [],
      "text/plain": [
       "<IPython.core.display.HTML object>"
      ]
     },
     "metadata": {
      "display_id": "3e85cd8937d2783a1b14d54e488cb984"
     },
     "output_type": "display_data",
     "transient": {
      "display_id": "3e85cd8937d2783a1b14d54e488cb984"
     }
    },
    {
     "data": {
      "text/html": [],
      "text/plain": [
       "<IPython.core.display.HTML object>"
      ]
     },
     "metadata": {
      "display_id": "fa0ea3d25454d4adc0cd6c106f885fa6"
     },
     "output_type": "display_data",
     "transient": {
      "display_id": "fa0ea3d25454d4adc0cd6c106f885fa6"
     }
    },
    {
     "data": {
      "text/html": [],
      "text/plain": [
       "<IPython.core.display.HTML object>"
      ]
     },
     "metadata": {
      "display_id": "8a17cd97a03a54719a080369f4d35eda"
     },
     "output_type": "display_data",
     "transient": {
      "display_id": "8a17cd97a03a54719a080369f4d35eda"
     }
    },
    {
     "data": {
      "text/html": [],
      "text/plain": [
       "<IPython.core.display.HTML object>"
      ]
     },
     "metadata": {
      "display_id": "43486bc0d9305e5fd8be96b239bef918"
     },
     "output_type": "display_data",
     "transient": {
      "display_id": "43486bc0d9305e5fd8be96b239bef918"
     }
    },
    {
     "data": {
      "text/html": [],
      "text/plain": [
       "<IPython.core.display.HTML object>"
      ]
     },
     "metadata": {
      "display_id": "1fff883ef3a211be07385daf085f343b"
     },
     "output_type": "display_data",
     "transient": {
      "display_id": "1fff883ef3a211be07385daf085f343b"
     }
    },
    {
     "data": {
      "text/html": [],
      "text/plain": [
       "<IPython.core.display.HTML object>"
      ]
     },
     "metadata": {
      "display_id": "4f9eb39187dc182e4fd569785643d877"
     },
     "output_type": "display_data",
     "transient": {
      "display_id": "4f9eb39187dc182e4fd569785643d877"
     }
    },
    {
     "data": {
      "text/html": [],
      "text/plain": [
       "<IPython.core.display.HTML object>"
      ]
     },
     "metadata": {
      "display_id": "7d1e0af64c7025e362bf10d37e0c81eb"
     },
     "output_type": "display_data",
     "transient": {
      "display_id": "7d1e0af64c7025e362bf10d37e0c81eb"
     }
    },
    {
     "data": {
      "text/html": [],
      "text/plain": [
       "<IPython.core.display.HTML object>"
      ]
     },
     "metadata": {
      "display_id": "cce78c3a7d0a63adb17f6bf9188f68d0"
     },
     "output_type": "display_data",
     "transient": {
      "display_id": "cce78c3a7d0a63adb17f6bf9188f68d0"
     }
    },
    {
     "data": {
      "text/html": [],
      "text/plain": [
       "<IPython.core.display.HTML object>"
      ]
     },
     "metadata": {
      "display_id": "87e205807ad10922a153d708e4c528f2"
     },
     "output_type": "display_data",
     "transient": {
      "display_id": "87e205807ad10922a153d708e4c528f2"
     }
    },
    {
     "data": {
      "text/html": [],
      "text/plain": [
       "<IPython.core.display.HTML object>"
      ]
     },
     "metadata": {
      "display_id": "b8848fb7fa95be35926105e0e204cafe"
     },
     "output_type": "display_data",
     "transient": {
      "display_id": "b8848fb7fa95be35926105e0e204cafe"
     }
    },
    {
     "data": {
      "text/html": [],
      "text/plain": [
       "<IPython.core.display.HTML object>"
      ]
     },
     "metadata": {
      "display_id": "548f599438540362a5f559a14c4e755b"
     },
     "output_type": "display_data",
     "transient": {
      "display_id": "548f599438540362a5f559a14c4e755b"
     }
    },
    {
     "data": {
      "text/html": [],
      "text/plain": [
       "<IPython.core.display.HTML object>"
      ]
     },
     "metadata": {
      "display_id": "2f2076d2f1bf47302d1527d08a792db9"
     },
     "output_type": "display_data",
     "transient": {
      "display_id": "2f2076d2f1bf47302d1527d08a792db9"
     }
    },
    {
     "data": {
      "text/html": [],
      "text/plain": [
       "<IPython.core.display.HTML object>"
      ]
     },
     "metadata": {
      "display_id": "99cdcf41d692c02977ca68d5dc5e0af6"
     },
     "output_type": "display_data",
     "transient": {
      "display_id": "99cdcf41d692c02977ca68d5dc5e0af6"
     }
    },
    {
     "data": {
      "text/html": [],
      "text/plain": [
       "<IPython.core.display.HTML object>"
      ]
     },
     "metadata": {
      "display_id": "ee457050997fb108b4e5d3f28a5bc336"
     },
     "output_type": "display_data",
     "transient": {
      "display_id": "ee457050997fb108b4e5d3f28a5bc336"
     }
    },
    {
     "data": {
      "text/html": [],
      "text/plain": [
       "<IPython.core.display.HTML object>"
      ]
     },
     "metadata": {
      "display_id": "797a12ff434fe1bc6205fac9fce8b011"
     },
     "output_type": "display_data",
     "transient": {
      "display_id": "797a12ff434fe1bc6205fac9fce8b011"
     }
    },
    {
     "data": {
      "text/html": [],
      "text/plain": [
       "<IPython.core.display.HTML object>"
      ]
     },
     "metadata": {
      "display_id": "448dfcac689980cb9dc552d07d34faf6"
     },
     "output_type": "display_data",
     "transient": {
      "display_id": "448dfcac689980cb9dc552d07d34faf6"
     }
    },
    {
     "data": {
      "text/html": [],
      "text/plain": [
       "<IPython.core.display.HTML object>"
      ]
     },
     "metadata": {
      "display_id": "3620429c36dbdc7b55c6cdf261bb1f85"
     },
     "output_type": "display_data",
     "transient": {
      "display_id": "3620429c36dbdc7b55c6cdf261bb1f85"
     }
    },
    {
     "data": {
      "text/html": [],
      "text/plain": [
       "<IPython.core.display.HTML object>"
      ]
     },
     "metadata": {
      "display_id": "7fb9d9554806352a6c40db83c1aa2244"
     },
     "output_type": "display_data",
     "transient": {
      "display_id": "7fb9d9554806352a6c40db83c1aa2244"
     }
    },
    {
     "data": {
      "text/html": [],
      "text/plain": [
       "<IPython.core.display.HTML object>"
      ]
     },
     "metadata": {
      "display_id": "9b011e4b657be95139ba0feeee35985b"
     },
     "output_type": "display_data",
     "transient": {
      "display_id": "9b011e4b657be95139ba0feeee35985b"
     }
    },
    {
     "data": {
      "text/html": [],
      "text/plain": [
       "<IPython.core.display.HTML object>"
      ]
     },
     "metadata": {
      "display_id": "2d760691c6943d0bd4fe7a08a3422c79"
     },
     "output_type": "display_data",
     "transient": {
      "display_id": "2d760691c6943d0bd4fe7a08a3422c79"
     }
    },
    {
     "data": {
      "text/html": [],
      "text/plain": [
       "<IPython.core.display.HTML object>"
      ]
     },
     "metadata": {
      "display_id": "c3778b3aad428cbcd66b68747d951dad"
     },
     "output_type": "display_data",
     "transient": {
      "display_id": "c3778b3aad428cbcd66b68747d951dad"
     }
    },
    {
     "data": {
      "text/html": [],
      "text/plain": [
       "<IPython.core.display.HTML object>"
      ]
     },
     "metadata": {
      "display_id": "9dc2ec9a8e9eaafae91331f0e832617b"
     },
     "output_type": "display_data",
     "transient": {
      "display_id": "9dc2ec9a8e9eaafae91331f0e832617b"
     }
    },
    {
     "data": {
      "text/html": [],
      "text/plain": [
       "<IPython.core.display.HTML object>"
      ]
     },
     "metadata": {
      "display_id": "6d3489800df2f57ef455944eb84d3870"
     },
     "output_type": "display_data",
     "transient": {
      "display_id": "6d3489800df2f57ef455944eb84d3870"
     }
    },
    {
     "data": {
      "text/html": [],
      "text/plain": [
       "<IPython.core.display.HTML object>"
      ]
     },
     "metadata": {
      "display_id": "faf220232ce85f1db3fc9b6a904c3362"
     },
     "output_type": "display_data",
     "transient": {
      "display_id": "faf220232ce85f1db3fc9b6a904c3362"
     }
    },
    {
     "data": {
      "text/html": [],
      "text/plain": [
       "<IPython.core.display.HTML object>"
      ]
     },
     "metadata": {
      "display_id": "86e87f8f80d4545a0c3c9e6a171b1f12"
     },
     "output_type": "display_data",
     "transient": {
      "display_id": "86e87f8f80d4545a0c3c9e6a171b1f12"
     }
    },
    {
     "data": {
      "text/html": [],
      "text/plain": [
       "<IPython.core.display.HTML object>"
      ]
     },
     "metadata": {
      "display_id": "b634c36d12a69ea1748b684ea81ecdab"
     },
     "output_type": "display_data",
     "transient": {
      "display_id": "b634c36d12a69ea1748b684ea81ecdab"
     }
    },
    {
     "data": {
      "text/html": [],
      "text/plain": [
       "<IPython.core.display.HTML object>"
      ]
     },
     "metadata": {
      "display_id": "bac95d1678f6130f26c627e4289095e3"
     },
     "output_type": "display_data",
     "transient": {
      "display_id": "bac95d1678f6130f26c627e4289095e3"
     }
    },
    {
     "data": {
      "text/html": [],
      "text/plain": [
       "<IPython.core.display.HTML object>"
      ]
     },
     "metadata": {
      "display_id": "0bad68718b93354b88d0d045cd21aef5"
     },
     "output_type": "display_data",
     "transient": {
      "display_id": "0bad68718b93354b88d0d045cd21aef5"
     }
    },
    {
     "data": {
      "text/html": [],
      "text/plain": [
       "<IPython.core.display.HTML object>"
      ]
     },
     "metadata": {
      "display_id": "702ba1560867e2ab1f86ebf5dd8d4843"
     },
     "output_type": "display_data",
     "transient": {
      "display_id": "702ba1560867e2ab1f86ebf5dd8d4843"
     }
    },
    {
     "data": {
      "text/html": [],
      "text/plain": [
       "<IPython.core.display.HTML object>"
      ]
     },
     "metadata": {
      "display_id": "54f74fd4004e98afa50cdca1039a0e50"
     },
     "output_type": "display_data",
     "transient": {
      "display_id": "54f74fd4004e98afa50cdca1039a0e50"
     }
    },
    {
     "data": {
      "text/html": [],
      "text/plain": [
       "<IPython.core.display.HTML object>"
      ]
     },
     "metadata": {
      "display_id": "97ea1f330e643e3633929b6f5fa0561c"
     },
     "output_type": "display_data",
     "transient": {
      "display_id": "97ea1f330e643e3633929b6f5fa0561c"
     }
    },
    {
     "data": {
      "text/html": [],
      "text/plain": [
       "<IPython.core.display.HTML object>"
      ]
     },
     "metadata": {
      "display_id": "2d921c51fb12ac3baeb8b7cae39f0c52"
     },
     "output_type": "display_data",
     "transient": {
      "display_id": "2d921c51fb12ac3baeb8b7cae39f0c52"
     }
    },
    {
     "data": {
      "text/html": [],
      "text/plain": [
       "<IPython.core.display.HTML object>"
      ]
     },
     "metadata": {
      "display_id": "56ccaf9d226467ac98635d853aed6912"
     },
     "output_type": "display_data",
     "transient": {
      "display_id": "56ccaf9d226467ac98635d853aed6912"
     }
    },
    {
     "data": {
      "text/html": [],
      "text/plain": [
       "<IPython.core.display.HTML object>"
      ]
     },
     "metadata": {
      "display_id": "459ead1e8dacda8701ac4c38f21cb21d"
     },
     "output_type": "display_data",
     "transient": {
      "display_id": "459ead1e8dacda8701ac4c38f21cb21d"
     }
    },
    {
     "data": {
      "text/html": [],
      "text/plain": [
       "<IPython.core.display.HTML object>"
      ]
     },
     "metadata": {
      "display_id": "81a584fc8c30e29279459d9162c70658"
     },
     "output_type": "display_data",
     "transient": {
      "display_id": "81a584fc8c30e29279459d9162c70658"
     }
    },
    {
     "data": {
      "text/html": [],
      "text/plain": [
       "<IPython.core.display.HTML object>"
      ]
     },
     "metadata": {
      "display_id": "4bddd7f9cc3349a50fce81cdf460fb0d"
     },
     "output_type": "display_data",
     "transient": {
      "display_id": "4bddd7f9cc3349a50fce81cdf460fb0d"
     }
    },
    {
     "data": {
      "text/html": [],
      "text/plain": [
       "<IPython.core.display.HTML object>"
      ]
     },
     "metadata": {
      "display_id": "b08fb26fbd94fdce5027818653c84a10"
     },
     "output_type": "display_data",
     "transient": {
      "display_id": "b08fb26fbd94fdce5027818653c84a10"
     }
    },
    {
     "data": {
      "text/html": [],
      "text/plain": [
       "<IPython.core.display.HTML object>"
      ]
     },
     "metadata": {
      "display_id": "7caff35df716635cdca0e1a3ef7a6103"
     },
     "output_type": "display_data",
     "transient": {
      "display_id": "7caff35df716635cdca0e1a3ef7a6103"
     }
    },
    {
     "data": {
      "text/html": [],
      "text/plain": [
       "<IPython.core.display.HTML object>"
      ]
     },
     "metadata": {
      "display_id": "a3bfdac49c01abba8d08aea63b585f96"
     },
     "output_type": "display_data",
     "transient": {
      "display_id": "a3bfdac49c01abba8d08aea63b585f96"
     }
    },
    {
     "data": {
      "text/html": [],
      "text/plain": [
       "<IPython.core.display.HTML object>"
      ]
     },
     "metadata": {
      "display_id": "bab0a7b1265d7fd35b9cf6298afdb03e"
     },
     "output_type": "display_data",
     "transient": {
      "display_id": "bab0a7b1265d7fd35b9cf6298afdb03e"
     }
    },
    {
     "data": {
      "text/html": [],
      "text/plain": [
       "<IPython.core.display.HTML object>"
      ]
     },
     "metadata": {
      "display_id": "4a24e02b23c416aabce83018eba0a757"
     },
     "output_type": "display_data",
     "transient": {
      "display_id": "4a24e02b23c416aabce83018eba0a757"
     }
    },
    {
     "data": {
      "text/html": [],
      "text/plain": [
       "<IPython.core.display.HTML object>"
      ]
     },
     "metadata": {
      "display_id": "a7698bed5936f98ccd0c5b15197592eb"
     },
     "output_type": "display_data",
     "transient": {
      "display_id": "a7698bed5936f98ccd0c5b15197592eb"
     }
    },
    {
     "data": {
      "text/html": [],
      "text/plain": [
       "<IPython.core.display.HTML object>"
      ]
     },
     "metadata": {
      "display_id": "7e11e7b80f05f4e06bdd97f738f4f074"
     },
     "output_type": "display_data",
     "transient": {
      "display_id": "7e11e7b80f05f4e06bdd97f738f4f074"
     }
    },
    {
     "data": {
      "text/html": [],
      "text/plain": [
       "<IPython.core.display.HTML object>"
      ]
     },
     "metadata": {
      "display_id": "5fbfd8e894518ea19fa8c1a93f28b651"
     },
     "output_type": "display_data",
     "transient": {
      "display_id": "5fbfd8e894518ea19fa8c1a93f28b651"
     }
    },
    {
     "data": {
      "text/html": [],
      "text/plain": [
       "<IPython.core.display.HTML object>"
      ]
     },
     "metadata": {
      "display_id": "3ac1caf601b37464f6a5a01fa694b07a"
     },
     "output_type": "display_data",
     "transient": {
      "display_id": "3ac1caf601b37464f6a5a01fa694b07a"
     }
    },
    {
     "data": {
      "text/html": [],
      "text/plain": [
       "<IPython.core.display.HTML object>"
      ]
     },
     "metadata": {
      "display_id": "1c8ecf3feca4a076b6ef71955f0347ba"
     },
     "output_type": "display_data",
     "transient": {
      "display_id": "1c8ecf3feca4a076b6ef71955f0347ba"
     }
    },
    {
     "data": {
      "text/html": [],
      "text/plain": [
       "<IPython.core.display.HTML object>"
      ]
     },
     "metadata": {
      "display_id": "4844dd8404a9b034ce7ae345b08631f6"
     },
     "output_type": "display_data",
     "transient": {
      "display_id": "4844dd8404a9b034ce7ae345b08631f6"
     }
    },
    {
     "data": {
      "text/html": [],
      "text/plain": [
       "<IPython.core.display.HTML object>"
      ]
     },
     "metadata": {
      "display_id": "41ea19a102e12901a3e5f1f8fe2eac18"
     },
     "output_type": "display_data",
     "transient": {
      "display_id": "41ea19a102e12901a3e5f1f8fe2eac18"
     }
    },
    {
     "data": {
      "text/html": [],
      "text/plain": [
       "<IPython.core.display.HTML object>"
      ]
     },
     "metadata": {
      "display_id": "94f775f25a2d45c168421c16e9a2f8b3"
     },
     "output_type": "display_data",
     "transient": {
      "display_id": "94f775f25a2d45c168421c16e9a2f8b3"
     }
    },
    {
     "data": {
      "text/html": [],
      "text/plain": [
       "<IPython.core.display.HTML object>"
      ]
     },
     "metadata": {
      "display_id": "af3ef829fb75c1487bb66fc073a1caf5"
     },
     "output_type": "display_data",
     "transient": {
      "display_id": "af3ef829fb75c1487bb66fc073a1caf5"
     }
    },
    {
     "data": {
      "text/html": [],
      "text/plain": [
       "<IPython.core.display.HTML object>"
      ]
     },
     "metadata": {
      "display_id": "9e04d17217e41de7de53541952280bee"
     },
     "output_type": "display_data",
     "transient": {
      "display_id": "9e04d17217e41de7de53541952280bee"
     }
    },
    {
     "data": {
      "text/html": [],
      "text/plain": [
       "<IPython.core.display.HTML object>"
      ]
     },
     "metadata": {
      "display_id": "d514f4e6c9191335db144d05b124de1f"
     },
     "output_type": "display_data",
     "transient": {
      "display_id": "d514f4e6c9191335db144d05b124de1f"
     }
    },
    {
     "data": {
      "text/html": [],
      "text/plain": [
       "<IPython.core.display.HTML object>"
      ]
     },
     "metadata": {
      "display_id": "28553d3b5aa5c8967dc7daeaa8fc7879"
     },
     "output_type": "display_data",
     "transient": {
      "display_id": "28553d3b5aa5c8967dc7daeaa8fc7879"
     }
    },
    {
     "data": {
      "text/html": [],
      "text/plain": [
       "<IPython.core.display.HTML object>"
      ]
     },
     "metadata": {
      "display_id": "6f8f4b2e0390497798693176b85e6750"
     },
     "output_type": "display_data",
     "transient": {
      "display_id": "6f8f4b2e0390497798693176b85e6750"
     }
    },
    {
     "data": {
      "text/html": [],
      "text/plain": [
       "<IPython.core.display.HTML object>"
      ]
     },
     "metadata": {
      "display_id": "8c83fab743de4240203242cb4e776488"
     },
     "output_type": "display_data",
     "transient": {
      "display_id": "8c83fab743de4240203242cb4e776488"
     }
    },
    {
     "data": {
      "text/html": [],
      "text/plain": [
       "<IPython.core.display.HTML object>"
      ]
     },
     "metadata": {
      "display_id": "aae2cb8d986e0fd3829948b9945c7507"
     },
     "output_type": "display_data",
     "transient": {
      "display_id": "aae2cb8d986e0fd3829948b9945c7507"
     }
    },
    {
     "data": {
      "text/html": [],
      "text/plain": [
       "<IPython.core.display.HTML object>"
      ]
     },
     "metadata": {
      "display_id": "60d822fcb0c61099c56b51a3390eb4f7"
     },
     "output_type": "display_data",
     "transient": {
      "display_id": "60d822fcb0c61099c56b51a3390eb4f7"
     }
    },
    {
     "data": {
      "text/html": [],
      "text/plain": [
       "<IPython.core.display.HTML object>"
      ]
     },
     "metadata": {
      "display_id": "7a1e6a6a64b78c93cdead8e39fa4d9ef"
     },
     "output_type": "display_data",
     "transient": {
      "display_id": "7a1e6a6a64b78c93cdead8e39fa4d9ef"
     }
    },
    {
     "data": {
      "text/html": [],
      "text/plain": [
       "<IPython.core.display.HTML object>"
      ]
     },
     "metadata": {
      "display_id": "88669ebcd22251d5b39edd3dab244570"
     },
     "output_type": "display_data",
     "transient": {
      "display_id": "88669ebcd22251d5b39edd3dab244570"
     }
    },
    {
     "data": {
      "text/html": [],
      "text/plain": [
       "<IPython.core.display.HTML object>"
      ]
     },
     "metadata": {
      "display_id": "f8751dbfcc7698efd2b8f80a1303ec5c"
     },
     "output_type": "display_data",
     "transient": {
      "display_id": "f8751dbfcc7698efd2b8f80a1303ec5c"
     }
    },
    {
     "data": {
      "text/html": [],
      "text/plain": [
       "<IPython.core.display.HTML object>"
      ]
     },
     "metadata": {
      "display_id": "f474c182d640e3ab61020a59a9823ffa"
     },
     "output_type": "display_data",
     "transient": {
      "display_id": "f474c182d640e3ab61020a59a9823ffa"
     }
    },
    {
     "data": {
      "text/html": [],
      "text/plain": [
       "<IPython.core.display.HTML object>"
      ]
     },
     "metadata": {
      "display_id": "c1660bbd635a720114b7440a72cfdcdc"
     },
     "output_type": "display_data",
     "transient": {
      "display_id": "c1660bbd635a720114b7440a72cfdcdc"
     }
    },
    {
     "data": {
      "text/html": [],
      "text/plain": [
       "<IPython.core.display.HTML object>"
      ]
     },
     "metadata": {
      "display_id": "5cfe4c627fb0abb953923480208c8a37"
     },
     "output_type": "display_data",
     "transient": {
      "display_id": "5cfe4c627fb0abb953923480208c8a37"
     }
    },
    {
     "data": {
      "text/html": [],
      "text/plain": [
       "<IPython.core.display.HTML object>"
      ]
     },
     "metadata": {
      "display_id": "5436967c32cf4409ce6cd7a5bc6f3d41"
     },
     "output_type": "display_data",
     "transient": {
      "display_id": "5436967c32cf4409ce6cd7a5bc6f3d41"
     }
    },
    {
     "data": {
      "text/html": [],
      "text/plain": [
       "<IPython.core.display.HTML object>"
      ]
     },
     "metadata": {
      "display_id": "7673d361be863dab48548ab882319b06"
     },
     "output_type": "display_data",
     "transient": {
      "display_id": "7673d361be863dab48548ab882319b06"
     }
    },
    {
     "data": {
      "text/html": [],
      "text/plain": [
       "<IPython.core.display.HTML object>"
      ]
     },
     "metadata": {
      "display_id": "a8f91ca6dc3766b456708446cfa2469e"
     },
     "output_type": "display_data",
     "transient": {
      "display_id": "a8f91ca6dc3766b456708446cfa2469e"
     }
    },
    {
     "data": {
      "text/html": [],
      "text/plain": [
       "<IPython.core.display.HTML object>"
      ]
     },
     "metadata": {
      "display_id": "96448af8b5ae06044d25ee10a37ffad4"
     },
     "output_type": "display_data",
     "transient": {
      "display_id": "96448af8b5ae06044d25ee10a37ffad4"
     }
    },
    {
     "data": {
      "text/html": [],
      "text/plain": [
       "<IPython.core.display.HTML object>"
      ]
     },
     "metadata": {
      "display_id": "503d0970db674cd5c7b90f1cf39c4fa3"
     },
     "output_type": "display_data",
     "transient": {
      "display_id": "503d0970db674cd5c7b90f1cf39c4fa3"
     }
    },
    {
     "data": {
      "text/html": [],
      "text/plain": [
       "<IPython.core.display.HTML object>"
      ]
     },
     "metadata": {
      "display_id": "1383edd38d2073e4376e6f63b24c808b"
     },
     "output_type": "display_data",
     "transient": {
      "display_id": "1383edd38d2073e4376e6f63b24c808b"
     }
    },
    {
     "data": {
      "text/html": [],
      "text/plain": [
       "<IPython.core.display.HTML object>"
      ]
     },
     "metadata": {
      "display_id": "c1e05c09af9bb0ecc2af341247486cfb"
     },
     "output_type": "display_data",
     "transient": {
      "display_id": "c1e05c09af9bb0ecc2af341247486cfb"
     }
    },
    {
     "data": {
      "text/html": [],
      "text/plain": [
       "<IPython.core.display.HTML object>"
      ]
     },
     "metadata": {
      "display_id": "5efa651e00e5c86fd2c50906b4888d42"
     },
     "output_type": "display_data",
     "transient": {
      "display_id": "5efa651e00e5c86fd2c50906b4888d42"
     }
    },
    {
     "data": {
      "text/html": [],
      "text/plain": [
       "<IPython.core.display.HTML object>"
      ]
     },
     "metadata": {
      "display_id": "e38f8fdb2540eec4ee196dc73468e4bb"
     },
     "output_type": "display_data",
     "transient": {
      "display_id": "e38f8fdb2540eec4ee196dc73468e4bb"
     }
    },
    {
     "data": {
      "text/html": [],
      "text/plain": [
       "<IPython.core.display.HTML object>"
      ]
     },
     "metadata": {
      "display_id": "a3faf95061ae227e4c0a1a47178f0ff6"
     },
     "output_type": "display_data",
     "transient": {
      "display_id": "a3faf95061ae227e4c0a1a47178f0ff6"
     }
    },
    {
     "data": {
      "text/html": [],
      "text/plain": [
       "<IPython.core.display.HTML object>"
      ]
     },
     "metadata": {
      "display_id": "3e91928c9eebb944f5038c20ecb73732"
     },
     "output_type": "display_data",
     "transient": {
      "display_id": "3e91928c9eebb944f5038c20ecb73732"
     }
    },
    {
     "data": {
      "text/html": [],
      "text/plain": [
       "<IPython.core.display.HTML object>"
      ]
     },
     "metadata": {
      "display_id": "e96258fd5a719b605aa4d6bd902a5f79"
     },
     "output_type": "display_data",
     "transient": {
      "display_id": "e96258fd5a719b605aa4d6bd902a5f79"
     }
    },
    {
     "data": {
      "text/html": [],
      "text/plain": [
       "<IPython.core.display.HTML object>"
      ]
     },
     "metadata": {
      "display_id": "b41e52fab799e6107e84999237bb5b4f"
     },
     "output_type": "display_data",
     "transient": {
      "display_id": "b41e52fab799e6107e84999237bb5b4f"
     }
    },
    {
     "data": {
      "text/html": [],
      "text/plain": [
       "<IPython.core.display.HTML object>"
      ]
     },
     "metadata": {
      "display_id": "40638e7c34fe6d6a1ac6a33d55e5a947"
     },
     "output_type": "display_data",
     "transient": {
      "display_id": "40638e7c34fe6d6a1ac6a33d55e5a947"
     }
    },
    {
     "data": {
      "text/html": [],
      "text/plain": [
       "<IPython.core.display.HTML object>"
      ]
     },
     "metadata": {
      "display_id": "808295409241f096f3cb7802b4ca2820"
     },
     "output_type": "display_data",
     "transient": {
      "display_id": "808295409241f096f3cb7802b4ca2820"
     }
    },
    {
     "data": {
      "text/html": [],
      "text/plain": [
       "<IPython.core.display.HTML object>"
      ]
     },
     "metadata": {
      "display_id": "62839b2c64bf9a78c3f69711e3b14fad"
     },
     "output_type": "display_data",
     "transient": {
      "display_id": "62839b2c64bf9a78c3f69711e3b14fad"
     }
    },
    {
     "data": {
      "text/html": [],
      "text/plain": [
       "<IPython.core.display.HTML object>"
      ]
     },
     "metadata": {
      "display_id": "e2922aa48e5930532e1b019dc5093af7"
     },
     "output_type": "display_data",
     "transient": {
      "display_id": "e2922aa48e5930532e1b019dc5093af7"
     }
    },
    {
     "data": {
      "text/html": [],
      "text/plain": [
       "<IPython.core.display.HTML object>"
      ]
     },
     "metadata": {
      "display_id": "481bc9407ff8d9ebe772dcf365ba1141"
     },
     "output_type": "display_data",
     "transient": {
      "display_id": "481bc9407ff8d9ebe772dcf365ba1141"
     }
    },
    {
     "data": {
      "text/html": [],
      "text/plain": [
       "<IPython.core.display.HTML object>"
      ]
     },
     "metadata": {
      "display_id": "543d1727dfa7013c1d778bdfbe6c920c"
     },
     "output_type": "display_data",
     "transient": {
      "display_id": "543d1727dfa7013c1d778bdfbe6c920c"
     }
    },
    {
     "data": {
      "text/html": [],
      "text/plain": [
       "<IPython.core.display.HTML object>"
      ]
     },
     "metadata": {
      "display_id": "a7e7bf26d6922c8eadddb4b25d3de5f5"
     },
     "output_type": "display_data",
     "transient": {
      "display_id": "a7e7bf26d6922c8eadddb4b25d3de5f5"
     }
    },
    {
     "data": {
      "text/html": [],
      "text/plain": [
       "<IPython.core.display.HTML object>"
      ]
     },
     "metadata": {
      "display_id": "2da36a9e1da5ce684fe211af8cc0a775"
     },
     "output_type": "display_data",
     "transient": {
      "display_id": "2da36a9e1da5ce684fe211af8cc0a775"
     }
    },
    {
     "data": {
      "text/html": [],
      "text/plain": [
       "<IPython.core.display.HTML object>"
      ]
     },
     "metadata": {
      "display_id": "e7d5ad5cadb3ec9f1174dbe596ee63b0"
     },
     "output_type": "display_data",
     "transient": {
      "display_id": "e7d5ad5cadb3ec9f1174dbe596ee63b0"
     }
    },
    {
     "data": {
      "text/html": [],
      "text/plain": [
       "<IPython.core.display.HTML object>"
      ]
     },
     "metadata": {
      "display_id": "0977a10236ae55dee0f72491a8ac3758"
     },
     "output_type": "display_data",
     "transient": {
      "display_id": "0977a10236ae55dee0f72491a8ac3758"
     }
    },
    {
     "data": {
      "text/html": [],
      "text/plain": [
       "<IPython.core.display.HTML object>"
      ]
     },
     "metadata": {
      "display_id": "97f1a0f29cadeb27b9fcd7ef10f7ddbf"
     },
     "output_type": "display_data",
     "transient": {
      "display_id": "97f1a0f29cadeb27b9fcd7ef10f7ddbf"
     }
    },
    {
     "data": {
      "text/html": [],
      "text/plain": [
       "<IPython.core.display.HTML object>"
      ]
     },
     "metadata": {
      "display_id": "a08cd0d7fa2da19139d611f956afbb91"
     },
     "output_type": "display_data",
     "transient": {
      "display_id": "a08cd0d7fa2da19139d611f956afbb91"
     }
    },
    {
     "data": {
      "text/html": [],
      "text/plain": [
       "<IPython.core.display.HTML object>"
      ]
     },
     "metadata": {
      "display_id": "f9585b80bb5217d8c46890108d676756"
     },
     "output_type": "display_data",
     "transient": {
      "display_id": "f9585b80bb5217d8c46890108d676756"
     }
    },
    {
     "data": {
      "text/html": [],
      "text/plain": [
       "<IPython.core.display.HTML object>"
      ]
     },
     "metadata": {
      "display_id": "390a410ed0835703e1ff140c426286f0"
     },
     "output_type": "display_data",
     "transient": {
      "display_id": "390a410ed0835703e1ff140c426286f0"
     }
    },
    {
     "data": {
      "text/html": [],
      "text/plain": [
       "<IPython.core.display.HTML object>"
      ]
     },
     "metadata": {
      "display_id": "54a23caac2e599ab1bcee1a608844eda"
     },
     "output_type": "display_data",
     "transient": {
      "display_id": "54a23caac2e599ab1bcee1a608844eda"
     }
    },
    {
     "data": {
      "text/html": [],
      "text/plain": [
       "<IPython.core.display.HTML object>"
      ]
     },
     "metadata": {
      "display_id": "fc2ee996a531e7a61bd12999dea488d4"
     },
     "output_type": "display_data",
     "transient": {
      "display_id": "fc2ee996a531e7a61bd12999dea488d4"
     }
    },
    {
     "data": {
      "text/html": [],
      "text/plain": [
       "<IPython.core.display.HTML object>"
      ]
     },
     "metadata": {
      "display_id": "23e164d3b4816040f3c0ec33442bc853"
     },
     "output_type": "display_data",
     "transient": {
      "display_id": "23e164d3b4816040f3c0ec33442bc853"
     }
    },
    {
     "data": {
      "text/html": [],
      "text/plain": [
       "<IPython.core.display.HTML object>"
      ]
     },
     "metadata": {
      "display_id": "2a8838b99d45514be571653ab5ede24c"
     },
     "output_type": "display_data",
     "transient": {
      "display_id": "2a8838b99d45514be571653ab5ede24c"
     }
    },
    {
     "data": {
      "text/html": [],
      "text/plain": [
       "<IPython.core.display.HTML object>"
      ]
     },
     "metadata": {
      "display_id": "ff25765e6865231af99d4ea539afbc3e"
     },
     "output_type": "display_data",
     "transient": {
      "display_id": "ff25765e6865231af99d4ea539afbc3e"
     }
    },
    {
     "data": {
      "text/html": [],
      "text/plain": [
       "<IPython.core.display.HTML object>"
      ]
     },
     "metadata": {
      "display_id": "07c072e0c654d8fc7fb9013682c03aac"
     },
     "output_type": "display_data",
     "transient": {
      "display_id": "07c072e0c654d8fc7fb9013682c03aac"
     }
    },
    {
     "data": {
      "text/html": [],
      "text/plain": [
       "<IPython.core.display.HTML object>"
      ]
     },
     "metadata": {
      "display_id": "ebf4708aeccf0eb3b7026cda82ec3825"
     },
     "output_type": "display_data",
     "transient": {
      "display_id": "ebf4708aeccf0eb3b7026cda82ec3825"
     }
    },
    {
     "data": {
      "text/html": [],
      "text/plain": [
       "<IPython.core.display.HTML object>"
      ]
     },
     "metadata": {
      "display_id": "3260a70bfd3a27c51c3039a257367e9e"
     },
     "output_type": "display_data",
     "transient": {
      "display_id": "3260a70bfd3a27c51c3039a257367e9e"
     }
    },
    {
     "data": {
      "text/html": [],
      "text/plain": [
       "<IPython.core.display.HTML object>"
      ]
     },
     "metadata": {
      "display_id": "789ee878a735b4513930cd02d2417407"
     },
     "output_type": "display_data",
     "transient": {
      "display_id": "789ee878a735b4513930cd02d2417407"
     }
    },
    {
     "data": {
      "text/html": [],
      "text/plain": [
       "<IPython.core.display.HTML object>"
      ]
     },
     "metadata": {
      "display_id": "c5d85bc8fc9df2956dc0897a7c5b6376"
     },
     "output_type": "display_data",
     "transient": {
      "display_id": "c5d85bc8fc9df2956dc0897a7c5b6376"
     }
    },
    {
     "data": {
      "text/html": [],
      "text/plain": [
       "<IPython.core.display.HTML object>"
      ]
     },
     "metadata": {
      "display_id": "d3bcff7c7d676c5d03aa3012a9d04222"
     },
     "output_type": "display_data",
     "transient": {
      "display_id": "d3bcff7c7d676c5d03aa3012a9d04222"
     }
    },
    {
     "data": {
      "text/html": [],
      "text/plain": [
       "<IPython.core.display.HTML object>"
      ]
     },
     "metadata": {
      "display_id": "59c65834ba05bb00848d031f5de2db1c"
     },
     "output_type": "display_data",
     "transient": {
      "display_id": "59c65834ba05bb00848d031f5de2db1c"
     }
    },
    {
     "data": {
      "text/html": [],
      "text/plain": [
       "<IPython.core.display.HTML object>"
      ]
     },
     "metadata": {
      "display_id": "d4866d42cb6d01e8a56ac1b6d51f5ac5"
     },
     "output_type": "display_data",
     "transient": {
      "display_id": "d4866d42cb6d01e8a56ac1b6d51f5ac5"
     }
    },
    {
     "data": {
      "text/html": [],
      "text/plain": [
       "<IPython.core.display.HTML object>"
      ]
     },
     "metadata": {
      "display_id": "8536c2b1d72eba215fbd7d6dc27ac511"
     },
     "output_type": "display_data",
     "transient": {
      "display_id": "8536c2b1d72eba215fbd7d6dc27ac511"
     }
    },
    {
     "data": {
      "text/html": [],
      "text/plain": [
       "<IPython.core.display.HTML object>"
      ]
     },
     "metadata": {
      "display_id": "b46961975033ffa338c1c689d1f71b5b"
     },
     "output_type": "display_data",
     "transient": {
      "display_id": "b46961975033ffa338c1c689d1f71b5b"
     }
    },
    {
     "data": {
      "text/html": [],
      "text/plain": [
       "<IPython.core.display.HTML object>"
      ]
     },
     "metadata": {
      "display_id": "ad12cb925b61093f2601c5e9bb5ada91"
     },
     "output_type": "display_data",
     "transient": {
      "display_id": "ad12cb925b61093f2601c5e9bb5ada91"
     }
    },
    {
     "data": {
      "text/html": [],
      "text/plain": [
       "<IPython.core.display.HTML object>"
      ]
     },
     "metadata": {
      "display_id": "36a412f2f5e1de09fa8d7a1460107582"
     },
     "output_type": "display_data",
     "transient": {
      "display_id": "36a412f2f5e1de09fa8d7a1460107582"
     }
    },
    {
     "data": {
      "text/html": [],
      "text/plain": [
       "<IPython.core.display.HTML object>"
      ]
     },
     "metadata": {
      "display_id": "e7f0b5da8581fccde9fb933ce1f25357"
     },
     "output_type": "display_data",
     "transient": {
      "display_id": "e7f0b5da8581fccde9fb933ce1f25357"
     }
    },
    {
     "data": {
      "text/html": [],
      "text/plain": [
       "<IPython.core.display.HTML object>"
      ]
     },
     "metadata": {
      "display_id": "892572665f9a6f3e63f846fd33dc4600"
     },
     "output_type": "display_data",
     "transient": {
      "display_id": "892572665f9a6f3e63f846fd33dc4600"
     }
    },
    {
     "data": {
      "text/html": [],
      "text/plain": [
       "<IPython.core.display.HTML object>"
      ]
     },
     "metadata": {
      "display_id": "2730d179cb148bb6899064eef94c100f"
     },
     "output_type": "display_data",
     "transient": {
      "display_id": "2730d179cb148bb6899064eef94c100f"
     }
    },
    {
     "data": {
      "text/html": [],
      "text/plain": [
       "<IPython.core.display.HTML object>"
      ]
     },
     "metadata": {
      "display_id": "ea53cc9037bbe206e8bf28e7dd9f6d0e"
     },
     "output_type": "display_data",
     "transient": {
      "display_id": "ea53cc9037bbe206e8bf28e7dd9f6d0e"
     }
    },
    {
     "data": {
      "text/html": [],
      "text/plain": [
       "<IPython.core.display.HTML object>"
      ]
     },
     "metadata": {
      "display_id": "3e5a515af48482a3bce4e47c91bc82f6"
     },
     "output_type": "display_data",
     "transient": {
      "display_id": "3e5a515af48482a3bce4e47c91bc82f6"
     }
    },
    {
     "data": {
      "text/html": [],
      "text/plain": [
       "<IPython.core.display.HTML object>"
      ]
     },
     "metadata": {
      "display_id": "9b42a9a6ca30156d44f0f9609d1866fd"
     },
     "output_type": "display_data",
     "transient": {
      "display_id": "9b42a9a6ca30156d44f0f9609d1866fd"
     }
    },
    {
     "data": {
      "text/html": [],
      "text/plain": [
       "<IPython.core.display.HTML object>"
      ]
     },
     "metadata": {
      "display_id": "8a69d4f4a743c0e6c5841e17952e9374"
     },
     "output_type": "display_data",
     "transient": {
      "display_id": "8a69d4f4a743c0e6c5841e17952e9374"
     }
    },
    {
     "data": {
      "text/html": [],
      "text/plain": [
       "<IPython.core.display.HTML object>"
      ]
     },
     "metadata": {
      "display_id": "716279d38205f5b5268ff23fd9300025"
     },
     "output_type": "display_data",
     "transient": {
      "display_id": "716279d38205f5b5268ff23fd9300025"
     }
    },
    {
     "data": {
      "text/html": [],
      "text/plain": [
       "<IPython.core.display.HTML object>"
      ]
     },
     "metadata": {
      "display_id": "8953156b6b64c2e73b2119a8e529bb44"
     },
     "output_type": "display_data",
     "transient": {
      "display_id": "8953156b6b64c2e73b2119a8e529bb44"
     }
    },
    {
     "data": {
      "text/html": [],
      "text/plain": [
       "<IPython.core.display.HTML object>"
      ]
     },
     "metadata": {
      "display_id": "a891f15fcd6ad56c65b7fb7d03abaca9"
     },
     "output_type": "display_data",
     "transient": {
      "display_id": "a891f15fcd6ad56c65b7fb7d03abaca9"
     }
    },
    {
     "data": {
      "text/html": [],
      "text/plain": [
       "<IPython.core.display.HTML object>"
      ]
     },
     "metadata": {
      "display_id": "b1cdfe35bdf23f2973615d51a26bbb52"
     },
     "output_type": "display_data",
     "transient": {
      "display_id": "b1cdfe35bdf23f2973615d51a26bbb52"
     }
    },
    {
     "data": {
      "text/html": [],
      "text/plain": [
       "<IPython.core.display.HTML object>"
      ]
     },
     "metadata": {
      "display_id": "71019d330ef9be9346aa1a1801052f9e"
     },
     "output_type": "display_data",
     "transient": {
      "display_id": "71019d330ef9be9346aa1a1801052f9e"
     }
    },
    {
     "data": {
      "text/html": [],
      "text/plain": [
       "<IPython.core.display.HTML object>"
      ]
     },
     "metadata": {
      "display_id": "f9752122ab1a2f6054c80d7df395543a"
     },
     "output_type": "display_data",
     "transient": {
      "display_id": "f9752122ab1a2f6054c80d7df395543a"
     }
    },
    {
     "data": {
      "text/html": [],
      "text/plain": [
       "<IPython.core.display.HTML object>"
      ]
     },
     "metadata": {
      "display_id": "73461414654a0eac6752b60f57e28f74"
     },
     "output_type": "display_data",
     "transient": {
      "display_id": "73461414654a0eac6752b60f57e28f74"
     }
    },
    {
     "data": {
      "text/html": [],
      "text/plain": [
       "<IPython.core.display.HTML object>"
      ]
     },
     "metadata": {
      "display_id": "07664af0016154fc8001fae52dd8266b"
     },
     "output_type": "display_data",
     "transient": {
      "display_id": "07664af0016154fc8001fae52dd8266b"
     }
    },
    {
     "data": {
      "text/html": [],
      "text/plain": [
       "<IPython.core.display.HTML object>"
      ]
     },
     "metadata": {
      "display_id": "ff48d75eae8de7ba2012d54d82f784e4"
     },
     "output_type": "display_data",
     "transient": {
      "display_id": "ff48d75eae8de7ba2012d54d82f784e4"
     }
    },
    {
     "data": {
      "text/html": [],
      "text/plain": [
       "<IPython.core.display.HTML object>"
      ]
     },
     "metadata": {
      "display_id": "dd0f3a0704f2a7a00421593f772e5f76"
     },
     "output_type": "display_data",
     "transient": {
      "display_id": "dd0f3a0704f2a7a00421593f772e5f76"
     }
    },
    {
     "data": {
      "text/html": [],
      "text/plain": [
       "<IPython.core.display.HTML object>"
      ]
     },
     "metadata": {
      "display_id": "36077fed27473a12e971fa8af98a850a"
     },
     "output_type": "display_data",
     "transient": {
      "display_id": "36077fed27473a12e971fa8af98a850a"
     }
    },
    {
     "data": {
      "text/html": [],
      "text/plain": [
       "<IPython.core.display.HTML object>"
      ]
     },
     "metadata": {
      "display_id": "dd971516e868fe22c7a477a41254761b"
     },
     "output_type": "display_data",
     "transient": {
      "display_id": "dd971516e868fe22c7a477a41254761b"
     }
    },
    {
     "data": {
      "text/html": [],
      "text/plain": [
       "<IPython.core.display.HTML object>"
      ]
     },
     "metadata": {
      "display_id": "c9073c449018325bf9ff572f6539882a"
     },
     "output_type": "display_data",
     "transient": {
      "display_id": "c9073c449018325bf9ff572f6539882a"
     }
    },
    {
     "data": {
      "text/html": [],
      "text/plain": [
       "<IPython.core.display.HTML object>"
      ]
     },
     "metadata": {
      "display_id": "90faed4539823a1ae63215a4710b9645"
     },
     "output_type": "display_data",
     "transient": {
      "display_id": "90faed4539823a1ae63215a4710b9645"
     }
    },
    {
     "data": {
      "text/html": [],
      "text/plain": [
       "<IPython.core.display.HTML object>"
      ]
     },
     "metadata": {
      "display_id": "399be6622ce9362ac4abc9ccb0fec816"
     },
     "output_type": "display_data",
     "transient": {
      "display_id": "399be6622ce9362ac4abc9ccb0fec816"
     }
    },
    {
     "data": {
      "text/html": [],
      "text/plain": [
       "<IPython.core.display.HTML object>"
      ]
     },
     "metadata": {
      "display_id": "b5b1e1c9d6227001fb870d3b80280c95"
     },
     "output_type": "display_data",
     "transient": {
      "display_id": "b5b1e1c9d6227001fb870d3b80280c95"
     }
    },
    {
     "data": {
      "text/html": [],
      "text/plain": [
       "<IPython.core.display.HTML object>"
      ]
     },
     "metadata": {
      "display_id": "535223bf988017e8d294149de1175dc0"
     },
     "output_type": "display_data",
     "transient": {
      "display_id": "535223bf988017e8d294149de1175dc0"
     }
    },
    {
     "data": {
      "text/html": [],
      "text/plain": [
       "<IPython.core.display.HTML object>"
      ]
     },
     "metadata": {
      "display_id": "11341652c55fa30ba570f1ab5464f76d"
     },
     "output_type": "display_data",
     "transient": {
      "display_id": "11341652c55fa30ba570f1ab5464f76d"
     }
    },
    {
     "data": {
      "text/html": [],
      "text/plain": [
       "<IPython.core.display.HTML object>"
      ]
     },
     "metadata": {
      "display_id": "d8631b615ce677bbc34eb9406f55ee2f"
     },
     "output_type": "display_data",
     "transient": {
      "display_id": "d8631b615ce677bbc34eb9406f55ee2f"
     }
    },
    {
     "data": {
      "text/html": [],
      "text/plain": [
       "<IPython.core.display.HTML object>"
      ]
     },
     "metadata": {
      "display_id": "d345f2e2c0b480548e159f7b0bab0dec"
     },
     "output_type": "display_data",
     "transient": {
      "display_id": "d345f2e2c0b480548e159f7b0bab0dec"
     }
    },
    {
     "data": {
      "text/html": [],
      "text/plain": [
       "<IPython.core.display.HTML object>"
      ]
     },
     "metadata": {
      "display_id": "87e2ebca6dda7b9b872ed4d9e592c3fd"
     },
     "output_type": "display_data",
     "transient": {
      "display_id": "87e2ebca6dda7b9b872ed4d9e592c3fd"
     }
    },
    {
     "data": {
      "text/html": [],
      "text/plain": [
       "<IPython.core.display.HTML object>"
      ]
     },
     "metadata": {
      "display_id": "e20c486831a2fbb389bac67404e207c9"
     },
     "output_type": "display_data",
     "transient": {
      "display_id": "e20c486831a2fbb389bac67404e207c9"
     }
    },
    {
     "data": {
      "text/html": [],
      "text/plain": [
       "<IPython.core.display.HTML object>"
      ]
     },
     "metadata": {
      "display_id": "cc324c6c59998017975870dad322782c"
     },
     "output_type": "display_data",
     "transient": {
      "display_id": "cc324c6c59998017975870dad322782c"
     }
    },
    {
     "data": {
      "text/html": [],
      "text/plain": [
       "<IPython.core.display.HTML object>"
      ]
     },
     "metadata": {
      "display_id": "5d1cf7a24fcc496b6418afa858dec7d6"
     },
     "output_type": "display_data",
     "transient": {
      "display_id": "5d1cf7a24fcc496b6418afa858dec7d6"
     }
    },
    {
     "data": {
      "text/html": [],
      "text/plain": [
       "<IPython.core.display.HTML object>"
      ]
     },
     "metadata": {
      "display_id": "45fbd9c780a5cf3427e69a2204d84b53"
     },
     "output_type": "display_data",
     "transient": {
      "display_id": "45fbd9c780a5cf3427e69a2204d84b53"
     }
    },
    {
     "data": {
      "text/html": [],
      "text/plain": [
       "<IPython.core.display.HTML object>"
      ]
     },
     "metadata": {
      "display_id": "45f29cca70ed6d33f60f417e5dff1e01"
     },
     "output_type": "display_data",
     "transient": {
      "display_id": "45f29cca70ed6d33f60f417e5dff1e01"
     }
    },
    {
     "data": {
      "text/html": [],
      "text/plain": [
       "<IPython.core.display.HTML object>"
      ]
     },
     "metadata": {
      "display_id": "cf685d7537b3df4224f396dbdaa3bc4b"
     },
     "output_type": "display_data",
     "transient": {
      "display_id": "cf685d7537b3df4224f396dbdaa3bc4b"
     }
    },
    {
     "data": {
      "text/html": [],
      "text/plain": [
       "<IPython.core.display.HTML object>"
      ]
     },
     "metadata": {
      "display_id": "d73144baf632dcecc46a25515b281120"
     },
     "output_type": "display_data",
     "transient": {
      "display_id": "d73144baf632dcecc46a25515b281120"
     }
    },
    {
     "data": {
      "text/html": [],
      "text/plain": [
       "<IPython.core.display.HTML object>"
      ]
     },
     "metadata": {
      "display_id": "2c0e8124ce1cdd5e91902863201a1d9c"
     },
     "output_type": "display_data",
     "transient": {
      "display_id": "2c0e8124ce1cdd5e91902863201a1d9c"
     }
    },
    {
     "data": {
      "text/html": [],
      "text/plain": [
       "<IPython.core.display.HTML object>"
      ]
     },
     "metadata": {
      "display_id": "b22bb356c061156775eaf1edf663974c"
     },
     "output_type": "display_data",
     "transient": {
      "display_id": "b22bb356c061156775eaf1edf663974c"
     }
    },
    {
     "data": {
      "text/html": [],
      "text/plain": [
       "<IPython.core.display.HTML object>"
      ]
     },
     "metadata": {
      "display_id": "f033853b0a1447ae62e19a1add17f7b4"
     },
     "output_type": "display_data",
     "transient": {
      "display_id": "f033853b0a1447ae62e19a1add17f7b4"
     }
    },
    {
     "data": {
      "text/html": [],
      "text/plain": [
       "<IPython.core.display.HTML object>"
      ]
     },
     "metadata": {
      "display_id": "2ec49755f979e641b1861ccfa7db83c6"
     },
     "output_type": "display_data",
     "transient": {
      "display_id": "2ec49755f979e641b1861ccfa7db83c6"
     }
    },
    {
     "data": {
      "text/html": [],
      "text/plain": [
       "<IPython.core.display.HTML object>"
      ]
     },
     "metadata": {
      "display_id": "35946e61551361220bd22c08c5ef1ef0"
     },
     "output_type": "display_data",
     "transient": {
      "display_id": "35946e61551361220bd22c08c5ef1ef0"
     }
    },
    {
     "data": {
      "text/html": [],
      "text/plain": [
       "<IPython.core.display.HTML object>"
      ]
     },
     "metadata": {
      "display_id": "fb8adf2a749859dc346fe5e1b941b117"
     },
     "output_type": "display_data",
     "transient": {
      "display_id": "fb8adf2a749859dc346fe5e1b941b117"
     }
    },
    {
     "data": {
      "text/html": [],
      "text/plain": [
       "<IPython.core.display.HTML object>"
      ]
     },
     "metadata": {
      "display_id": "839bc8dbf6770afd73c9356231e208b2"
     },
     "output_type": "display_data",
     "transient": {
      "display_id": "839bc8dbf6770afd73c9356231e208b2"
     }
    },
    {
     "data": {
      "text/html": [],
      "text/plain": [
       "<IPython.core.display.HTML object>"
      ]
     },
     "metadata": {
      "display_id": "07616222ec73c9f451fd84ce8ae77d2f"
     },
     "output_type": "display_data",
     "transient": {
      "display_id": "07616222ec73c9f451fd84ce8ae77d2f"
     }
    },
    {
     "data": {
      "text/html": [],
      "text/plain": [
       "<IPython.core.display.HTML object>"
      ]
     },
     "metadata": {
      "display_id": "c509d034d9ac78cd9cc0c6dcae118991"
     },
     "output_type": "display_data",
     "transient": {
      "display_id": "c509d034d9ac78cd9cc0c6dcae118991"
     }
    },
    {
     "data": {
      "text/html": [],
      "text/plain": [
       "<IPython.core.display.HTML object>"
      ]
     },
     "metadata": {
      "display_id": "b7b1e43e49112b94937d37caf7247e7c"
     },
     "output_type": "display_data",
     "transient": {
      "display_id": "b7b1e43e49112b94937d37caf7247e7c"
     }
    },
    {
     "data": {
      "text/html": [],
      "text/plain": [
       "<IPython.core.display.HTML object>"
      ]
     },
     "metadata": {
      "display_id": "5756823f2804aea33ce38453b75d1fc0"
     },
     "output_type": "display_data",
     "transient": {
      "display_id": "5756823f2804aea33ce38453b75d1fc0"
     }
    },
    {
     "data": {
      "text/html": [],
      "text/plain": [
       "<IPython.core.display.HTML object>"
      ]
     },
     "metadata": {
      "display_id": "d04c472fc0c04dd3c60116b952e701aa"
     },
     "output_type": "display_data",
     "transient": {
      "display_id": "d04c472fc0c04dd3c60116b952e701aa"
     }
    },
    {
     "data": {
      "text/html": [],
      "text/plain": [
       "<IPython.core.display.HTML object>"
      ]
     },
     "metadata": {
      "display_id": "63362a296540a82bbba5e7192d597d0a"
     },
     "output_type": "display_data",
     "transient": {
      "display_id": "63362a296540a82bbba5e7192d597d0a"
     }
    },
    {
     "data": {
      "text/html": [],
      "text/plain": [
       "<IPython.core.display.HTML object>"
      ]
     },
     "metadata": {
      "display_id": "dd23ee3c08a2783af0698a48e93cb78f"
     },
     "output_type": "display_data",
     "transient": {
      "display_id": "dd23ee3c08a2783af0698a48e93cb78f"
     }
    },
    {
     "data": {
      "text/html": [],
      "text/plain": [
       "<IPython.core.display.HTML object>"
      ]
     },
     "metadata": {
      "display_id": "42c5fab834d8462beb84a8b9982de12c"
     },
     "output_type": "display_data",
     "transient": {
      "display_id": "42c5fab834d8462beb84a8b9982de12c"
     }
    },
    {
     "data": {
      "text/html": [],
      "text/plain": [
       "<IPython.core.display.HTML object>"
      ]
     },
     "metadata": {
      "display_id": "63ed13c1c5147abf3a6503cfb8178dfc"
     },
     "output_type": "display_data",
     "transient": {
      "display_id": "63ed13c1c5147abf3a6503cfb8178dfc"
     }
    },
    {
     "data": {
      "text/html": [],
      "text/plain": [
       "<IPython.core.display.HTML object>"
      ]
     },
     "metadata": {
      "display_id": "7695c484017fdfd4f5de582e4b72b6d6"
     },
     "output_type": "display_data",
     "transient": {
      "display_id": "7695c484017fdfd4f5de582e4b72b6d6"
     }
    },
    {
     "data": {
      "text/html": [],
      "text/plain": [
       "<IPython.core.display.HTML object>"
      ]
     },
     "metadata": {
      "display_id": "5a44e509e6aa9cfa4ad8b6001bce0849"
     },
     "output_type": "display_data",
     "transient": {
      "display_id": "5a44e509e6aa9cfa4ad8b6001bce0849"
     }
    },
    {
     "data": {
      "text/html": [],
      "text/plain": [
       "<IPython.core.display.HTML object>"
      ]
     },
     "metadata": {
      "display_id": "b9894318a16303bcd81161129903455d"
     },
     "output_type": "display_data",
     "transient": {
      "display_id": "b9894318a16303bcd81161129903455d"
     }
    },
    {
     "data": {
      "text/html": [],
      "text/plain": [
       "<IPython.core.display.HTML object>"
      ]
     },
     "metadata": {
      "display_id": "7f292a52981e4eee87b2d2d6b94fca24"
     },
     "output_type": "display_data",
     "transient": {
      "display_id": "7f292a52981e4eee87b2d2d6b94fca24"
     }
    },
    {
     "data": {
      "text/html": [],
      "text/plain": [
       "<IPython.core.display.HTML object>"
      ]
     },
     "metadata": {
      "display_id": "1f811a03df9fd59ffd0246cec710c76d"
     },
     "output_type": "display_data",
     "transient": {
      "display_id": "1f811a03df9fd59ffd0246cec710c76d"
     }
    },
    {
     "data": {
      "text/html": [],
      "text/plain": [
       "<IPython.core.display.HTML object>"
      ]
     },
     "metadata": {
      "display_id": "00f2dfdfd99dbe862de66a95e11a1d72"
     },
     "output_type": "display_data",
     "transient": {
      "display_id": "00f2dfdfd99dbe862de66a95e11a1d72"
     }
    },
    {
     "data": {
      "text/html": [],
      "text/plain": [
       "<IPython.core.display.HTML object>"
      ]
     },
     "metadata": {
      "display_id": "84d71152def3b95817253c6b74353ffd"
     },
     "output_type": "display_data",
     "transient": {
      "display_id": "84d71152def3b95817253c6b74353ffd"
     }
    },
    {
     "data": {
      "text/html": [],
      "text/plain": [
       "<IPython.core.display.HTML object>"
      ]
     },
     "metadata": {
      "display_id": "0f653f795cfb5143bbff88c45b8cd00d"
     },
     "output_type": "display_data",
     "transient": {
      "display_id": "0f653f795cfb5143bbff88c45b8cd00d"
     }
    },
    {
     "data": {
      "text/html": [],
      "text/plain": [
       "<IPython.core.display.HTML object>"
      ]
     },
     "metadata": {
      "display_id": "b47c364415c9faeefe31c069c508210e"
     },
     "output_type": "display_data",
     "transient": {
      "display_id": "b47c364415c9faeefe31c069c508210e"
     }
    },
    {
     "data": {
      "text/html": [],
      "text/plain": [
       "<IPython.core.display.HTML object>"
      ]
     },
     "metadata": {
      "display_id": "2591b607a95befe146a1d2da14760f47"
     },
     "output_type": "display_data",
     "transient": {
      "display_id": "2591b607a95befe146a1d2da14760f47"
     }
    },
    {
     "data": {
      "text/html": [],
      "text/plain": [
       "<IPython.core.display.HTML object>"
      ]
     },
     "metadata": {
      "display_id": "ad6933b7d7489c39da24ef5a5fe41e50"
     },
     "output_type": "display_data",
     "transient": {
      "display_id": "ad6933b7d7489c39da24ef5a5fe41e50"
     }
    },
    {
     "data": {
      "text/html": [],
      "text/plain": [
       "<IPython.core.display.HTML object>"
      ]
     },
     "metadata": {
      "display_id": "09213266fb473693563091fdf4990d77"
     },
     "output_type": "display_data",
     "transient": {
      "display_id": "09213266fb473693563091fdf4990d77"
     }
    },
    {
     "data": {
      "text/html": [],
      "text/plain": [
       "<IPython.core.display.HTML object>"
      ]
     },
     "metadata": {
      "display_id": "e22d2fd97c010ea862f46dcebc91d444"
     },
     "output_type": "display_data",
     "transient": {
      "display_id": "e22d2fd97c010ea862f46dcebc91d444"
     }
    },
    {
     "data": {
      "text/html": [],
      "text/plain": [
       "<IPython.core.display.HTML object>"
      ]
     },
     "metadata": {
      "display_id": "9e2b2918e24d00028423da97b963cb1f"
     },
     "output_type": "display_data",
     "transient": {
      "display_id": "9e2b2918e24d00028423da97b963cb1f"
     }
    },
    {
     "data": {
      "text/html": [],
      "text/plain": [
       "<IPython.core.display.HTML object>"
      ]
     },
     "metadata": {
      "display_id": "e5e1773cf413c22c5d5b4136aae331ca"
     },
     "output_type": "display_data",
     "transient": {
      "display_id": "e5e1773cf413c22c5d5b4136aae331ca"
     }
    },
    {
     "data": {
      "text/html": [],
      "text/plain": [
       "<IPython.core.display.HTML object>"
      ]
     },
     "metadata": {
      "display_id": "e70291c08e59e5ea75964a21c12a487d"
     },
     "output_type": "display_data",
     "transient": {
      "display_id": "e70291c08e59e5ea75964a21c12a487d"
     }
    },
    {
     "data": {
      "text/html": [],
      "text/plain": [
       "<IPython.core.display.HTML object>"
      ]
     },
     "metadata": {
      "display_id": "10385b2a8e29a374df769e4489b962a7"
     },
     "output_type": "display_data",
     "transient": {
      "display_id": "10385b2a8e29a374df769e4489b962a7"
     }
    },
    {
     "data": {
      "text/html": [],
      "text/plain": [
       "<IPython.core.display.HTML object>"
      ]
     },
     "metadata": {
      "display_id": "b9f10695cd8942853e3e66d0f56eee7c"
     },
     "output_type": "display_data",
     "transient": {
      "display_id": "b9f10695cd8942853e3e66d0f56eee7c"
     }
    },
    {
     "data": {
      "text/html": [],
      "text/plain": [
       "<IPython.core.display.HTML object>"
      ]
     },
     "metadata": {
      "display_id": "0441c6b2d19a662bd0b0e4b035ff2cab"
     },
     "output_type": "display_data",
     "transient": {
      "display_id": "0441c6b2d19a662bd0b0e4b035ff2cab"
     }
    },
    {
     "data": {
      "text/html": [],
      "text/plain": [
       "<IPython.core.display.HTML object>"
      ]
     },
     "metadata": {
      "display_id": "9a777d37abe44ec258297c157eb0b498"
     },
     "output_type": "display_data",
     "transient": {
      "display_id": "9a777d37abe44ec258297c157eb0b498"
     }
    },
    {
     "data": {
      "text/html": [],
      "text/plain": [
       "<IPython.core.display.HTML object>"
      ]
     },
     "metadata": {
      "display_id": "67603b14533ebc7e6de34e28417f3e50"
     },
     "output_type": "display_data",
     "transient": {
      "display_id": "67603b14533ebc7e6de34e28417f3e50"
     }
    },
    {
     "data": {
      "text/html": [],
      "text/plain": [
       "<IPython.core.display.HTML object>"
      ]
     },
     "metadata": {
      "display_id": "2618d899125356d8c5f33edb7c689034"
     },
     "output_type": "display_data",
     "transient": {
      "display_id": "2618d899125356d8c5f33edb7c689034"
     }
    },
    {
     "data": {
      "text/html": [],
      "text/plain": [
       "<IPython.core.display.HTML object>"
      ]
     },
     "metadata": {
      "display_id": "739844ba8d61bf48b5ca29bd4427ad2e"
     },
     "output_type": "display_data",
     "transient": {
      "display_id": "739844ba8d61bf48b5ca29bd4427ad2e"
     }
    },
    {
     "data": {
      "text/html": [],
      "text/plain": [
       "<IPython.core.display.HTML object>"
      ]
     },
     "metadata": {
      "display_id": "439f1d5dfa297f55c9f87b05a814ff23"
     },
     "output_type": "display_data",
     "transient": {
      "display_id": "439f1d5dfa297f55c9f87b05a814ff23"
     }
    },
    {
     "data": {
      "text/html": [],
      "text/plain": [
       "<IPython.core.display.HTML object>"
      ]
     },
     "metadata": {
      "display_id": "07e41265830983149df7a402f7343599"
     },
     "output_type": "display_data",
     "transient": {
      "display_id": "07e41265830983149df7a402f7343599"
     }
    },
    {
     "data": {
      "text/html": [],
      "text/plain": [
       "<IPython.core.display.HTML object>"
      ]
     },
     "metadata": {
      "display_id": "d8bd7bae29fd4d3d9d717105befd46b9"
     },
     "output_type": "display_data",
     "transient": {
      "display_id": "d8bd7bae29fd4d3d9d717105befd46b9"
     }
    },
    {
     "data": {
      "text/html": [],
      "text/plain": [
       "<IPython.core.display.HTML object>"
      ]
     },
     "metadata": {
      "display_id": "7925382f65661c46edaaa77bf661f655"
     },
     "output_type": "display_data",
     "transient": {
      "display_id": "7925382f65661c46edaaa77bf661f655"
     }
    },
    {
     "data": {
      "text/html": [],
      "text/plain": [
       "<IPython.core.display.HTML object>"
      ]
     },
     "metadata": {
      "display_id": "c38fa120051e34676e2371e32c3ed4a1"
     },
     "output_type": "display_data",
     "transient": {
      "display_id": "c38fa120051e34676e2371e32c3ed4a1"
     }
    },
    {
     "data": {
      "text/html": [],
      "text/plain": [
       "<IPython.core.display.HTML object>"
      ]
     },
     "metadata": {
      "display_id": "c5cc9cf3e49b02302f174e442075dd44"
     },
     "output_type": "display_data",
     "transient": {
      "display_id": "c5cc9cf3e49b02302f174e442075dd44"
     }
    },
    {
     "data": {
      "text/html": [],
      "text/plain": [
       "<IPython.core.display.HTML object>"
      ]
     },
     "metadata": {
      "display_id": "2ee19f69708a7203d0d4c26bda2e47b2"
     },
     "output_type": "display_data",
     "transient": {
      "display_id": "2ee19f69708a7203d0d4c26bda2e47b2"
     }
    },
    {
     "data": {
      "text/html": [],
      "text/plain": [
       "<IPython.core.display.HTML object>"
      ]
     },
     "metadata": {
      "display_id": "b54939dd396b260e902e9bb7c030a4a1"
     },
     "output_type": "display_data",
     "transient": {
      "display_id": "b54939dd396b260e902e9bb7c030a4a1"
     }
    },
    {
     "data": {
      "text/html": [],
      "text/plain": [
       "<IPython.core.display.HTML object>"
      ]
     },
     "metadata": {
      "display_id": "45a1648b73d62d8550b907c2d05d93aa"
     },
     "output_type": "display_data",
     "transient": {
      "display_id": "45a1648b73d62d8550b907c2d05d93aa"
     }
    },
    {
     "data": {
      "text/html": [],
      "text/plain": [
       "<IPython.core.display.HTML object>"
      ]
     },
     "metadata": {
      "display_id": "4ab474bfdc9df43d358580ab76874797"
     },
     "output_type": "display_data",
     "transient": {
      "display_id": "4ab474bfdc9df43d358580ab76874797"
     }
    },
    {
     "data": {
      "text/html": [],
      "text/plain": [
       "<IPython.core.display.HTML object>"
      ]
     },
     "metadata": {
      "display_id": "d0ec7bcdd759bb4ee0166f121f267a3e"
     },
     "output_type": "display_data",
     "transient": {
      "display_id": "d0ec7bcdd759bb4ee0166f121f267a3e"
     }
    },
    {
     "data": {
      "text/html": [],
      "text/plain": [
       "<IPython.core.display.HTML object>"
      ]
     },
     "metadata": {
      "display_id": "f7716c72b92f59ee5aba38505af367b2"
     },
     "output_type": "display_data",
     "transient": {
      "display_id": "f7716c72b92f59ee5aba38505af367b2"
     }
    },
    {
     "data": {
      "text/html": [],
      "text/plain": [
       "<IPython.core.display.HTML object>"
      ]
     },
     "metadata": {
      "display_id": "0cad195157cf86c920547cea2d2cea99"
     },
     "output_type": "display_data",
     "transient": {
      "display_id": "0cad195157cf86c920547cea2d2cea99"
     }
    },
    {
     "data": {
      "text/html": [],
      "text/plain": [
       "<IPython.core.display.HTML object>"
      ]
     },
     "metadata": {
      "display_id": "a8431ac5fde82d69715ea54adba225ce"
     },
     "output_type": "display_data",
     "transient": {
      "display_id": "a8431ac5fde82d69715ea54adba225ce"
     }
    },
    {
     "data": {
      "text/html": [],
      "text/plain": [
       "<IPython.core.display.HTML object>"
      ]
     },
     "metadata": {
      "display_id": "0d5cb9bda85ef9fe69d8f042b1c48b76"
     },
     "output_type": "display_data",
     "transient": {
      "display_id": "0d5cb9bda85ef9fe69d8f042b1c48b76"
     }
    },
    {
     "data": {
      "text/html": [],
      "text/plain": [
       "<IPython.core.display.HTML object>"
      ]
     },
     "metadata": {
      "display_id": "1b830e24f6df62afb77375f0ef690b8e"
     },
     "output_type": "display_data",
     "transient": {
      "display_id": "1b830e24f6df62afb77375f0ef690b8e"
     }
    },
    {
     "data": {
      "text/html": [],
      "text/plain": [
       "<IPython.core.display.HTML object>"
      ]
     },
     "metadata": {
      "display_id": "45a4b09b2d2e8d6bf160633f1571d7cf"
     },
     "output_type": "display_data",
     "transient": {
      "display_id": "45a4b09b2d2e8d6bf160633f1571d7cf"
     }
    },
    {
     "data": {
      "text/html": [],
      "text/plain": [
       "<IPython.core.display.HTML object>"
      ]
     },
     "metadata": {
      "display_id": "cee9d845b89c77c267657ecf074b97b8"
     },
     "output_type": "display_data",
     "transient": {
      "display_id": "cee9d845b89c77c267657ecf074b97b8"
     }
    },
    {
     "data": {
      "text/html": [],
      "text/plain": [
       "<IPython.core.display.HTML object>"
      ]
     },
     "metadata": {
      "display_id": "e99a4015301d0d7c2b90fc0fc6c2b5f8"
     },
     "output_type": "display_data",
     "transient": {
      "display_id": "e99a4015301d0d7c2b90fc0fc6c2b5f8"
     }
    },
    {
     "data": {
      "text/html": [],
      "text/plain": [
       "<IPython.core.display.HTML object>"
      ]
     },
     "metadata": {
      "display_id": "9527b87e845246b8a5afb522013dffb2"
     },
     "output_type": "display_data",
     "transient": {
      "display_id": "9527b87e845246b8a5afb522013dffb2"
     }
    },
    {
     "data": {
      "text/html": [],
      "text/plain": [
       "<IPython.core.display.HTML object>"
      ]
     },
     "metadata": {
      "display_id": "885a69058345f74f7732a6d3434707f1"
     },
     "output_type": "display_data",
     "transient": {
      "display_id": "885a69058345f74f7732a6d3434707f1"
     }
    },
    {
     "data": {
      "text/html": [],
      "text/plain": [
       "<IPython.core.display.HTML object>"
      ]
     },
     "metadata": {
      "display_id": "59f48749110a4134143d1d62401eceac"
     },
     "output_type": "display_data",
     "transient": {
      "display_id": "59f48749110a4134143d1d62401eceac"
     }
    },
    {
     "data": {
      "text/html": [],
      "text/plain": [
       "<IPython.core.display.HTML object>"
      ]
     },
     "metadata": {
      "display_id": "025a8f9fb00b8d754f88cb892b91b205"
     },
     "output_type": "display_data",
     "transient": {
      "display_id": "025a8f9fb00b8d754f88cb892b91b205"
     }
    },
    {
     "data": {
      "text/html": [],
      "text/plain": [
       "<IPython.core.display.HTML object>"
      ]
     },
     "metadata": {
      "display_id": "c7d4dc0491bcbb86f52cda00865880a2"
     },
     "output_type": "display_data",
     "transient": {
      "display_id": "c7d4dc0491bcbb86f52cda00865880a2"
     }
    },
    {
     "data": {
      "text/html": [],
      "text/plain": [
       "<IPython.core.display.HTML object>"
      ]
     },
     "metadata": {
      "display_id": "50a8b07710467a0341087f2593a2dff6"
     },
     "output_type": "display_data",
     "transient": {
      "display_id": "50a8b07710467a0341087f2593a2dff6"
     }
    },
    {
     "data": {
      "text/html": [],
      "text/plain": [
       "<IPython.core.display.HTML object>"
      ]
     },
     "metadata": {
      "display_id": "dae4ed9f7861f9a6888bb8165070dfa0"
     },
     "output_type": "display_data",
     "transient": {
      "display_id": "dae4ed9f7861f9a6888bb8165070dfa0"
     }
    },
    {
     "data": {
      "text/html": [],
      "text/plain": [
       "<IPython.core.display.HTML object>"
      ]
     },
     "metadata": {
      "display_id": "1b6085bb7ce9fe80c558949064e9b926"
     },
     "output_type": "display_data",
     "transient": {
      "display_id": "1b6085bb7ce9fe80c558949064e9b926"
     }
    },
    {
     "data": {
      "text/html": [],
      "text/plain": [
       "<IPython.core.display.HTML object>"
      ]
     },
     "metadata": {
      "display_id": "ee5e8e133410e2308d9c09580351ed99"
     },
     "output_type": "display_data",
     "transient": {
      "display_id": "ee5e8e133410e2308d9c09580351ed99"
     }
    },
    {
     "data": {
      "text/html": [],
      "text/plain": [
       "<IPython.core.display.HTML object>"
      ]
     },
     "metadata": {
      "display_id": "9eeb6bd5aa6e735f7389bc7dde546062"
     },
     "output_type": "display_data",
     "transient": {
      "display_id": "9eeb6bd5aa6e735f7389bc7dde546062"
     }
    },
    {
     "data": {
      "text/html": [],
      "text/plain": [
       "<IPython.core.display.HTML object>"
      ]
     },
     "metadata": {
      "display_id": "7b1e24cd4255a47377527e773ca7a39b"
     },
     "output_type": "display_data",
     "transient": {
      "display_id": "7b1e24cd4255a47377527e773ca7a39b"
     }
    },
    {
     "data": {
      "text/html": [],
      "text/plain": [
       "<IPython.core.display.HTML object>"
      ]
     },
     "metadata": {
      "display_id": "f5ab76ae269fa7d29ed5f3ea5d38a64c"
     },
     "output_type": "display_data",
     "transient": {
      "display_id": "f5ab76ae269fa7d29ed5f3ea5d38a64c"
     }
    },
    {
     "data": {
      "text/html": [],
      "text/plain": [
       "<IPython.core.display.HTML object>"
      ]
     },
     "metadata": {
      "display_id": "a8ec66e98e92e173326157d7d9f9867b"
     },
     "output_type": "display_data",
     "transient": {
      "display_id": "a8ec66e98e92e173326157d7d9f9867b"
     }
    },
    {
     "data": {
      "text/html": [],
      "text/plain": [
       "<IPython.core.display.HTML object>"
      ]
     },
     "metadata": {
      "display_id": "19eea36d3f57f69d687b03dcf266e57f"
     },
     "output_type": "display_data",
     "transient": {
      "display_id": "19eea36d3f57f69d687b03dcf266e57f"
     }
    },
    {
     "data": {
      "text/html": [],
      "text/plain": [
       "<IPython.core.display.HTML object>"
      ]
     },
     "metadata": {
      "display_id": "dd3a3b9e35c80073b4437181d2be5c5a"
     },
     "output_type": "display_data",
     "transient": {
      "display_id": "dd3a3b9e35c80073b4437181d2be5c5a"
     }
    },
    {
     "data": {
      "text/html": [],
      "text/plain": [
       "<IPython.core.display.HTML object>"
      ]
     },
     "metadata": {
      "display_id": "7959dd19c617c7f90dc4a96d5474469f"
     },
     "output_type": "display_data",
     "transient": {
      "display_id": "7959dd19c617c7f90dc4a96d5474469f"
     }
    },
    {
     "data": {
      "text/html": [],
      "text/plain": [
       "<IPython.core.display.HTML object>"
      ]
     },
     "metadata": {
      "display_id": "71c8b3a5eef14267741bff0105d3a327"
     },
     "output_type": "display_data",
     "transient": {
      "display_id": "71c8b3a5eef14267741bff0105d3a327"
     }
    },
    {
     "data": {
      "text/html": [],
      "text/plain": [
       "<IPython.core.display.HTML object>"
      ]
     },
     "metadata": {
      "display_id": "826e349432dda543a6bb8dccd2bc5b5e"
     },
     "output_type": "display_data",
     "transient": {
      "display_id": "826e349432dda543a6bb8dccd2bc5b5e"
     }
    },
    {
     "data": {
      "text/html": [],
      "text/plain": [
       "<IPython.core.display.HTML object>"
      ]
     },
     "metadata": {
      "display_id": "ace3cb90869aefd5c69b00808b382353"
     },
     "output_type": "display_data",
     "transient": {
      "display_id": "ace3cb90869aefd5c69b00808b382353"
     }
    },
    {
     "data": {
      "text/html": [],
      "text/plain": [
       "<IPython.core.display.HTML object>"
      ]
     },
     "metadata": {
      "display_id": "8fd7d0155b9b420b8c5b8dc57baedb85"
     },
     "output_type": "display_data",
     "transient": {
      "display_id": "8fd7d0155b9b420b8c5b8dc57baedb85"
     }
    },
    {
     "data": {
      "text/html": [],
      "text/plain": [
       "<IPython.core.display.HTML object>"
      ]
     },
     "metadata": {
      "display_id": "828212f1c692ae25700f8553102c32d0"
     },
     "output_type": "display_data",
     "transient": {
      "display_id": "828212f1c692ae25700f8553102c32d0"
     }
    },
    {
     "data": {
      "text/html": [],
      "text/plain": [
       "<IPython.core.display.HTML object>"
      ]
     },
     "metadata": {
      "display_id": "237b855704174012d5451727cb9f3d41"
     },
     "output_type": "display_data",
     "transient": {
      "display_id": "237b855704174012d5451727cb9f3d41"
     }
    },
    {
     "data": {
      "text/html": [],
      "text/plain": [
       "<IPython.core.display.HTML object>"
      ]
     },
     "metadata": {
      "display_id": "f583af8e1935c534110c479a8902f709"
     },
     "output_type": "display_data",
     "transient": {
      "display_id": "f583af8e1935c534110c479a8902f709"
     }
    },
    {
     "data": {
      "text/html": [],
      "text/plain": [
       "<IPython.core.display.HTML object>"
      ]
     },
     "metadata": {
      "display_id": "1d65e17aa94ac20fdf3fd81ef92e0d72"
     },
     "output_type": "display_data",
     "transient": {
      "display_id": "1d65e17aa94ac20fdf3fd81ef92e0d72"
     }
    },
    {
     "data": {
      "text/html": [],
      "text/plain": [
       "<IPython.core.display.HTML object>"
      ]
     },
     "metadata": {
      "display_id": "84081fe9bd71580383826ed84dbfecad"
     },
     "output_type": "display_data",
     "transient": {
      "display_id": "84081fe9bd71580383826ed84dbfecad"
     }
    },
    {
     "data": {
      "text/html": [],
      "text/plain": [
       "<IPython.core.display.HTML object>"
      ]
     },
     "metadata": {
      "display_id": "377e2eb62295c8e2ee4c7d736c7ce07b"
     },
     "output_type": "display_data",
     "transient": {
      "display_id": "377e2eb62295c8e2ee4c7d736c7ce07b"
     }
    },
    {
     "data": {
      "text/html": [],
      "text/plain": [
       "<IPython.core.display.HTML object>"
      ]
     },
     "metadata": {
      "display_id": "ba1438da48708a7d0225484d813c5311"
     },
     "output_type": "display_data",
     "transient": {
      "display_id": "ba1438da48708a7d0225484d813c5311"
     }
    },
    {
     "data": {
      "text/html": [],
      "text/plain": [
       "<IPython.core.display.HTML object>"
      ]
     },
     "metadata": {
      "display_id": "4db20dce875b6c23e04dafe6fa539a48"
     },
     "output_type": "display_data",
     "transient": {
      "display_id": "4db20dce875b6c23e04dafe6fa539a48"
     }
    },
    {
     "data": {
      "text/html": [],
      "text/plain": [
       "<IPython.core.display.HTML object>"
      ]
     },
     "metadata": {
      "display_id": "e5c1a45d7a16a6a85b7112885cc75064"
     },
     "output_type": "display_data",
     "transient": {
      "display_id": "e5c1a45d7a16a6a85b7112885cc75064"
     }
    },
    {
     "data": {
      "text/html": [],
      "text/plain": [
       "<IPython.core.display.HTML object>"
      ]
     },
     "metadata": {
      "display_id": "c474e8e923783de0fdce334b3b174a43"
     },
     "output_type": "display_data",
     "transient": {
      "display_id": "c474e8e923783de0fdce334b3b174a43"
     }
    },
    {
     "data": {
      "text/html": [],
      "text/plain": [
       "<IPython.core.display.HTML object>"
      ]
     },
     "metadata": {
      "display_id": "69ea430715fc2fba3751ef4b3f61b0ea"
     },
     "output_type": "display_data",
     "transient": {
      "display_id": "69ea430715fc2fba3751ef4b3f61b0ea"
     }
    },
    {
     "data": {
      "text/html": [],
      "text/plain": [
       "<IPython.core.display.HTML object>"
      ]
     },
     "metadata": {
      "display_id": "f9adf577033b2f931c805b088eca44c3"
     },
     "output_type": "display_data",
     "transient": {
      "display_id": "f9adf577033b2f931c805b088eca44c3"
     }
    },
    {
     "data": {
      "text/html": [],
      "text/plain": [
       "<IPython.core.display.HTML object>"
      ]
     },
     "metadata": {
      "display_id": "e73f9ec2c135a4b97edbdcb6b945261f"
     },
     "output_type": "display_data",
     "transient": {
      "display_id": "e73f9ec2c135a4b97edbdcb6b945261f"
     }
    },
    {
     "data": {
      "text/html": [],
      "text/plain": [
       "<IPython.core.display.HTML object>"
      ]
     },
     "metadata": {
      "display_id": "56e6eb898ffd9435b350e8b6744cd424"
     },
     "output_type": "display_data",
     "transient": {
      "display_id": "56e6eb898ffd9435b350e8b6744cd424"
     }
    },
    {
     "data": {
      "text/html": [],
      "text/plain": [
       "<IPython.core.display.HTML object>"
      ]
     },
     "metadata": {
      "display_id": "3306b30b52b41ae86b92ea4e257cc21f"
     },
     "output_type": "display_data",
     "transient": {
      "display_id": "3306b30b52b41ae86b92ea4e257cc21f"
     }
    },
    {
     "data": {
      "text/html": [],
      "text/plain": [
       "<IPython.core.display.HTML object>"
      ]
     },
     "metadata": {
      "display_id": "2570cf7ca3fc5785a742d5975f0d99bd"
     },
     "output_type": "display_data",
     "transient": {
      "display_id": "2570cf7ca3fc5785a742d5975f0d99bd"
     }
    },
    {
     "data": {
      "text/html": [],
      "text/plain": [
       "<IPython.core.display.HTML object>"
      ]
     },
     "metadata": {
      "display_id": "62c4ab81a47913ef625efa1be3f6c48f"
     },
     "output_type": "display_data",
     "transient": {
      "display_id": "62c4ab81a47913ef625efa1be3f6c48f"
     }
    },
    {
     "data": {
      "text/html": [],
      "text/plain": [
       "<IPython.core.display.HTML object>"
      ]
     },
     "metadata": {
      "display_id": "fe1984fcc82057a43079915e6b983cdc"
     },
     "output_type": "display_data",
     "transient": {
      "display_id": "fe1984fcc82057a43079915e6b983cdc"
     }
    },
    {
     "data": {
      "text/html": [],
      "text/plain": [
       "<IPython.core.display.HTML object>"
      ]
     },
     "metadata": {
      "display_id": "835820da7dd3f26851ed661bb41fff30"
     },
     "output_type": "display_data",
     "transient": {
      "display_id": "835820da7dd3f26851ed661bb41fff30"
     }
    },
    {
     "data": {
      "text/html": [],
      "text/plain": [
       "<IPython.core.display.HTML object>"
      ]
     },
     "metadata": {
      "display_id": "3f1f615affcd872841e026f103db2333"
     },
     "output_type": "display_data",
     "transient": {
      "display_id": "3f1f615affcd872841e026f103db2333"
     }
    },
    {
     "data": {
      "text/html": [],
      "text/plain": [
       "<IPython.core.display.HTML object>"
      ]
     },
     "metadata": {
      "display_id": "0c2f0b7d26e5998369842b3a9ab170d1"
     },
     "output_type": "display_data",
     "transient": {
      "display_id": "0c2f0b7d26e5998369842b3a9ab170d1"
     }
    },
    {
     "data": {
      "text/html": [],
      "text/plain": [
       "<IPython.core.display.HTML object>"
      ]
     },
     "metadata": {
      "display_id": "831e3fa816dfec8f297428879062257d"
     },
     "output_type": "display_data",
     "transient": {
      "display_id": "831e3fa816dfec8f297428879062257d"
     }
    },
    {
     "data": {
      "text/html": [],
      "text/plain": [
       "<IPython.core.display.HTML object>"
      ]
     },
     "metadata": {
      "display_id": "07bb4284e61bc9fe91ca7644ea62e35b"
     },
     "output_type": "display_data",
     "transient": {
      "display_id": "07bb4284e61bc9fe91ca7644ea62e35b"
     }
    },
    {
     "data": {
      "text/html": [],
      "text/plain": [
       "<IPython.core.display.HTML object>"
      ]
     },
     "metadata": {
      "display_id": "dbf6097285f7399df9f36a1db8d1f65b"
     },
     "output_type": "display_data",
     "transient": {
      "display_id": "dbf6097285f7399df9f36a1db8d1f65b"
     }
    },
    {
     "data": {
      "text/html": [],
      "text/plain": [
       "<IPython.core.display.HTML object>"
      ]
     },
     "metadata": {
      "display_id": "48e0a48b6b7bd164bb722c3656970945"
     },
     "output_type": "display_data",
     "transient": {
      "display_id": "48e0a48b6b7bd164bb722c3656970945"
     }
    },
    {
     "data": {
      "text/html": [],
      "text/plain": [
       "<IPython.core.display.HTML object>"
      ]
     },
     "metadata": {
      "display_id": "67d0d1130158c0b125243083841fd654"
     },
     "output_type": "display_data",
     "transient": {
      "display_id": "67d0d1130158c0b125243083841fd654"
     }
    },
    {
     "data": {
      "text/html": [],
      "text/plain": [
       "<IPython.core.display.HTML object>"
      ]
     },
     "metadata": {
      "display_id": "2bf3af115803f63db64a53900a6d5b4c"
     },
     "output_type": "display_data",
     "transient": {
      "display_id": "2bf3af115803f63db64a53900a6d5b4c"
     }
    },
    {
     "data": {
      "text/html": [],
      "text/plain": [
       "<IPython.core.display.HTML object>"
      ]
     },
     "metadata": {
      "display_id": "c0f6574d475561e3969d74440610d1f3"
     },
     "output_type": "display_data",
     "transient": {
      "display_id": "c0f6574d475561e3969d74440610d1f3"
     }
    },
    {
     "data": {
      "text/html": [],
      "text/plain": [
       "<IPython.core.display.HTML object>"
      ]
     },
     "metadata": {
      "display_id": "86a11da8a45cb4d7c0980eeab2f4799b"
     },
     "output_type": "display_data",
     "transient": {
      "display_id": "86a11da8a45cb4d7c0980eeab2f4799b"
     }
    },
    {
     "data": {
      "text/html": [],
      "text/plain": [
       "<IPython.core.display.HTML object>"
      ]
     },
     "metadata": {
      "display_id": "1c44e522740e1b9ac2843addd1b111b9"
     },
     "output_type": "display_data",
     "transient": {
      "display_id": "1c44e522740e1b9ac2843addd1b111b9"
     }
    },
    {
     "data": {
      "text/html": [],
      "text/plain": [
       "<IPython.core.display.HTML object>"
      ]
     },
     "metadata": {
      "display_id": "b9d06574f8df4dcceb29c4336a4a9b74"
     },
     "output_type": "display_data",
     "transient": {
      "display_id": "b9d06574f8df4dcceb29c4336a4a9b74"
     }
    },
    {
     "data": {
      "text/html": [],
      "text/plain": [
       "<IPython.core.display.HTML object>"
      ]
     },
     "metadata": {
      "display_id": "0951723565fdf84cdcbd8be6c7dcdb0f"
     },
     "output_type": "display_data",
     "transient": {
      "display_id": "0951723565fdf84cdcbd8be6c7dcdb0f"
     }
    },
    {
     "data": {
      "text/html": [],
      "text/plain": [
       "<IPython.core.display.HTML object>"
      ]
     },
     "metadata": {
      "display_id": "efd6850efd710b03109453eb30b7fa12"
     },
     "output_type": "display_data",
     "transient": {
      "display_id": "efd6850efd710b03109453eb30b7fa12"
     }
    },
    {
     "data": {
      "text/html": [],
      "text/plain": [
       "<IPython.core.display.HTML object>"
      ]
     },
     "metadata": {
      "display_id": "fca52d5d193b8e84702c2efdf5064ea4"
     },
     "output_type": "display_data",
     "transient": {
      "display_id": "fca52d5d193b8e84702c2efdf5064ea4"
     }
    },
    {
     "data": {
      "text/html": [],
      "text/plain": [
       "<IPython.core.display.HTML object>"
      ]
     },
     "metadata": {
      "display_id": "dbac52029318614797d5c811bb6aff5d"
     },
     "output_type": "display_data",
     "transient": {
      "display_id": "dbac52029318614797d5c811bb6aff5d"
     }
    },
    {
     "data": {
      "text/html": [],
      "text/plain": [
       "<IPython.core.display.HTML object>"
      ]
     },
     "metadata": {
      "display_id": "8bc58b7a5344de8cd868de09c6e41de3"
     },
     "output_type": "display_data",
     "transient": {
      "display_id": "8bc58b7a5344de8cd868de09c6e41de3"
     }
    },
    {
     "data": {
      "text/html": [],
      "text/plain": [
       "<IPython.core.display.HTML object>"
      ]
     },
     "metadata": {
      "display_id": "42efd23af33620c176db5ac18f6729e7"
     },
     "output_type": "display_data",
     "transient": {
      "display_id": "42efd23af33620c176db5ac18f6729e7"
     }
    },
    {
     "data": {
      "text/html": [],
      "text/plain": [
       "<IPython.core.display.HTML object>"
      ]
     },
     "metadata": {
      "display_id": "0ef7d8ce73e44a73f1b2e80efcdc6b4a"
     },
     "output_type": "display_data",
     "transient": {
      "display_id": "0ef7d8ce73e44a73f1b2e80efcdc6b4a"
     }
    },
    {
     "data": {
      "text/html": [],
      "text/plain": [
       "<IPython.core.display.HTML object>"
      ]
     },
     "metadata": {
      "display_id": "85ad6474ee89fc0e22f4dde1bc22af8f"
     },
     "output_type": "display_data",
     "transient": {
      "display_id": "85ad6474ee89fc0e22f4dde1bc22af8f"
     }
    },
    {
     "data": {
      "text/html": [],
      "text/plain": [
       "<IPython.core.display.HTML object>"
      ]
     },
     "metadata": {
      "display_id": "6bdedc47c13c72637ec8fc2f9a21b600"
     },
     "output_type": "display_data",
     "transient": {
      "display_id": "6bdedc47c13c72637ec8fc2f9a21b600"
     }
    },
    {
     "data": {
      "text/html": [],
      "text/plain": [
       "<IPython.core.display.HTML object>"
      ]
     },
     "metadata": {
      "display_id": "fcc87cb7c5ae5bdb633f6018c5c4b7c3"
     },
     "output_type": "display_data",
     "transient": {
      "display_id": "fcc87cb7c5ae5bdb633f6018c5c4b7c3"
     }
    },
    {
     "data": {
      "text/html": [],
      "text/plain": [
       "<IPython.core.display.HTML object>"
      ]
     },
     "metadata": {
      "display_id": "03e5524f04cb6a9331851b368e8a9916"
     },
     "output_type": "display_data",
     "transient": {
      "display_id": "03e5524f04cb6a9331851b368e8a9916"
     }
    },
    {
     "data": {
      "text/html": [],
      "text/plain": [
       "<IPython.core.display.HTML object>"
      ]
     },
     "metadata": {
      "display_id": "037fc15fc9934e49ba50ed932ac8d1fc"
     },
     "output_type": "display_data",
     "transient": {
      "display_id": "037fc15fc9934e49ba50ed932ac8d1fc"
     }
    },
    {
     "data": {
      "text/html": [],
      "text/plain": [
       "<IPython.core.display.HTML object>"
      ]
     },
     "metadata": {
      "display_id": "c3e9f508ca8f050346107c0298a0314a"
     },
     "output_type": "display_data",
     "transient": {
      "display_id": "c3e9f508ca8f050346107c0298a0314a"
     }
    },
    {
     "data": {
      "text/html": [],
      "text/plain": [
       "<IPython.core.display.HTML object>"
      ]
     },
     "metadata": {
      "display_id": "be9bdeb0a80e680cd84a0de89ded1606"
     },
     "output_type": "display_data",
     "transient": {
      "display_id": "be9bdeb0a80e680cd84a0de89ded1606"
     }
    },
    {
     "data": {
      "text/html": [],
      "text/plain": [
       "<IPython.core.display.HTML object>"
      ]
     },
     "metadata": {
      "display_id": "c0bb631277fd90b49218b43c6e364b56"
     },
     "output_type": "display_data",
     "transient": {
      "display_id": "c0bb631277fd90b49218b43c6e364b56"
     }
    },
    {
     "data": {
      "text/html": [],
      "text/plain": [
       "<IPython.core.display.HTML object>"
      ]
     },
     "metadata": {
      "display_id": "6f114c704c958db14a2e543e73dab8d7"
     },
     "output_type": "display_data",
     "transient": {
      "display_id": "6f114c704c958db14a2e543e73dab8d7"
     }
    },
    {
     "data": {
      "text/html": [],
      "text/plain": [
       "<IPython.core.display.HTML object>"
      ]
     },
     "metadata": {
      "display_id": "2684af65dc6af305fb48c98e34002c71"
     },
     "output_type": "display_data",
     "transient": {
      "display_id": "2684af65dc6af305fb48c98e34002c71"
     }
    },
    {
     "data": {
      "text/html": [],
      "text/plain": [
       "<IPython.core.display.HTML object>"
      ]
     },
     "metadata": {
      "display_id": "83fcfb3a38de1038ce6578d13624ff2a"
     },
     "output_type": "display_data",
     "transient": {
      "display_id": "83fcfb3a38de1038ce6578d13624ff2a"
     }
    },
    {
     "data": {
      "text/html": [],
      "text/plain": [
       "<IPython.core.display.HTML object>"
      ]
     },
     "metadata": {
      "display_id": "004f29fdfcd96a8f6a2a93fc587a9372"
     },
     "output_type": "display_data",
     "transient": {
      "display_id": "004f29fdfcd96a8f6a2a93fc587a9372"
     }
    },
    {
     "data": {
      "text/html": [],
      "text/plain": [
       "<IPython.core.display.HTML object>"
      ]
     },
     "metadata": {
      "display_id": "e8427f4c34e34296050235612e736a4a"
     },
     "output_type": "display_data",
     "transient": {
      "display_id": "e8427f4c34e34296050235612e736a4a"
     }
    },
    {
     "data": {
      "text/html": [],
      "text/plain": [
       "<IPython.core.display.HTML object>"
      ]
     },
     "metadata": {
      "display_id": "82c84e1493cd6136786d1babce196bfa"
     },
     "output_type": "display_data",
     "transient": {
      "display_id": "82c84e1493cd6136786d1babce196bfa"
     }
    },
    {
     "data": {
      "text/html": [],
      "text/plain": [
       "<IPython.core.display.HTML object>"
      ]
     },
     "metadata": {
      "display_id": "bf676ce6c17f35e1bf857cbb989953b5"
     },
     "output_type": "display_data",
     "transient": {
      "display_id": "bf676ce6c17f35e1bf857cbb989953b5"
     }
    },
    {
     "data": {
      "text/html": [],
      "text/plain": [
       "<IPython.core.display.HTML object>"
      ]
     },
     "metadata": {
      "display_id": "2005f37b881bd48c5e4448c26a717ba7"
     },
     "output_type": "display_data",
     "transient": {
      "display_id": "2005f37b881bd48c5e4448c26a717ba7"
     }
    },
    {
     "data": {
      "text/html": [],
      "text/plain": [
       "<IPython.core.display.HTML object>"
      ]
     },
     "metadata": {
      "display_id": "fc3da3395957a697ad2752fa3152a1f9"
     },
     "output_type": "display_data",
     "transient": {
      "display_id": "fc3da3395957a697ad2752fa3152a1f9"
     }
    },
    {
     "data": {
      "text/html": [],
      "text/plain": [
       "<IPython.core.display.HTML object>"
      ]
     },
     "metadata": {
      "display_id": "d36ed6c89d31bc4d6f083f7de5f87d98"
     },
     "output_type": "display_data",
     "transient": {
      "display_id": "d36ed6c89d31bc4d6f083f7de5f87d98"
     }
    },
    {
     "data": {
      "text/html": [],
      "text/plain": [
       "<IPython.core.display.HTML object>"
      ]
     },
     "metadata": {
      "display_id": "4bd7938a8640f09f74981a0de7a65112"
     },
     "output_type": "display_data",
     "transient": {
      "display_id": "4bd7938a8640f09f74981a0de7a65112"
     }
    },
    {
     "data": {
      "text/html": [],
      "text/plain": [
       "<IPython.core.display.HTML object>"
      ]
     },
     "metadata": {
      "display_id": "5ec29dc607f1a2a93ba0ec0c5d15a8e7"
     },
     "output_type": "display_data",
     "transient": {
      "display_id": "5ec29dc607f1a2a93ba0ec0c5d15a8e7"
     }
    },
    {
     "data": {
      "text/html": [],
      "text/plain": [
       "<IPython.core.display.HTML object>"
      ]
     },
     "metadata": {
      "display_id": "6bd0eca9bc7f953eeedbad2b2559a5b7"
     },
     "output_type": "display_data",
     "transient": {
      "display_id": "6bd0eca9bc7f953eeedbad2b2559a5b7"
     }
    },
    {
     "data": {
      "text/html": [],
      "text/plain": [
       "<IPython.core.display.HTML object>"
      ]
     },
     "metadata": {
      "display_id": "2142d9c27e9f0e888f722eaf568fb508"
     },
     "output_type": "display_data",
     "transient": {
      "display_id": "2142d9c27e9f0e888f722eaf568fb508"
     }
    },
    {
     "data": {
      "text/html": [],
      "text/plain": [
       "<IPython.core.display.HTML object>"
      ]
     },
     "metadata": {
      "display_id": "39c5281193042bb8b765a6c8d7d273c3"
     },
     "output_type": "display_data",
     "transient": {
      "display_id": "39c5281193042bb8b765a6c8d7d273c3"
     }
    },
    {
     "data": {
      "text/html": [],
      "text/plain": [
       "<IPython.core.display.HTML object>"
      ]
     },
     "metadata": {
      "display_id": "07382eaff40255141b41f633a0ee7b42"
     },
     "output_type": "display_data",
     "transient": {
      "display_id": "07382eaff40255141b41f633a0ee7b42"
     }
    },
    {
     "data": {
      "text/html": [],
      "text/plain": [
       "<IPython.core.display.HTML object>"
      ]
     },
     "metadata": {
      "display_id": "472a0c142c97e9e8d9af8aaa213cdd24"
     },
     "output_type": "display_data",
     "transient": {
      "display_id": "472a0c142c97e9e8d9af8aaa213cdd24"
     }
    },
    {
     "data": {
      "text/html": [],
      "text/plain": [
       "<IPython.core.display.HTML object>"
      ]
     },
     "metadata": {
      "display_id": "b7fd0577f0d67a66097bc1033d5f7161"
     },
     "output_type": "display_data",
     "transient": {
      "display_id": "b7fd0577f0d67a66097bc1033d5f7161"
     }
    },
    {
     "data": {
      "text/html": [],
      "text/plain": [
       "<IPython.core.display.HTML object>"
      ]
     },
     "metadata": {
      "display_id": "3286376f8764b0b7f719894bab01b309"
     },
     "output_type": "display_data",
     "transient": {
      "display_id": "3286376f8764b0b7f719894bab01b309"
     }
    },
    {
     "data": {
      "text/html": [],
      "text/plain": [
       "<IPython.core.display.HTML object>"
      ]
     },
     "metadata": {
      "display_id": "3aec101cdcba7f35b4835da2ba1b6d9e"
     },
     "output_type": "display_data",
     "transient": {
      "display_id": "3aec101cdcba7f35b4835da2ba1b6d9e"
     }
    },
    {
     "data": {
      "text/html": [],
      "text/plain": [
       "<IPython.core.display.HTML object>"
      ]
     },
     "metadata": {
      "display_id": "12e851fb6e3ee98447350c8dedf64b4a"
     },
     "output_type": "display_data",
     "transient": {
      "display_id": "12e851fb6e3ee98447350c8dedf64b4a"
     }
    },
    {
     "data": {
      "text/html": [],
      "text/plain": [
       "<IPython.core.display.HTML object>"
      ]
     },
     "metadata": {
      "display_id": "bf53c7ed931f08a99d32b959537b5a50"
     },
     "output_type": "display_data",
     "transient": {
      "display_id": "bf53c7ed931f08a99d32b959537b5a50"
     }
    },
    {
     "data": {
      "text/html": [],
      "text/plain": [
       "<IPython.core.display.HTML object>"
      ]
     },
     "metadata": {
      "display_id": "7f5ac88f7b73f42fadf89d99f7f90e31"
     },
     "output_type": "display_data",
     "transient": {
      "display_id": "7f5ac88f7b73f42fadf89d99f7f90e31"
     }
    },
    {
     "data": {
      "text/html": [],
      "text/plain": [
       "<IPython.core.display.HTML object>"
      ]
     },
     "metadata": {
      "display_id": "3f02ac34b4ca10fb2ed95455fd667fde"
     },
     "output_type": "display_data",
     "transient": {
      "display_id": "3f02ac34b4ca10fb2ed95455fd667fde"
     }
    },
    {
     "data": {
      "text/html": [],
      "text/plain": [
       "<IPython.core.display.HTML object>"
      ]
     },
     "metadata": {
      "display_id": "b021adaf9c43b882d8f0ea22e636889c"
     },
     "output_type": "display_data",
     "transient": {
      "display_id": "b021adaf9c43b882d8f0ea22e636889c"
     }
    },
    {
     "data": {
      "text/html": [],
      "text/plain": [
       "<IPython.core.display.HTML object>"
      ]
     },
     "metadata": {
      "display_id": "f21d9f1f3c15ff8141cf311b527ca0c7"
     },
     "output_type": "display_data",
     "transient": {
      "display_id": "f21d9f1f3c15ff8141cf311b527ca0c7"
     }
    },
    {
     "data": {
      "text/html": [],
      "text/plain": [
       "<IPython.core.display.HTML object>"
      ]
     },
     "metadata": {
      "display_id": "5230fe5edef00bd79da2482fe64ef9d6"
     },
     "output_type": "display_data",
     "transient": {
      "display_id": "5230fe5edef00bd79da2482fe64ef9d6"
     }
    },
    {
     "data": {
      "text/html": [],
      "text/plain": [
       "<IPython.core.display.HTML object>"
      ]
     },
     "metadata": {
      "display_id": "6f476013b139534f8d96b056e750c9c6"
     },
     "output_type": "display_data",
     "transient": {
      "display_id": "6f476013b139534f8d96b056e750c9c6"
     }
    },
    {
     "data": {
      "text/html": [],
      "text/plain": [
       "<IPython.core.display.HTML object>"
      ]
     },
     "metadata": {
      "display_id": "74e8fe6576abc78200fb3b13f552a377"
     },
     "output_type": "display_data",
     "transient": {
      "display_id": "74e8fe6576abc78200fb3b13f552a377"
     }
    },
    {
     "data": {
      "text/html": [],
      "text/plain": [
       "<IPython.core.display.HTML object>"
      ]
     },
     "metadata": {
      "display_id": "8d6f6fdac5800a58b089c1edeb69c9d7"
     },
     "output_type": "display_data",
     "transient": {
      "display_id": "8d6f6fdac5800a58b089c1edeb69c9d7"
     }
    },
    {
     "data": {
      "text/html": [],
      "text/plain": [
       "<IPython.core.display.HTML object>"
      ]
     },
     "metadata": {
      "display_id": "03b29d9ce143fb552889d8d5ba98e36d"
     },
     "output_type": "display_data",
     "transient": {
      "display_id": "03b29d9ce143fb552889d8d5ba98e36d"
     }
    },
    {
     "data": {
      "text/html": [],
      "text/plain": [
       "<IPython.core.display.HTML object>"
      ]
     },
     "metadata": {
      "display_id": "5cb5720c86e2f011a4481c157174482b"
     },
     "output_type": "display_data",
     "transient": {
      "display_id": "5cb5720c86e2f011a4481c157174482b"
     }
    },
    {
     "data": {
      "text/html": [],
      "text/plain": [
       "<IPython.core.display.HTML object>"
      ]
     },
     "metadata": {
      "display_id": "9700f72112facdad5276f7b4000783a2"
     },
     "output_type": "display_data",
     "transient": {
      "display_id": "9700f72112facdad5276f7b4000783a2"
     }
    },
    {
     "data": {
      "text/html": [],
      "text/plain": [
       "<IPython.core.display.HTML object>"
      ]
     },
     "metadata": {
      "display_id": "e55e644233034fd564a5a6dea7ff5e64"
     },
     "output_type": "display_data",
     "transient": {
      "display_id": "e55e644233034fd564a5a6dea7ff5e64"
     }
    },
    {
     "data": {
      "text/html": [],
      "text/plain": [
       "<IPython.core.display.HTML object>"
      ]
     },
     "metadata": {
      "display_id": "2e8d9ed747706344c1571852da21436b"
     },
     "output_type": "display_data",
     "transient": {
      "display_id": "2e8d9ed747706344c1571852da21436b"
     }
    },
    {
     "data": {
      "text/html": [],
      "text/plain": [
       "<IPython.core.display.HTML object>"
      ]
     },
     "metadata": {
      "display_id": "541e11989bee68e33579cbecfda9cf3a"
     },
     "output_type": "display_data",
     "transient": {
      "display_id": "541e11989bee68e33579cbecfda9cf3a"
     }
    },
    {
     "data": {
      "text/html": [],
      "text/plain": [
       "<IPython.core.display.HTML object>"
      ]
     },
     "metadata": {
      "display_id": "8f6e6fbbf09bfd86ef1412d669ce0030"
     },
     "output_type": "display_data",
     "transient": {
      "display_id": "8f6e6fbbf09bfd86ef1412d669ce0030"
     }
    },
    {
     "data": {
      "text/html": [],
      "text/plain": [
       "<IPython.core.display.HTML object>"
      ]
     },
     "metadata": {
      "display_id": "55a7609a21deeebf15039264abb4fbf2"
     },
     "output_type": "display_data",
     "transient": {
      "display_id": "55a7609a21deeebf15039264abb4fbf2"
     }
    },
    {
     "data": {
      "text/html": [],
      "text/plain": [
       "<IPython.core.display.HTML object>"
      ]
     },
     "metadata": {
      "display_id": "5402eec9e07e907bdadd3ff4c480f311"
     },
     "output_type": "display_data",
     "transient": {
      "display_id": "5402eec9e07e907bdadd3ff4c480f311"
     }
    },
    {
     "data": {
      "text/html": [],
      "text/plain": [
       "<IPython.core.display.HTML object>"
      ]
     },
     "metadata": {
      "display_id": "542374cdaf4bcdedad886b4882f745bd"
     },
     "output_type": "display_data",
     "transient": {
      "display_id": "542374cdaf4bcdedad886b4882f745bd"
     }
    },
    {
     "data": {
      "text/html": [],
      "text/plain": [
       "<IPython.core.display.HTML object>"
      ]
     },
     "metadata": {
      "display_id": "fe5b28b3f487c6c95a8ee32403aea8c0"
     },
     "output_type": "display_data",
     "transient": {
      "display_id": "fe5b28b3f487c6c95a8ee32403aea8c0"
     }
    },
    {
     "data": {
      "text/html": [],
      "text/plain": [
       "<IPython.core.display.HTML object>"
      ]
     },
     "metadata": {
      "display_id": "ba54f6ea2fe65441ff3484c32f4fb4af"
     },
     "output_type": "display_data",
     "transient": {
      "display_id": "ba54f6ea2fe65441ff3484c32f4fb4af"
     }
    },
    {
     "data": {
      "text/html": [],
      "text/plain": [
       "<IPython.core.display.HTML object>"
      ]
     },
     "metadata": {
      "display_id": "c83b60a45b4de11c3d19e6a375d378a8"
     },
     "output_type": "display_data",
     "transient": {
      "display_id": "c83b60a45b4de11c3d19e6a375d378a8"
     }
    },
    {
     "data": {
      "text/html": [],
      "text/plain": [
       "<IPython.core.display.HTML object>"
      ]
     },
     "metadata": {
      "display_id": "f5a72e0d56b106231c98efee0f2e206a"
     },
     "output_type": "display_data",
     "transient": {
      "display_id": "f5a72e0d56b106231c98efee0f2e206a"
     }
    },
    {
     "data": {
      "text/html": [],
      "text/plain": [
       "<IPython.core.display.HTML object>"
      ]
     },
     "metadata": {
      "display_id": "664efd60889b597e61259f0f2fb4b172"
     },
     "output_type": "display_data",
     "transient": {
      "display_id": "664efd60889b597e61259f0f2fb4b172"
     }
    },
    {
     "data": {
      "text/html": [],
      "text/plain": [
       "<IPython.core.display.HTML object>"
      ]
     },
     "metadata": {
      "display_id": "5ab36129eb6f8841b0299ae7100d075e"
     },
     "output_type": "display_data",
     "transient": {
      "display_id": "5ab36129eb6f8841b0299ae7100d075e"
     }
    },
    {
     "data": {
      "text/html": [],
      "text/plain": [
       "<IPython.core.display.HTML object>"
      ]
     },
     "metadata": {
      "display_id": "2eb0d873dd3999ff2c4f3f2da810ce28"
     },
     "output_type": "display_data",
     "transient": {
      "display_id": "2eb0d873dd3999ff2c4f3f2da810ce28"
     }
    },
    {
     "data": {
      "text/html": [],
      "text/plain": [
       "<IPython.core.display.HTML object>"
      ]
     },
     "metadata": {
      "display_id": "559484743f0fccd726ee6f28bf80843b"
     },
     "output_type": "display_data",
     "transient": {
      "display_id": "559484743f0fccd726ee6f28bf80843b"
     }
    },
    {
     "data": {
      "text/html": [],
      "text/plain": [
       "<IPython.core.display.HTML object>"
      ]
     },
     "metadata": {
      "display_id": "3ff523d89f911eb0f2b172c86f2465c4"
     },
     "output_type": "display_data",
     "transient": {
      "display_id": "3ff523d89f911eb0f2b172c86f2465c4"
     }
    },
    {
     "data": {
      "text/html": [],
      "text/plain": [
       "<IPython.core.display.HTML object>"
      ]
     },
     "metadata": {
      "display_id": "0a696dbd701f879e27d26e690146be8c"
     },
     "output_type": "display_data",
     "transient": {
      "display_id": "0a696dbd701f879e27d26e690146be8c"
     }
    },
    {
     "data": {
      "text/html": [],
      "text/plain": [
       "<IPython.core.display.HTML object>"
      ]
     },
     "metadata": {
      "display_id": "cccf6ad3ddcc3b3aea7fb3c60d3d691e"
     },
     "output_type": "display_data",
     "transient": {
      "display_id": "cccf6ad3ddcc3b3aea7fb3c60d3d691e"
     }
    },
    {
     "data": {
      "text/html": [],
      "text/plain": [
       "<IPython.core.display.HTML object>"
      ]
     },
     "metadata": {
      "display_id": "ff81cdd5cb4767334f62dbe35db54074"
     },
     "output_type": "display_data",
     "transient": {
      "display_id": "ff81cdd5cb4767334f62dbe35db54074"
     }
    },
    {
     "data": {
      "text/html": [],
      "text/plain": [
       "<IPython.core.display.HTML object>"
      ]
     },
     "metadata": {
      "display_id": "d96e93848112a0f633a1e57a83efc656"
     },
     "output_type": "display_data",
     "transient": {
      "display_id": "d96e93848112a0f633a1e57a83efc656"
     }
    },
    {
     "data": {
      "text/html": [],
      "text/plain": [
       "<IPython.core.display.HTML object>"
      ]
     },
     "metadata": {
      "display_id": "c00100d9b1998e7847d4bfc5b9d5861f"
     },
     "output_type": "display_data",
     "transient": {
      "display_id": "c00100d9b1998e7847d4bfc5b9d5861f"
     }
    },
    {
     "data": {
      "text/html": [],
      "text/plain": [
       "<IPython.core.display.HTML object>"
      ]
     },
     "metadata": {
      "display_id": "893d2957c969d12a8d1d82ea3700c360"
     },
     "output_type": "display_data",
     "transient": {
      "display_id": "893d2957c969d12a8d1d82ea3700c360"
     }
    },
    {
     "data": {
      "text/html": [],
      "text/plain": [
       "<IPython.core.display.HTML object>"
      ]
     },
     "metadata": {
      "display_id": "2caa1d08335f1bfffec2374c06fbc7cc"
     },
     "output_type": "display_data",
     "transient": {
      "display_id": "2caa1d08335f1bfffec2374c06fbc7cc"
     }
    },
    {
     "data": {
      "text/html": [],
      "text/plain": [
       "<IPython.core.display.HTML object>"
      ]
     },
     "metadata": {
      "display_id": "0e64ab2e068a7cffd00c31e0a22ec90b"
     },
     "output_type": "display_data",
     "transient": {
      "display_id": "0e64ab2e068a7cffd00c31e0a22ec90b"
     }
    },
    {
     "data": {
      "text/html": [],
      "text/plain": [
       "<IPython.core.display.HTML object>"
      ]
     },
     "metadata": {
      "display_id": "e7faf77d23517cf0d13cce60f62a29cd"
     },
     "output_type": "display_data",
     "transient": {
      "display_id": "e7faf77d23517cf0d13cce60f62a29cd"
     }
    },
    {
     "data": {
      "text/html": [],
      "text/plain": [
       "<IPython.core.display.HTML object>"
      ]
     },
     "metadata": {
      "display_id": "c24dd2fde9b2d983a1e36a850f00ea10"
     },
     "output_type": "display_data",
     "transient": {
      "display_id": "c24dd2fde9b2d983a1e36a850f00ea10"
     }
    },
    {
     "data": {
      "text/html": [],
      "text/plain": [
       "<IPython.core.display.HTML object>"
      ]
     },
     "metadata": {
      "display_id": "ad923f52f2e347e1231285506501b10e"
     },
     "output_type": "display_data",
     "transient": {
      "display_id": "ad923f52f2e347e1231285506501b10e"
     }
    },
    {
     "data": {
      "text/html": [],
      "text/plain": [
       "<IPython.core.display.HTML object>"
      ]
     },
     "metadata": {
      "display_id": "36f08b0adbb58c5db56c39260863907f"
     },
     "output_type": "display_data",
     "transient": {
      "display_id": "36f08b0adbb58c5db56c39260863907f"
     }
    },
    {
     "data": {
      "text/html": [],
      "text/plain": [
       "<IPython.core.display.HTML object>"
      ]
     },
     "metadata": {
      "display_id": "921bbaadcf89adbb13133cbcbe4e9796"
     },
     "output_type": "display_data",
     "transient": {
      "display_id": "921bbaadcf89adbb13133cbcbe4e9796"
     }
    },
    {
     "data": {
      "text/html": [],
      "text/plain": [
       "<IPython.core.display.HTML object>"
      ]
     },
     "metadata": {
      "display_id": "c4515b4aa8cc914ccef135c510cf4035"
     },
     "output_type": "display_data",
     "transient": {
      "display_id": "c4515b4aa8cc914ccef135c510cf4035"
     }
    },
    {
     "data": {
      "text/html": [],
      "text/plain": [
       "<IPython.core.display.HTML object>"
      ]
     },
     "metadata": {
      "display_id": "d2ff3f58806884ef5dfc8b3129b8b95e"
     },
     "output_type": "display_data",
     "transient": {
      "display_id": "d2ff3f58806884ef5dfc8b3129b8b95e"
     }
    },
    {
     "data": {
      "text/html": [],
      "text/plain": [
       "<IPython.core.display.HTML object>"
      ]
     },
     "metadata": {
      "display_id": "44c533a9f53ce432387b21119701c1c1"
     },
     "output_type": "display_data",
     "transient": {
      "display_id": "44c533a9f53ce432387b21119701c1c1"
     }
    },
    {
     "data": {
      "text/html": [],
      "text/plain": [
       "<IPython.core.display.HTML object>"
      ]
     },
     "metadata": {
      "display_id": "f052759a83c5b5107a2f9ce753ff1474"
     },
     "output_type": "display_data",
     "transient": {
      "display_id": "f052759a83c5b5107a2f9ce753ff1474"
     }
    },
    {
     "data": {
      "text/html": [],
      "text/plain": [
       "<IPython.core.display.HTML object>"
      ]
     },
     "metadata": {
      "display_id": "5eeee85d0379ad5b2b84a7641b93241f"
     },
     "output_type": "display_data",
     "transient": {
      "display_id": "5eeee85d0379ad5b2b84a7641b93241f"
     }
    },
    {
     "data": {
      "text/html": [],
      "text/plain": [
       "<IPython.core.display.HTML object>"
      ]
     },
     "metadata": {
      "display_id": "3408a979304864b65b57493e9e4b45da"
     },
     "output_type": "display_data",
     "transient": {
      "display_id": "3408a979304864b65b57493e9e4b45da"
     }
    },
    {
     "data": {
      "text/html": [],
      "text/plain": [
       "<IPython.core.display.HTML object>"
      ]
     },
     "metadata": {
      "display_id": "117e3ee77973e14747ee275bb1e96ae9"
     },
     "output_type": "display_data",
     "transient": {
      "display_id": "117e3ee77973e14747ee275bb1e96ae9"
     }
    },
    {
     "data": {
      "text/html": [],
      "text/plain": [
       "<IPython.core.display.HTML object>"
      ]
     },
     "metadata": {
      "display_id": "1e9ef5c77476854876e0561806618699"
     },
     "output_type": "display_data",
     "transient": {
      "display_id": "1e9ef5c77476854876e0561806618699"
     }
    },
    {
     "data": {
      "text/html": [],
      "text/plain": [
       "<IPython.core.display.HTML object>"
      ]
     },
     "metadata": {
      "display_id": "c9ee1b567d81742bcfcd8c79e3e0d32d"
     },
     "output_type": "display_data",
     "transient": {
      "display_id": "c9ee1b567d81742bcfcd8c79e3e0d32d"
     }
    },
    {
     "data": {
      "text/html": [],
      "text/plain": [
       "<IPython.core.display.HTML object>"
      ]
     },
     "metadata": {
      "display_id": "9178e612be757a616a6b5944f178b10b"
     },
     "output_type": "display_data",
     "transient": {
      "display_id": "9178e612be757a616a6b5944f178b10b"
     }
    },
    {
     "data": {
      "text/html": [],
      "text/plain": [
       "<IPython.core.display.HTML object>"
      ]
     },
     "metadata": {
      "display_id": "bd810205f6f843105a1d797be11949d5"
     },
     "output_type": "display_data",
     "transient": {
      "display_id": "bd810205f6f843105a1d797be11949d5"
     }
    },
    {
     "data": {
      "text/html": [],
      "text/plain": [
       "<IPython.core.display.HTML object>"
      ]
     },
     "metadata": {
      "display_id": "0187ac107b5104cbc464f96252838093"
     },
     "output_type": "display_data",
     "transient": {
      "display_id": "0187ac107b5104cbc464f96252838093"
     }
    },
    {
     "data": {
      "text/html": [],
      "text/plain": [
       "<IPython.core.display.HTML object>"
      ]
     },
     "metadata": {
      "display_id": "ee63372976d6409799b5263f0f536e44"
     },
     "output_type": "display_data",
     "transient": {
      "display_id": "ee63372976d6409799b5263f0f536e44"
     }
    },
    {
     "data": {
      "text/html": [],
      "text/plain": [
       "<IPython.core.display.HTML object>"
      ]
     },
     "metadata": {
      "display_id": "c65e21f310e92d337f0f8344112b9906"
     },
     "output_type": "display_data",
     "transient": {
      "display_id": "c65e21f310e92d337f0f8344112b9906"
     }
    },
    {
     "data": {
      "text/html": [],
      "text/plain": [
       "<IPython.core.display.HTML object>"
      ]
     },
     "metadata": {
      "display_id": "70a2103d7187f2ae68bcdca443d69637"
     },
     "output_type": "display_data",
     "transient": {
      "display_id": "70a2103d7187f2ae68bcdca443d69637"
     }
    },
    {
     "data": {
      "text/html": [],
      "text/plain": [
       "<IPython.core.display.HTML object>"
      ]
     },
     "metadata": {
      "display_id": "15376cf615ce61f43cd195adce77ceb8"
     },
     "output_type": "display_data",
     "transient": {
      "display_id": "15376cf615ce61f43cd195adce77ceb8"
     }
    },
    {
     "data": {
      "text/html": [],
      "text/plain": [
       "<IPython.core.display.HTML object>"
      ]
     },
     "metadata": {
      "display_id": "564fd9d435fdf20304bc98c6a123e355"
     },
     "output_type": "display_data",
     "transient": {
      "display_id": "564fd9d435fdf20304bc98c6a123e355"
     }
    },
    {
     "data": {
      "text/html": [],
      "text/plain": [
       "<IPython.core.display.HTML object>"
      ]
     },
     "metadata": {
      "display_id": "d3733fe700579520a6700cb1611569e3"
     },
     "output_type": "display_data",
     "transient": {
      "display_id": "d3733fe700579520a6700cb1611569e3"
     }
    },
    {
     "data": {
      "text/html": [],
      "text/plain": [
       "<IPython.core.display.HTML object>"
      ]
     },
     "metadata": {
      "display_id": "7525d8f6c7c30a6a2a5e2e6592d40df9"
     },
     "output_type": "display_data",
     "transient": {
      "display_id": "7525d8f6c7c30a6a2a5e2e6592d40df9"
     }
    },
    {
     "data": {
      "text/html": [],
      "text/plain": [
       "<IPython.core.display.HTML object>"
      ]
     },
     "metadata": {
      "display_id": "a2e5f4dd7ef0494ef763832d17cff999"
     },
     "output_type": "display_data",
     "transient": {
      "display_id": "a2e5f4dd7ef0494ef763832d17cff999"
     }
    },
    {
     "data": {
      "text/html": [],
      "text/plain": [
       "<IPython.core.display.HTML object>"
      ]
     },
     "metadata": {
      "display_id": "90aa13254558bfe9cceb69e681927edd"
     },
     "output_type": "display_data",
     "transient": {
      "display_id": "90aa13254558bfe9cceb69e681927edd"
     }
    },
    {
     "data": {
      "text/html": [],
      "text/plain": [
       "<IPython.core.display.HTML object>"
      ]
     },
     "metadata": {
      "display_id": "2b8c34ec2eeca1afef17f628cbbc4a01"
     },
     "output_type": "display_data",
     "transient": {
      "display_id": "2b8c34ec2eeca1afef17f628cbbc4a01"
     }
    },
    {
     "data": {
      "text/html": [],
      "text/plain": [
       "<IPython.core.display.HTML object>"
      ]
     },
     "metadata": {
      "display_id": "f7e6dda03db4be3e2ab6d5a8677086fe"
     },
     "output_type": "display_data",
     "transient": {
      "display_id": "f7e6dda03db4be3e2ab6d5a8677086fe"
     }
    },
    {
     "data": {
      "text/html": [],
      "text/plain": [
       "<IPython.core.display.HTML object>"
      ]
     },
     "metadata": {
      "display_id": "1e655431731574692c7c85ae3f2112a5"
     },
     "output_type": "display_data",
     "transient": {
      "display_id": "1e655431731574692c7c85ae3f2112a5"
     }
    },
    {
     "data": {
      "text/html": [],
      "text/plain": [
       "<IPython.core.display.HTML object>"
      ]
     },
     "metadata": {
      "display_id": "25ebd1be8f4dde64aab6a082462bf040"
     },
     "output_type": "display_data",
     "transient": {
      "display_id": "25ebd1be8f4dde64aab6a082462bf040"
     }
    },
    {
     "data": {
      "text/html": [],
      "text/plain": [
       "<IPython.core.display.HTML object>"
      ]
     },
     "metadata": {
      "display_id": "2851afec21911d83de15852ca756b428"
     },
     "output_type": "display_data",
     "transient": {
      "display_id": "2851afec21911d83de15852ca756b428"
     }
    },
    {
     "data": {
      "text/html": [],
      "text/plain": [
       "<IPython.core.display.HTML object>"
      ]
     },
     "metadata": {
      "display_id": "3f3da5c9549c958c41344f32f1f6cbc6"
     },
     "output_type": "display_data",
     "transient": {
      "display_id": "3f3da5c9549c958c41344f32f1f6cbc6"
     }
    },
    {
     "data": {
      "text/html": [],
      "text/plain": [
       "<IPython.core.display.HTML object>"
      ]
     },
     "metadata": {
      "display_id": "6073d7ed44ff69c35da5a9a2209306f4"
     },
     "output_type": "display_data",
     "transient": {
      "display_id": "6073d7ed44ff69c35da5a9a2209306f4"
     }
    },
    {
     "data": {
      "text/html": [],
      "text/plain": [
       "<IPython.core.display.HTML object>"
      ]
     },
     "metadata": {
      "display_id": "02c0eb7f9cd39a08113450e4e1b37055"
     },
     "output_type": "display_data",
     "transient": {
      "display_id": "02c0eb7f9cd39a08113450e4e1b37055"
     }
    },
    {
     "data": {
      "text/html": [],
      "text/plain": [
       "<IPython.core.display.HTML object>"
      ]
     },
     "metadata": {
      "display_id": "2685799bc39455eeae99774920efb228"
     },
     "output_type": "display_data",
     "transient": {
      "display_id": "2685799bc39455eeae99774920efb228"
     }
    },
    {
     "data": {
      "text/html": [],
      "text/plain": [
       "<IPython.core.display.HTML object>"
      ]
     },
     "metadata": {
      "display_id": "8095cbd04c00c00fe4301fa33b390c18"
     },
     "output_type": "display_data",
     "transient": {
      "display_id": "8095cbd04c00c00fe4301fa33b390c18"
     }
    },
    {
     "data": {
      "text/html": [],
      "text/plain": [
       "<IPython.core.display.HTML object>"
      ]
     },
     "metadata": {
      "display_id": "93594e3141ee851b6142e8efe5e84ea3"
     },
     "output_type": "display_data",
     "transient": {
      "display_id": "93594e3141ee851b6142e8efe5e84ea3"
     }
    },
    {
     "data": {
      "text/html": [],
      "text/plain": [
       "<IPython.core.display.HTML object>"
      ]
     },
     "metadata": {
      "display_id": "ba7dcf4e61188301626ae065286579f4"
     },
     "output_type": "display_data",
     "transient": {
      "display_id": "ba7dcf4e61188301626ae065286579f4"
     }
    },
    {
     "data": {
      "text/html": [],
      "text/plain": [
       "<IPython.core.display.HTML object>"
      ]
     },
     "metadata": {
      "display_id": "b35be801a524a272155e0b611e72d12e"
     },
     "output_type": "display_data",
     "transient": {
      "display_id": "b35be801a524a272155e0b611e72d12e"
     }
    },
    {
     "data": {
      "text/html": [],
      "text/plain": [
       "<IPython.core.display.HTML object>"
      ]
     },
     "metadata": {
      "display_id": "580edb23a086df85d91aac6ec6ab27db"
     },
     "output_type": "display_data",
     "transient": {
      "display_id": "580edb23a086df85d91aac6ec6ab27db"
     }
    },
    {
     "data": {
      "text/html": [],
      "text/plain": [
       "<IPython.core.display.HTML object>"
      ]
     },
     "metadata": {
      "display_id": "b073584527fecb26da221d4d3f62f456"
     },
     "output_type": "display_data",
     "transient": {
      "display_id": "b073584527fecb26da221d4d3f62f456"
     }
    },
    {
     "data": {
      "text/html": [],
      "text/plain": [
       "<IPython.core.display.HTML object>"
      ]
     },
     "metadata": {
      "display_id": "f9755e64e8d4ab71cb70d917de4864d9"
     },
     "output_type": "display_data",
     "transient": {
      "display_id": "f9755e64e8d4ab71cb70d917de4864d9"
     }
    },
    {
     "data": {
      "text/html": [],
      "text/plain": [
       "<IPython.core.display.HTML object>"
      ]
     },
     "metadata": {
      "display_id": "b35d8539ba869220d0d0702af2adcdbb"
     },
     "output_type": "display_data",
     "transient": {
      "display_id": "b35d8539ba869220d0d0702af2adcdbb"
     }
    },
    {
     "data": {
      "text/html": [],
      "text/plain": [
       "<IPython.core.display.HTML object>"
      ]
     },
     "metadata": {
      "display_id": "109c3858f1c5fa32558932b6226322ae"
     },
     "output_type": "display_data",
     "transient": {
      "display_id": "109c3858f1c5fa32558932b6226322ae"
     }
    },
    {
     "data": {
      "text/html": [],
      "text/plain": [
       "<IPython.core.display.HTML object>"
      ]
     },
     "metadata": {
      "display_id": "4dc07ecaa1c71be249c6128ccbe5b091"
     },
     "output_type": "display_data",
     "transient": {
      "display_id": "4dc07ecaa1c71be249c6128ccbe5b091"
     }
    },
    {
     "data": {
      "text/html": [],
      "text/plain": [
       "<IPython.core.display.HTML object>"
      ]
     },
     "metadata": {
      "display_id": "5118a9c8add140bd11b8bb4de0e708af"
     },
     "output_type": "display_data",
     "transient": {
      "display_id": "5118a9c8add140bd11b8bb4de0e708af"
     }
    },
    {
     "data": {
      "text/html": [],
      "text/plain": [
       "<IPython.core.display.HTML object>"
      ]
     },
     "metadata": {
      "display_id": "931c0a153782738607de6246d28a9f9c"
     },
     "output_type": "display_data",
     "transient": {
      "display_id": "931c0a153782738607de6246d28a9f9c"
     }
    },
    {
     "data": {
      "text/html": [],
      "text/plain": [
       "<IPython.core.display.HTML object>"
      ]
     },
     "metadata": {
      "display_id": "36f749b627008476bbae6d029e2d75f9"
     },
     "output_type": "display_data",
     "transient": {
      "display_id": "36f749b627008476bbae6d029e2d75f9"
     }
    },
    {
     "data": {
      "text/html": [],
      "text/plain": [
       "<IPython.core.display.HTML object>"
      ]
     },
     "metadata": {
      "display_id": "ec9f6677b1249f7aab7d5e34f2b7024b"
     },
     "output_type": "display_data",
     "transient": {
      "display_id": "ec9f6677b1249f7aab7d5e34f2b7024b"
     }
    },
    {
     "data": {
      "text/html": [],
      "text/plain": [
       "<IPython.core.display.HTML object>"
      ]
     },
     "metadata": {
      "display_id": "2e39f25694336abdafe91697778f09b1"
     },
     "output_type": "display_data",
     "transient": {
      "display_id": "2e39f25694336abdafe91697778f09b1"
     }
    },
    {
     "data": {
      "text/html": [],
      "text/plain": [
       "<IPython.core.display.HTML object>"
      ]
     },
     "metadata": {
      "display_id": "dea3b474bb91c5a086b0b7ce88f8ac7b"
     },
     "output_type": "display_data",
     "transient": {
      "display_id": "dea3b474bb91c5a086b0b7ce88f8ac7b"
     }
    },
    {
     "data": {
      "text/html": [],
      "text/plain": [
       "<IPython.core.display.HTML object>"
      ]
     },
     "metadata": {
      "display_id": "f2e28bca9a12f2e406543ce282595459"
     },
     "output_type": "display_data",
     "transient": {
      "display_id": "f2e28bca9a12f2e406543ce282595459"
     }
    },
    {
     "data": {
      "text/html": [],
      "text/plain": [
       "<IPython.core.display.HTML object>"
      ]
     },
     "metadata": {
      "display_id": "3607e8128d0d787a9471f165ca3bb653"
     },
     "output_type": "display_data",
     "transient": {
      "display_id": "3607e8128d0d787a9471f165ca3bb653"
     }
    },
    {
     "data": {
      "text/html": [],
      "text/plain": [
       "<IPython.core.display.HTML object>"
      ]
     },
     "metadata": {
      "display_id": "81d857b606bd63b408d956399dc27097"
     },
     "output_type": "display_data",
     "transient": {
      "display_id": "81d857b606bd63b408d956399dc27097"
     }
    },
    {
     "data": {
      "text/html": [],
      "text/plain": [
       "<IPython.core.display.HTML object>"
      ]
     },
     "metadata": {
      "display_id": "05ff18c6fda532e7ca96ca1a4fd05bbb"
     },
     "output_type": "display_data",
     "transient": {
      "display_id": "05ff18c6fda532e7ca96ca1a4fd05bbb"
     }
    },
    {
     "data": {
      "text/html": [],
      "text/plain": [
       "<IPython.core.display.HTML object>"
      ]
     },
     "metadata": {
      "display_id": "c8a6ad464c437e0f5f67dda6465b7687"
     },
     "output_type": "display_data",
     "transient": {
      "display_id": "c8a6ad464c437e0f5f67dda6465b7687"
     }
    },
    {
     "data": {
      "text/html": [],
      "text/plain": [
       "<IPython.core.display.HTML object>"
      ]
     },
     "metadata": {
      "display_id": "d0fab81c569f09bb512465fce304fbd3"
     },
     "output_type": "display_data",
     "transient": {
      "display_id": "d0fab81c569f09bb512465fce304fbd3"
     }
    },
    {
     "data": {
      "text/html": [],
      "text/plain": [
       "<IPython.core.display.HTML object>"
      ]
     },
     "metadata": {
      "display_id": "6b9cd1cd88cfc125f8117ba90cff0b18"
     },
     "output_type": "display_data",
     "transient": {
      "display_id": "6b9cd1cd88cfc125f8117ba90cff0b18"
     }
    },
    {
     "data": {
      "text/html": [],
      "text/plain": [
       "<IPython.core.display.HTML object>"
      ]
     },
     "metadata": {
      "display_id": "d056bdc64a1defea60fa52b77591f857"
     },
     "output_type": "display_data",
     "transient": {
      "display_id": "d056bdc64a1defea60fa52b77591f857"
     }
    },
    {
     "data": {
      "text/html": [],
      "text/plain": [
       "<IPython.core.display.HTML object>"
      ]
     },
     "metadata": {
      "display_id": "59a63a293616b62910f5d10dd1ac2709"
     },
     "output_type": "display_data",
     "transient": {
      "display_id": "59a63a293616b62910f5d10dd1ac2709"
     }
    },
    {
     "data": {
      "text/html": [],
      "text/plain": [
       "<IPython.core.display.HTML object>"
      ]
     },
     "metadata": {
      "display_id": "454cf177ffa46b7516fab5c3dc42f6ff"
     },
     "output_type": "display_data",
     "transient": {
      "display_id": "454cf177ffa46b7516fab5c3dc42f6ff"
     }
    },
    {
     "data": {
      "text/html": [],
      "text/plain": [
       "<IPython.core.display.HTML object>"
      ]
     },
     "metadata": {
      "display_id": "008d84f26cb069f19987d5a8ae492a37"
     },
     "output_type": "display_data",
     "transient": {
      "display_id": "008d84f26cb069f19987d5a8ae492a37"
     }
    },
    {
     "data": {
      "text/html": [],
      "text/plain": [
       "<IPython.core.display.HTML object>"
      ]
     },
     "metadata": {
      "display_id": "236cc2faed60b052dcf306456a80c5b5"
     },
     "output_type": "display_data",
     "transient": {
      "display_id": "236cc2faed60b052dcf306456a80c5b5"
     }
    },
    {
     "data": {
      "text/html": [],
      "text/plain": [
       "<IPython.core.display.HTML object>"
      ]
     },
     "metadata": {
      "display_id": "bb1be2abf153f4dbd84f49be4aa37632"
     },
     "output_type": "display_data",
     "transient": {
      "display_id": "bb1be2abf153f4dbd84f49be4aa37632"
     }
    },
    {
     "data": {
      "text/html": [],
      "text/plain": [
       "<IPython.core.display.HTML object>"
      ]
     },
     "metadata": {
      "display_id": "9f90a9bc3bd679d9e8ddf93403c7a054"
     },
     "output_type": "display_data",
     "transient": {
      "display_id": "9f90a9bc3bd679d9e8ddf93403c7a054"
     }
    },
    {
     "data": {
      "text/html": [],
      "text/plain": [
       "<IPython.core.display.HTML object>"
      ]
     },
     "metadata": {
      "display_id": "625f6866732cce6d63b4576e77cd9f91"
     },
     "output_type": "display_data",
     "transient": {
      "display_id": "625f6866732cce6d63b4576e77cd9f91"
     }
    },
    {
     "data": {
      "text/html": [],
      "text/plain": [
       "<IPython.core.display.HTML object>"
      ]
     },
     "metadata": {
      "display_id": "04980bd56849c9df5c84bced98a7457b"
     },
     "output_type": "display_data",
     "transient": {
      "display_id": "04980bd56849c9df5c84bced98a7457b"
     }
    },
    {
     "data": {
      "text/html": [],
      "text/plain": [
       "<IPython.core.display.HTML object>"
      ]
     },
     "metadata": {
      "display_id": "5da9db0ab19c3d2d765c4f78c8511b60"
     },
     "output_type": "display_data",
     "transient": {
      "display_id": "5da9db0ab19c3d2d765c4f78c8511b60"
     }
    },
    {
     "data": {
      "text/html": [],
      "text/plain": [
       "<IPython.core.display.HTML object>"
      ]
     },
     "metadata": {
      "display_id": "5f428e52d9dba3c7b73a32660a311086"
     },
     "output_type": "display_data",
     "transient": {
      "display_id": "5f428e52d9dba3c7b73a32660a311086"
     }
    },
    {
     "data": {
      "text/html": [],
      "text/plain": [
       "<IPython.core.display.HTML object>"
      ]
     },
     "metadata": {
      "display_id": "17e712960aefdd6b6a6262fe74183e61"
     },
     "output_type": "display_data",
     "transient": {
      "display_id": "17e712960aefdd6b6a6262fe74183e61"
     }
    },
    {
     "data": {
      "text/html": [],
      "text/plain": [
       "<IPython.core.display.HTML object>"
      ]
     },
     "metadata": {
      "display_id": "1d91029ae602097e3fef0433c70a6cd8"
     },
     "output_type": "display_data",
     "transient": {
      "display_id": "1d91029ae602097e3fef0433c70a6cd8"
     }
    },
    {
     "data": {
      "text/html": [],
      "text/plain": [
       "<IPython.core.display.HTML object>"
      ]
     },
     "metadata": {
      "display_id": "b4916069e7e687c377216fb6fcff8fb4"
     },
     "output_type": "display_data",
     "transient": {
      "display_id": "b4916069e7e687c377216fb6fcff8fb4"
     }
    },
    {
     "data": {
      "text/html": [],
      "text/plain": [
       "<IPython.core.display.HTML object>"
      ]
     },
     "metadata": {
      "display_id": "e39d1d3b3f521e5809d2e415b919f65c"
     },
     "output_type": "display_data",
     "transient": {
      "display_id": "e39d1d3b3f521e5809d2e415b919f65c"
     }
    },
    {
     "data": {
      "text/html": [],
      "text/plain": [
       "<IPython.core.display.HTML object>"
      ]
     },
     "metadata": {
      "display_id": "488794bc665ef4656abe2a104252c06a"
     },
     "output_type": "display_data",
     "transient": {
      "display_id": "488794bc665ef4656abe2a104252c06a"
     }
    },
    {
     "data": {
      "text/html": [],
      "text/plain": [
       "<IPython.core.display.HTML object>"
      ]
     },
     "metadata": {
      "display_id": "2cbd3b91eb620c4c522b1219957b6687"
     },
     "output_type": "display_data",
     "transient": {
      "display_id": "2cbd3b91eb620c4c522b1219957b6687"
     }
    },
    {
     "data": {
      "text/html": [],
      "text/plain": [
       "<IPython.core.display.HTML object>"
      ]
     },
     "metadata": {
      "display_id": "580ce7c5f43072b6ecd71602365a17e1"
     },
     "output_type": "display_data",
     "transient": {
      "display_id": "580ce7c5f43072b6ecd71602365a17e1"
     }
    },
    {
     "data": {
      "text/html": [],
      "text/plain": [
       "<IPython.core.display.HTML object>"
      ]
     },
     "metadata": {
      "display_id": "771fc8e68f445e0a4a01984a909604a3"
     },
     "output_type": "display_data",
     "transient": {
      "display_id": "771fc8e68f445e0a4a01984a909604a3"
     }
    },
    {
     "data": {
      "text/html": [],
      "text/plain": [
       "<IPython.core.display.HTML object>"
      ]
     },
     "metadata": {
      "display_id": "5affb357a76192e3f3ee7918bd07cbbd"
     },
     "output_type": "display_data",
     "transient": {
      "display_id": "5affb357a76192e3f3ee7918bd07cbbd"
     }
    },
    {
     "data": {
      "text/html": [],
      "text/plain": [
       "<IPython.core.display.HTML object>"
      ]
     },
     "metadata": {
      "display_id": "9c347b3831b192b384621d76d3f140a2"
     },
     "output_type": "display_data",
     "transient": {
      "display_id": "9c347b3831b192b384621d76d3f140a2"
     }
    },
    {
     "data": {
      "text/html": [],
      "text/plain": [
       "<IPython.core.display.HTML object>"
      ]
     },
     "metadata": {
      "display_id": "40e10a54bc3900408f3e8abe19f0a9e8"
     },
     "output_type": "display_data",
     "transient": {
      "display_id": "40e10a54bc3900408f3e8abe19f0a9e8"
     }
    },
    {
     "data": {
      "text/html": [],
      "text/plain": [
       "<IPython.core.display.HTML object>"
      ]
     },
     "metadata": {
      "display_id": "2d4e61e2a0ffccef46af76ac1ace5f0f"
     },
     "output_type": "display_data",
     "transient": {
      "display_id": "2d4e61e2a0ffccef46af76ac1ace5f0f"
     }
    },
    {
     "data": {
      "text/html": [],
      "text/plain": [
       "<IPython.core.display.HTML object>"
      ]
     },
     "metadata": {
      "display_id": "bc2108995c2691cb9c6d30458df9ffee"
     },
     "output_type": "display_data",
     "transient": {
      "display_id": "bc2108995c2691cb9c6d30458df9ffee"
     }
    },
    {
     "data": {
      "text/html": [],
      "text/plain": [
       "<IPython.core.display.HTML object>"
      ]
     },
     "metadata": {
      "display_id": "c98ba08793262d88feaf522c178907e8"
     },
     "output_type": "display_data",
     "transient": {
      "display_id": "c98ba08793262d88feaf522c178907e8"
     }
    },
    {
     "data": {
      "text/html": [],
      "text/plain": [
       "<IPython.core.display.HTML object>"
      ]
     },
     "metadata": {
      "display_id": "d2be57ae32ebca41ebfa807115b8c43e"
     },
     "output_type": "display_data",
     "transient": {
      "display_id": "d2be57ae32ebca41ebfa807115b8c43e"
     }
    },
    {
     "data": {
      "text/html": [],
      "text/plain": [
       "<IPython.core.display.HTML object>"
      ]
     },
     "metadata": {
      "display_id": "94e4f116dcf63bab52a3ab5fdfed0c98"
     },
     "output_type": "display_data",
     "transient": {
      "display_id": "94e4f116dcf63bab52a3ab5fdfed0c98"
     }
    },
    {
     "data": {
      "text/html": [],
      "text/plain": [
       "<IPython.core.display.HTML object>"
      ]
     },
     "metadata": {
      "display_id": "5f9a3d07e5d02455ab7eb98f4fcfc1e1"
     },
     "output_type": "display_data",
     "transient": {
      "display_id": "5f9a3d07e5d02455ab7eb98f4fcfc1e1"
     }
    },
    {
     "data": {
      "text/html": [],
      "text/plain": [
       "<IPython.core.display.HTML object>"
      ]
     },
     "metadata": {
      "display_id": "1a5e804f96b19b1e7be9a74c8e6f05f2"
     },
     "output_type": "display_data",
     "transient": {
      "display_id": "1a5e804f96b19b1e7be9a74c8e6f05f2"
     }
    },
    {
     "data": {
      "text/html": [],
      "text/plain": [
       "<IPython.core.display.HTML object>"
      ]
     },
     "metadata": {
      "display_id": "86409cef449da2111ca2e5f3aa7bd954"
     },
     "output_type": "display_data",
     "transient": {
      "display_id": "86409cef449da2111ca2e5f3aa7bd954"
     }
    },
    {
     "data": {
      "text/html": [],
      "text/plain": [
       "<IPython.core.display.HTML object>"
      ]
     },
     "metadata": {
      "display_id": "164487483eb82de1ad4bf426320b1a62"
     },
     "output_type": "display_data",
     "transient": {
      "display_id": "164487483eb82de1ad4bf426320b1a62"
     }
    },
    {
     "data": {
      "text/html": [],
      "text/plain": [
       "<IPython.core.display.HTML object>"
      ]
     },
     "metadata": {
      "display_id": "d28b693e4216cd227a0ef96a8a7fc3b8"
     },
     "output_type": "display_data",
     "transient": {
      "display_id": "d28b693e4216cd227a0ef96a8a7fc3b8"
     }
    },
    {
     "data": {
      "text/html": [],
      "text/plain": [
       "<IPython.core.display.HTML object>"
      ]
     },
     "metadata": {
      "display_id": "beb718fd7a712881de549d86685eac54"
     },
     "output_type": "display_data",
     "transient": {
      "display_id": "beb718fd7a712881de549d86685eac54"
     }
    },
    {
     "data": {
      "text/html": [],
      "text/plain": [
       "<IPython.core.display.HTML object>"
      ]
     },
     "metadata": {
      "display_id": "f33be3173ed5fd2429469246642a812d"
     },
     "output_type": "display_data",
     "transient": {
      "display_id": "f33be3173ed5fd2429469246642a812d"
     }
    },
    {
     "data": {
      "text/html": [],
      "text/plain": [
       "<IPython.core.display.HTML object>"
      ]
     },
     "metadata": {
      "display_id": "364c707d43552db9749f33f63cff99a5"
     },
     "output_type": "display_data",
     "transient": {
      "display_id": "364c707d43552db9749f33f63cff99a5"
     }
    },
    {
     "data": {
      "text/html": [],
      "text/plain": [
       "<IPython.core.display.HTML object>"
      ]
     },
     "metadata": {
      "display_id": "1a6993d314a7a197b5ec6664ca6c613a"
     },
     "output_type": "display_data",
     "transient": {
      "display_id": "1a6993d314a7a197b5ec6664ca6c613a"
     }
    },
    {
     "data": {
      "text/html": [],
      "text/plain": [
       "<IPython.core.display.HTML object>"
      ]
     },
     "metadata": {
      "display_id": "32d5b81b66de75c230174fa1e29d27ca"
     },
     "output_type": "display_data",
     "transient": {
      "display_id": "32d5b81b66de75c230174fa1e29d27ca"
     }
    },
    {
     "data": {
      "text/html": [],
      "text/plain": [
       "<IPython.core.display.HTML object>"
      ]
     },
     "metadata": {
      "display_id": "a6b1c9e2136168b2843524fa889706c1"
     },
     "output_type": "display_data",
     "transient": {
      "display_id": "a6b1c9e2136168b2843524fa889706c1"
     }
    },
    {
     "data": {
      "text/html": [],
      "text/plain": [
       "<IPython.core.display.HTML object>"
      ]
     },
     "metadata": {
      "display_id": "09de2ed71be52ef865611a0a8498c30e"
     },
     "output_type": "display_data",
     "transient": {
      "display_id": "09de2ed71be52ef865611a0a8498c30e"
     }
    },
    {
     "data": {
      "text/html": [],
      "text/plain": [
       "<IPython.core.display.HTML object>"
      ]
     },
     "metadata": {
      "display_id": "e7e90bf1daf63a875d37041abc6ea5e0"
     },
     "output_type": "display_data",
     "transient": {
      "display_id": "e7e90bf1daf63a875d37041abc6ea5e0"
     }
    },
    {
     "data": {
      "text/html": [],
      "text/plain": [
       "<IPython.core.display.HTML object>"
      ]
     },
     "metadata": {
      "display_id": "166a283046fd1a49628831c26b9b5898"
     },
     "output_type": "display_data",
     "transient": {
      "display_id": "166a283046fd1a49628831c26b9b5898"
     }
    },
    {
     "data": {
      "text/html": [],
      "text/plain": [
       "<IPython.core.display.HTML object>"
      ]
     },
     "metadata": {
      "display_id": "3be755dfbb266c63eede25fe16d3537d"
     },
     "output_type": "display_data",
     "transient": {
      "display_id": "3be755dfbb266c63eede25fe16d3537d"
     }
    },
    {
     "data": {
      "text/html": [],
      "text/plain": [
       "<IPython.core.display.HTML object>"
      ]
     },
     "metadata": {
      "display_id": "f52bb8436795b6442f29aa32b0603123"
     },
     "output_type": "display_data",
     "transient": {
      "display_id": "f52bb8436795b6442f29aa32b0603123"
     }
    },
    {
     "data": {
      "text/html": [],
      "text/plain": [
       "<IPython.core.display.HTML object>"
      ]
     },
     "metadata": {
      "display_id": "0cf2df4e8f3e1fae734658b5db25a5d2"
     },
     "output_type": "display_data",
     "transient": {
      "display_id": "0cf2df4e8f3e1fae734658b5db25a5d2"
     }
    },
    {
     "data": {
      "text/html": [],
      "text/plain": [
       "<IPython.core.display.HTML object>"
      ]
     },
     "metadata": {
      "display_id": "ba859b6c71c3e937c618dd3d245f3c6e"
     },
     "output_type": "display_data",
     "transient": {
      "display_id": "ba859b6c71c3e937c618dd3d245f3c6e"
     }
    },
    {
     "data": {
      "text/html": [],
      "text/plain": [
       "<IPython.core.display.HTML object>"
      ]
     },
     "metadata": {
      "display_id": "d901fc56076f72463177b3dcaa9da95f"
     },
     "output_type": "display_data",
     "transient": {
      "display_id": "d901fc56076f72463177b3dcaa9da95f"
     }
    },
    {
     "data": {
      "text/html": [],
      "text/plain": [
       "<IPython.core.display.HTML object>"
      ]
     },
     "metadata": {
      "display_id": "5cd827bd8a4024f638687b87ed31bc8f"
     },
     "output_type": "display_data",
     "transient": {
      "display_id": "5cd827bd8a4024f638687b87ed31bc8f"
     }
    },
    {
     "data": {
      "text/html": [],
      "text/plain": [
       "<IPython.core.display.HTML object>"
      ]
     },
     "metadata": {
      "display_id": "dd2e4907f96fc84d768eba8d727abe41"
     },
     "output_type": "display_data",
     "transient": {
      "display_id": "dd2e4907f96fc84d768eba8d727abe41"
     }
    },
    {
     "data": {
      "text/html": [],
      "text/plain": [
       "<IPython.core.display.HTML object>"
      ]
     },
     "metadata": {
      "display_id": "981e47df095b221553138042e0589857"
     },
     "output_type": "display_data",
     "transient": {
      "display_id": "981e47df095b221553138042e0589857"
     }
    },
    {
     "data": {
      "text/html": [],
      "text/plain": [
       "<IPython.core.display.HTML object>"
      ]
     },
     "metadata": {
      "display_id": "40a97061e5cd1bf3b9cf63bdee927f14"
     },
     "output_type": "display_data",
     "transient": {
      "display_id": "40a97061e5cd1bf3b9cf63bdee927f14"
     }
    },
    {
     "data": {
      "text/html": [],
      "text/plain": [
       "<IPython.core.display.HTML object>"
      ]
     },
     "metadata": {
      "display_id": "0bc0047e563f77b63945c5cbe0d71e13"
     },
     "output_type": "display_data",
     "transient": {
      "display_id": "0bc0047e563f77b63945c5cbe0d71e13"
     }
    },
    {
     "data": {
      "text/html": [],
      "text/plain": [
       "<IPython.core.display.HTML object>"
      ]
     },
     "metadata": {
      "display_id": "b9c794ec3d43d418a197b23dcefdd5c5"
     },
     "output_type": "display_data",
     "transient": {
      "display_id": "b9c794ec3d43d418a197b23dcefdd5c5"
     }
    },
    {
     "data": {
      "text/html": [],
      "text/plain": [
       "<IPython.core.display.HTML object>"
      ]
     },
     "metadata": {
      "display_id": "be5d1a99d966bd01fdb40d9e685b7585"
     },
     "output_type": "display_data",
     "transient": {
      "display_id": "be5d1a99d966bd01fdb40d9e685b7585"
     }
    },
    {
     "data": {
      "text/html": [],
      "text/plain": [
       "<IPython.core.display.HTML object>"
      ]
     },
     "metadata": {
      "display_id": "b83b84eabf62a9f2c58dee733e0ba8d4"
     },
     "output_type": "display_data",
     "transient": {
      "display_id": "b83b84eabf62a9f2c58dee733e0ba8d4"
     }
    },
    {
     "data": {
      "text/html": [],
      "text/plain": [
       "<IPython.core.display.HTML object>"
      ]
     },
     "metadata": {
      "display_id": "158fb66f40186e52b3706ca07b73f0a8"
     },
     "output_type": "display_data",
     "transient": {
      "display_id": "158fb66f40186e52b3706ca07b73f0a8"
     }
    },
    {
     "data": {
      "text/html": [],
      "text/plain": [
       "<IPython.core.display.HTML object>"
      ]
     },
     "metadata": {
      "display_id": "09f37ad5fa8de91ac416648ea9e408a7"
     },
     "output_type": "display_data",
     "transient": {
      "display_id": "09f37ad5fa8de91ac416648ea9e408a7"
     }
    },
    {
     "data": {
      "text/html": [],
      "text/plain": [
       "<IPython.core.display.HTML object>"
      ]
     },
     "metadata": {
      "display_id": "0c93e19a28440472c65ffcdb5ca0a86e"
     },
     "output_type": "display_data",
     "transient": {
      "display_id": "0c93e19a28440472c65ffcdb5ca0a86e"
     }
    },
    {
     "data": {
      "text/html": [],
      "text/plain": [
       "<IPython.core.display.HTML object>"
      ]
     },
     "metadata": {
      "display_id": "7b745d6653df8aa1d3cf299f8570e687"
     },
     "output_type": "display_data",
     "transient": {
      "display_id": "7b745d6653df8aa1d3cf299f8570e687"
     }
    },
    {
     "data": {
      "text/html": [],
      "text/plain": [
       "<IPython.core.display.HTML object>"
      ]
     },
     "metadata": {
      "display_id": "ab7d6c900d1162f908999c6014c79656"
     },
     "output_type": "display_data",
     "transient": {
      "display_id": "ab7d6c900d1162f908999c6014c79656"
     }
    },
    {
     "data": {
      "text/html": [],
      "text/plain": [
       "<IPython.core.display.HTML object>"
      ]
     },
     "metadata": {
      "display_id": "8e9d6caafa91f159575c04a69a056917"
     },
     "output_type": "display_data",
     "transient": {
      "display_id": "8e9d6caafa91f159575c04a69a056917"
     }
    },
    {
     "data": {
      "text/html": [],
      "text/plain": [
       "<IPython.core.display.HTML object>"
      ]
     },
     "metadata": {
      "display_id": "417ea5d27c41b456ef02df6fa3b77429"
     },
     "output_type": "display_data",
     "transient": {
      "display_id": "417ea5d27c41b456ef02df6fa3b77429"
     }
    },
    {
     "data": {
      "text/html": [],
      "text/plain": [
       "<IPython.core.display.HTML object>"
      ]
     },
     "metadata": {
      "display_id": "24093b8fb21aa427594838a69fa0c854"
     },
     "output_type": "display_data",
     "transient": {
      "display_id": "24093b8fb21aa427594838a69fa0c854"
     }
    },
    {
     "data": {
      "text/html": [],
      "text/plain": [
       "<IPython.core.display.HTML object>"
      ]
     },
     "metadata": {
      "display_id": "ac24ed803317a0c59bb864f34713b4ce"
     },
     "output_type": "display_data",
     "transient": {
      "display_id": "ac24ed803317a0c59bb864f34713b4ce"
     }
    },
    {
     "data": {
      "text/html": [],
      "text/plain": [
       "<IPython.core.display.HTML object>"
      ]
     },
     "metadata": {
      "display_id": "40019d87dbe16739deccd9a3cf52f571"
     },
     "output_type": "display_data",
     "transient": {
      "display_id": "40019d87dbe16739deccd9a3cf52f571"
     }
    },
    {
     "data": {
      "text/html": [],
      "text/plain": [
       "<IPython.core.display.HTML object>"
      ]
     },
     "metadata": {
      "display_id": "b425b7d475836649ac3438acbe2ffca6"
     },
     "output_type": "display_data",
     "transient": {
      "display_id": "b425b7d475836649ac3438acbe2ffca6"
     }
    },
    {
     "data": {
      "text/html": [],
      "text/plain": [
       "<IPython.core.display.HTML object>"
      ]
     },
     "metadata": {
      "display_id": "ca933855776440b452d73387c1c4fd7f"
     },
     "output_type": "display_data",
     "transient": {
      "display_id": "ca933855776440b452d73387c1c4fd7f"
     }
    },
    {
     "data": {
      "text/html": [],
      "text/plain": [
       "<IPython.core.display.HTML object>"
      ]
     },
     "metadata": {
      "display_id": "5f417430ffced265023d20c3556ce02b"
     },
     "output_type": "display_data",
     "transient": {
      "display_id": "5f417430ffced265023d20c3556ce02b"
     }
    },
    {
     "data": {
      "text/html": [],
      "text/plain": [
       "<IPython.core.display.HTML object>"
      ]
     },
     "metadata": {
      "display_id": "0e9664470c1f608882a34208ec875fa2"
     },
     "output_type": "display_data",
     "transient": {
      "display_id": "0e9664470c1f608882a34208ec875fa2"
     }
    },
    {
     "data": {
      "text/html": [],
      "text/plain": [
       "<IPython.core.display.HTML object>"
      ]
     },
     "metadata": {
      "display_id": "75ed047154eaab76ac996e7eccf7f848"
     },
     "output_type": "display_data",
     "transient": {
      "display_id": "75ed047154eaab76ac996e7eccf7f848"
     }
    },
    {
     "data": {
      "text/html": [],
      "text/plain": [
       "<IPython.core.display.HTML object>"
      ]
     },
     "metadata": {
      "display_id": "22ab06aa8ea75debe27e827cf7bffe1c"
     },
     "output_type": "display_data",
     "transient": {
      "display_id": "22ab06aa8ea75debe27e827cf7bffe1c"
     }
    },
    {
     "data": {
      "text/html": [],
      "text/plain": [
       "<IPython.core.display.HTML object>"
      ]
     },
     "metadata": {
      "display_id": "a8eef0988f6867386971a3d8c745e888"
     },
     "output_type": "display_data",
     "transient": {
      "display_id": "a8eef0988f6867386971a3d8c745e888"
     }
    },
    {
     "data": {
      "text/html": [],
      "text/plain": [
       "<IPython.core.display.HTML object>"
      ]
     },
     "metadata": {
      "display_id": "5bb32326b5d3e7a2b0e841acbf0ab55c"
     },
     "output_type": "display_data",
     "transient": {
      "display_id": "5bb32326b5d3e7a2b0e841acbf0ab55c"
     }
    },
    {
     "data": {
      "text/html": [],
      "text/plain": [
       "<IPython.core.display.HTML object>"
      ]
     },
     "metadata": {
      "display_id": "2addfb7cd7b884ea6fd536f3190903a3"
     },
     "output_type": "display_data",
     "transient": {
      "display_id": "2addfb7cd7b884ea6fd536f3190903a3"
     }
    },
    {
     "data": {
      "text/html": [],
      "text/plain": [
       "<IPython.core.display.HTML object>"
      ]
     },
     "metadata": {
      "display_id": "b8aa22581012cae583f92c254199528c"
     },
     "output_type": "display_data",
     "transient": {
      "display_id": "b8aa22581012cae583f92c254199528c"
     }
    },
    {
     "data": {
      "text/html": [],
      "text/plain": [
       "<IPython.core.display.HTML object>"
      ]
     },
     "metadata": {
      "display_id": "696a43cf650de560f6628dee99c6d02e"
     },
     "output_type": "display_data",
     "transient": {
      "display_id": "696a43cf650de560f6628dee99c6d02e"
     }
    },
    {
     "data": {
      "text/html": [],
      "text/plain": [
       "<IPython.core.display.HTML object>"
      ]
     },
     "metadata": {
      "display_id": "9abdc382159000a22bc158eecad5f3fb"
     },
     "output_type": "display_data",
     "transient": {
      "display_id": "9abdc382159000a22bc158eecad5f3fb"
     }
    },
    {
     "data": {
      "text/html": [],
      "text/plain": [
       "<IPython.core.display.HTML object>"
      ]
     },
     "metadata": {
      "display_id": "af3864f291738b9c92ee64f82044bdb5"
     },
     "output_type": "display_data",
     "transient": {
      "display_id": "af3864f291738b9c92ee64f82044bdb5"
     }
    },
    {
     "data": {
      "text/html": [],
      "text/plain": [
       "<IPython.core.display.HTML object>"
      ]
     },
     "metadata": {
      "display_id": "a81fec496b3e9c6fe3a6b7c0cf204f74"
     },
     "output_type": "display_data",
     "transient": {
      "display_id": "a81fec496b3e9c6fe3a6b7c0cf204f74"
     }
    },
    {
     "data": {
      "text/html": [],
      "text/plain": [
       "<IPython.core.display.HTML object>"
      ]
     },
     "metadata": {
      "display_id": "9f2f86750ac385d709f6b9e0f2847adf"
     },
     "output_type": "display_data",
     "transient": {
      "display_id": "9f2f86750ac385d709f6b9e0f2847adf"
     }
    },
    {
     "data": {
      "text/html": [],
      "text/plain": [
       "<IPython.core.display.HTML object>"
      ]
     },
     "metadata": {
      "display_id": "1583419de2ae789d67c4ce8cfaaef752"
     },
     "output_type": "display_data",
     "transient": {
      "display_id": "1583419de2ae789d67c4ce8cfaaef752"
     }
    },
    {
     "data": {
      "text/html": [],
      "text/plain": [
       "<IPython.core.display.HTML object>"
      ]
     },
     "metadata": {
      "display_id": "29b1003304e2d8af85b6197c1241464d"
     },
     "output_type": "display_data",
     "transient": {
      "display_id": "29b1003304e2d8af85b6197c1241464d"
     }
    },
    {
     "data": {
      "text/html": [],
      "text/plain": [
       "<IPython.core.display.HTML object>"
      ]
     },
     "metadata": {
      "display_id": "5848b1930bc0728b96bb30a7ea1c4205"
     },
     "output_type": "display_data",
     "transient": {
      "display_id": "5848b1930bc0728b96bb30a7ea1c4205"
     }
    },
    {
     "data": {
      "text/html": [],
      "text/plain": [
       "<IPython.core.display.HTML object>"
      ]
     },
     "metadata": {
      "display_id": "a855ca568d569491c1f38c25d97fc29f"
     },
     "output_type": "display_data",
     "transient": {
      "display_id": "a855ca568d569491c1f38c25d97fc29f"
     }
    },
    {
     "data": {
      "text/html": [],
      "text/plain": [
       "<IPython.core.display.HTML object>"
      ]
     },
     "metadata": {
      "display_id": "37246fd5c8b3663d1661aff04007b718"
     },
     "output_type": "display_data",
     "transient": {
      "display_id": "37246fd5c8b3663d1661aff04007b718"
     }
    },
    {
     "data": {
      "text/html": [],
      "text/plain": [
       "<IPython.core.display.HTML object>"
      ]
     },
     "metadata": {
      "display_id": "33eb0861cf6af610f0eba6f507f2ebe3"
     },
     "output_type": "display_data",
     "transient": {
      "display_id": "33eb0861cf6af610f0eba6f507f2ebe3"
     }
    },
    {
     "data": {
      "text/html": [],
      "text/plain": [
       "<IPython.core.display.HTML object>"
      ]
     },
     "metadata": {
      "display_id": "d0f81cdd3b9de6cfc9d7f89eeac168dc"
     },
     "output_type": "display_data",
     "transient": {
      "display_id": "d0f81cdd3b9de6cfc9d7f89eeac168dc"
     }
    },
    {
     "data": {
      "text/html": [],
      "text/plain": [
       "<IPython.core.display.HTML object>"
      ]
     },
     "metadata": {
      "display_id": "49af804ec4f50ef991134d78e76f5500"
     },
     "output_type": "display_data",
     "transient": {
      "display_id": "49af804ec4f50ef991134d78e76f5500"
     }
    },
    {
     "data": {
      "text/html": [],
      "text/plain": [
       "<IPython.core.display.HTML object>"
      ]
     },
     "metadata": {
      "display_id": "4d74f96cd3d7e45d7044ba9b721be272"
     },
     "output_type": "display_data",
     "transient": {
      "display_id": "4d74f96cd3d7e45d7044ba9b721be272"
     }
    },
    {
     "data": {
      "text/html": [],
      "text/plain": [
       "<IPython.core.display.HTML object>"
      ]
     },
     "metadata": {
      "display_id": "3c46ee2c0cb3549b7991640d131498d7"
     },
     "output_type": "display_data",
     "transient": {
      "display_id": "3c46ee2c0cb3549b7991640d131498d7"
     }
    },
    {
     "data": {
      "text/html": [],
      "text/plain": [
       "<IPython.core.display.HTML object>"
      ]
     },
     "metadata": {
      "display_id": "1ace230c74101c1d17f5b198f9762073"
     },
     "output_type": "display_data",
     "transient": {
      "display_id": "1ace230c74101c1d17f5b198f9762073"
     }
    },
    {
     "data": {
      "text/html": [],
      "text/plain": [
       "<IPython.core.display.HTML object>"
      ]
     },
     "metadata": {
      "display_id": "f75765fac8151540e8d5ed50084fb7d8"
     },
     "output_type": "display_data",
     "transient": {
      "display_id": "f75765fac8151540e8d5ed50084fb7d8"
     }
    },
    {
     "data": {
      "text/html": [],
      "text/plain": [
       "<IPython.core.display.HTML object>"
      ]
     },
     "metadata": {
      "display_id": "914bbd5a000622863c740637083427d4"
     },
     "output_type": "display_data",
     "transient": {
      "display_id": "914bbd5a000622863c740637083427d4"
     }
    },
    {
     "data": {
      "text/html": [],
      "text/plain": [
       "<IPython.core.display.HTML object>"
      ]
     },
     "metadata": {
      "display_id": "0ea144313fcaa0636bf3774225a42d43"
     },
     "output_type": "display_data",
     "transient": {
      "display_id": "0ea144313fcaa0636bf3774225a42d43"
     }
    },
    {
     "data": {
      "text/html": [],
      "text/plain": [
       "<IPython.core.display.HTML object>"
      ]
     },
     "metadata": {
      "display_id": "e709e53689e0fe10f30329f4f3444db4"
     },
     "output_type": "display_data",
     "transient": {
      "display_id": "e709e53689e0fe10f30329f4f3444db4"
     }
    },
    {
     "data": {
      "text/html": [],
      "text/plain": [
       "<IPython.core.display.HTML object>"
      ]
     },
     "metadata": {
      "display_id": "daf43c949f1808f74cb831c7019b25e9"
     },
     "output_type": "display_data",
     "transient": {
      "display_id": "daf43c949f1808f74cb831c7019b25e9"
     }
    },
    {
     "data": {
      "text/html": [],
      "text/plain": [
       "<IPython.core.display.HTML object>"
      ]
     },
     "metadata": {
      "display_id": "b8e18721750d9d1e3300a3989bfa32f9"
     },
     "output_type": "display_data",
     "transient": {
      "display_id": "b8e18721750d9d1e3300a3989bfa32f9"
     }
    },
    {
     "data": {
      "text/html": [],
      "text/plain": [
       "<IPython.core.display.HTML object>"
      ]
     },
     "metadata": {
      "display_id": "97ae334f9f93ea4a83f73e36f1af2f3c"
     },
     "output_type": "display_data",
     "transient": {
      "display_id": "97ae334f9f93ea4a83f73e36f1af2f3c"
     }
    },
    {
     "data": {
      "text/html": [],
      "text/plain": [
       "<IPython.core.display.HTML object>"
      ]
     },
     "metadata": {
      "display_id": "de05dec9f894e60f75c086e2dbf25382"
     },
     "output_type": "display_data",
     "transient": {
      "display_id": "de05dec9f894e60f75c086e2dbf25382"
     }
    },
    {
     "data": {
      "text/html": [],
      "text/plain": [
       "<IPython.core.display.HTML object>"
      ]
     },
     "metadata": {
      "display_id": "2410698c59b95d2305fd42f0ba92bcdf"
     },
     "output_type": "display_data",
     "transient": {
      "display_id": "2410698c59b95d2305fd42f0ba92bcdf"
     }
    },
    {
     "data": {
      "text/html": [],
      "text/plain": [
       "<IPython.core.display.HTML object>"
      ]
     },
     "metadata": {
      "display_id": "95a886c7b7c97c39c19739b0a297ffc3"
     },
     "output_type": "display_data",
     "transient": {
      "display_id": "95a886c7b7c97c39c19739b0a297ffc3"
     }
    },
    {
     "data": {
      "text/html": [],
      "text/plain": [
       "<IPython.core.display.HTML object>"
      ]
     },
     "metadata": {
      "display_id": "aaa353a9ad31e966a8dc6eec53cd73c1"
     },
     "output_type": "display_data",
     "transient": {
      "display_id": "aaa353a9ad31e966a8dc6eec53cd73c1"
     }
    },
    {
     "data": {
      "text/html": [],
      "text/plain": [
       "<IPython.core.display.HTML object>"
      ]
     },
     "metadata": {
      "display_id": "e118b42df8ee1fb3895d7b5cacbc1ec7"
     },
     "output_type": "display_data",
     "transient": {
      "display_id": "e118b42df8ee1fb3895d7b5cacbc1ec7"
     }
    },
    {
     "data": {
      "text/html": [],
      "text/plain": [
       "<IPython.core.display.HTML object>"
      ]
     },
     "metadata": {
      "display_id": "ab9a1f301100dbc94896f5e66196ce9d"
     },
     "output_type": "display_data",
     "transient": {
      "display_id": "ab9a1f301100dbc94896f5e66196ce9d"
     }
    },
    {
     "data": {
      "text/html": [],
      "text/plain": [
       "<IPython.core.display.HTML object>"
      ]
     },
     "metadata": {
      "display_id": "166c769b1b968112b444193d563053af"
     },
     "output_type": "display_data",
     "transient": {
      "display_id": "166c769b1b968112b444193d563053af"
     }
    },
    {
     "data": {
      "text/html": [],
      "text/plain": [
       "<IPython.core.display.HTML object>"
      ]
     },
     "metadata": {
      "display_id": "48d486618b745bff28085457d4e2bbb0"
     },
     "output_type": "display_data",
     "transient": {
      "display_id": "48d486618b745bff28085457d4e2bbb0"
     }
    },
    {
     "data": {
      "text/html": [],
      "text/plain": [
       "<IPython.core.display.HTML object>"
      ]
     },
     "metadata": {
      "display_id": "f618a327845e829edeab68e887e35f69"
     },
     "output_type": "display_data",
     "transient": {
      "display_id": "f618a327845e829edeab68e887e35f69"
     }
    },
    {
     "data": {
      "text/html": [],
      "text/plain": [
       "<IPython.core.display.HTML object>"
      ]
     },
     "metadata": {
      "display_id": "5b91fe4cb9eeab9e8f408489ef45eef9"
     },
     "output_type": "display_data",
     "transient": {
      "display_id": "5b91fe4cb9eeab9e8f408489ef45eef9"
     }
    },
    {
     "data": {
      "text/html": [],
      "text/plain": [
       "<IPython.core.display.HTML object>"
      ]
     },
     "metadata": {
      "display_id": "7c9ab893a0cd9016baaaf161f763645b"
     },
     "output_type": "display_data",
     "transient": {
      "display_id": "7c9ab893a0cd9016baaaf161f763645b"
     }
    },
    {
     "data": {
      "text/html": [],
      "text/plain": [
       "<IPython.core.display.HTML object>"
      ]
     },
     "metadata": {
      "display_id": "01b29884dcc3015c171c936f90aa5b35"
     },
     "output_type": "display_data",
     "transient": {
      "display_id": "01b29884dcc3015c171c936f90aa5b35"
     }
    },
    {
     "data": {
      "text/html": [],
      "text/plain": [
       "<IPython.core.display.HTML object>"
      ]
     },
     "metadata": {
      "display_id": "c910e45ac08326ffacb7156dab022827"
     },
     "output_type": "display_data",
     "transient": {
      "display_id": "c910e45ac08326ffacb7156dab022827"
     }
    },
    {
     "data": {
      "text/html": [],
      "text/plain": [
       "<IPython.core.display.HTML object>"
      ]
     },
     "metadata": {
      "display_id": "3dac178ec034845c8d3a9037e76d6815"
     },
     "output_type": "display_data",
     "transient": {
      "display_id": "3dac178ec034845c8d3a9037e76d6815"
     }
    },
    {
     "data": {
      "text/html": [],
      "text/plain": [
       "<IPython.core.display.HTML object>"
      ]
     },
     "metadata": {
      "display_id": "57a1ba2261ebbd05d5de1bcd74170852"
     },
     "output_type": "display_data",
     "transient": {
      "display_id": "57a1ba2261ebbd05d5de1bcd74170852"
     }
    },
    {
     "data": {
      "text/html": [],
      "text/plain": [
       "<IPython.core.display.HTML object>"
      ]
     },
     "metadata": {
      "display_id": "8f8aca373aefcb1bf9c47187c95338b7"
     },
     "output_type": "display_data",
     "transient": {
      "display_id": "8f8aca373aefcb1bf9c47187c95338b7"
     }
    },
    {
     "data": {
      "text/html": [],
      "text/plain": [
       "<IPython.core.display.HTML object>"
      ]
     },
     "metadata": {
      "display_id": "97bd14a6cc4bfe07c91967dda3771956"
     },
     "output_type": "display_data",
     "transient": {
      "display_id": "97bd14a6cc4bfe07c91967dda3771956"
     }
    },
    {
     "data": {
      "text/html": [],
      "text/plain": [
       "<IPython.core.display.HTML object>"
      ]
     },
     "metadata": {
      "display_id": "55985e8d8f0c41689542e98bbd0584e0"
     },
     "output_type": "display_data",
     "transient": {
      "display_id": "55985e8d8f0c41689542e98bbd0584e0"
     }
    },
    {
     "data": {
      "text/html": [],
      "text/plain": [
       "<IPython.core.display.HTML object>"
      ]
     },
     "metadata": {
      "display_id": "a2c4443b5ab17a578f871f5ab7fbd450"
     },
     "output_type": "display_data",
     "transient": {
      "display_id": "a2c4443b5ab17a578f871f5ab7fbd450"
     }
    },
    {
     "data": {
      "text/html": [],
      "text/plain": [
       "<IPython.core.display.HTML object>"
      ]
     },
     "metadata": {
      "display_id": "8f86a3b582131ca480fc1e163c752c53"
     },
     "output_type": "display_data",
     "transient": {
      "display_id": "8f86a3b582131ca480fc1e163c752c53"
     }
    },
    {
     "data": {
      "text/html": [],
      "text/plain": [
       "<IPython.core.display.HTML object>"
      ]
     },
     "metadata": {
      "display_id": "c59bc726b41439f2d3e10da69c7d06a5"
     },
     "output_type": "display_data",
     "transient": {
      "display_id": "c59bc726b41439f2d3e10da69c7d06a5"
     }
    },
    {
     "data": {
      "text/html": [],
      "text/plain": [
       "<IPython.core.display.HTML object>"
      ]
     },
     "metadata": {
      "display_id": "530477e36eeeda03aa1baa62a1fe3671"
     },
     "output_type": "display_data",
     "transient": {
      "display_id": "530477e36eeeda03aa1baa62a1fe3671"
     }
    },
    {
     "data": {
      "text/html": [],
      "text/plain": [
       "<IPython.core.display.HTML object>"
      ]
     },
     "metadata": {
      "display_id": "d2431d0e8ab9f072e9adc5853b9589d5"
     },
     "output_type": "display_data",
     "transient": {
      "display_id": "d2431d0e8ab9f072e9adc5853b9589d5"
     }
    },
    {
     "data": {
      "text/html": [],
      "text/plain": [
       "<IPython.core.display.HTML object>"
      ]
     },
     "metadata": {
      "display_id": "d77e0dffffc1cac41eed42c184ff0404"
     },
     "output_type": "display_data",
     "transient": {
      "display_id": "d77e0dffffc1cac41eed42c184ff0404"
     }
    },
    {
     "data": {
      "text/html": [],
      "text/plain": [
       "<IPython.core.display.HTML object>"
      ]
     },
     "metadata": {
      "display_id": "ba7be7d925e36e97e1a61adde1c2cabc"
     },
     "output_type": "display_data",
     "transient": {
      "display_id": "ba7be7d925e36e97e1a61adde1c2cabc"
     }
    },
    {
     "data": {
      "text/html": [],
      "text/plain": [
       "<IPython.core.display.HTML object>"
      ]
     },
     "metadata": {
      "display_id": "6c40d6135028c08e144a74fa3774d369"
     },
     "output_type": "display_data",
     "transient": {
      "display_id": "6c40d6135028c08e144a74fa3774d369"
     }
    },
    {
     "data": {
      "text/html": [],
      "text/plain": [
       "<IPython.core.display.HTML object>"
      ]
     },
     "metadata": {
      "display_id": "4dfda590b3834a5591925971a612d23d"
     },
     "output_type": "display_data",
     "transient": {
      "display_id": "4dfda590b3834a5591925971a612d23d"
     }
    },
    {
     "data": {
      "text/html": [],
      "text/plain": [
       "<IPython.core.display.HTML object>"
      ]
     },
     "metadata": {
      "display_id": "6542be6b93ee215e5771e6940cdec505"
     },
     "output_type": "display_data",
     "transient": {
      "display_id": "6542be6b93ee215e5771e6940cdec505"
     }
    },
    {
     "data": {
      "text/html": [],
      "text/plain": [
       "<IPython.core.display.HTML object>"
      ]
     },
     "metadata": {
      "display_id": "055dbdf915d41aba2b4413f920dac2bd"
     },
     "output_type": "display_data",
     "transient": {
      "display_id": "055dbdf915d41aba2b4413f920dac2bd"
     }
    },
    {
     "data": {
      "text/html": [],
      "text/plain": [
       "<IPython.core.display.HTML object>"
      ]
     },
     "metadata": {
      "display_id": "de171a99e72ae0f35fb9834a69d8af76"
     },
     "output_type": "display_data",
     "transient": {
      "display_id": "de171a99e72ae0f35fb9834a69d8af76"
     }
    },
    {
     "data": {
      "text/html": [],
      "text/plain": [
       "<IPython.core.display.HTML object>"
      ]
     },
     "metadata": {
      "display_id": "def39a5d86bd72ad5756bffdb6b05659"
     },
     "output_type": "display_data",
     "transient": {
      "display_id": "def39a5d86bd72ad5756bffdb6b05659"
     }
    },
    {
     "data": {
      "text/html": [],
      "text/plain": [
       "<IPython.core.display.HTML object>"
      ]
     },
     "metadata": {
      "display_id": "200038316fd4a68155393f59d903514d"
     },
     "output_type": "display_data",
     "transient": {
      "display_id": "200038316fd4a68155393f59d903514d"
     }
    },
    {
     "data": {
      "text/html": [],
      "text/plain": [
       "<IPython.core.display.HTML object>"
      ]
     },
     "metadata": {
      "display_id": "9a01c1ad5d0e6af1c9663758e146404e"
     },
     "output_type": "display_data",
     "transient": {
      "display_id": "9a01c1ad5d0e6af1c9663758e146404e"
     }
    },
    {
     "data": {
      "text/html": [],
      "text/plain": [
       "<IPython.core.display.HTML object>"
      ]
     },
     "metadata": {
      "display_id": "69d21cfc84d94bed0d6e6426ce62c3c1"
     },
     "output_type": "display_data",
     "transient": {
      "display_id": "69d21cfc84d94bed0d6e6426ce62c3c1"
     }
    },
    {
     "data": {
      "text/html": [],
      "text/plain": [
       "<IPython.core.display.HTML object>"
      ]
     },
     "metadata": {
      "display_id": "789d1b5881412b447021f4079576f0d1"
     },
     "output_type": "display_data",
     "transient": {
      "display_id": "789d1b5881412b447021f4079576f0d1"
     }
    },
    {
     "data": {
      "text/html": [],
      "text/plain": [
       "<IPython.core.display.HTML object>"
      ]
     },
     "metadata": {
      "display_id": "ccee9cff79c649ebd0f70cfbc0bcff15"
     },
     "output_type": "display_data",
     "transient": {
      "display_id": "ccee9cff79c649ebd0f70cfbc0bcff15"
     }
    },
    {
     "data": {
      "text/html": [],
      "text/plain": [
       "<IPython.core.display.HTML object>"
      ]
     },
     "metadata": {
      "display_id": "0cc2c6ce60c4599c9c07bce3cd34c717"
     },
     "output_type": "display_data",
     "transient": {
      "display_id": "0cc2c6ce60c4599c9c07bce3cd34c717"
     }
    },
    {
     "data": {
      "text/html": [],
      "text/plain": [
       "<IPython.core.display.HTML object>"
      ]
     },
     "metadata": {
      "display_id": "036037d29a8fd606e0773454e488bfd8"
     },
     "output_type": "display_data",
     "transient": {
      "display_id": "036037d29a8fd606e0773454e488bfd8"
     }
    },
    {
     "data": {
      "text/html": [],
      "text/plain": [
       "<IPython.core.display.HTML object>"
      ]
     },
     "metadata": {
      "display_id": "81fc0b4570eca38f82f8df66f6267792"
     },
     "output_type": "display_data",
     "transient": {
      "display_id": "81fc0b4570eca38f82f8df66f6267792"
     }
    },
    {
     "data": {
      "text/html": [],
      "text/plain": [
       "<IPython.core.display.HTML object>"
      ]
     },
     "metadata": {
      "display_id": "bc28177f19f0f5ec8485ad41044b165b"
     },
     "output_type": "display_data",
     "transient": {
      "display_id": "bc28177f19f0f5ec8485ad41044b165b"
     }
    },
    {
     "data": {
      "text/html": [],
      "text/plain": [
       "<IPython.core.display.HTML object>"
      ]
     },
     "metadata": {
      "display_id": "417cd8415dcef3cbaee7911804ed2784"
     },
     "output_type": "display_data",
     "transient": {
      "display_id": "417cd8415dcef3cbaee7911804ed2784"
     }
    },
    {
     "data": {
      "text/html": [],
      "text/plain": [
       "<IPython.core.display.HTML object>"
      ]
     },
     "metadata": {
      "display_id": "5932fe87bdf6485e3a61f6a2f66706e3"
     },
     "output_type": "display_data",
     "transient": {
      "display_id": "5932fe87bdf6485e3a61f6a2f66706e3"
     }
    },
    {
     "data": {
      "text/html": [],
      "text/plain": [
       "<IPython.core.display.HTML object>"
      ]
     },
     "metadata": {
      "display_id": "cbfca829ad2eec22167f8a1e36636e21"
     },
     "output_type": "display_data",
     "transient": {
      "display_id": "cbfca829ad2eec22167f8a1e36636e21"
     }
    },
    {
     "data": {
      "text/html": [],
      "text/plain": [
       "<IPython.core.display.HTML object>"
      ]
     },
     "metadata": {
      "display_id": "a7d9989ee3916ec80ac3af906896ad77"
     },
     "output_type": "display_data",
     "transient": {
      "display_id": "a7d9989ee3916ec80ac3af906896ad77"
     }
    },
    {
     "data": {
      "text/html": [],
      "text/plain": [
       "<IPython.core.display.HTML object>"
      ]
     },
     "metadata": {
      "display_id": "40f00f88b508116672e3ad27d3104646"
     },
     "output_type": "display_data",
     "transient": {
      "display_id": "40f00f88b508116672e3ad27d3104646"
     }
    },
    {
     "data": {
      "text/html": [],
      "text/plain": [
       "<IPython.core.display.HTML object>"
      ]
     },
     "metadata": {
      "display_id": "eb233e3311b207608b22233d67d6ff96"
     },
     "output_type": "display_data",
     "transient": {
      "display_id": "eb233e3311b207608b22233d67d6ff96"
     }
    },
    {
     "data": {
      "text/html": [],
      "text/plain": [
       "<IPython.core.display.HTML object>"
      ]
     },
     "metadata": {
      "display_id": "c229ce17d6b0cdef8e7086eaa4096f7b"
     },
     "output_type": "display_data",
     "transient": {
      "display_id": "c229ce17d6b0cdef8e7086eaa4096f7b"
     }
    },
    {
     "data": {
      "text/html": [],
      "text/plain": [
       "<IPython.core.display.HTML object>"
      ]
     },
     "metadata": {
      "display_id": "d32e91dded6ec6c4f51f7d0b026574e8"
     },
     "output_type": "display_data",
     "transient": {
      "display_id": "d32e91dded6ec6c4f51f7d0b026574e8"
     }
    },
    {
     "data": {
      "text/html": [],
      "text/plain": [
       "<IPython.core.display.HTML object>"
      ]
     },
     "metadata": {
      "display_id": "703e63cd4f9dfa78c2121b052d6101fb"
     },
     "output_type": "display_data",
     "transient": {
      "display_id": "703e63cd4f9dfa78c2121b052d6101fb"
     }
    },
    {
     "data": {
      "text/html": [],
      "text/plain": [
       "<IPython.core.display.HTML object>"
      ]
     },
     "metadata": {
      "display_id": "40ed882ab4ad7a8fece021e2db57667a"
     },
     "output_type": "display_data",
     "transient": {
      "display_id": "40ed882ab4ad7a8fece021e2db57667a"
     }
    },
    {
     "data": {
      "text/html": [],
      "text/plain": [
       "<IPython.core.display.HTML object>"
      ]
     },
     "metadata": {
      "display_id": "0fa6d36d0a08a394bc3a8a8969833d69"
     },
     "output_type": "display_data",
     "transient": {
      "display_id": "0fa6d36d0a08a394bc3a8a8969833d69"
     }
    },
    {
     "data": {
      "text/html": [],
      "text/plain": [
       "<IPython.core.display.HTML object>"
      ]
     },
     "metadata": {
      "display_id": "6803be439e56a2435ec1446cf22a5b4d"
     },
     "output_type": "display_data",
     "transient": {
      "display_id": "6803be439e56a2435ec1446cf22a5b4d"
     }
    },
    {
     "data": {
      "text/html": [],
      "text/plain": [
       "<IPython.core.display.HTML object>"
      ]
     },
     "metadata": {
      "display_id": "a31a7f92f390b0644c86cff7bdabcaa3"
     },
     "output_type": "display_data",
     "transient": {
      "display_id": "a31a7f92f390b0644c86cff7bdabcaa3"
     }
    },
    {
     "data": {
      "text/html": [],
      "text/plain": [
       "<IPython.core.display.HTML object>"
      ]
     },
     "metadata": {
      "display_id": "27e6e2c35ee89fc0a7ea0e43577a90d9"
     },
     "output_type": "display_data",
     "transient": {
      "display_id": "27e6e2c35ee89fc0a7ea0e43577a90d9"
     }
    },
    {
     "data": {
      "text/html": [],
      "text/plain": [
       "<IPython.core.display.HTML object>"
      ]
     },
     "metadata": {
      "display_id": "1b4cf49ab760b47e13c530be6706ece6"
     },
     "output_type": "display_data",
     "transient": {
      "display_id": "1b4cf49ab760b47e13c530be6706ece6"
     }
    },
    {
     "data": {
      "text/html": [],
      "text/plain": [
       "<IPython.core.display.HTML object>"
      ]
     },
     "metadata": {
      "display_id": "5b8b9adc4b08269617fcd2fc6c879128"
     },
     "output_type": "display_data",
     "transient": {
      "display_id": "5b8b9adc4b08269617fcd2fc6c879128"
     }
    },
    {
     "data": {
      "text/html": [],
      "text/plain": [
       "<IPython.core.display.HTML object>"
      ]
     },
     "metadata": {
      "display_id": "401ab2783e2a33d5a7823e747ccccfa3"
     },
     "output_type": "display_data",
     "transient": {
      "display_id": "401ab2783e2a33d5a7823e747ccccfa3"
     }
    },
    {
     "data": {
      "text/html": [],
      "text/plain": [
       "<IPython.core.display.HTML object>"
      ]
     },
     "metadata": {
      "display_id": "993fbe35aefd8d39ab9e77f4a23582d1"
     },
     "output_type": "display_data",
     "transient": {
      "display_id": "993fbe35aefd8d39ab9e77f4a23582d1"
     }
    },
    {
     "data": {
      "text/html": [],
      "text/plain": [
       "<IPython.core.display.HTML object>"
      ]
     },
     "metadata": {
      "display_id": "cb6f369f1526ded3cf08edc55f50cb4b"
     },
     "output_type": "display_data",
     "transient": {
      "display_id": "cb6f369f1526ded3cf08edc55f50cb4b"
     }
    },
    {
     "data": {
      "text/html": [],
      "text/plain": [
       "<IPython.core.display.HTML object>"
      ]
     },
     "metadata": {
      "display_id": "dd6ea48d3872b969e5a76de5f55938b0"
     },
     "output_type": "display_data",
     "transient": {
      "display_id": "dd6ea48d3872b969e5a76de5f55938b0"
     }
    },
    {
     "data": {
      "text/html": [],
      "text/plain": [
       "<IPython.core.display.HTML object>"
      ]
     },
     "metadata": {
      "display_id": "0df882b171947c5b2fac3efcfe2d9356"
     },
     "output_type": "display_data",
     "transient": {
      "display_id": "0df882b171947c5b2fac3efcfe2d9356"
     }
    },
    {
     "data": {
      "text/html": [],
      "text/plain": [
       "<IPython.core.display.HTML object>"
      ]
     },
     "metadata": {
      "display_id": "2081f3c27f6d1433e62dccaa29d2a451"
     },
     "output_type": "display_data",
     "transient": {
      "display_id": "2081f3c27f6d1433e62dccaa29d2a451"
     }
    },
    {
     "data": {
      "text/html": [],
      "text/plain": [
       "<IPython.core.display.HTML object>"
      ]
     },
     "metadata": {
      "display_id": "20f243b40f32f787e71e841ac5cd1e89"
     },
     "output_type": "display_data",
     "transient": {
      "display_id": "20f243b40f32f787e71e841ac5cd1e89"
     }
    },
    {
     "data": {
      "text/html": [],
      "text/plain": [
       "<IPython.core.display.HTML object>"
      ]
     },
     "metadata": {
      "display_id": "f8b1553d71729054f84dad494c18df20"
     },
     "output_type": "display_data",
     "transient": {
      "display_id": "f8b1553d71729054f84dad494c18df20"
     }
    },
    {
     "data": {
      "text/html": [],
      "text/plain": [
       "<IPython.core.display.HTML object>"
      ]
     },
     "metadata": {
      "display_id": "59e2d014ee1cf36180e493aabbdac4f9"
     },
     "output_type": "display_data",
     "transient": {
      "display_id": "59e2d014ee1cf36180e493aabbdac4f9"
     }
    },
    {
     "data": {
      "text/html": [],
      "text/plain": [
       "<IPython.core.display.HTML object>"
      ]
     },
     "metadata": {
      "display_id": "efe50e8d6d6881853ff9245442153211"
     },
     "output_type": "display_data",
     "transient": {
      "display_id": "efe50e8d6d6881853ff9245442153211"
     }
    },
    {
     "data": {
      "text/html": [],
      "text/plain": [
       "<IPython.core.display.HTML object>"
      ]
     },
     "metadata": {
      "display_id": "a815c2306fb2a6b7e52e161a838e88b2"
     },
     "output_type": "display_data",
     "transient": {
      "display_id": "a815c2306fb2a6b7e52e161a838e88b2"
     }
    },
    {
     "data": {
      "text/html": [],
      "text/plain": [
       "<IPython.core.display.HTML object>"
      ]
     },
     "metadata": {
      "display_id": "51de16d3e58afb062e2f607c58a49d27"
     },
     "output_type": "display_data",
     "transient": {
      "display_id": "51de16d3e58afb062e2f607c58a49d27"
     }
    },
    {
     "data": {
      "text/html": [],
      "text/plain": [
       "<IPython.core.display.HTML object>"
      ]
     },
     "metadata": {
      "display_id": "818924f39438344e97af104ab33f4823"
     },
     "output_type": "display_data",
     "transient": {
      "display_id": "818924f39438344e97af104ab33f4823"
     }
    },
    {
     "data": {
      "text/html": [],
      "text/plain": [
       "<IPython.core.display.HTML object>"
      ]
     },
     "metadata": {
      "display_id": "1b85d29219829a55a3855b0b4d194e06"
     },
     "output_type": "display_data",
     "transient": {
      "display_id": "1b85d29219829a55a3855b0b4d194e06"
     }
    },
    {
     "data": {
      "text/html": [],
      "text/plain": [
       "<IPython.core.display.HTML object>"
      ]
     },
     "metadata": {
      "display_id": "14cb5f58f808f16b0d7f2de39e8abe8b"
     },
     "output_type": "display_data",
     "transient": {
      "display_id": "14cb5f58f808f16b0d7f2de39e8abe8b"
     }
    },
    {
     "data": {
      "text/html": [],
      "text/plain": [
       "<IPython.core.display.HTML object>"
      ]
     },
     "metadata": {
      "display_id": "4e77405bad611717d9ba7f1228787fab"
     },
     "output_type": "display_data",
     "transient": {
      "display_id": "4e77405bad611717d9ba7f1228787fab"
     }
    },
    {
     "data": {
      "text/html": [],
      "text/plain": [
       "<IPython.core.display.HTML object>"
      ]
     },
     "metadata": {
      "display_id": "a5bb3d8892b9d618732a6abad036416e"
     },
     "output_type": "display_data",
     "transient": {
      "display_id": "a5bb3d8892b9d618732a6abad036416e"
     }
    },
    {
     "data": {
      "text/html": [],
      "text/plain": [
       "<IPython.core.display.HTML object>"
      ]
     },
     "metadata": {
      "display_id": "c1513a6d1abf627e5fac580823640637"
     },
     "output_type": "display_data",
     "transient": {
      "display_id": "c1513a6d1abf627e5fac580823640637"
     }
    },
    {
     "data": {
      "text/html": [],
      "text/plain": [
       "<IPython.core.display.HTML object>"
      ]
     },
     "metadata": {
      "display_id": "bee92b6d32276f5f2205ce66a2e7f483"
     },
     "output_type": "display_data",
     "transient": {
      "display_id": "bee92b6d32276f5f2205ce66a2e7f483"
     }
    },
    {
     "data": {
      "text/html": [],
      "text/plain": [
       "<IPython.core.display.HTML object>"
      ]
     },
     "metadata": {
      "display_id": "8447149cbc1188445d5e7cb03f92855d"
     },
     "output_type": "display_data",
     "transient": {
      "display_id": "8447149cbc1188445d5e7cb03f92855d"
     }
    },
    {
     "data": {
      "text/html": [],
      "text/plain": [
       "<IPython.core.display.HTML object>"
      ]
     },
     "metadata": {
      "display_id": "abf2eb56568c5482584b4d4e77aba1ba"
     },
     "output_type": "display_data",
     "transient": {
      "display_id": "abf2eb56568c5482584b4d4e77aba1ba"
     }
    },
    {
     "data": {
      "text/html": [],
      "text/plain": [
       "<IPython.core.display.HTML object>"
      ]
     },
     "metadata": {
      "display_id": "02cec8aa99ca6b40fd076ad3044eb7a6"
     },
     "output_type": "display_data",
     "transient": {
      "display_id": "02cec8aa99ca6b40fd076ad3044eb7a6"
     }
    },
    {
     "data": {
      "text/html": [],
      "text/plain": [
       "<IPython.core.display.HTML object>"
      ]
     },
     "metadata": {
      "display_id": "5b3604c5c3db52044db2fe4c9d3e33e3"
     },
     "output_type": "display_data",
     "transient": {
      "display_id": "5b3604c5c3db52044db2fe4c9d3e33e3"
     }
    },
    {
     "data": {
      "text/html": [],
      "text/plain": [
       "<IPython.core.display.HTML object>"
      ]
     },
     "metadata": {
      "display_id": "820986bb92f8abf2d72a27a406dfaa28"
     },
     "output_type": "display_data",
     "transient": {
      "display_id": "820986bb92f8abf2d72a27a406dfaa28"
     }
    },
    {
     "data": {
      "text/html": [],
      "text/plain": [
       "<IPython.core.display.HTML object>"
      ]
     },
     "metadata": {
      "display_id": "f36437b04e3a9034aca19e2e2b673858"
     },
     "output_type": "display_data",
     "transient": {
      "display_id": "f36437b04e3a9034aca19e2e2b673858"
     }
    },
    {
     "data": {
      "text/html": [],
      "text/plain": [
       "<IPython.core.display.HTML object>"
      ]
     },
     "metadata": {
      "display_id": "55854aeb28bb62fe470cca7caae5b25c"
     },
     "output_type": "display_data",
     "transient": {
      "display_id": "55854aeb28bb62fe470cca7caae5b25c"
     }
    },
    {
     "data": {
      "text/html": [],
      "text/plain": [
       "<IPython.core.display.HTML object>"
      ]
     },
     "metadata": {
      "display_id": "daeeb708d6b550a88b12defc62818548"
     },
     "output_type": "display_data",
     "transient": {
      "display_id": "daeeb708d6b550a88b12defc62818548"
     }
    },
    {
     "data": {
      "text/html": [],
      "text/plain": [
       "<IPython.core.display.HTML object>"
      ]
     },
     "metadata": {
      "display_id": "797e4bfff66579dba7bc0dbd060f4ba1"
     },
     "output_type": "display_data",
     "transient": {
      "display_id": "797e4bfff66579dba7bc0dbd060f4ba1"
     }
    },
    {
     "data": {
      "text/html": [],
      "text/plain": [
       "<IPython.core.display.HTML object>"
      ]
     },
     "metadata": {
      "display_id": "7e16a26717d3b5078bf39b3095369f7d"
     },
     "output_type": "display_data",
     "transient": {
      "display_id": "7e16a26717d3b5078bf39b3095369f7d"
     }
    },
    {
     "data": {
      "text/html": [],
      "text/plain": [
       "<IPython.core.display.HTML object>"
      ]
     },
     "metadata": {
      "display_id": "dca3ea291e67a7fc2bd86492d868d75b"
     },
     "output_type": "display_data",
     "transient": {
      "display_id": "dca3ea291e67a7fc2bd86492d868d75b"
     }
    },
    {
     "data": {
      "text/html": [],
      "text/plain": [
       "<IPython.core.display.HTML object>"
      ]
     },
     "metadata": {
      "display_id": "e260e031eae97245de5c5bd6bcf7e7f9"
     },
     "output_type": "display_data",
     "transient": {
      "display_id": "e260e031eae97245de5c5bd6bcf7e7f9"
     }
    },
    {
     "data": {
      "text/html": [],
      "text/plain": [
       "<IPython.core.display.HTML object>"
      ]
     },
     "metadata": {
      "display_id": "d30dd4ed834d41cad6049b3f09957b9f"
     },
     "output_type": "display_data",
     "transient": {
      "display_id": "d30dd4ed834d41cad6049b3f09957b9f"
     }
    },
    {
     "data": {
      "text/html": [],
      "text/plain": [
       "<IPython.core.display.HTML object>"
      ]
     },
     "metadata": {
      "display_id": "0b7bf17f6fad80bd797d56152dfbe3b7"
     },
     "output_type": "display_data",
     "transient": {
      "display_id": "0b7bf17f6fad80bd797d56152dfbe3b7"
     }
    },
    {
     "data": {
      "text/html": [],
      "text/plain": [
       "<IPython.core.display.HTML object>"
      ]
     },
     "metadata": {
      "display_id": "794ba972e7398849536916f2e2326464"
     },
     "output_type": "display_data",
     "transient": {
      "display_id": "794ba972e7398849536916f2e2326464"
     }
    },
    {
     "data": {
      "text/html": [],
      "text/plain": [
       "<IPython.core.display.HTML object>"
      ]
     },
     "metadata": {
      "display_id": "de021f205ca208d9a54f993fb70f96df"
     },
     "output_type": "display_data",
     "transient": {
      "display_id": "de021f205ca208d9a54f993fb70f96df"
     }
    },
    {
     "data": {
      "text/html": [],
      "text/plain": [
       "<IPython.core.display.HTML object>"
      ]
     },
     "metadata": {
      "display_id": "314ffc5ec0a835c6eaef170679544f5e"
     },
     "output_type": "display_data",
     "transient": {
      "display_id": "314ffc5ec0a835c6eaef170679544f5e"
     }
    },
    {
     "data": {
      "text/html": [],
      "text/plain": [
       "<IPython.core.display.HTML object>"
      ]
     },
     "metadata": {
      "display_id": "cc4ca2203686466ae2776e36f3ea804b"
     },
     "output_type": "display_data",
     "transient": {
      "display_id": "cc4ca2203686466ae2776e36f3ea804b"
     }
    },
    {
     "data": {
      "text/html": [],
      "text/plain": [
       "<IPython.core.display.HTML object>"
      ]
     },
     "metadata": {
      "display_id": "9055c9958156ec6796395e8f013dad4d"
     },
     "output_type": "display_data",
     "transient": {
      "display_id": "9055c9958156ec6796395e8f013dad4d"
     }
    },
    {
     "data": {
      "text/html": [],
      "text/plain": [
       "<IPython.core.display.HTML object>"
      ]
     },
     "metadata": {
      "display_id": "3eb47039b6e80f4a83fdb5cc27b3605d"
     },
     "output_type": "display_data",
     "transient": {
      "display_id": "3eb47039b6e80f4a83fdb5cc27b3605d"
     }
    },
    {
     "data": {
      "text/html": [],
      "text/plain": [
       "<IPython.core.display.HTML object>"
      ]
     },
     "metadata": {
      "display_id": "bdb17feba10a019ab038ee5249c49bcb"
     },
     "output_type": "display_data",
     "transient": {
      "display_id": "bdb17feba10a019ab038ee5249c49bcb"
     }
    },
    {
     "data": {
      "text/html": [],
      "text/plain": [
       "<IPython.core.display.HTML object>"
      ]
     },
     "metadata": {
      "display_id": "d23b0ddaded06f6f0d236e5058f7cad3"
     },
     "output_type": "display_data",
     "transient": {
      "display_id": "d23b0ddaded06f6f0d236e5058f7cad3"
     }
    },
    {
     "data": {
      "text/html": [],
      "text/plain": [
       "<IPython.core.display.HTML object>"
      ]
     },
     "metadata": {
      "display_id": "8fe1d61d830692a37ef61e552d98a311"
     },
     "output_type": "display_data",
     "transient": {
      "display_id": "8fe1d61d830692a37ef61e552d98a311"
     }
    },
    {
     "data": {
      "text/html": [],
      "text/plain": [
       "<IPython.core.display.HTML object>"
      ]
     },
     "metadata": {
      "display_id": "26f1f9fdeabc79d0877a1f8ad9b9549d"
     },
     "output_type": "display_data",
     "transient": {
      "display_id": "26f1f9fdeabc79d0877a1f8ad9b9549d"
     }
    },
    {
     "data": {
      "text/html": [],
      "text/plain": [
       "<IPython.core.display.HTML object>"
      ]
     },
     "metadata": {
      "display_id": "84cab909ce5d26694567b59cef55e105"
     },
     "output_type": "display_data",
     "transient": {
      "display_id": "84cab909ce5d26694567b59cef55e105"
     }
    },
    {
     "data": {
      "text/html": [],
      "text/plain": [
       "<IPython.core.display.HTML object>"
      ]
     },
     "metadata": {
      "display_id": "c4a933f3bf63479a5717548e489dd6d1"
     },
     "output_type": "display_data",
     "transient": {
      "display_id": "c4a933f3bf63479a5717548e489dd6d1"
     }
    },
    {
     "data": {
      "text/html": [],
      "text/plain": [
       "<IPython.core.display.HTML object>"
      ]
     },
     "metadata": {
      "display_id": "4d6d956794ad3f4af3aa1dd9800e5aad"
     },
     "output_type": "display_data",
     "transient": {
      "display_id": "4d6d956794ad3f4af3aa1dd9800e5aad"
     }
    },
    {
     "data": {
      "text/html": [],
      "text/plain": [
       "<IPython.core.display.HTML object>"
      ]
     },
     "metadata": {
      "display_id": "f24b2d3c4c1ee4ca791e2509acbe75b9"
     },
     "output_type": "display_data",
     "transient": {
      "display_id": "f24b2d3c4c1ee4ca791e2509acbe75b9"
     }
    },
    {
     "data": {
      "text/html": [],
      "text/plain": [
       "<IPython.core.display.HTML object>"
      ]
     },
     "metadata": {
      "display_id": "1c7505290f7169a75fcd499151d54b75"
     },
     "output_type": "display_data",
     "transient": {
      "display_id": "1c7505290f7169a75fcd499151d54b75"
     }
    },
    {
     "data": {
      "text/html": [],
      "text/plain": [
       "<IPython.core.display.HTML object>"
      ]
     },
     "metadata": {
      "display_id": "fb7452c2d083509558742e060c689873"
     },
     "output_type": "display_data",
     "transient": {
      "display_id": "fb7452c2d083509558742e060c689873"
     }
    },
    {
     "data": {
      "text/html": [],
      "text/plain": [
       "<IPython.core.display.HTML object>"
      ]
     },
     "metadata": {
      "display_id": "86a5861491c2435a14fb45c27a2077b2"
     },
     "output_type": "display_data",
     "transient": {
      "display_id": "86a5861491c2435a14fb45c27a2077b2"
     }
    },
    {
     "data": {
      "text/html": [],
      "text/plain": [
       "<IPython.core.display.HTML object>"
      ]
     },
     "metadata": {
      "display_id": "161aac2b6b9a0afe61093e3b6beb0376"
     },
     "output_type": "display_data",
     "transient": {
      "display_id": "161aac2b6b9a0afe61093e3b6beb0376"
     }
    },
    {
     "data": {
      "text/html": [],
      "text/plain": [
       "<IPython.core.display.HTML object>"
      ]
     },
     "metadata": {
      "display_id": "2772848c9a33fc0de5c7246e0496d836"
     },
     "output_type": "display_data",
     "transient": {
      "display_id": "2772848c9a33fc0de5c7246e0496d836"
     }
    },
    {
     "data": {
      "text/html": [],
      "text/plain": [
       "<IPython.core.display.HTML object>"
      ]
     },
     "metadata": {
      "display_id": "f353ca18330c110d608ca1fb58f6c24e"
     },
     "output_type": "display_data",
     "transient": {
      "display_id": "f353ca18330c110d608ca1fb58f6c24e"
     }
    },
    {
     "data": {
      "text/html": [],
      "text/plain": [
       "<IPython.core.display.HTML object>"
      ]
     },
     "metadata": {
      "display_id": "cf519160783232af5b58e69138df5e0f"
     },
     "output_type": "display_data",
     "transient": {
      "display_id": "cf519160783232af5b58e69138df5e0f"
     }
    },
    {
     "data": {
      "text/html": [],
      "text/plain": [
       "<IPython.core.display.HTML object>"
      ]
     },
     "metadata": {
      "display_id": "e8c69526992cabe668470a57eeb658af"
     },
     "output_type": "display_data",
     "transient": {
      "display_id": "e8c69526992cabe668470a57eeb658af"
     }
    },
    {
     "data": {
      "text/html": [],
      "text/plain": [
       "<IPython.core.display.HTML object>"
      ]
     },
     "metadata": {
      "display_id": "4f8fc42a8bd048c6c69d99e245463cc7"
     },
     "output_type": "display_data",
     "transient": {
      "display_id": "4f8fc42a8bd048c6c69d99e245463cc7"
     }
    },
    {
     "data": {
      "text/html": [],
      "text/plain": [
       "<IPython.core.display.HTML object>"
      ]
     },
     "metadata": {
      "display_id": "4ac17aa0932f0b88bfda115ee732c3dc"
     },
     "output_type": "display_data",
     "transient": {
      "display_id": "4ac17aa0932f0b88bfda115ee732c3dc"
     }
    },
    {
     "data": {
      "text/html": [],
      "text/plain": [
       "<IPython.core.display.HTML object>"
      ]
     },
     "metadata": {
      "display_id": "6f996dc553286b7dd1bbf3934cde8de3"
     },
     "output_type": "display_data",
     "transient": {
      "display_id": "6f996dc553286b7dd1bbf3934cde8de3"
     }
    },
    {
     "data": {
      "text/html": [],
      "text/plain": [
       "<IPython.core.display.HTML object>"
      ]
     },
     "metadata": {
      "display_id": "fa36ef809a6b19d06d5d9f1eac325c26"
     },
     "output_type": "display_data",
     "transient": {
      "display_id": "fa36ef809a6b19d06d5d9f1eac325c26"
     }
    },
    {
     "data": {
      "text/html": [],
      "text/plain": [
       "<IPython.core.display.HTML object>"
      ]
     },
     "metadata": {
      "display_id": "6a47b05067487b67d62e9ca7b4015dec"
     },
     "output_type": "display_data",
     "transient": {
      "display_id": "6a47b05067487b67d62e9ca7b4015dec"
     }
    },
    {
     "data": {
      "text/html": [],
      "text/plain": [
       "<IPython.core.display.HTML object>"
      ]
     },
     "metadata": {
      "display_id": "84abe257bffec2efb1b8ec1231b81862"
     },
     "output_type": "display_data",
     "transient": {
      "display_id": "84abe257bffec2efb1b8ec1231b81862"
     }
    },
    {
     "data": {
      "text/html": [],
      "text/plain": [
       "<IPython.core.display.HTML object>"
      ]
     },
     "metadata": {
      "display_id": "1945f3c6b100f90f86667c87c1d0b4b8"
     },
     "output_type": "display_data",
     "transient": {
      "display_id": "1945f3c6b100f90f86667c87c1d0b4b8"
     }
    },
    {
     "data": {
      "text/html": [],
      "text/plain": [
       "<IPython.core.display.HTML object>"
      ]
     },
     "metadata": {
      "display_id": "0a7ba00a379a1aa34450394a8b5431b8"
     },
     "output_type": "display_data",
     "transient": {
      "display_id": "0a7ba00a379a1aa34450394a8b5431b8"
     }
    },
    {
     "data": {
      "text/html": [],
      "text/plain": [
       "<IPython.core.display.HTML object>"
      ]
     },
     "metadata": {
      "display_id": "ef559e8bb9d0904753eff8ba14d8eaf0"
     },
     "output_type": "display_data",
     "transient": {
      "display_id": "ef559e8bb9d0904753eff8ba14d8eaf0"
     }
    },
    {
     "data": {
      "text/html": [],
      "text/plain": [
       "<IPython.core.display.HTML object>"
      ]
     },
     "metadata": {
      "display_id": "8519f17f15ddf9e6be1c1eb6da8d6c2f"
     },
     "output_type": "display_data",
     "transient": {
      "display_id": "8519f17f15ddf9e6be1c1eb6da8d6c2f"
     }
    },
    {
     "data": {
      "text/html": [],
      "text/plain": [
       "<IPython.core.display.HTML object>"
      ]
     },
     "metadata": {
      "display_id": "381b67dd619ef7df29e654f6a81f21f3"
     },
     "output_type": "display_data",
     "transient": {
      "display_id": "381b67dd619ef7df29e654f6a81f21f3"
     }
    },
    {
     "data": {
      "text/html": [],
      "text/plain": [
       "<IPython.core.display.HTML object>"
      ]
     },
     "metadata": {
      "display_id": "5e20d9c5bafa5b383413d7f78c6afaaa"
     },
     "output_type": "display_data",
     "transient": {
      "display_id": "5e20d9c5bafa5b383413d7f78c6afaaa"
     }
    },
    {
     "data": {
      "text/html": [],
      "text/plain": [
       "<IPython.core.display.HTML object>"
      ]
     },
     "metadata": {
      "display_id": "fff91960dda874d2b19a7a6d10687510"
     },
     "output_type": "display_data",
     "transient": {
      "display_id": "fff91960dda874d2b19a7a6d10687510"
     }
    },
    {
     "data": {
      "text/html": [],
      "text/plain": [
       "<IPython.core.display.HTML object>"
      ]
     },
     "metadata": {
      "display_id": "822a902a9833f2f17a155600efec0f09"
     },
     "output_type": "display_data",
     "transient": {
      "display_id": "822a902a9833f2f17a155600efec0f09"
     }
    },
    {
     "data": {
      "text/html": [],
      "text/plain": [
       "<IPython.core.display.HTML object>"
      ]
     },
     "metadata": {
      "display_id": "f1349e64e954f35101e89ffcb2d1f2d6"
     },
     "output_type": "display_data",
     "transient": {
      "display_id": "f1349e64e954f35101e89ffcb2d1f2d6"
     }
    },
    {
     "data": {
      "text/html": [],
      "text/plain": [
       "<IPython.core.display.HTML object>"
      ]
     },
     "metadata": {
      "display_id": "2ab8be0cabb41372dbb585e4acb51858"
     },
     "output_type": "display_data",
     "transient": {
      "display_id": "2ab8be0cabb41372dbb585e4acb51858"
     }
    },
    {
     "data": {
      "text/html": [],
      "text/plain": [
       "<IPython.core.display.HTML object>"
      ]
     },
     "metadata": {
      "display_id": "c19177ea2f145eef1efc44d679d9b13c"
     },
     "output_type": "display_data",
     "transient": {
      "display_id": "c19177ea2f145eef1efc44d679d9b13c"
     }
    },
    {
     "data": {
      "text/html": [],
      "text/plain": [
       "<IPython.core.display.HTML object>"
      ]
     },
     "metadata": {
      "display_id": "9ab4e6ae0866e3b56e58682f4c72c920"
     },
     "output_type": "display_data",
     "transient": {
      "display_id": "9ab4e6ae0866e3b56e58682f4c72c920"
     }
    },
    {
     "data": {
      "text/html": [],
      "text/plain": [
       "<IPython.core.display.HTML object>"
      ]
     },
     "metadata": {
      "display_id": "ae231df433cb62ae897e3ed9b63e2d96"
     },
     "output_type": "display_data",
     "transient": {
      "display_id": "ae231df433cb62ae897e3ed9b63e2d96"
     }
    },
    {
     "data": {
      "text/html": [],
      "text/plain": [
       "<IPython.core.display.HTML object>"
      ]
     },
     "metadata": {
      "display_id": "6dcdcc1b0d33a7896b4585d6ac64398a"
     },
     "output_type": "display_data",
     "transient": {
      "display_id": "6dcdcc1b0d33a7896b4585d6ac64398a"
     }
    },
    {
     "data": {
      "text/html": [],
      "text/plain": [
       "<IPython.core.display.HTML object>"
      ]
     },
     "metadata": {
      "display_id": "c647f553d8e5f554629666e073169731"
     },
     "output_type": "display_data",
     "transient": {
      "display_id": "c647f553d8e5f554629666e073169731"
     }
    },
    {
     "data": {
      "text/html": [],
      "text/plain": [
       "<IPython.core.display.HTML object>"
      ]
     },
     "metadata": {
      "display_id": "bcec692992ad334d1b0566094e3d6353"
     },
     "output_type": "display_data",
     "transient": {
      "display_id": "bcec692992ad334d1b0566094e3d6353"
     }
    },
    {
     "data": {
      "text/html": [],
      "text/plain": [
       "<IPython.core.display.HTML object>"
      ]
     },
     "metadata": {
      "display_id": "ff87ce370ef124420129ab130c9ab021"
     },
     "output_type": "display_data",
     "transient": {
      "display_id": "ff87ce370ef124420129ab130c9ab021"
     }
    },
    {
     "data": {
      "text/html": [],
      "text/plain": [
       "<IPython.core.display.HTML object>"
      ]
     },
     "metadata": {
      "display_id": "00465c6621cff7513c825f7c83cb16b3"
     },
     "output_type": "display_data",
     "transient": {
      "display_id": "00465c6621cff7513c825f7c83cb16b3"
     }
    },
    {
     "data": {
      "text/html": [],
      "text/plain": [
       "<IPython.core.display.HTML object>"
      ]
     },
     "metadata": {
      "display_id": "288f74947c605e2213878cb944f88756"
     },
     "output_type": "display_data",
     "transient": {
      "display_id": "288f74947c605e2213878cb944f88756"
     }
    },
    {
     "data": {
      "text/html": [],
      "text/plain": [
       "<IPython.core.display.HTML object>"
      ]
     },
     "metadata": {
      "display_id": "b6b4a2357ba6f7c0f05bf18a0eb0644d"
     },
     "output_type": "display_data",
     "transient": {
      "display_id": "b6b4a2357ba6f7c0f05bf18a0eb0644d"
     }
    },
    {
     "data": {
      "text/html": [],
      "text/plain": [
       "<IPython.core.display.HTML object>"
      ]
     },
     "metadata": {
      "display_id": "6be024bd109b6c01e961741edcc88a0a"
     },
     "output_type": "display_data",
     "transient": {
      "display_id": "6be024bd109b6c01e961741edcc88a0a"
     }
    },
    {
     "data": {
      "text/html": [],
      "text/plain": [
       "<IPython.core.display.HTML object>"
      ]
     },
     "metadata": {
      "display_id": "f19458ee7d93b36df4cb0bae80665aeb"
     },
     "output_type": "display_data",
     "transient": {
      "display_id": "f19458ee7d93b36df4cb0bae80665aeb"
     }
    },
    {
     "data": {
      "text/html": [],
      "text/plain": [
       "<IPython.core.display.HTML object>"
      ]
     },
     "metadata": {
      "display_id": "5f87a8148429d3859778d779b050f307"
     },
     "output_type": "display_data",
     "transient": {
      "display_id": "5f87a8148429d3859778d779b050f307"
     }
    },
    {
     "data": {
      "text/html": [],
      "text/plain": [
       "<IPython.core.display.HTML object>"
      ]
     },
     "metadata": {
      "display_id": "aca41e602884f51dd295d5d31821faa0"
     },
     "output_type": "display_data",
     "transient": {
      "display_id": "aca41e602884f51dd295d5d31821faa0"
     }
    },
    {
     "data": {
      "text/html": [],
      "text/plain": [
       "<IPython.core.display.HTML object>"
      ]
     },
     "metadata": {
      "display_id": "2f1dbc1350ec73de769b8cdd085095a3"
     },
     "output_type": "display_data",
     "transient": {
      "display_id": "2f1dbc1350ec73de769b8cdd085095a3"
     }
    },
    {
     "data": {
      "text/html": [],
      "text/plain": [
       "<IPython.core.display.HTML object>"
      ]
     },
     "metadata": {
      "display_id": "a74853f004c22abe143c12cfddb83261"
     },
     "output_type": "display_data",
     "transient": {
      "display_id": "a74853f004c22abe143c12cfddb83261"
     }
    },
    {
     "data": {
      "text/html": [],
      "text/plain": [
       "<IPython.core.display.HTML object>"
      ]
     },
     "metadata": {
      "display_id": "2c11519d44b66cfbc2197af4242b1a10"
     },
     "output_type": "display_data",
     "transient": {
      "display_id": "2c11519d44b66cfbc2197af4242b1a10"
     }
    },
    {
     "data": {
      "text/html": [],
      "text/plain": [
       "<IPython.core.display.HTML object>"
      ]
     },
     "metadata": {
      "display_id": "f9c3dfd77e2a846e256e27dbbd4477aa"
     },
     "output_type": "display_data",
     "transient": {
      "display_id": "f9c3dfd77e2a846e256e27dbbd4477aa"
     }
    },
    {
     "data": {
      "text/html": [],
      "text/plain": [
       "<IPython.core.display.HTML object>"
      ]
     },
     "metadata": {
      "display_id": "3612e80f14b0c69acc0b7e366eb0b60d"
     },
     "output_type": "display_data",
     "transient": {
      "display_id": "3612e80f14b0c69acc0b7e366eb0b60d"
     }
    },
    {
     "data": {
      "text/html": [],
      "text/plain": [
       "<IPython.core.display.HTML object>"
      ]
     },
     "metadata": {
      "display_id": "17510e65790cd3eb2856107248780e01"
     },
     "output_type": "display_data",
     "transient": {
      "display_id": "17510e65790cd3eb2856107248780e01"
     }
    },
    {
     "data": {
      "text/html": [],
      "text/plain": [
       "<IPython.core.display.HTML object>"
      ]
     },
     "metadata": {
      "display_id": "2551af2eaf94483dcff2a157303b9cfd"
     },
     "output_type": "display_data",
     "transient": {
      "display_id": "2551af2eaf94483dcff2a157303b9cfd"
     }
    },
    {
     "data": {
      "text/html": [],
      "text/plain": [
       "<IPython.core.display.HTML object>"
      ]
     },
     "metadata": {
      "display_id": "14fab2e7eef54182f6e79b7921ce93a4"
     },
     "output_type": "display_data",
     "transient": {
      "display_id": "14fab2e7eef54182f6e79b7921ce93a4"
     }
    },
    {
     "data": {
      "text/html": [],
      "text/plain": [
       "<IPython.core.display.HTML object>"
      ]
     },
     "metadata": {
      "display_id": "e870f6ec3474e016fc24e3026fafce38"
     },
     "output_type": "display_data",
     "transient": {
      "display_id": "e870f6ec3474e016fc24e3026fafce38"
     }
    },
    {
     "data": {
      "text/html": [],
      "text/plain": [
       "<IPython.core.display.HTML object>"
      ]
     },
     "metadata": {
      "display_id": "38fe35ba2073d167a67420b3a155a3c7"
     },
     "output_type": "display_data",
     "transient": {
      "display_id": "38fe35ba2073d167a67420b3a155a3c7"
     }
    },
    {
     "data": {
      "text/html": [],
      "text/plain": [
       "<IPython.core.display.HTML object>"
      ]
     },
     "metadata": {
      "display_id": "0ec45d0883a54eaee35e7f85aa11011f"
     },
     "output_type": "display_data",
     "transient": {
      "display_id": "0ec45d0883a54eaee35e7f85aa11011f"
     }
    },
    {
     "data": {
      "text/html": [],
      "text/plain": [
       "<IPython.core.display.HTML object>"
      ]
     },
     "metadata": {
      "display_id": "43febce16949833afda2842c1264786b"
     },
     "output_type": "display_data",
     "transient": {
      "display_id": "43febce16949833afda2842c1264786b"
     }
    },
    {
     "data": {
      "text/html": [],
      "text/plain": [
       "<IPython.core.display.HTML object>"
      ]
     },
     "metadata": {
      "display_id": "b6d5b62228ef0ff50d9e292e8521d060"
     },
     "output_type": "display_data",
     "transient": {
      "display_id": "b6d5b62228ef0ff50d9e292e8521d060"
     }
    },
    {
     "data": {
      "text/html": [],
      "text/plain": [
       "<IPython.core.display.HTML object>"
      ]
     },
     "metadata": {
      "display_id": "88e473b6208ff444f6e6c3c68121fb9b"
     },
     "output_type": "display_data",
     "transient": {
      "display_id": "88e473b6208ff444f6e6c3c68121fb9b"
     }
    },
    {
     "data": {
      "text/html": [],
      "text/plain": [
       "<IPython.core.display.HTML object>"
      ]
     },
     "metadata": {
      "display_id": "295eccd76765c63ba812d36cca6c9d11"
     },
     "output_type": "display_data",
     "transient": {
      "display_id": "295eccd76765c63ba812d36cca6c9d11"
     }
    },
    {
     "data": {
      "text/html": [],
      "text/plain": [
       "<IPython.core.display.HTML object>"
      ]
     },
     "metadata": {
      "display_id": "583852c3efc6f49c41d492d68f96b74b"
     },
     "output_type": "display_data",
     "transient": {
      "display_id": "583852c3efc6f49c41d492d68f96b74b"
     }
    },
    {
     "data": {
      "text/html": [],
      "text/plain": [
       "<IPython.core.display.HTML object>"
      ]
     },
     "metadata": {
      "display_id": "a1dda21dbd7fcb14e6dbff149a027eec"
     },
     "output_type": "display_data",
     "transient": {
      "display_id": "a1dda21dbd7fcb14e6dbff149a027eec"
     }
    },
    {
     "data": {
      "text/html": [],
      "text/plain": [
       "<IPython.core.display.HTML object>"
      ]
     },
     "metadata": {
      "display_id": "2b62a6d0668aa3d0a1ec0b764f296f81"
     },
     "output_type": "display_data",
     "transient": {
      "display_id": "2b62a6d0668aa3d0a1ec0b764f296f81"
     }
    },
    {
     "data": {
      "text/html": [],
      "text/plain": [
       "<IPython.core.display.HTML object>"
      ]
     },
     "metadata": {
      "display_id": "afc1e875365a386c415cea3276991e04"
     },
     "output_type": "display_data",
     "transient": {
      "display_id": "afc1e875365a386c415cea3276991e04"
     }
    },
    {
     "data": {
      "text/html": [],
      "text/plain": [
       "<IPython.core.display.HTML object>"
      ]
     },
     "metadata": {
      "display_id": "b8af34193b030cbe385047790bd17703"
     },
     "output_type": "display_data",
     "transient": {
      "display_id": "b8af34193b030cbe385047790bd17703"
     }
    },
    {
     "data": {
      "text/html": [],
      "text/plain": [
       "<IPython.core.display.HTML object>"
      ]
     },
     "metadata": {
      "display_id": "a66347f678b7671c36ec325b8c2e99f6"
     },
     "output_type": "display_data",
     "transient": {
      "display_id": "a66347f678b7671c36ec325b8c2e99f6"
     }
    },
    {
     "data": {
      "text/html": [],
      "text/plain": [
       "<IPython.core.display.HTML object>"
      ]
     },
     "metadata": {
      "display_id": "376216901acc6f997c80ec70fe75e192"
     },
     "output_type": "display_data",
     "transient": {
      "display_id": "376216901acc6f997c80ec70fe75e192"
     }
    },
    {
     "data": {
      "text/html": [],
      "text/plain": [
       "<IPython.core.display.HTML object>"
      ]
     },
     "metadata": {
      "display_id": "c83b3ef08e0d65b85868a897890440a6"
     },
     "output_type": "display_data",
     "transient": {
      "display_id": "c83b3ef08e0d65b85868a897890440a6"
     }
    },
    {
     "data": {
      "text/html": [],
      "text/plain": [
       "<IPython.core.display.HTML object>"
      ]
     },
     "metadata": {
      "display_id": "39690393afb3fdbd8c59a534e35d101b"
     },
     "output_type": "display_data",
     "transient": {
      "display_id": "39690393afb3fdbd8c59a534e35d101b"
     }
    },
    {
     "data": {
      "text/html": [],
      "text/plain": [
       "<IPython.core.display.HTML object>"
      ]
     },
     "metadata": {
      "display_id": "00637ffeeee9baa00c0ceed264cdcfdd"
     },
     "output_type": "display_data",
     "transient": {
      "display_id": "00637ffeeee9baa00c0ceed264cdcfdd"
     }
    },
    {
     "data": {
      "text/html": [],
      "text/plain": [
       "<IPython.core.display.HTML object>"
      ]
     },
     "metadata": {
      "display_id": "3f398f05f25f0211b2bd7b0866ab6c2e"
     },
     "output_type": "display_data",
     "transient": {
      "display_id": "3f398f05f25f0211b2bd7b0866ab6c2e"
     }
    },
    {
     "data": {
      "text/html": [],
      "text/plain": [
       "<IPython.core.display.HTML object>"
      ]
     },
     "metadata": {
      "display_id": "9844ee1d472cecc3fe53e071d58a256e"
     },
     "output_type": "display_data",
     "transient": {
      "display_id": "9844ee1d472cecc3fe53e071d58a256e"
     }
    },
    {
     "data": {
      "text/html": [],
      "text/plain": [
       "<IPython.core.display.HTML object>"
      ]
     },
     "metadata": {
      "display_id": "0f4e5439222a023778f7faec1ea24234"
     },
     "output_type": "display_data",
     "transient": {
      "display_id": "0f4e5439222a023778f7faec1ea24234"
     }
    },
    {
     "data": {
      "text/html": [],
      "text/plain": [
       "<IPython.core.display.HTML object>"
      ]
     },
     "metadata": {
      "display_id": "0b32d6695ca11f6d4b9e5e7e884dca4d"
     },
     "output_type": "display_data",
     "transient": {
      "display_id": "0b32d6695ca11f6d4b9e5e7e884dca4d"
     }
    },
    {
     "data": {
      "text/html": [],
      "text/plain": [
       "<IPython.core.display.HTML object>"
      ]
     },
     "metadata": {
      "display_id": "afd94ef4e2f17672f1c4e793c08b8272"
     },
     "output_type": "display_data",
     "transient": {
      "display_id": "afd94ef4e2f17672f1c4e793c08b8272"
     }
    },
    {
     "data": {
      "text/html": [],
      "text/plain": [
       "<IPython.core.display.HTML object>"
      ]
     },
     "metadata": {
      "display_id": "f34cf449824b27b41b8f67e23265ee78"
     },
     "output_type": "display_data",
     "transient": {
      "display_id": "f34cf449824b27b41b8f67e23265ee78"
     }
    },
    {
     "data": {
      "text/html": [],
      "text/plain": [
       "<IPython.core.display.HTML object>"
      ]
     },
     "metadata": {
      "display_id": "22f1142839eaeae1e80991adce26721b"
     },
     "output_type": "display_data",
     "transient": {
      "display_id": "22f1142839eaeae1e80991adce26721b"
     }
    },
    {
     "data": {
      "text/html": [],
      "text/plain": [
       "<IPython.core.display.HTML object>"
      ]
     },
     "metadata": {
      "display_id": "a193b6f3f014ea9e96e0fc9578a15692"
     },
     "output_type": "display_data",
     "transient": {
      "display_id": "a193b6f3f014ea9e96e0fc9578a15692"
     }
    },
    {
     "data": {
      "text/html": [],
      "text/plain": [
       "<IPython.core.display.HTML object>"
      ]
     },
     "metadata": {
      "display_id": "b4c160c73d6f45c7298207900c7c08e6"
     },
     "output_type": "display_data",
     "transient": {
      "display_id": "b4c160c73d6f45c7298207900c7c08e6"
     }
    },
    {
     "data": {
      "text/html": [],
      "text/plain": [
       "<IPython.core.display.HTML object>"
      ]
     },
     "metadata": {
      "display_id": "0449011d5c2fd9d2027667f81b20a3cf"
     },
     "output_type": "display_data",
     "transient": {
      "display_id": "0449011d5c2fd9d2027667f81b20a3cf"
     }
    },
    {
     "data": {
      "text/html": [],
      "text/plain": [
       "<IPython.core.display.HTML object>"
      ]
     },
     "metadata": {
      "display_id": "64cd63e343e6415b85157303fffd3d37"
     },
     "output_type": "display_data",
     "transient": {
      "display_id": "64cd63e343e6415b85157303fffd3d37"
     }
    },
    {
     "data": {
      "text/html": [],
      "text/plain": [
       "<IPython.core.display.HTML object>"
      ]
     },
     "metadata": {
      "display_id": "709d2d1922f7167ad12b877ec71bf705"
     },
     "output_type": "display_data",
     "transient": {
      "display_id": "709d2d1922f7167ad12b877ec71bf705"
     }
    },
    {
     "data": {
      "text/html": [],
      "text/plain": [
       "<IPython.core.display.HTML object>"
      ]
     },
     "metadata": {
      "display_id": "48cb59bc610b43a5bc33373e5ea88eed"
     },
     "output_type": "display_data",
     "transient": {
      "display_id": "48cb59bc610b43a5bc33373e5ea88eed"
     }
    },
    {
     "data": {
      "text/html": [],
      "text/plain": [
       "<IPython.core.display.HTML object>"
      ]
     },
     "metadata": {
      "display_id": "9d3c993ddde7e206c69b27c43489c060"
     },
     "output_type": "display_data",
     "transient": {
      "display_id": "9d3c993ddde7e206c69b27c43489c060"
     }
    },
    {
     "data": {
      "text/html": [],
      "text/plain": [
       "<IPython.core.display.HTML object>"
      ]
     },
     "metadata": {
      "display_id": "22e07f2e0aa02b366cab3351811c5a35"
     },
     "output_type": "display_data",
     "transient": {
      "display_id": "22e07f2e0aa02b366cab3351811c5a35"
     }
    },
    {
     "data": {
      "text/html": [],
      "text/plain": [
       "<IPython.core.display.HTML object>"
      ]
     },
     "metadata": {
      "display_id": "c41cd2351318d69867471eeb4d1d6ec8"
     },
     "output_type": "display_data",
     "transient": {
      "display_id": "c41cd2351318d69867471eeb4d1d6ec8"
     }
    },
    {
     "data": {
      "text/html": [],
      "text/plain": [
       "<IPython.core.display.HTML object>"
      ]
     },
     "metadata": {
      "display_id": "c1782e77120c81a164235051bd1eabac"
     },
     "output_type": "display_data",
     "transient": {
      "display_id": "c1782e77120c81a164235051bd1eabac"
     }
    },
    {
     "data": {
      "text/html": [],
      "text/plain": [
       "<IPython.core.display.HTML object>"
      ]
     },
     "metadata": {
      "display_id": "fb233ba8e45a0afd1bc740dcff1807d4"
     },
     "output_type": "display_data",
     "transient": {
      "display_id": "fb233ba8e45a0afd1bc740dcff1807d4"
     }
    },
    {
     "data": {
      "text/html": [],
      "text/plain": [
       "<IPython.core.display.HTML object>"
      ]
     },
     "metadata": {
      "display_id": "ffab0c27ea6ae99bd3ed409b5dbd35d8"
     },
     "output_type": "display_data",
     "transient": {
      "display_id": "ffab0c27ea6ae99bd3ed409b5dbd35d8"
     }
    }
   ],
   "source": [
    "test['predictions'] = test['review'].apply(lambda row: str(learn_model.predict(row)[0]))\r\n",
    "print(\"Test Accuracy: \", accuracy_score(test['ratings'], test['predictions']))"
   ]
  },
  {
   "cell_type": "code",
   "execution_count": null,
   "metadata": {
    "collapsed": false,
    "gradient": {
     "source_hidden": false
    }
   },
   "outputs": [],
   "source": []
  }
 ],
 "metadata": {
  "kernelspec": {
   "display_name": "Python 3",
   "language": "python",
   "name": "python3"
  }
 },
 "nbformat": 4,
 "nbformat_minor": 4
}
